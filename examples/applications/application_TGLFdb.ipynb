{
 "cells": [
  {
   "cell_type": "code",
   "execution_count": null,
   "id": "d61dcfdb-a638-4a59-adf3-df98849c1bcd",
   "metadata": {
    "tags": []
   },
   "outputs": [],
   "source": [
    "using Revise\n",
    "using FUSE\n",
    "using Plots;\n",
    "FUSE.logging(Logging.Info; actors=Logging.Info);\n"
   ]
  },
  {
   "cell_type": "code",
   "execution_count": null,
   "id": "80329df2-2ece-4100-a31e-acde250e6988",
   "metadata": {
    "tags": []
   },
   "outputs": [],
   "source": [
    "# app is the act equivalent for workflows, here workflow parameters are stored a very common one would be app.server\n",
    "app,act = FUSE.application_parameters(:TGLFdb);\n",
    "app"
   ]
  },
  {
   "cell_type": "code",
   "execution_count": null,
   "id": "d984ab89-239b-46c9-add5-8424aefc3753",
   "metadata": {
    "tags": []
   },
   "outputs": [],
   "source": [
    "# Interacting with app\n",
    "app.server = \"localhost\"\n",
    "app.n_workers = 2\n",
    "\n",
    "app.database_folder = <<<<<SPECIFY YOUR DATABASE FOLDER>>>>> \n",
    "app.save_folder = <<<<<SPECIFY YOUR SAVE FOLDER>>>>>\n",
    "app.sat_rules = [:sat1,:sat2,:sat3] #workflow specific parameters\n",
    "app.release_workers_after_run = true # this is the default behavior\n",
    "app"
   ]
  },
  {
   "cell_type": "code",
   "execution_count": null,
   "id": "3b903794-8aca-4bd1-9e7c-738acad84ad7",
   "metadata": {
    "tags": []
   },
   "outputs": [],
   "source": [
    "# application is the actor equivalent of actors, here app, act and outputs are kept of the workflow\n",
    "application = FUSE.ApplicationTGLFdb(app, act; n_workers=2); # it is possible to pass in keyword arguments to app\n",
    "\n",
    "# instantiating the application will also setup the application i.e. FUSE.setup(application);"
   ]
  },
  {
   "cell_type": "code",
   "execution_count": null,
   "id": "4d3741c5-6fc6-4d33-ad74-680a8de95aab",
   "metadata": {
    "tags": []
   },
   "outputs": [],
   "source": [
    "# for now you will have to import FUSE everywhere in your distributed computing\n",
    "using Distributed\n",
    "@everywhere import FUSE\n"
   ]
  },
  {
   "cell_type": "code",
   "execution_count": null,
   "id": "70c0d4f1-0af2-48ea-97b7-e394887ec394",
   "metadata": {
    "tags": []
   },
   "outputs": [],
   "source": [
    "#FUSE.srelease_workers_after_runup(application)\n",
    "application.act.ActorFluxMatcher.evolve_rotation = :flux_match\n",
    "application.act.ActorFluxMatcher"
   ]
  },
  {
   "cell_type": "code",
   "execution_count": null,
   "id": "94ec7cfc-9324-47b8-b387-5b0b15800359",
   "metadata": {
    "tags": []
   },
   "outputs": [],
   "source": [
    "FUSE.run(application);   # runs the workflow, do plot is turned on to see the output\n",
    "\n",
    "# at the end of the run workers are released so you will have to setup again if you want to run more"
   ]
  },
  {
   "cell_type": "code",
   "execution_count": null,
   "id": "176195de-8c49-49ec-bdab-f30ff5e6bc2a",
   "metadata": {
    "tags": []
   },
   "outputs": [],
   "source": [
    "# data for this workflow is stored in a dictionary of dataframes application.dataframes_dict\n",
    "application.dataframes_dict[:sat2]\n",
    "\n"
   ]
  },
  {
   "cell_type": "code",
   "execution_count": null,
   "id": "5640d434-e3e6-4d0e-979f-238c3846280a",
   "metadata": {
    "tags": []
   },
   "outputs": [],
   "source": [
    "# analyze the results \n",
    "FUSE.analyze(application);\n",
    "\n"
   ]
  }
 ],
 "metadata": {
  "kernelspec": {
   "display_name": "Julia 1.10.0",
   "language": "julia",
   "name": "julia-1.10"
  },
  "language_info": {
   "file_extension": ".jl",
   "mimetype": "application/julia",
   "name": "julia",
   "version": "1.10.0"
  }
 },
 "nbformat": 4,
 "nbformat_minor": 5
}
