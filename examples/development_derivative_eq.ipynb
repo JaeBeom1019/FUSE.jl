{
 "cells": [
  {
   "cell_type": "code",
   "execution_count": 4,
   "id": "7ce0f912-8a3c-42c1-82f9-c31b9b08352c",
   "metadata": {},
   "outputs": [
    {
     "name": "stderr",
     "output_type": "stream",
     "text": [
      "\u001b[32m\u001b[1m  Activating\u001b[22m\u001b[39m environment at `~/.julia/dev/FUSE/Project.toml`\n"
     ]
    }
   ],
   "source": [
    "using Pkg\n",
    "Pkg.activate(\"..\")\n",
    "#Pkg.develop([\"Equilibrium\", \"IMAS\"])\n",
    "using Revise\n",
    "using FUSE\n",
    "using FUSE.IMAS"
   ]
  },
  {
   "cell_type": "code",
   "execution_count": 12,
   "id": "17e27349-01a5-42ee-8c33-5b8f154abb23",
   "metadata": {},
   "outputs": [
    {
     "name": "stdout",
     "output_type": "stream",
     "text": [
      "  0.432068 seconds (5.82 M allocations: 321.436 MiB, 20.46% gc time, 0.25% compilation time)\n"
     ]
    }
   ],
   "source": [
    "ϵ = 0.32\n",
    "κ = 1.7\n",
    "δ = 0.33\n",
    "R0 = 6.2\n",
    "B0 = 5.3\n",
    "ip = 15.E6\n",
    "beta_n = 12.0\n",
    "\n",
    "resolution = 33\n",
    "\n",
    "dd=IMAS.dd()\n",
    "FUSE.init(dd.equilibrium, 0.0; B0, R0, ϵ, δ, κ, beta_n, ip, x_point=false)\n",
    "\n",
    "eqactor = FUSE.SolovevEquilibriumActor(dd.equilibrium, 0.0, alpha=0, qstar=1.5)\n",
    "@time FUSE.step(eqactor)\n",
    "dd.equilibrium = FUSE.finalize(eqactor, resolution)\n",
    "\n",
    "eqt = dd.equilibrium.time_slice[1];"
   ]
  },
  {
   "cell_type": "code",
   "execution_count": 17,
   "id": "4191d5cf-74f2-48ce-bf56-0c4b6e5a8064",
   "metadata": {},
   "outputs": [
    {
     "ename": "LoadError",
     "evalue": "LinRange{ForwardDiff.Dual{ForwardDiff.Tag{typeof(sensitivity_test), Float64}, Float64, 1}} is the wrong type for equilibrium.time_slice[:].profiles_2d[:].grid.dim1, it should be Union{Missing, Function, Vector{T} where T<:Real})",
     "output_type": "error",
     "traceback": [
      "LinRange{ForwardDiff.Dual{ForwardDiff.Tag{typeof(sensitivity_test), Float64}, Float64, 1}} is the wrong type for equilibrium.time_slice[:].profiles_2d[:].grid.dim1, it should be Union{Missing, Function, Vector{T} where T<:Real})",
      "",
      "Stacktrace:",
      " [1] error(s::String)",
      "   @ Base ./error.jl:33",
      " [2] setproperty!(ids::IMAS.equilibrium__time_slice___profiles_2d___grid, field::Symbol, v::LinRange{ForwardDiff.Dual{ForwardDiff.Tag{typeof(sensitivity_test), Float64}, Float64, 1}}; skip_non_coordinates::Bool)",
      "   @ IMAS ~/.julia/dev/IMAS/src/functionarrays.jl:92",
      " [3] setproperty!(ids::IMAS.equilibrium__time_slice___profiles_2d___grid, field::Symbol, v::LinRange{ForwardDiff.Dual{ForwardDiff.Tag{typeof(sensitivity_test), Float64}, Float64, 1}})",
      "   @ IMAS ~/.julia/dev/IMAS/src/functionarrays.jl:69",
      " [4] finalize(actor::SolovevEquilibriumActor, n::Int64)",
      "   @ FUSE ~/.julia/dev/FUSE/src/actors/solovev_equilibrium_actor.jl:136",
      " [5] sensitivity_test(x::ForwardDiff.Dual{ForwardDiff.Tag{typeof(sensitivity_test), Float64}, Float64, 1})",
      "   @ Main ./In[17]:5",
      " [6] derivative(f::typeof(sensitivity_test), x::Float64)",
      "   @ ForwardDiff ~/.julia/packages/ForwardDiff/5gUap/src/derivative.jl:14",
      " [7] top-level scope",
      "   @ In[17]:13",
      " [8] eval",
      "   @ ./boot.jl:360 [inlined]",
      " [9] include_string(mapexpr::typeof(REPL.softscope), mod::Module, code::String, filename::String)",
      "   @ Base ./loading.jl:1094"
     ]
    }
   ],
   "source": [
    "function sensitivity_test(x)\n",
    "    eq0=FUSE.init(IMAS.equilibrium(), 0.0; B0, R0, ϵ, δ, κ=x[1], beta_n, ip)\n",
    "    eqactor=FUSE.SolovevEquilibriumActor(eq0, 0.0);\n",
    "    FUSE.step(eqactor; verbose=false)\n",
    "    eq1=FUSE.finalize(eqactor,33);\n",
    "    eqt = eq1.time_slice[1]\n",
    "    eqt.global_quantities.beta_normal\n",
    "end\n",
    "\n",
    "S1=sensitivity_test(κ)\n",
    "\n",
    "using ForwardDiff\n",
    "ForwardDiff.derivative(sensitivity_test,κ)\n"
   ]
  },
  {
   "cell_type": "code",
   "execution_count": 16,
   "id": "8b05f360-3d5d-4354-85d4-21971f06447c",
   "metadata": {},
   "outputs": [
    {
     "data": {
      "text/plain": [
       "IDSvector{T} where T<:IMAS.equilibrium__time_slice"
      ]
     },
     "execution_count": 16,
     "metadata": {},
     "output_type": "execute_result"
    }
   ],
   "source": [
    "fieldtype(typeof(dd.equilibrium),:time_slice)"
   ]
  },
  {
   "cell_type": "code",
   "execution_count": 27,
   "id": "9f1e786c-d238-4a20-8118-29062ea88886",
   "metadata": {},
   "outputs": [
    {
     "name": "stdout",
     "output_type": "stream",
     "text": [
      "true"
     ]
    }
   ],
   "source": [
    "x=range(1,5,length=4)\n",
    "t=typeof(x)\n",
    "\n",
    "print(t <: AbstractRange{T} where T<:Real)\n"
   ]
  },
  {
   "cell_type": "code",
   "execution_count": null,
   "id": "a64e01d5-fc43-423c-a240-b30cc20762f0",
   "metadata": {},
   "outputs": [],
   "source": []
  }
 ],
 "metadata": {
  "kernelspec": {
   "display_name": "Julia 1.6.0",
   "language": "julia",
   "name": "julia-1.6"
  },
  "language_info": {
   "file_extension": ".jl",
   "mimetype": "application/julia",
   "name": "julia",
   "version": "1.6.0"
  }
 },
 "nbformat": 4,
 "nbformat_minor": 5
}
