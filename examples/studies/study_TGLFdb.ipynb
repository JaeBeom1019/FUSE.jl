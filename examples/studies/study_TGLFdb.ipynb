{
 "cells": [
  {
   "cell_type": "code",
   "execution_count": 1,
   "id": "d61dcfdb-a638-4a59-adf3-df98849c1bcd",
   "metadata": {
    "execution": {
     "iopub.execute_input": "2024-03-11T13:35:00.734000-07:00",
     "iopub.status.busy": "2024-03-11T13:35:00.437000-07:00",
     "iopub.status.idle": "2024-03-11T13:35:30.415000-07:00",
     "shell.execute_reply": "2024-03-11T13:35:30.385000-07:00"
    },
    "tags": []
   },
   "outputs": [
    {
     "name": "stderr",
     "output_type": "stream",
     "text": [
      "\u001b[32m\u001b[1mPrecompiling\u001b[22m\u001b[39m FUSE\n",
      "\u001b[32m  ✓ \u001b[39mFUSE\n",
      "  1 dependency successfully precompiled in 15 seconds. 475 already precompiled.\n"
     ]
    }
   ],
   "source": [
    "using Revise\n",
    "using FUSE\n",
    "using Plots;\n",
    "FUSE.logging(Logging.Info; actors=Logging.Info);\n"
   ]
  },
  {
   "cell_type": "code",
   "execution_count": 2,
   "id": "80329df2-2ece-4100-a31e-acde250e6988",
   "metadata": {
    "execution": {
     "iopub.execute_input": "2024-03-11T13:35:30.615000-07:00",
     "iopub.status.busy": "2024-03-11T13:35:30.415000-07:00",
     "iopub.status.idle": "2024-03-11T13:35:34.934000-07:00",
     "shell.execute_reply": "2024-03-11T13:35:34.934000-07:00"
    },
    "tags": []
   },
   "outputs": [
    {
     "data": {
      "text/plain": [
       "\u001b[0m\u001b[1mParametersStudyTGLFdb{Real}\u001b[22m\n",
       "├─ \u001b[0m\u001b[1mserver\u001b[22m\u001b[0m{String}\u001b[0m ➡ \u001b[32m\"localhost\"\u001b[39m \u001b[97mWhere to run [\"localhost\", \"omega\", \"saga\"]\u001b[39m\n",
       "├─ \u001b[0m\u001b[1mn_workers\u001b[22m\u001b[0m{Int64}\u001b[0m ➡ \u001b[33mmissing\u001b[39m \u001b[97mNumber of workers to run with\u001b[39m\n",
       "├─ \u001b[0m\u001b[1mfile_save_mode\u001b[22m\u001b[0m{Symbol}\u001b[0m ➡ \u001b[32m:safe_write\u001b[39m \u001b[97mSaving file policy, `safe_write` only writes when the folder is empty [:safe_write,\u001b[39m\n",
       "│  \u001b[97m:overwrite]\u001b[39m\n",
       "├─ \u001b[0m\u001b[1mrelease_workers_after_run\u001b[22m\u001b[0m{Bool}\u001b[0m ➡ \u001b[32mtrue\u001b[39m \u001b[97mReleases the workers after running the study\u001b[39m\n",
       "├─ \u001b[0m\u001b[1msave_dd\u001b[22m\u001b[0m{Bool}\u001b[0m ➡ \u001b[32mtrue\u001b[39m \u001b[97mSave dd of the study to save folder\u001b[39m\n",
       "├─ \u001b[0m\u001b[1msat_rules\u001b[22m\u001b[0m{Vector{Symbol}}\u001b[0m ➡ \u001b[33mmissing\u001b[39m \u001b[97mTGLF saturation rules to run\u001b[39m\n",
       "├─ \u001b[0m\u001b[1mlump_ions\u001b[22m\u001b[0m{Bool}\u001b[0m ➡ \u001b[32mtrue\u001b[39m \u001b[97mLumps the fuel species (D,T) as well as the impurities together\u001b[39m\n",
       "├─ \u001b[0m\u001b[1mcustom_tglf_models\u001b[22m\u001b[0m{Vector{String}}\u001b[0m ➡ \u001b[33mmissing\u001b[39m \u001b[97mThis will run custom TGLFNN models stored in TGLFNN/models\u001b[39m\n",
       "├─ \u001b[0m\u001b[1msave_folder\u001b[22m\u001b[0m{String}\u001b[0m ➡ \u001b[33mmissing\u001b[39m \u001b[97mFolder to save the database runs into\u001b[39m\n",
       "└─ \u001b[0m\u001b[1mdatabase_folder\u001b[22m\u001b[0m{String}\u001b[0m ➡ \u001b[33mmissing\u001b[39m \u001b[97mFolder with input database\u001b[39m\n"
      ]
     },
     "execution_count": 2,
     "metadata": {},
     "output_type": "execute_result"
    }
   ],
   "source": [
    "# sty is the act equivalent for a study, it has common parameters like server and n_workers but also study dependent parameters like TGLF saturation rules\n",
    "sty,act = FUSE.study_parameters(:TGLFdb);\n",
    "sty"
   ]
  },
  {
   "cell_type": "code",
   "execution_count": 3,
   "id": "d984ab89-239b-46c9-add5-8424aefc3753",
   "metadata": {
    "execution": {
     "iopub.execute_input": "2024-03-11T13:35:34.935000-07:00",
     "iopub.status.busy": "2024-03-11T13:35:34.935000-07:00",
     "iopub.status.idle": "2024-03-11T13:35:35.087000-07:00",
     "shell.execute_reply": "2024-03-11T13:35:35.087000-07:00"
    },
    "tags": []
   },
   "outputs": [
    {
     "data": {
      "text/plain": [
       "false"
      ]
     },
     "execution_count": 3,
     "metadata": {},
     "output_type": "execute_result"
    }
   ],
   "source": [
    "# Interacting with sty\n",
    "sty.server = \"localhost\"\n",
    "sty.n_workers = 2\n",
    "\n",
    "sty.database_folder = \"/Users/slendebroek/tmp/sagae_notebooks/inputs\"\n",
    "\n",
    "sty.save_folder = \"/Users/slendebroek/tmp/test_ff\"\n",
    "sty.sat_rules = [:sat1,:sat2,:sat3] #study specific parameters\n",
    "# It's also possible to run with a custom tglfnn model, set sty.custom_tglf_models\n",
    "sty.release_workers_after_run = true # this is the default behavior and releases workers after running the study\n",
    "sty.lump_ions=false"
   ]
  },
  {
   "cell_type": "code",
   "execution_count": 4,
   "id": "3b903794-8aca-4bd1-9e7c-738acad84ad7",
   "metadata": {
    "execution": {
     "iopub.execute_input": "2024-03-11T13:36:01.795000-07:00",
     "iopub.status.busy": "2024-03-11T13:36:01.794000-07:00",
     "iopub.status.idle": "2024-03-11T13:36:04.446000-07:00",
     "shell.execute_reply": "2024-03-11T13:36:04.446000-07:00"
    },
    "tags": []
   },
   "outputs": [
    {
     "name": "stdout",
     "output_type": "stream",
     "text": [
      "Working with 2 workers on F-F9Q72P69Y\n"
     ]
    }
   ],
   "source": [
    "# study is the actor equivalent of actors, here sty, act and outputs are kept of the workflow\n",
    "study = FUSE.StudyTGLFdb(sty, act; n_workers=2); # it is possible to pass in keyword arguments to sty\n",
    "\n",
    "# instantiating the study will also setup the study i.e. FUSE.setup(study);"
   ]
  },
  {
   "cell_type": "code",
   "execution_count": 6,
   "id": "6dd0b5d8-d300-47d3-9d53-1a4dfdf49568",
   "metadata": {
    "execution": {
     "iopub.execute_input": "2024-03-11T13:36:58.482000-07:00",
     "iopub.status.busy": "2024-03-11T13:36:58.482000-07:00",
     "iopub.status.idle": "2024-03-11T13:37:00.086000-07:00",
     "shell.execute_reply": "2024-03-11T13:37:00.086000-07:00"
    },
    "tags": []
   },
   "outputs": [
    {
     "data": {
      "text/plain": [
       "1-element Vector{Symbol}:\n",
       " :sat1"
      ]
     },
     "execution_count": 6,
     "metadata": {},
     "output_type": "execute_result"
    }
   ],
   "source": [
    "sty.sat_rules = [:sat1]"
   ]
  },
  {
   "cell_type": "code",
   "execution_count": null,
   "id": "4d3741c5-6fc6-4d33-ad74-680a8de95aab",
   "metadata": {
    "tags": []
   },
   "outputs": [],
   "source": [
    "# for now you will have to import FUSE everywhere in your distributed computing\n",
    "using Distributed\n",
    "@everywhere import FUSE\n"
   ]
  },
  {
   "cell_type": "code",
   "execution_count": null,
   "id": "70c0d4f1-0af2-48ea-97b7-e394887ec394",
   "metadata": {
    "tags": []
   },
   "outputs": [],
   "source": [
    "study.act.ActorFluxMatcher.evolve_rotation = :flux_match\n",
    "study.act.ActorFluxMatcher"
   ]
  },
  {
   "cell_type": "code",
   "execution_count": null,
   "id": "94ec7cfc-9324-47b8-b387-5b0b15800359",
   "metadata": {
    "tags": []
   },
   "outputs": [],
   "source": [
    "FUSE.run(study);   # runs the study, this also writes the dataframes\n",
    "\n",
    "# at the end of the run workers are released so you will have to setup again if you want to run more"
   ]
  },
  {
   "cell_type": "code",
   "execution_count": null,
   "id": "176195de-8c49-49ec-bdab-f30ff5e6bc2a",
   "metadata": {
    "tags": []
   },
   "outputs": [],
   "source": [
    "# data for this workflow is stored in a dictionary of dataframes study.dataframes_dict\n",
    "study.dataframes_dict[:sat1]\n",
    "\n"
   ]
  },
  {
   "cell_type": "code",
   "execution_count": null,
   "id": "5640d434-e3e6-4d0e-979f-238c3846280a",
   "metadata": {
    "tags": []
   },
   "outputs": [],
   "source": [
    "# analyze the study results \n",
    "FUSE.analyze(study);\n",
    "\n"
   ]
  }
 ],
 "metadata": {
  "kernelspec": {
   "display_name": "Julia 1.10.0",
   "language": "julia",
   "name": "julia-1.10"
  },
  "language_info": {
   "file_extension": ".jl",
   "mimetype": "application/julia",
   "name": "julia",
   "version": "1.10.0"
  }
 },
 "nbformat": 4,
 "nbformat_minor": 5
}
