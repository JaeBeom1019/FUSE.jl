{
 "cells": [
  {
   "cell_type": "code",
   "execution_count": 1,
   "id": "7ce0f912-8a3c-42c1-82f9-c31b9b08352c",
   "metadata": {},
   "outputs": [
    {
     "name": "stderr",
     "output_type": "stream",
     "text": [
      "\u001b[32m\u001b[1m  Activating\u001b[22m\u001b[39m environment at `~/.julia/dev/FUSE/Project.toml`\n",
      "┌ Info: Precompiling FUSE [e64856f0-3bb8-4376-b4b7-c03396503992]\n",
      "└ @ Base loading.jl:1317\n"
     ]
    }
   ],
   "source": [
    "using Pkg\n",
    "Pkg.activate(\"..\")\n",
    "using Revise\n",
    "using FUSE\n",
    "using FUSE.IMAS"
   ]
  },
  {
   "cell_type": "code",
   "execution_count": 2,
   "id": "27e65824-b09e-47f0-a2b8-3abb0fa673b9",
   "metadata": {},
   "outputs": [
    {
     "name": "stdout",
     "output_type": "stream",
     "text": [
      "α=-0.137 β_t=4.246e-02 precision=5.754e-02\n",
      "α=-0.264 β_t=4.958e-02 precision=5.042e-02\n",
      "α=-0.378 β_t=5.648e-02 precision=4.352e-02\n",
      "α=-0.480 β_t=6.302e-02 precision=3.698e-02\n",
      "α=-0.568 β_t=6.909e-02 precision=3.091e-02\n",
      "α=-0.644 β_t=7.456e-02 precision=2.544e-02\n",
      "α=-0.707 β_t=7.938e-02 precision=2.062e-02\n",
      "α=-0.758 β_t=8.352e-02 precision=1.648e-02\n",
      "α=-0.800 β_t=8.699e-02 precision=1.301e-02\n",
      "α=-0.833 β_t=8.984e-02 precision=1.016e-02\n",
      "α=-0.859 β_t=9.214e-02 precision=7.859e-03\n",
      "α=-0.879 β_t=9.397e-02 precision=6.034e-03\n",
      "α=-0.895 β_t=9.540e-02 precision=4.604e-03\n",
      "α=-0.906 β_t=9.650e-02 precision=3.496e-03\n",
      "α=-0.915 β_t=9.736e-02 precision=2.645e-03\n",
      "α=-0.922 β_t=9.801e-02 precision=1.995e-03\n",
      "α=-0.927 β_t=9.850e-02 precision=1.501e-03\n",
      "α=-0.931 β_t=9.887e-02 precision=1.128e-03\n",
      "α=-0.934 β_t=9.915e-02 precision=8.458e-04\n",
      "α=-0.936 β_t=9.937e-02 precision=6.339e-04\n",
      "α=-0.938 β_t=9.953e-02 precision=4.747e-04\n",
      "α=-0.939 β_t=9.964e-02 precision=3.553e-04\n",
      "α=-0.940 β_t=9.973e-02 precision=2.658e-04\n",
      "α=-0.941 β_t=9.980e-02 precision=1.988e-04\n",
      "α=-0.941 β_t=9.985e-02 precision=1.486e-04\n",
      "α=-0.942 β_t=9.989e-02 precision=1.111e-04\n",
      "α=-0.942 β_t=9.992e-02 precision=8.305e-05\n",
      "done!\n",
      "\u001b[0m\u001b[1mtime_slice\u001b[22m\n",
      "\u001b[33m｜\u001b[39m\u001b[32m\u001b[1m[1]\u001b[22m\u001b[39m\n",
      "\u001b[33m｜｜\u001b[39m\u001b[0m\u001b[1mglobal_quantities\u001b[22m\n",
      "\u001b[33m｜｜｜\u001b[39m\u001b[0menergy_mhd\u001b[31m ➡ \u001b[39m"
     ]
    },
    {
     "data": {
      "text/plain": []
     },
     "execution_count": 2,
     "metadata": {},
     "output_type": "execute_result"
    },
    {
     "name": "stdout",
     "output_type": "stream",
     "text": [
      "\u001b[34mIMAS.var\"#10#12\"\u001b[39m\n",
      "\u001b[0mtime\u001b[31m ➡ \u001b[39m\u001b[34m1-element Vector{Float64}\u001b[39m\n"
     ]
    }
   ],
   "source": [
    "R0 = 1.8\n",
    "δ = 0.5\n",
    "ϵ = 0.32\n",
    "κ = 1.7\n",
    "B0 = 2.0\n",
    "qstar = 1.57\n",
    "beta_t = 0.1\n",
    "\n",
    "eq0=FUSE.init(IMAS.equilibrium(), 0.0; B0, R0, ϵ, δ, κ, beta_t, qstar)\n",
    "eq=FUSE.SolovevEquilibriumActor(eq0, 0.0);\n",
    "FUSE.step(eq; abs_error=1E-4,verbose=true)\n",
    "FUSE.finalize(eq)\n",
    "\n"
   ]
  },
  {
   "cell_type": "code",
   "execution_count": 22,
   "id": "fc42c219",
   "metadata": {},
   "outputs": [
    {
     "ename": "LoadError",
     "evalue": "LoadError: MethodError: no method matching Printf.Format(::Int64)\n\u001b[0mClosest candidates are:\n\u001b[0m  Printf.Format(::S, \u001b[91m::Vector{UnitRange{Int64}}\u001b[39m, \u001b[91m::T\u001b[39m) where {S, T} at /Users/julia/buildbot/worker/package_macos64/build/usr/share/julia/stdlib/v1.6/Printf/src/Printf.jl:64\n\u001b[0m  Printf.Format(\u001b[91m::AbstractString\u001b[39m) at /Users/julia/buildbot/worker/package_macos64/build/usr/share/julia/stdlib/v1.6/Printf/src/Printf.jl:80\nin expression starting at In[22]:5",
     "output_type": "error",
     "traceback": [
      "LoadError: MethodError: no method matching Printf.Format(::Int64)\n\u001b[0mClosest candidates are:\n\u001b[0m  Printf.Format(::S, \u001b[91m::Vector{UnitRange{Int64}}\u001b[39m, \u001b[91m::T\u001b[39m) where {S, T} at /Users/julia/buildbot/worker/package_macos64/build/usr/share/julia/stdlib/v1.6/Printf/src/Printf.jl:64\n\u001b[0m  Printf.Format(\u001b[91m::AbstractString\u001b[39m) at /Users/julia/buildbot/worker/package_macos64/build/usr/share/julia/stdlib/v1.6/Printf/src/Printf.jl:80\nin expression starting at In[22]:5",
      "",
      "Stacktrace:",
      " [1] var\"@printf\"(__source__::LineNumberNode, __module__::Module, io_or_fmt::Any, args::Vararg{Any, N} where N)",
      "   @ Printf /Users/julia/buildbot/worker/package_macos64/build/usr/share/julia/stdlib/v1.6/Printf/src/Printf.jl:848",
      " [2] eval",
      "   @ ./boot.jl:360 [inlined]",
      " [3] include_string(mapexpr::typeof(REPL.softscope), mod::Module, code::String, filename::String)",
      "   @ Base ./loading.jl:1094"
     ]
    }
   ],
   "source": [
    "using Printf\n",
    "digits = -Int(log10(1E-9))\n",
    "txt = \"α=%3.$(digits)f β_t=%3.$(digits)e precision=%3.$(digits)e\\n\"\n",
    "\n",
    "@printf(txt, 1,2,3)"
   ]
  },
  {
   "cell_type": "code",
   "execution_count": null,
   "id": "d5d22a67",
   "metadata": {},
   "outputs": [],
   "source": []
  },
  {
   "cell_type": "code",
   "execution_count": null,
   "id": "a9be6589",
   "metadata": {},
   "outputs": [],
   "source": []
  },
  {
   "cell_type": "code",
   "execution_count": null,
   "id": "6b564cd9",
   "metadata": {},
   "outputs": [],
   "source": []
  },
  {
   "cell_type": "code",
   "execution_count": null,
   "id": "89a2fcad",
   "metadata": {},
   "outputs": [],
   "source": []
  },
  {
   "cell_type": "code",
   "execution_count": null,
   "id": "4bbaf62c",
   "metadata": {},
   "outputs": [],
   "source": []
  },
  {
   "cell_type": "code",
   "execution_count": null,
   "id": "c2cacc97",
   "metadata": {},
   "outputs": [],
   "source": []
  },
  {
   "cell_type": "code",
   "execution_count": null,
   "id": "680b0a7a",
   "metadata": {},
   "outputs": [],
   "source": []
  },
  {
   "cell_type": "code",
   "execution_count": null,
   "id": "c15e4047",
   "metadata": {},
   "outputs": [],
   "source": []
  },
  {
   "cell_type": "code",
   "execution_count": null,
   "id": "9cb53048",
   "metadata": {},
   "outputs": [],
   "source": []
  },
  {
   "cell_type": "code",
   "execution_count": null,
   "id": "5298cb07",
   "metadata": {},
   "outputs": [],
   "source": []
  },
  {
   "cell_type": "code",
   "execution_count": null,
   "id": "6a742e3c",
   "metadata": {},
   "outputs": [],
   "source": []
  },
  {
   "cell_type": "code",
   "execution_count": null,
   "id": "aace0232",
   "metadata": {},
   "outputs": [],
   "source": []
  },
  {
   "cell_type": "code",
   "execution_count": null,
   "id": "156da467-3d22-487f-8a9a-9f2656ecc44b",
   "metadata": {},
   "outputs": [],
   "source": []
  },
  {
   "cell_type": "code",
   "execution_count": null,
   "id": "96e744af-97ea-41db-82a0-47f76ff08db8",
   "metadata": {},
   "outputs": [],
   "source": []
  }
 ],
 "metadata": {
  "kernelspec": {
   "display_name": "Julia 1.6.0",
   "language": "julia",
   "name": "julia-1.6"
  },
  "language_info": {
   "file_extension": ".jl",
   "mimetype": "application/julia",
   "name": "julia",
   "version": "1.6.0"
  }
 },
 "nbformat": 4,
 "nbformat_minor": 5
}
