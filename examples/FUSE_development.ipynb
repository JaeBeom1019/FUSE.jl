{
 "cells": [
  {
   "cell_type": "code",
   "execution_count": 4,
   "id": "7ce0f912-8a3c-42c1-82f9-c31b9b08352c",
   "metadata": {},
   "outputs": [
    {
     "name": "stderr",
     "output_type": "stream",
     "text": [
      "\u001b[32m\u001b[1m  Activating\u001b[22m\u001b[39m environment at `~/.julia/dev/FUSE/Project.toml`\n"
     ]
    }
   ],
   "source": [
    "using Pkg\n",
    "Pkg.activate(\"..\")\n",
    "using Revise\n",
    "using FUSE\n",
    "using FUSE.IMAS"
   ]
  },
  {
   "cell_type": "code",
   "execution_count": 18,
   "id": "27e65824-b09e-47f0-a2b8-3abb0fa673b9",
   "metadata": {},
   "outputs": [
    {
     "name": "stdout",
     "output_type": "stream",
     "text": [
      "\u001b[0m\u001b[1mtime_slice\u001b[22m\n",
      "\u001b[33m｜\u001b[39m\u001b[32m\u001b[1m[1]\u001b[22m\u001b[39m\n",
      "\u001b[33m｜｜\u001b[39m\u001b[0m\u001b[1mprofiles_1d\u001b[22m\n",
      "\u001b[33m｜｜｜\u001b[39m\u001b[0melongation\u001b[31m ➡ \u001b[39m\u001b[34m1-element Vector{Float64}\u001b[39m\n",
      "\u001b[33m｜｜｜\u001b[39m\u001b[0mpsi\u001b[31m ➡ \u001b[39m\u001b[34m1-element Vector{Float64}\u001b[39m\n",
      "\u001b[33m｜｜｜\u001b[39m\u001b[0mtriangularity_upper\u001b[31m ➡ \u001b[39m\u001b[34m1-element Vector{Float64}\u001b[39m\n",
      "\u001b[33m｜｜｜\u001b[39m\u001b[0mr_outboard\u001b[31m ➡ \u001b[39m\u001b[34m1-element Vector{Float64}\u001b[39m\n",
      "\u001b[33m｜｜｜\u001b[39m\u001b[0mtriangularity_lower\u001b[31m ➡ \u001b[39m\u001b[34m1-element Vector{Float64}\u001b[39m\n",
      "\u001b[33m｜｜｜\u001b[39m\u001b[0mr_inboard\u001b[31m ➡ \u001b[39m\u001b[34m1-element Vector{Float64}\u001b[39m\n",
      "\u001b[33m｜｜｜\u001b[39m\u001b[0mq\u001b[31m ➡ \u001b[39m\u001b[34m1-element Vector{Float64}\u001b[39m\n",
      "\u001b[33m｜｜\u001b[39m\u001b[0m\u001b[1mglobal_quantities\u001b[22m\n",
      "\u001b[33m｜｜｜\u001b[39m\u001b[0mbeta_tor\u001b[31m ➡ \u001b[39m\u001b[34mFloat64\u001b[39m\n",
      "\u001b[33m｜｜｜\u001b[39m\u001b[0menergy_mhd\u001b[31m ➡ \u001b[39m\u001b[34mIMAS.var\"#10#12\"\u001b[39m\n",
      "\u001b[0mtime\u001b[31m ➡ \u001b[39m\u001b[34m1-element Vector{Float64}\u001b[39m\n",
      "\u001b[0m\u001b[1mvacuum_toroidal_field\u001b[22m\n",
      "\u001b[33m｜\u001b[39m\u001b[0mb0\u001b[31m ➡ \u001b[39m\u001b[34m1-element Vector{Float64}\u001b[39m\n",
      "\u001b[33m｜\u001b[39m\u001b[0mr0\u001b[31m ➡ \u001b[39m\u001b[34mFloat64\u001b[39m\n",
      "eq0 = \n",
      "  0.361191 seconds (5.83 M allocations: 136.900 MiB, 4.56% gc time)\n"
     ]
    },
    {
     "data": {
      "text/plain": [
       "SolovevEquilibriumActor(SolovevEquilibrium\n",
       "  B0 = 2.0 [T]\n",
       "  R0 = 1.8 [m]\n",
       "  ϵ  = 0.32000000000000006\n",
       "  δ  = 0.5\n",
       "  κ  = 1.7\n",
       "  α  = -0.9299145920430387\n",
       "  q⋆ = 1.57\n",
       "  βp = 2.3844963176153855\n",
       "  βt = 0.0990597683166926\n",
       "  σ  = 1\n",
       "  diverted  = false\n",
       "  symmetric = true)"
      ]
     },
     "execution_count": 18,
     "metadata": {},
     "output_type": "execute_result"
    }
   ],
   "source": [
    "R0 = 1.8\n",
    "δ = 0.5\n",
    "ϵ = 0.32\n",
    "κ = 1.7\n",
    "B0 = 2.0\n",
    "qstar = 1.57\n",
    "beta_t = 0.1\n",
    "\n",
    "eq0=FUSE.init(IMAS.equilibrium(), 0.0; B0, R0, ϵ, δ, κ, beta_t, qstar)\n",
    "\n",
    "@show eq0\n",
    "\n",
    "@time tmp=FUSE.SolovevEquilibriumActor(eq0, 0.0; verbose=false)"
   ]
  },
  {
   "cell_type": "code",
   "execution_count": null,
   "id": "fc42c219",
   "metadata": {},
   "outputs": [],
   "source": []
  },
  {
   "cell_type": "code",
   "execution_count": null,
   "id": "d5d22a67",
   "metadata": {},
   "outputs": [],
   "source": []
  },
  {
   "cell_type": "code",
   "execution_count": null,
   "id": "a9be6589",
   "metadata": {},
   "outputs": [],
   "source": []
  },
  {
   "cell_type": "code",
   "execution_count": null,
   "id": "6b564cd9",
   "metadata": {},
   "outputs": [],
   "source": []
  },
  {
   "cell_type": "code",
   "execution_count": null,
   "id": "89a2fcad",
   "metadata": {},
   "outputs": [],
   "source": []
  },
  {
   "cell_type": "code",
   "execution_count": null,
   "id": "4bbaf62c",
   "metadata": {},
   "outputs": [],
   "source": []
  },
  {
   "cell_type": "code",
   "execution_count": null,
   "id": "c2cacc97",
   "metadata": {},
   "outputs": [],
   "source": []
  },
  {
   "cell_type": "code",
   "execution_count": null,
   "id": "680b0a7a",
   "metadata": {},
   "outputs": [],
   "source": []
  },
  {
   "cell_type": "code",
   "execution_count": null,
   "id": "c15e4047",
   "metadata": {},
   "outputs": [],
   "source": []
  },
  {
   "cell_type": "code",
   "execution_count": null,
   "id": "9cb53048",
   "metadata": {},
   "outputs": [],
   "source": []
  },
  {
   "cell_type": "code",
   "execution_count": null,
   "id": "5298cb07",
   "metadata": {},
   "outputs": [],
   "source": []
  },
  {
   "cell_type": "code",
   "execution_count": null,
   "id": "6a742e3c",
   "metadata": {},
   "outputs": [],
   "source": []
  },
  {
   "cell_type": "code",
   "execution_count": null,
   "id": "aace0232",
   "metadata": {},
   "outputs": [],
   "source": []
  },
  {
   "cell_type": "code",
   "execution_count": null,
   "id": "156da467-3d22-487f-8a9a-9f2656ecc44b",
   "metadata": {},
   "outputs": [],
   "source": []
  },
  {
   "cell_type": "code",
   "execution_count": null,
   "id": "96e744af-97ea-41db-82a0-47f76ff08db8",
   "metadata": {},
   "outputs": [],
   "source": []
  }
 ],
 "metadata": {
  "kernelspec": {
   "display_name": "Julia 1.6.0",
   "language": "julia",
   "name": "julia-1.6"
  },
  "language_info": {
   "file_extension": ".jl",
   "mimetype": "application/julia",
   "name": "julia",
   "version": "1.6.0"
  }
 },
 "nbformat": 4,
 "nbformat_minor": 5
}
