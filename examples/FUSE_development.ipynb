{
 "cells": [
  {
   "cell_type": "code",
   "execution_count": 2,
   "id": "7ce0f912-8a3c-42c1-82f9-c31b9b08352c",
   "metadata": {},
   "outputs": [
    {
     "name": "stderr",
     "output_type": "stream",
     "text": [
      "\u001b[32m\u001b[1m  Activating\u001b[22m\u001b[39m environment at `~/.julia/dev/FUSE/Project.toml`\n"
     ]
    }
   ],
   "source": [
    "using Pkg\n",
    "Pkg.activate(\"..\")\n",
    "using Revise\n",
    "using FUSE\n",
    "using FUSE.IMAS"
   ]
  },
  {
   "cell_type": "code",
   "execution_count": 2,
   "id": "28529af5",
   "metadata": {},
   "outputs": [
    {
     "data": {
      "text/plain": [
       "goto"
      ]
     },
     "execution_count": 2,
     "metadata": {},
     "output_type": "execute_result"
    }
   ],
   "source": [
    "core_profiles = IMAS.core_profiles();\n",
    "resize!(core_profiles.profiles_1d,1)\n",
    "profiles_1d = core_profiles.profiles_1d[1]\n",
    "\n",
    "profiles_1d.grid.rho_tor_norm = range(0.0, 1.0, length=21)\n",
    "profiles_1d.electrons.density = (1.0 .- profiles_1d.grid.rho_tor_norm.^2);\n",
    "profiles_1d.electrons.temperature = (x;_...) -> (1.0 .- x.^2);\n",
    "\n",
    "#println(profiles_1d.electrons.pressure)\n",
    "profiles_1d.grid.rho_tor_norm = range(0.0, 1.0, length=5)\n",
    "#println(profiles_1d.electrons.temperature)\n",
    "\n",
    "\"\"\"\n",
    "    goto(ids::IDS, location::String)\n",
    "\n",
    "Reach location in a given IDS\n",
    "\"\"\"\n",
    "function goto(ids::IDS, location::String; f2::Function=f2i)\n",
    "    # find common ancestor\n",
    "    cs, s1, s2 = IMAS.common_base_string(f2(ids), location)\n",
    "    cs0 = replace(cs, r\"\\.$\" => \"\")\n",
    "    # go upstream until common acestor\n",
    "    h = ids\n",
    "    while f2(h) != cs0\n",
    "        println(\"= \",f2(h))\n",
    "        println(\"- \",cs0)\n",
    "        h = h._parent.value\n",
    "        if h === missing\n",
    "            error(\"Could not reach `$(location)` from `$(f2(ids))`\")\n",
    "        end\n",
    "    end\n",
    "    # then dive into the location branch\n",
    "    for k in i2p(s2)\n",
    "        h = getfield(h, Symbol(k))\n",
    "    end\n",
    "    return h\n",
    "end\n",
    "\n",
    "#goto(profiles_1d.electrons,\"core_profiles.profiles_1d[].grid.rho_tor_norm\")\n",
    "#println(f2u(profiles_1d.electrons))"
   ]
  },
  {
   "cell_type": "code",
   "execution_count": 2,
   "id": "51e0a6d5-89c6-4c89-bd9d-e695b2fe1b63",
   "metadata": {},
   "outputs": [
    {
     "ename": "LoadError",
     "evalue": "MethodError: no method matching IMAS.equilibrium(::Int64)\n\u001b[0mClosest candidates are:\n\u001b[0m  IMAS.equilibrium(::Any, \u001b[91m::Any\u001b[39m, \u001b[91m::Any\u001b[39m, \u001b[91m::Any\u001b[39m, \u001b[91m::Any\u001b[39m, \u001b[91m::Any\u001b[39m, \u001b[91m::Any\u001b[39m) at /Users/meneghini/.julia/dev/IMAS/src/dd.jl:10109\n\u001b[0m  IMAS.equilibrium(; _uninitialized) at /Users/meneghini/.julia/dev/IMAS/src/dd.jl:10117\n\u001b[0m  IMAS.equilibrium(\u001b[91m::IDSvector{T} where T<:IMAS.equilibrium__time_slice\u001b[39m, \u001b[91m::Union{Missing, Function, Vector{T} where T<:Real}\u001b[39m, \u001b[91m::IMAS.equilibrium__ids_properties\u001b[39m, \u001b[91m::IDSvector{T} where T<:IMAS.equilibrium__grids_ggd\u001b[39m, \u001b[91m::IMAS.equilibrium__vacuum_toroidal_field\u001b[39m, \u001b[91m::IMAS.equilibrium__code\u001b[39m, \u001b[91m::WeakRef\u001b[39m) at /Users/meneghini/.julia/dev/IMAS/src/dd.jl:10109",
     "output_type": "error",
     "traceback": [
      "MethodError: no method matching IMAS.equilibrium(::Int64)\n\u001b[0mClosest candidates are:\n\u001b[0m  IMAS.equilibrium(::Any, \u001b[91m::Any\u001b[39m, \u001b[91m::Any\u001b[39m, \u001b[91m::Any\u001b[39m, \u001b[91m::Any\u001b[39m, \u001b[91m::Any\u001b[39m, \u001b[91m::Any\u001b[39m) at /Users/meneghini/.julia/dev/IMAS/src/dd.jl:10109\n\u001b[0m  IMAS.equilibrium(; _uninitialized) at /Users/meneghini/.julia/dev/IMAS/src/dd.jl:10117\n\u001b[0m  IMAS.equilibrium(\u001b[91m::IDSvector{T} where T<:IMAS.equilibrium__time_slice\u001b[39m, \u001b[91m::Union{Missing, Function, Vector{T} where T<:Real}\u001b[39m, \u001b[91m::IMAS.equilibrium__ids_properties\u001b[39m, \u001b[91m::IDSvector{T} where T<:IMAS.equilibrium__grids_ggd\u001b[39m, \u001b[91m::IMAS.equilibrium__vacuum_toroidal_field\u001b[39m, \u001b[91m::IMAS.equilibrium__code\u001b[39m, \u001b[91m::WeakRef\u001b[39m) at /Users/meneghini/.julia/dev/IMAS/src/dd.jl:10109",
      "",
      "Stacktrace:",
      " [1] top-level scope",
      "   @ In[2]:1",
      " [2] eval",
      "   @ ./boot.jl:360 [inlined]",
      " [3] include_string(mapexpr::typeof(REPL.softscope), mod::Module, code::String, filename::String)",
      "   @ Base ./loading.jl:1094"
     ]
    }
   ],
   "source": [
    "FUSE.IMAS.equilibrium(1)"
   ]
  },
  {
   "cell_type": "code",
   "execution_count": 3,
   "id": "25939929-4c4b-439f-ae3d-83b9319e0b24",
   "metadata": {},
   "outputs": [
    {
     "name": "stdout",
     "output_type": "stream",
     "text": [
      "\u001b[0m\u001b[1mtime_slice\u001b[22m\n",
      "\u001b[33m｜\u001b[39m\u001b[32m\u001b[1m[1]\u001b[22m\u001b[39m\n",
      "\u001b[33m｜｜\u001b[39m\u001b[0m\u001b[1mprofiles_1d\u001b[22m\n",
      "\u001b[33m｜｜｜\u001b[39m\u001b[0melongation\u001b[31m ➡ \u001b[39m\u001b[34m1-element Vector{Float64}\u001b[39m\n",
      "\u001b[33m｜｜｜\u001b[39m\u001b[0mpsi\u001b[31m ➡ \u001b[39m\u001b[34m1-element Vector{Float64}\u001b[39m\n",
      "\u001b[33m｜｜｜\u001b[39m\u001b[0mtriangularity_upper\u001b[31m ➡ \u001b[39m\u001b[34m1-element Vector{Float64}\u001b[39m\n",
      "\u001b[33m｜｜｜\u001b[39m\u001b[0mr_outboard\u001b[31m ➡ \u001b[39m\u001b[34m1-element Vector{Float64}\u001b[39m\n",
      "\u001b[33m｜｜｜\u001b[39m\u001b[0mtriangularity_lower\u001b[31m ➡ \u001b[39m\u001b[34m1-element Vector{Float64}\u001b[39m\n",
      "\u001b[33m｜｜｜\u001b[39m\u001b[0mr_inboard\u001b[31m ➡ \u001b[39m\u001b[34m1-element Vector{Float64}\u001b[39m\n",
      "\u001b[33m｜｜｜\u001b[39m\u001b[0mq\u001b[31m ➡ \u001b[39m\u001b[34m1-element Vector{Float64}\u001b[39m\n",
      "\u001b[33m｜｜\u001b[39m\u001b[0m\u001b[1mglobal_quantities\u001b[22m\n",
      "\u001b[33m｜｜｜\u001b[39m\u001b[0menergy_mhd\u001b[31m ➡ \u001b[39m\u001b[34mIMAS.var\"#10#12\"\u001b[39m\n",
      "\u001b[0mtime\u001b[31m ➡ \u001b[39m\u001b[34m1-element Vector{Float64}\u001b[39m\n",
      "\u001b[0m\u001b[1mvacuum_toroidal_field\u001b[22m\n",
      "\u001b[33m｜\u001b[39m\u001b[0mb0\u001b[31m ➡ \u001b[39m\u001b[34m1-element Vector{Float64}\u001b[39m\n",
      "\u001b[33m｜\u001b[39m\u001b[0mr0\u001b[31m ➡ \u001b[39m\u001b[34mFloat64\u001b[39m\n",
      "\n"
     ]
    }
   ],
   "source": [
    "R0 = 1.8\n",
    "δ = 0.5\n",
    "ϵ = 0.32\n",
    "κ = 1.7\n",
    "B0 = 2.0\n",
    "qstar = 1.57\n",
    "\n",
    "println(FUSE.init(IMAS.equilibrium(), 0.0; B0, R0, ϵ, δ, κ, qstar))"
   ]
  },
  {
   "cell_type": "code",
   "execution_count": 11,
   "id": "d85eec47-6fcd-41ee-8fb7-f5100d653087",
   "metadata": {},
   "outputs": [
    {
     "ename": "LoadError",
     "evalue": "UndefVarError: equilibrium not defined",
     "output_type": "error",
     "traceback": [
      "UndefVarError: equilibrium not defined",
      "",
      "Stacktrace:",
      " [1] top-level scope",
      "   @ In[11]:44",
      " [2] eval",
      "   @ ./boot.jl:360 [inlined]",
      " [3] include_string(mapexpr::typeof(REPL.softscope), mod::Module, code::String, filename::String)",
      "   @ Base ./loading.jl:1094"
     ]
    }
   ],
   "source": [
    "#= ============ =#\n",
    "#  AbstractActor #\n",
    "#= ============ =#\n",
    "\n",
    "abstract type AbstractActor end\n",
    "\n",
    "function step(actor::AbstractActor, ids::IDS, time_index::Integer)\n",
    "    error(\"Function step() not defined for actor of type $(typeof(actor))\")\n",
    "end\n",
    "\n",
    "function finalize(actor::AbstractActor, ids::IDS, time_index::Integer)\n",
    "    error(\"Function finalize() not defined for actor of type $(typeof(actor))\")\n",
    "end\n",
    "\n",
    "#= =========== =#\n",
    "#  Equilibrium  #\n",
    "#= =========== =#\n",
    "\n",
    "using Equilibrium\n",
    "\n",
    "abstract type EquilibriumActor <: AbstractActor end\n",
    "\n",
    "struct SolovevEquilibriumActor <: EquilibriumActor\n",
    "    S :: SolovevEquilibrium\n",
    "end\n",
    "\n",
    "function SolovevEquilibriumActor(equilibrium::IMAS.equilibrium, time_index::Integer)\n",
    "    eqt=equilibrium.time_slice[time_index]\n",
    "    a = eqt.profiles_1d.r_outboard[end] - eqt.profiles_1d.r_inboard[end]\n",
    "    R0 = eqt.profiles_1d.r_outboard[end] + eqt.profiles_1d.r_inboard[end]\n",
    "    κ = eqt.profiles_1d.elongation[end]\n",
    "    δ = (eqt.profiles_1d.triangularity_lower[end] + eqt.profiles_1d.triangularity_upper[end])/2.0\n",
    "    ϵ = a/R0\n",
    "    B0 = abs(equilibrium.vacuum_toroidal_field.b0[time_index])\n",
    "    B0_dir = Int(sign(B0))\n",
    "    R0 = equilibrium.vacuum_toroidal_field.r0\n",
    "    qstar = eqt.profiles_1d.q[end]\n",
    "    Ip_dir = Int(sign(qstar)*B0_dir)\n",
    "    alpha = -0.155\n",
    "    S = solovev(B0, R0, ϵ, δ, κ, alpha, qstar, B0_dir=B0_dir, Ip_dir=Ip_dir)\n",
    "    return SolovevEquilibriumActor(S)\n",
    "end\n",
    "\n",
    "equilibrium_actor = SolovevEquilibriumActor(equilibrium, 1)"
   ]
  },
  {
   "cell_type": "code",
   "execution_count": 29,
   "id": "e4d58955",
   "metadata": {},
   "outputs": [
    {
     "ename": "LoadError",
     "evalue": "BoundsError: attempt to access 0-element Vector{Array{Float64, 0}} at index []",
     "output_type": "error",
     "traceback": [
      "BoundsError: attempt to access 0-element Vector{Array{Float64, 0}} at index []",
      "",
      "Stacktrace:",
      " [1] throw_boundserror(A::Vector{Array{Float64, 0}}, I::Tuple{})",
      "   @ Base ./abstractarray.jl:651",
      " [2] checkbounds",
      "   @ ./abstractarray.jl:616 [inlined]",
      " [3] _setindex!",
      "   @ ./abstractarray.jl:1289 [inlined]",
      " [4] setindex!(::Vector{Array{Float64, 0}}, ::Int64)",
      "   @ Base ./abstractarray.jl:1267",
      " [5] top-level scope",
      "   @ In[29]:2",
      " [6] eval",
      "   @ ./boot.jl:360 [inlined]",
      " [7] include_string(mapexpr::typeof(REPL.softscope), mod::Module, code::String, filename::String)",
      "   @ Base ./loading.jl:1094"
     ]
    }
   ],
   "source": [
    "a=Array{Float64,0}[]\n",
    "a[]=5"
   ]
  },
  {
   "cell_type": "code",
   "execution_count": null,
   "id": "fc42c219",
   "metadata": {},
   "outputs": [],
   "source": []
  },
  {
   "cell_type": "code",
   "execution_count": null,
   "id": "d5d22a67",
   "metadata": {},
   "outputs": [],
   "source": []
  },
  {
   "cell_type": "code",
   "execution_count": null,
   "id": "a9be6589",
   "metadata": {},
   "outputs": [],
   "source": []
  },
  {
   "cell_type": "code",
   "execution_count": null,
   "id": "6b564cd9",
   "metadata": {},
   "outputs": [],
   "source": []
  },
  {
   "cell_type": "code",
   "execution_count": null,
   "id": "89a2fcad",
   "metadata": {},
   "outputs": [],
   "source": []
  },
  {
   "cell_type": "code",
   "execution_count": null,
   "id": "4bbaf62c",
   "metadata": {},
   "outputs": [],
   "source": []
  },
  {
   "cell_type": "code",
   "execution_count": null,
   "id": "c2cacc97",
   "metadata": {},
   "outputs": [],
   "source": []
  },
  {
   "cell_type": "code",
   "execution_count": null,
   "id": "680b0a7a",
   "metadata": {},
   "outputs": [],
   "source": []
  },
  {
   "cell_type": "code",
   "execution_count": null,
   "id": "c15e4047",
   "metadata": {},
   "outputs": [],
   "source": []
  },
  {
   "cell_type": "code",
   "execution_count": null,
   "id": "9cb53048",
   "metadata": {},
   "outputs": [],
   "source": []
  },
  {
   "cell_type": "code",
   "execution_count": null,
   "id": "5298cb07",
   "metadata": {},
   "outputs": [],
   "source": []
  },
  {
   "cell_type": "code",
   "execution_count": null,
   "id": "6a742e3c",
   "metadata": {},
   "outputs": [],
   "source": []
  },
  {
   "cell_type": "code",
   "execution_count": null,
   "id": "aace0232",
   "metadata": {},
   "outputs": [],
   "source": []
  },
  {
   "cell_type": "code",
   "execution_count": null,
   "id": "156da467-3d22-487f-8a9a-9f2656ecc44b",
   "metadata": {},
   "outputs": [],
   "source": []
  },
  {
   "cell_type": "code",
   "execution_count": null,
   "id": "96e744af-97ea-41db-82a0-47f76ff08db8",
   "metadata": {},
   "outputs": [],
   "source": []
  }
 ],
 "metadata": {
  "kernelspec": {
   "display_name": "Julia 1.6.0",
   "language": "julia",
   "name": "julia-1.6"
  },
  "language_info": {
   "file_extension": ".jl",
   "mimetype": "application/julia",
   "name": "julia",
   "version": "1.6.0"
  }
 },
 "nbformat": 4,
 "nbformat_minor": 5
}
