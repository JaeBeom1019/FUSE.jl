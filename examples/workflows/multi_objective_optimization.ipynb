{
 "cells": [
  {
   "cell_type": "markdown",
   "id": "a94d2fc3-c5ad-41e8-8706-5bc53b9f984a",
   "metadata": {},
   "source": [
    "# FPP multi objective optimization"
   ]
  },
  {
   "cell_type": "markdown",
   "id": "6ff761d6-e893-45b8-b8e9-b6d00eee24da",
   "metadata": {},
   "source": [
    "### Import packages"
   ]
  },
  {
   "cell_type": "code",
   "execution_count": null,
   "id": "d432c81d-13bc-4eae-9623-25147ff8f60e",
   "metadata": {
    "tags": []
   },
   "outputs": [],
   "source": [
    "#@time using WarmupFUSE\n",
    "@time using FUSE\n",
    "using Plots; gr();\n",
    "FUSE.logging(Logging.Info; actors=Logging.Error);"
   ]
  },
  {
   "cell_type": "markdown",
   "id": "df421ef4-bef9-4295-a588-f4f0716b6ccc",
   "metadata": {},
   "source": [
    "### Setup distributed computing environment\n",
    "\n",
    "See more details here: https://fuse.help/parallel.html"
   ]
  },
  {
   "cell_type": "code",
   "execution_count": null,
   "id": "6f6a51bf-0d97-4f64-b44d-f3509f55a66c",
   "metadata": {
    "tags": []
   },
   "outputs": [],
   "source": [
    "FUSE.parallel_environment(\"saga\", 120)\n",
    "using Distributed\n",
    "#@time @everywhere import WarmupFUSE\n",
    "@time @everywhere import FUSE"
   ]
  },
  {
   "cell_type": "markdown",
   "id": "240d42c6-7c71-4ab4-8699-7920ab625438",
   "metadata": {},
   "source": [
    "### Get `ini` and `act` for FPP case and custmize as needed"
   ]
  },
  {
   "cell_type": "code",
   "execution_count": null,
   "id": "2c2e2bf4-519d-4ab4-9cb3-38c8f461e8a3",
   "metadata": {
    "tags": []
   },
   "outputs": [],
   "source": [
    "ini, act = FUSE.case_parameters(:FPP; version=:v1_demount, init_from=:scalars, STEP=true)\n",
    "act.ActorPFcoilsOpt.optimization_scheme = :none; # don't spend time optimizing the PFs"
   ]
  },
  {
   "cell_type": "markdown",
   "id": "16aa6e18-eb68-4704-87e6-cb44bc643138",
   "metadata": {},
   "source": [
    "### As a good practice, test the actor/workflow that you want to optimize first"
   ]
  },
  {
   "cell_type": "code",
   "execution_count": null,
   "id": "155cc710-ce81-4035-ad9e-017bbc481f2d",
   "metadata": {
    "tags": []
   },
   "outputs": [],
   "source": [
    "@time dd = FUSE.init(ini, act)\n",
    "@time FUSE.ActorWholeFacility(dd, act);"
   ]
  },
  {
   "cell_type": "code",
   "execution_count": null,
   "id": "2e7d2af6-1284-47db-8c37-c44c9ac2d3ef",
   "metadata": {
    "tags": []
   },
   "outputs": [],
   "source": [
    "#IMAS.freeze(dd.balance_of_plant)\n",
    "plot(dd.core_profiles)"
   ]
  },
  {
   "cell_type": "markdown",
   "id": "33e46e59-a6be-41f9-999d-2621a113986c",
   "metadata": {},
   "source": [
    "### Define optimization variables and ranges"
   ]
  },
  {
   "cell_type": "code",
   "execution_count": null,
   "id": "5596ff4e-23ed-46e9-817f-820999ad28d8",
   "metadata": {
    "tags": []
   },
   "outputs": [],
   "source": [
    "# nominal value and ranges\n",
    "ini_opt = deepcopy(ini)\n",
    "ini_opt.ec_launchers.power_launched = ini.ec_launchers.power_launched[1] ↔ [10e6, 200e6];\n",
    "ini_opt.core_profiles.zeff = ini.core_profiles.zeff ↔ [1.1, 2.5]\n",
    "#ini_opt.equilibrium.δ = ini.equilibrium.δ ↔ [-0.7,0.7]\n",
    "#ini_opt.equilibrium.ζ = ini.equilibrium.ζ ↔ [0,0.2]\n",
    "ini_opt.equilibrium.κ = missing # k set to be 95% of maximum controllable value\n",
    "ini_opt.equilibrium.B0 = ini.equilibrium.B0 ↔ [1.0, 20.]\n",
    "ini_opt.equilibrium.ip = ini.equilibrium.ip ↔ [1.0e6, 22e6]\n",
    "ini_opt.equilibrium.R0 = ini.equilibrium.R0 ↔ [ini.equilibrium.R0, 10.0];"
   ]
  },
  {
   "cell_type": "markdown",
   "id": "900ac113-a182-41c8-9f4b-90aec9aecb69",
   "metadata": {},
   "source": [
    "### Define the optimization objectives"
   ]
  },
  {
   "cell_type": "code",
   "execution_count": null,
   "id": "5cfebb6a-f142-4757-a1ae-effaede928f0",
   "metadata": {
    "tags": []
   },
   "outputs": [],
   "source": [
    "# FUSE comes with a library of objective functions\n",
    "OFL = deepcopy(FUSE.ObjectivesFunctionsLibrary)"
   ]
  },
  {
   "cell_type": "code",
   "execution_count": null,
   "id": "b76ac379-3b36-4424-b89b-edebefff3414",
   "metadata": {
    "tags": []
   },
   "outputs": [],
   "source": [
    "OFL[:max_power_electric_net].target = 200.0\n",
    "objective_functions = [OFL[:min_βn], OFL[:min_capital_cost]]\n",
    "\n",
    "CFL = deepcopy(FUSE.ConstraintFunctionsLibrary)\n",
    "CFL[:target_power_electric_net].limit = 200.0\n",
    "CFL[:target_power_electric_net].tolerance = 0.01\n",
    "constraint_functions = [CFL[:target_power_electric_net], CFL[:steady_state]]\n",
    "\n",
    "# ...but one can define custom objectives and constraints too\n",
    "# target_power_electric = FUSE.ObjectiveFunction(:target_power_electric_net, \"MW\", dd -> @ddtime(dd.balance_of_plant.power_electric_net)/1E6, 200)\n",
    "#objective_functions = [target_power_electric, OFL[:min_cost], OFL[:max_flattop]]\n",
    "\n",
    "display(objective_functions)\n",
    "display(constraint_functions)"
   ]
  },
  {
   "cell_type": "markdown",
   "id": "29dcfcce-bf1e-4b91-86b2-05ac0eafaae0",
   "metadata": {},
   "source": [
    "### Setup and run optimization"
   ]
  },
  {
   "cell_type": "code",
   "execution_count": null,
   "id": "f4a47c4c-d4dc-443a-8710-f40bd90abb63",
   "metadata": {
    "tags": []
   },
   "outputs": [],
   "source": [
    "# option to resume an optimization where it was left off\n",
    "if false\n",
    "    continue_results = results\n",
    "else\n",
    "    continue_results = missing\n",
    "end\n",
    "\n",
    "# define optimization parameters\n",
    "# For real optimization studies the population size (N) and number of iterations should be bigger\n",
    "# eg. N=100, iterations=25\n",
    "optimization_parameters = Dict(\n",
    "    :N => max(4, Int(floor((nprocs()-1)/2))*2), # even number\n",
    "    :iterations => 100,\n",
    "    :continue_results => continue_results,\n",
    "    :save_folder => \"/mnt/beegfs/users/meneghini/optimization_run_STEP_nodelta\")\n",
    "\n",
    "# run optimization\n",
    "results = FUSE.workflow_multiobjective_optimization(ini_opt, act, FUSE.ActorWholeFacility, objective_functions, constraint_functions; optimization_parameters...);"
   ]
  },
  {
   "cell_type": "markdown",
   "id": "0823414b-1570-4b81-a530-11760f9dbf48",
   "metadata": {
    "tags": []
   },
   "source": [
    "## Release distributed resources"
   ]
  },
  {
   "cell_type": "code",
   "execution_count": null,
   "id": "3a259a72-7fb9-4ea5-aa70-d2829993f112",
   "metadata": {
    "tags": []
   },
   "outputs": [],
   "source": [
    "for i in workers()\n",
    "    rmprocs(i)\n",
    "end"
   ]
  },
  {
   "cell_type": "markdown",
   "id": "5b2fe850-4602-4c64-9ec4-7b9b3f227517",
   "metadata": {},
   "source": [
    "### Save optimization results to file"
   ]
  },
  {
   "cell_type": "code",
   "execution_count": null,
   "id": "3f1f3eb8-02fc-4a68-90eb-bc38cfc383ba",
   "metadata": {
    "tags": []
   },
   "outputs": [],
   "source": [
    "# Optimization results can be re-loaded this way:\n",
    "filename = \"optimization_runs/optimization.bson\"\n",
    "@time results = FUSE.load_optimization(filename);"
   ]
  },
  {
   "cell_type": "markdown",
   "id": "d1a48497-e1cc-416e-b3a0-041ae3b1a4aa",
   "metadata": {},
   "source": [
    "### How to: Define and use a custom FUSE workflow"
   ]
  },
  {
   "cell_type": "code",
   "execution_count": null,
   "id": "6b3e3dab-cdce-4b48-a269-121274dbe028",
   "metadata": {},
   "outputs": [],
   "source": [
    "# Here `@everywhere` is needed to make all processes aware of the custom function\n",
    "@everywhere function workflow_custom(ini, act)\n",
    "    FUSE.init(dd, ini, act)\n",
    "    FUSE.ActorEquilibriumTransport(dd, act)\n",
    "    FUSE.ActorCXbuild(dd, act)\n",
    "    return dd\n",
    "end\n",
    "\n",
    "# results = FUSE.workflow_multiobjective_optimization(ini, act, custom_workflow, objective_functions; optimization_parameters...);"
   ]
  }
 ],
 "metadata": {
  "@webio": {
   "lastCommId": "dffcbd16-15af-47d8-8451-d6f4a1fb5da8",
   "lastKernelId": "61a17a7c-bb42-4e15-b15c-152ccd928c8f"
  },
  "kernelspec": {
   "display_name": "Julia 1.8.5",
   "language": "julia",
   "name": "julia-1.8"
  },
  "language_info": {
   "file_extension": ".jl",
   "mimetype": "application/julia",
   "name": "julia",
   "version": "1.8.5"
  }
 },
 "nbformat": 4,
 "nbformat_minor": 5
}
