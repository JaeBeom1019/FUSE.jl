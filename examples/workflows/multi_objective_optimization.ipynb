{
 "cells": [
  {
   "cell_type": "markdown",
   "id": "a94d2fc3-c5ad-41e8-8706-5bc53b9f984a",
   "metadata": {},
   "source": [
    "# FPP multi objective optimization"
   ]
  },
  {
   "cell_type": "markdown",
   "id": "df421ef4-bef9-4295-a588-f4f0716b6ccc",
   "metadata": {},
   "source": [
    "### Setup distributed computing environment\n",
    "\n",
    "See more details here: https://fuse.help/parallel.html"
   ]
  },
  {
   "cell_type": "code",
   "execution_count": null,
   "id": "6f6a51bf-0d97-4f64-b44d-f3509f55a66c",
   "metadata": {
    "tags": []
   },
   "outputs": [],
   "source": [
    "if gethostname() == \"saga.cluster\"\n",
    "    nodes = 4\n",
    "    np = 30 * nodes\n",
    "    using Pkg\n",
    "    Pkg.activate(\"..\")\n",
    "    using Distributed\n",
    "    using ClusterManagers\n",
    "    if nprocs() < np\n",
    "        addprocs(SlurmManager(np-nprocs()+1),exclusive=\"\", topology=:master_worker)\n",
    "    end\n",
    "else\n",
    "    using Distributed\n",
    "    np = 4\n",
    "    if nprocs() < np\n",
    "        addprocs(np-nprocs()+1, topology=:master_worker)\n",
    "    end\n",
    "end\n",
    "println(\"Working with $(nprocs()) processes\")"
   ]
  },
  {
   "cell_type": "markdown",
   "id": "6ff761d6-e893-45b8-b8e9-b6d00eee24da",
   "metadata": {},
   "source": [
    "### Import packages\n",
    "\n",
    "**NOTE:** Import the `plotlyjs()` plotting backend instead of the usual gr() to interactively look at results in 3D"
   ]
  },
  {
   "cell_type": "code",
   "execution_count": null,
   "id": "d432c81d-13bc-4eae-9623-25147ff8f60e",
   "metadata": {
    "tags": []
   },
   "outputs": [],
   "source": [
    "using Revise\n",
    "using FUSE\n",
    "using Plots; gr();\n",
    "global_logger(FUSE.logger);"
   ]
  },
  {
   "cell_type": "markdown",
   "id": "240d42c6-7c71-4ab4-8699-7920ab625438",
   "metadata": {},
   "source": [
    "### Get `ini` and `act` for FPP case and custmize as needed"
   ]
  },
  {
   "cell_type": "code",
   "execution_count": null,
   "id": "2c2e2bf4-519d-4ab4-9cb3-38c8f461e8a3",
   "metadata": {},
   "outputs": [],
   "source": [
    "ini, act = FUSE.case_parameters(:FPP; version=:v1_demount, init_from=:scalars)\n",
    "act.ActorTauenn.transport_model = :h98y2\n",
    "act.ActorPFcoilsOpt.optimization_scheme = :none; # don't spend time optimizing the PFs"
   ]
  },
  {
   "cell_type": "markdown",
   "id": "16aa6e18-eb68-4704-87e6-cb44bc643138",
   "metadata": {},
   "source": [
    "### As a good practice, test the actor/workflow that you want to optimize first"
   ]
  },
  {
   "cell_type": "code",
   "execution_count": null,
   "id": "155cc710-ce81-4035-ad9e-017bbc481f2d",
   "metadata": {},
   "outputs": [],
   "source": [
    "dd = FUSE.init(ini, act)\n",
    "FUSE.ActorWholeFacility(dd, act);"
   ]
  },
  {
   "cell_type": "code",
   "execution_count": null,
   "id": "bf58b904-968b-4dc3-8642-6a5bfeeafd91",
   "metadata": {},
   "outputs": [],
   "source": [
    "# define the optimization objectives\n",
    "OFL = FUSE.ObjectivesFunctionsLibrary\n",
    "objective_functions = [OFL[:max_fusion], OFL[:min_cost], OFL[:max_flattop]]\n",
    "\n",
    "# option to resume an optimization where it was left off\n",
    "if true\n",
    "    continue_results = missing\n",
    "else\n",
    "    continue_results = results\n",
    "end\n",
    "\n",
    "# define optimization parameters\n",
    "# For real optimization studies the population size (N) and number of iterations should be bigger\n",
    "# eg. N=1000, iterations=100\n",
    "optimization_parameters = Dict(\n",
    "    :N => 4,\n",
    "    :iterations => 10,\n",
    "    :continue_results => continue_results)\n",
    "\n",
    "# run optimization\n",
    "results = FUSE.workflow_multiobjective_optimization(ini, act, FUSE.ActorWholeFacility, objective_functions; optimization_parameters...);"
   ]
  },
  {
   "cell_type": "markdown",
   "id": "47ef9245-af2f-48b3-8f5b-ace072535efc",
   "metadata": {},
   "source": [
    "### Plot multi-objective optimization results"
   ]
  },
  {
   "cell_type": "code",
   "execution_count": null,
   "id": "4586fe3e-b7ad-41fe-acc9-b0864ba01f3d",
   "metadata": {},
   "outputs": [],
   "source": [
    "plot(results, [1, 2, 3]; design_space=false)"
   ]
  },
  {
   "cell_type": "markdown",
   "id": "d1a48497-e1cc-416e-b3a0-041ae3b1a4aa",
   "metadata": {},
   "source": [
    "### How to: Define and use a custom FUSE workflow"
   ]
  },
  {
   "cell_type": "code",
   "execution_count": null,
   "id": "6b3e3dab-cdce-4b48-a269-121274dbe028",
   "metadata": {},
   "outputs": [],
   "source": [
    "# Here `@everywhere` is needed to make all processes aware of the custom function\n",
    "@everywhere function workflow_custom(ini,act)\n",
    "    FUSE.init(dd, ini, act)\n",
    "    FUSE.ActorEquilibriumTransport(dd, act)\n",
    "    FUSE.ActorCXbuild(dd, act)\n",
    "    return dd\n",
    "end\n",
    "\n",
    "# results = FUSE.workflow_multiobjective_optimization(ini, act, custom_workflow, objective_functions; optimization_parameters...);"
   ]
  }
 ],
 "metadata": {
  "@webio": {
   "lastCommId": "fe0cba49-846c-4299-8b8b-b050c5a84ff1",
   "lastKernelId": "a80dc49b-8aa7-4164-a0bd-fa0a50b7ba0c"
  },
  "kernelspec": {
   "display_name": "Julia 1.7.2",
   "language": "julia",
   "name": "julia-1.7"
  },
  "language_info": {
   "file_extension": ".jl",
   "mimetype": "application/julia",
   "name": "julia",
   "version": "1.7.2"
  }
 },
 "nbformat": 4,
 "nbformat_minor": 5
}
