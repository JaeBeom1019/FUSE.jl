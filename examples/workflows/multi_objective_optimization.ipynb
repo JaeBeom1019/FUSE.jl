{
 "cells": [
  {
   "cell_type": "markdown",
   "id": "a94d2fc3-c5ad-41e8-8706-5bc53b9f984a",
   "metadata": {},
   "source": [
    "# FPP multi objective optimization"
   ]
  },
  {
   "cell_type": "markdown",
   "id": "df421ef4-bef9-4295-a588-f4f0716b6ccc",
   "metadata": {},
   "source": [
    "### Setup distributed computing environment\n",
    "\n",
    "See more details here: https://fuse.help/parallel.html"
   ]
  },
  {
   "cell_type": "code",
   "execution_count": null,
   "id": "6f6a51bf-0d97-4f64-b44d-f3509f55a66c",
   "metadata": {
    "tags": []
   },
   "outputs": [],
   "source": [
    "if gethostname() == \"saga.cluster\"\n",
    "    nodes = 4\n",
    "    np = 30 * nodes\n",
    "    using Pkg\n",
    "    Pkg.activate(\"..\")\n",
    "    using Distributed\n",
    "    using ClusterManagers\n",
    "    ENV[\"JULIA_WORKER_TIMEOUT\"] = \"180\"\n",
    "    if nprocs() < np\n",
    "        addprocs(SlurmManager(np-nprocs()),exclusive=\"\", topology=:master_worker)\n",
    "    end\n",
    "else\n",
    "    using Distributed\n",
    "    np = 4\n",
    "    if nprocs() < np + 1\n",
    "        addprocs(np-nprocs()+1, topology=:master_worker)\n",
    "    end\n",
    "end\n",
    "println(\"Working with $(nprocs()) processes\")"
   ]
  },
  {
   "cell_type": "markdown",
   "id": "6ff761d6-e893-45b8-b8e9-b6d00eee24da",
   "metadata": {},
   "source": [
    "### Import packages\n",
    "\n",
    "**NOTE:** Import the `plotlyjs()` plotting backend instead of the usual `gr()`to interactively look at results in 3D"
   ]
  },
  {
   "cell_type": "code",
   "execution_count": null,
   "id": "d432c81d-13bc-4eae-9623-25147ff8f60e",
   "metadata": {
    "tags": []
   },
   "outputs": [],
   "source": [
    "using Revise\n",
    "using FUSE\n",
    "#using Plots; plotlyjs();\n",
    "using Plots; gr();\n",
    "global_logger(FUSE.logger);"
   ]
  },
  {
   "cell_type": "markdown",
   "id": "240d42c6-7c71-4ab4-8699-7920ab625438",
   "metadata": {},
   "source": [
    "### Get `ini` and `act` for FPP case and custmize as needed"
   ]
  },
  {
   "cell_type": "code",
   "execution_count": null,
   "id": "2c2e2bf4-519d-4ab4-9cb3-38c8f461e8a3",
   "metadata": {},
   "outputs": [],
   "source": [
    "ini, act = FUSE.case_parameters(:FPP; version=:v1_demount, init_from=:scalars)\n",
    "act.ActorTauenn.transport_model = :h98y2\n",
    "act.ActorPFcoilsOpt.optimization_scheme = :none; # don't spend time optimizing the PFs"
   ]
  },
  {
   "cell_type": "markdown",
   "id": "16aa6e18-eb68-4704-87e6-cb44bc643138",
   "metadata": {},
   "source": [
    "### As a good practice, test the actor/workflow that you want to optimize first"
   ]
  },
  {
   "cell_type": "code",
   "execution_count": null,
   "id": "155cc710-ce81-4035-ad9e-017bbc481f2d",
   "metadata": {},
   "outputs": [],
   "source": [
    "dd = FUSE.init(ini, act)\n",
    "FUSE.ActorWholeFacility(dd, act);"
   ]
  },
  {
   "cell_type": "code",
   "execution_count": null,
   "id": "2e7d2af6-1284-47db-8c37-c44c9ac2d3ef",
   "metadata": {},
   "outputs": [],
   "source": [
    "#IMAS.freeze(dd.balance_of_plant)"
   ]
  },
  {
   "cell_type": "markdown",
   "id": "900ac113-a182-41c8-9f4b-90aec9aecb69",
   "metadata": {},
   "source": [
    "### Define the optimization objectives"
   ]
  },
  {
   "cell_type": "code",
   "execution_count": null,
   "id": "fa44e397-92c7-4219-9358-d77c48cfc42c",
   "metadata": {},
   "outputs": [],
   "source": [
    "# FUSE comes with a library of objective functions\n",
    "OFL = FUSE.ObjectivesFunctionsLibrary\n",
    "objective_functions = [OFL[:max_power_electric], OFL[:min_cost], OFL[:max_flattop]]\n",
    "\n",
    "# ...but one can define custom optimization objectives too\n",
    "# target_power_electric = FUSE.ObjectiveFunction(:target_power_electric_net, \"MW\", dd -> @ddtime(dd.balance_of_plant.power_electric_net)/1E6, 200)\n",
    "# objective_functions = [target_power_electric, OFL[:min_cost], OFL[:max_flattop]]"
   ]
  },
  {
   "cell_type": "markdown",
   "id": "29dcfcce-bf1e-4b91-86b2-05ac0eafaae0",
   "metadata": {},
   "source": [
    "### Setup and run optimization"
   ]
  },
  {
   "cell_type": "code",
   "execution_count": null,
   "id": "f4a47c4c-d4dc-443a-8710-f40bd90abb63",
   "metadata": {},
   "outputs": [],
   "source": [
    "# option to resume an optimization where it was left off\n",
    "if true\n",
    "    continue_results = missing\n",
    "else\n",
    "    continue_results = results\n",
    "end\n",
    "\n",
    "# define optimization parameters\n",
    "# For real optimization studies the population size (N) and number of iterations should be bigger\n",
    "# eg. N=1000, iterations=100\n",
    "optimization_parameters = Dict(\n",
    "    :N => 4,\n",
    "    :iterations => 10,\n",
    "    :continue_results => continue_results)\n",
    "\n",
    "# run optimization\n",
    "results = FUSE.workflow_multiobjective_optimization(ini, act, FUSE.ActorWholeFacility, objective_functions; optimization_parameters...);"
   ]
  },
  {
   "cell_type": "markdown",
   "id": "5b2fe850-4602-4c64-9ec4-7b9b3f227517",
   "metadata": {},
   "source": [
    "### Save optimization results to file"
   ]
  },
  {
   "cell_type": "code",
   "execution_count": null,
   "id": "7eedb035-eaa6-4088-a3cb-a3f19a90e585",
   "metadata": {},
   "outputs": [],
   "source": [
    "filename = \"optimization.bson\"\n",
    "@time FUSE.save_optimization(filename, results)\n",
    "\n",
    "# Optimization results can be re-loaded this way:\n",
    "# @time results = FUSE.load_optimization(filename);"
   ]
  },
  {
   "cell_type": "markdown",
   "id": "47ef9245-af2f-48b3-8f5b-ace072535efc",
   "metadata": {},
   "source": [
    "### Plot multi-objective optimization results"
   ]
  },
  {
   "cell_type": "code",
   "execution_count": null,
   "id": "4586fe3e-b7ad-41fe-acc9-b0864ba01f3d",
   "metadata": {},
   "outputs": [],
   "source": [
    "plot(results, [1, 2, 3]; design_space=false, pareto=true, color_by=0, max_samples=1000)"
   ]
  },
  {
   "cell_type": "markdown",
   "id": "d1a48497-e1cc-416e-b3a0-041ae3b1a4aa",
   "metadata": {},
   "source": [
    "### How to: Define and use a custom FUSE workflow"
   ]
  },
  {
   "cell_type": "code",
   "execution_count": null,
   "id": "6b3e3dab-cdce-4b48-a269-121274dbe028",
   "metadata": {},
   "outputs": [],
   "source": [
    "# Here `@everywhere` is needed to make all processes aware of the custom function\n",
    "@everywhere function workflow_custom(ini,act)\n",
    "    FUSE.init(dd, ini, act)\n",
    "    FUSE.ActorEquilibriumTransport(dd, act)\n",
    "    FUSE.ActorCXbuild(dd, act)\n",
    "    return dd\n",
    "end\n",
    "\n",
    "# results = FUSE.workflow_multiobjective_optimization(ini, act, custom_workflow, objective_functions; optimization_parameters...);"
   ]
  }
 ],
 "metadata": {
  "@webio": {
   "lastCommId": "fe0cba49-846c-4299-8b8b-b050c5a84ff1",
   "lastKernelId": "a80dc49b-8aa7-4164-a0bd-fa0a50b7ba0c"
  },
  "kernelspec": {
   "display_name": "Julia 1.7.2",
   "language": "julia",
   "name": "julia-1.7"
  },
  "language_info": {
   "file_extension": ".jl",
   "mimetype": "application/julia",
   "name": "julia",
   "version": "1.7.2"
  }
 },
 "nbformat": 4,
 "nbformat_minor": 5
}
