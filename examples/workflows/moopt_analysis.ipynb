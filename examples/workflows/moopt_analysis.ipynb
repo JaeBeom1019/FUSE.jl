{
 "cells": [
  {
   "cell_type": "markdown",
   "id": "c8eb3e92-2476-439b-a771-6dd9a7003472",
   "metadata": {},
   "source": [
    "# Multi objective optimization post-processing analysis"
   ]
  },
  {
   "cell_type": "code",
   "execution_count": null,
   "id": "b0776002",
   "metadata": {},
   "outputs": [],
   "source": [
    "#import WarmupFUSE\n",
    "using FUSE\n",
    "using Plots"
   ]
  },
  {
   "cell_type": "code",
   "execution_count": null,
   "id": "d3d046ee-27e6-4bcf-b821-279403c5f6d8",
   "metadata": {},
   "outputs": [],
   "source": [
    "path= \"optimization_runs\"\n",
    "path= \"/mnt/beegfs/users/meneghini/optimization_runs_supersimple_sms\"\n",
    "path= \"/mnt/beegfs/users/meneghini/optimization_runs_supersimple_NSGA2\"\n",
    "path= \"/mnt/beegfs/users/meneghini/optimization_runs_simple_NSGA2\"\n",
    "path= \"/mnt/beegfs/users/meneghini/optimization_run_STEP\"\n",
    "path= \"/mnt/beegfs/users/meneghini/optimization_run_STEP_nodelta\"\n",
    "dirs = filter(isdir,sort(readdir(path; join=true)))\n",
    "println(length(dirs))\n",
    "dirs = filter(x->!isfile(joinpath(x,\"error.txt\")) && isfile(joinpath(x,\"dd.json\")),dirs)\n",
    "println(length(dirs))\n",
    "outputs=FUSE.extract(dirs, filter_invalid=:cols);"
   ]
  },
  {
   "cell_type": "code",
   "execution_count": null,
   "id": "6d531228-ba14-48ef-91d2-5a9ab3f8da11",
   "metadata": {},
   "outputs": [],
   "source": [
    "IMAS.ExtractFunctionsLibrary"
   ]
  },
  {
   "cell_type": "code",
   "execution_count": null,
   "id": "f285a28c-bd02-4f4a-852c-433cbf76b979",
   "metadata": {},
   "outputs": [],
   "source": [
    "scatter(outputs[:,\"Pelectric_net\"])\n",
    "display(hline!([200]))\n",
    "\n",
    "scatter(log10.(outputs[:,\"flattop\"]))\n",
    "display(hline!([1]))"
   ]
  },
  {
   "cell_type": "code",
   "execution_count": null,
   "id": "183d7bc9-cf71-41a0-9dad-2ecaf50f5c48",
   "metadata": {},
   "outputs": [],
   "source": [
    "for name in names(outputs)\n",
    "    if all(isnan.(outputs[:,name]))\n",
    "        continue\n",
    "    end\n",
    "    println(name)\n",
    "    display(histogram(outputs[:,name],label=\"\",size=(200,100),linecolor=nothing))\n",
    "end"
   ]
  },
  {
   "cell_type": "code",
   "execution_count": null,
   "id": "9cf6969e-6a69-499d-bb9f-101a84ee6284",
   "metadata": {},
   "outputs": [],
   "source": [
    "# x axis\n",
    "xname=\"capital_cost\"\n",
    "x=outputs[:,xname]\n",
    "\n",
    "# y axis\n",
    "yname=\"βn\"\n",
    "y=outputs[:,yname]\n",
    "\n",
    "# color\n",
    "cname=\"Pec\"\n",
    "c=outputs[:,cname]\n",
    "clim=(-Inf,Inf)\n",
    "\n",
    "# selection\n",
    "sname=\"Pelectric_net\"\n",
    "s=outputs[:,sname]\n",
    "\n",
    "# subselection criterion\n",
    "n=30.0\n",
    "index=1:length(x)\n",
    "index=findall((s.>(200-n)) .&& (s.<(200+n)) .&& (index.>600))\n",
    "\n",
    "annot=map(x->(x, :center, 3, \"courier\"),index)\n",
    "\n",
    "# plotting\n",
    "scatter(x[index], y[index], marker_z=c[index] ,xlabel=xname, ylabel=yname, colorbar_title=cname, marker=:circle,\n",
    "    markersize=5, markerstrokewidth=0, label=\"\", clim=clim, alpha=0.5,\n",
    "#    xlim=(0,Inf), ylim=(0,Inf))\n",
    "    xlim=(0,10), ylim=(0.0,4.0), series_annotations=annot, textfontsize=2)\n",
    "# for i in 1:length(x)\n",
    "#     ann = (x[i], y[i], \"$i\")\n",
    "#     annotate!(ann, text_color=:black, series_annotations=true, alpha=.8, valign=:bottom)\n",
    "# end"
   ]
  },
  {
   "cell_type": "code",
   "execution_count": null,
   "id": "a1466135-2ab9-4b33-807e-525fb8fe0f15",
   "metadata": {},
   "outputs": [],
   "source": [
    "n=1159\n",
    "println(dirs[n])\n",
    "dd,ini,act=FUSE.load(dirs[n])\n",
    "FUSE.digest(dd)\n",
    "#ini.core_profiles"
   ]
  },
  {
   "cell_type": "code",
   "execution_count": null,
   "id": "b80bfb67-473f-4b44-a03d-037ebf5a0aa0",
   "metadata": {},
   "outputs": [],
   "source": [
    "for cname in names(outputs)\n",
    "    if all(isnan.(outputs[:,cname]))\n",
    "        continue\n",
    "    end\n",
    "    # color\n",
    "    c=outputs[:,cname]\n",
    "    clim=(-Inf,Inf)\n",
    "\n",
    "    # plotting\n",
    "    println(cname)\n",
    "    display(scatter(x[index], y[index], marker_z=c[index] ,xlabel=xname, ylabel=yname, colorbar_title=cname, marker=:circle,\n",
    "        markersize=5, markerstrokewidth=0, label=\"\", clim=clim, alpha=0.5))\n",
    "end"
   ]
  }
 ],
 "metadata": {
  "@webio": {
   "lastCommId": "fa0d930b-902c-4679-8394-14c63116ee2c",
   "lastKernelId": "7a6aab96-3689-4d4c-b084-36bdb7055423"
  },
  "kernelspec": {
   "display_name": "Julia (20 threads) 1.8.5",
   "language": "julia",
   "name": "julia-_20-threads_-1.8"
  },
  "language_info": {
   "file_extension": ".jl",
   "mimetype": "application/julia",
   "name": "julia",
   "version": "1.8.5"
  }
 },
 "nbformat": 4,
 "nbformat_minor": 5
}
