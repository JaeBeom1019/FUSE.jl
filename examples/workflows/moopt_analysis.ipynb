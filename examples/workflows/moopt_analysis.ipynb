{
 "cells": [
  {
   "cell_type": "markdown",
   "id": "c8eb3e92-2476-439b-a771-6dd9a7003472",
   "metadata": {},
   "source": [
    "# Multi objective optimization post-processing analysis"
   ]
  },
  {
   "cell_type": "code",
   "execution_count": null,
   "id": "b0776002",
   "metadata": {},
   "outputs": [],
   "source": [
    "#import WarmupFUSE\n",
    "using FUSE\n",
    "using Plots"
   ]
  },
  {
   "cell_type": "code",
   "execution_count": null,
   "id": "6bca601d-1cd4-4035-ba80-2bcc7b8845df",
   "metadata": {},
   "outputs": [],
   "source": [
    "path= \"optimization_runs\"\n",
    "path= \"/mnt/beegfs/users/meneghini/optimization_runs_supersimple_sms\"\n",
    "path= \"/mnt/beegfs/users/meneghini/optimization_runs_supersimple_NSGA2\"\n",
    "path= \"/mnt/beegfs/users/meneghini/optimization_runs_simple_NSGA2\"\n",
    "path= \"/mnt/beegfs/users/meneghini/optimization_run_STEP\"\n",
    "path= \"/mnt/beegfs/users/meneghini/optimization_run_STEP_nodelta\"\n",
    "path= \"/mnt/beegfs/users/meneghini/optimization_run_STEP_nodelta_zerohm\""
   ]
  },
  {
   "cell_type": "code",
   "execution_count": null,
   "id": "0a15282e-bfbd-4c0a-a4be-1cda60890491",
   "metadata": {},
   "outputs": [],
   "source": [
    "# use this to regenerate CSV cache file\n",
    "dirs = filter(isdir,sort(readdir(path; join=true)))\n",
    "println(length(dirs))\n",
    "dirs = filter(x->!isfile(joinpath(x,\"error.txt\")) && isfile(joinpath(x,\"dd.json\")),dirs)\n",
    "println(length(dirs))\n",
    "outputs=FUSE.extract(dirs, filter_invalid=:cols);\n",
    "\n",
    "# cache extrated information to CSV file\n",
    "import DelimitedFiles\n",
    "DelimitedFiles.writedlm(joinpath(path,\"extract.csv\"), Iterators.flatten(([names(outputs)], eachrow(outputs))), ',')\n",
    "\n",
    "# error analysis\n",
    "dirs = filter(isdir,sort(readdir(path; join=true)))\n",
    "errors=FUSE.categorize_errors(dirs;do_plot=true,show_first_line=true)"
   ]
  },
  {
   "cell_type": "code",
   "execution_count": null,
   "id": "badb2b65-3454-434f-80c6-a127fb46429d",
   "metadata": {},
   "outputs": [],
   "source": [
    "# use this to load CSV cache file\n",
    "outputs=FUSE.DataFrames.DataFrame(FUSE.CSV.File(joinpath(path,\"extract.csv\")));"
   ]
  },
  {
   "cell_type": "code",
   "execution_count": null,
   "id": "e034d57e-c4a4-474b-8e4c-f0c3a54e2736",
   "metadata": {},
   "outputs": [],
   "source": [
    "# this is just to list the fields that can be queried\n",
    "IMAS.ExtractFunctionsLibrary"
   ]
  },
  {
   "cell_type": "code",
   "execution_count": null,
   "id": "f285a28c-bd02-4f4a-852c-433cbf76b979",
   "metadata": {},
   "outputs": [],
   "source": [
    "scatter(outputs[:,\"Pelectric_net\"])\n",
    "display(hline!([200]))\n",
    "\n",
    "scatter(log10.(outputs[:,\"flattop\"]))\n",
    "display(hline!([1]))"
   ]
  },
  {
   "cell_type": "code",
   "execution_count": null,
   "id": "183d7bc9-cf71-41a0-9dad-2ecaf50f5c48",
   "metadata": {},
   "outputs": [],
   "source": [
    "for name in names(outputs)\n",
    "    if all(isnan.(outputs[:,name]))\n",
    "        continue\n",
    "    end\n",
    "    println(name)\n",
    "    display(histogram(outputs[:,name],label=\"\",size=(200,100),linecolor=nothing))\n",
    "end"
   ]
  },
  {
   "cell_type": "code",
   "execution_count": null,
   "id": "9cf6969e-6a69-499d-bb9f-101a84ee6284",
   "metadata": {},
   "outputs": [],
   "source": [
    "# x axis\n",
    "xname=\"capital_cost\"\n",
    "x=outputs[:,xname]\n",
    "\n",
    "# y axis\n",
    "yname=\"βn\"\n",
    "y=outputs[:,yname]\n",
    "\n",
    "# z axis\n",
    "zname=\"R0\"\n",
    "z=outputs[:,zname]\n",
    "\n",
    "# color\n",
    "cname=\"R0\"\n",
    "cname=\"<zeff>\"\n",
    "c=outputs[:,cname]\n",
    "clim=(-Inf,Inf)\n",
    "#cname=\"B0 [T]\"\n",
    "#cname=\"R0 [m]\"\n",
    "\n",
    "# selection\n",
    "sname0=\"Pelectric_net\"\n",
    "s0=outputs[:,sname0]\n",
    "\n",
    "# selection\n",
    "sname1=\"ip_ohm\"\n",
    "s1=outputs[:,sname1]\n",
    "\n",
    "# subselection criterion\n",
    "n=20.0\n",
    "index=1:length(x)\n",
    "index=findall( (s0.>(200-n)) .&& (s0.<(200+n)) .&& (s1.>-0.5) .&& (s1.<0.5) .&& (index.>2000))\n",
    "\n",
    "annot=map(x->(x, :center, 3, \"courier\"),index)\n",
    "\n",
    "# plotting\n",
    "scatter(x[index], y[index], marker_z=c[index] ,xlabel=\"Capital cost [\\$B]\", ylabel=yname, colorbar_title=cname, marker=:circle,\n",
    "    markersize=5, markerstrokewidth=0, label=\"\", clim=clim, alpha=0.5,\n",
    "#    xlim=(0,Inf), ylim=(0,Inf))\n",
    "    xlim=(3,15), ylim=(1,3.5))\n",
    "\n",
    "# scatter3d(x[index], y[index], z[index], marker_z=c[index] ,xlabel=\"Capital cost [\\$B]\", ylabel=yname, colorbar_title=cname, marker=:circle,\n",
    "#     markersize=5, markerstrokewidth=0, label=\"\", clim=clim, alpha=0.5,\n",
    "#     xlim=(0,Inf), ylim=(0,Inf))\n",
    "# #    xlim=(3,15), ylim=(1,3.5))\n",
    "\n",
    "#    xlim=(3,10), ylim=(1.0,3.0), series_annotations=annot, textfontsize=2)\n",
    "# for i in 1:length(x)\n",
    "#     ann = (x[i], y[i], \"$i\")\n",
    "#     annotate!(ann, text_color=:black, series_annotations=true, alpha=.8, valign=:bottom)\n",
    "# end"
   ]
  },
  {
   "cell_type": "code",
   "execution_count": null,
   "id": "a1466135-2ab9-4b33-807e-525fb8fe0f15",
   "metadata": {},
   "outputs": [],
   "source": [
    "n=4901\n",
    "#n=7864\n",
    "println(dirs[n])\n",
    "dd,ini,act=FUSE.load(dirs[n])\n",
    "FUSE.digest(dd)\n",
    "#ini.core_profiles"
   ]
  },
  {
   "cell_type": "code",
   "execution_count": null,
   "id": "2f91f823-1ca9-4f2e-99ad-2e456495bec5",
   "metadata": {},
   "outputs": [],
   "source": [
    "for cname in names(outputs)\n",
    "    if all(isnan.(outputs[:,cname]))\n",
    "        continue\n",
    "    end\n",
    "    # color\n",
    "    c=outputs[:,cname]\n",
    "    clim=(-Inf,Inf)\n",
    "\n",
    "    # plotting\n",
    "    println(cname)\n",
    "    display(scatter(x[index], y[index], marker_z=c[index] ,xlabel=xname, ylabel=yname, colorbar_title=cname, marker=:circle,\n",
    "        markersize=5, markerstrokewidth=0, label=\"\", clim=clim, alpha=0.5))\n",
    "end"
   ]
  }
 ],
 "metadata": {
  "@webio": {
   "lastCommId": "fa0d930b-902c-4679-8394-14c63116ee2c",
   "lastKernelId": "7a6aab96-3689-4d4c-b084-36bdb7055423"
  },
  "kernelspec": {
   "display_name": "Julia (20 threads) 1.8.5",
   "language": "julia",
   "name": "julia-_20-threads_-1.8"
  },
  "language_info": {
   "file_extension": ".jl",
   "mimetype": "application/julia",
   "name": "julia",
   "version": "1.8.5"
  }
 },
 "nbformat": 4,
 "nbformat_minor": 5
}
