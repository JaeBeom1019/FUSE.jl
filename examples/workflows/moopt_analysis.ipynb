{
 "cells": [
  {
   "cell_type": "markdown",
   "id": "c8eb3e92-2476-439b-a771-6dd9a7003472",
   "metadata": {},
   "source": [
    "# Multi objective optimization post-processing analysis"
   ]
  },
  {
   "cell_type": "code",
   "execution_count": null,
   "id": "b0776002",
   "metadata": {},
   "outputs": [],
   "source": [
    "#import WarmupFUSE\n",
    "using FUSE\n",
    "using Plots"
   ]
  },
  {
   "cell_type": "code",
   "execution_count": null,
   "id": "6bca601d-1cd4-4035-ba80-2bcc7b8845df",
   "metadata": {},
   "outputs": [],
   "source": [
    "path= \"optimization_runs\"\n",
    "path= \"/mnt/beegfs/users/meneghini/optimization_runs_supersimple_sms\"\n",
    "path= \"/mnt/beegfs/users/meneghini/optimization_runs_supersimple_NSGA2\"\n",
    "path= \"/mnt/beegfs/users/meneghini/optimization_runs_simple_NSGA2\"\n",
    "path= \"/mnt/beegfs/users/meneghini/optimization_run_STEP\"\n",
    "path= \"/mnt/beegfs/users/meneghini/optimization_run_STEP_nodelta\"\n",
    "#path= \"/mnt/beegfs/users/meneghini/optimization_run_STEP_nodelta_zerohm\"\n",
    "#path= \"/mnt/beegfs/users/meneghini/optimization_run_STEP_nodelta_zerohm_expressions\"\n",
    "path= \"/mnt/beegfs/users/meneghini/optimization_run_STEP_nodelta_zerohm_expressions_jfix\"\n",
    "path= \"/mnt/beegfs/users/meneghini/optimization_run_STEP_nodelta_zerohm_expressions_jfix_noonetime\"\n",
    "path= \"/mnt/beegfs/users/meneghini/optimization_run_STEP_nodelta_zerohm_expressions_jfix_slvv\"\n",
    "path= \"/mnt/beegfs/users/meneghini/optimization_run_STEP_nodelta_zerohm_expressions_jfix_neo\"\n",
    "#path= \"/mnt/beegfs/users/meneghini/optimization_run_STEP_nodelta_zerohm_expressions_jfix_neo_SMSEMOA\""
   ]
  },
  {
   "cell_type": "code",
   "execution_count": null,
   "id": "dc0bc752-9b56-4f0f-a5e6-40bbb8f3d8f6",
   "metadata": {},
   "outputs": [],
   "source": [
    "IMAS.update_ExtractFunctionsLibrary!()\n",
    "# use this to regenerate CSV cache file\n",
    "dirs = filter(isdir,sort(readdir(path; join=true)))\n",
    "println(length(dirs))\n",
    "dirs = filter(x->!isfile(joinpath(x,\"error.txt\")) && isfile(joinpath(x,\"dd.json\")),dirs)#[1:100]\n",
    "println(length(dirs))\n",
    "outputs=FUSE.extract(dirs, filter_invalid=:cols);\n",
    "\n",
    "# cache extrated information to CSV file\n",
    "import DelimitedFiles\n",
    "DelimitedFiles.writedlm(joinpath(path,\"extract.csv\"), Iterators.flatten(([names(outputs)], eachrow(outputs))), ',')\n",
    "\n",
    "# error analysis\n",
    "dirs = filter(isdir,sort(readdir(path; join=true)))\n",
    "errors=FUSE.categorize_errors(dirs;do_plot=true,show_first_line=false)"
   ]
  },
  {
   "cell_type": "code",
   "execution_count": null,
   "id": "6a279746-7c19-4cd6-a1da-12b1f644a326",
   "metadata": {},
   "outputs": [],
   "source": [
    "# use this to load CSV cache file\n",
    "outputs=FUSE.DataFrames.DataFrame(FUSE.CSV.File(joinpath(path,\"extract.csv\")));\n",
    "println(length(outputs[:,1]))"
   ]
  },
  {
   "cell_type": "code",
   "execution_count": null,
   "id": "e034d57e-c4a4-474b-8e4c-f0c3a54e2736",
   "metadata": {},
   "outputs": [],
   "source": [
    "# this is just to list the fields that can be queried\n",
    "IMAS.ExtractFunctionsLibrary"
   ]
  },
  {
   "cell_type": "code",
   "execution_count": null,
   "id": "f285a28c-bd02-4f4a-852c-433cbf76b979",
   "metadata": {},
   "outputs": [],
   "source": [
    "N=length(outputs[:,\"Pelectric_net\"])\n",
    "X=LinRange(1,N,41)\n",
    "histogram2d(outputs[:,\"Pelectric_net\"],bins=(X,LinRange(-0,500,50)),ylabel=\"Pelectric net\", xlabel=\"Generation\")\n",
    "display(hline!([200.0], ls=:dash, label=\"\"))\n",
    "\n",
    "histogram2d(outputs[:,\"ip_ohm\"],bins=(X,LinRange(-5,5,50)),ylabel=\"Ip ohmic\", xlabel=\"Generation\")\n",
    "display(hline!([0.0], ls=:dash, label=\"\"))"
   ]
  },
  {
   "cell_type": "code",
   "execution_count": null,
   "id": "183d7bc9-cf71-41a0-9dad-2ecaf50f5c48",
   "metadata": {},
   "outputs": [],
   "source": [
    "for name in names(outputs)\n",
    "    println((name,typeof(outputs[1,name])))\n",
    "    if !(typeof(outputs[1,name]) <: Number) || all(isnan.(outputs[:,name]))\n",
    "        continue\n",
    "    end\n",
    "    display(histogram(outputs[:,name],label=\"\",size=(200,100),linecolor=nothing))\n",
    "end"
   ]
  },
  {
   "cell_type": "code",
   "execution_count": null,
   "id": "9cf6969e-6a69-499d-bb9f-101a84ee6284",
   "metadata": {},
   "outputs": [],
   "source": [
    "# x axis\n",
    "xname=\"capital_cost\"; x=outputs[:,xname]\n",
    "#xname=\"βpol\"; x=outputs[:,xname]\n",
    "\n",
    "# y axis\n",
    "yname=\"βn\"; y=outputs[:,yname]\n",
    "#yname=\"ip_bs/ip_bs_aux_ohm\"; y=outputs[:,\"ip_bs\"]./outputs[:,\"ip_bs_aux_ohm\"];\n",
    "\n",
    "# z axis\n",
    "#zname=\"R0\"; z=outputs[:,zname]\n",
    "\n",
    "# color\n",
    "cname=\"generation\"; c=1:length(x);\n",
    "#cname=\"<zeff>\"; c=outputs[:,\"<zeff>\"];\n",
    "#cname=\"R0 [m]\"; c=outputs[:,\"R0\"];\n",
    "#cname=\"B0 [T]\"; c=outputs[:,\"B0\"];\n",
    "#cname=\"ip_ohm\"; c=outputs[:,cname]\n",
    "#cname=\"ip_bs_aux_ohm/ip\"; c=outputs[:,\"ip_bs_aux_ohm\"]./outputs[:,\"ip\"];\n",
    "clim=(-Inf,Inf)\n",
    "\n",
    "# selection\n",
    "sname0=\"Pelectric_net\"; s0=outputs[:,sname0]\n",
    "sname1=\"ip_ohm\"; s1=outputs[:,sname1]\n",
    "sname2=\"B0\"; s2=outputs[:,sname2]\n",
    "\n",
    "# subselection criterion\n",
    "Δf=20.0\n",
    "n=length(x)\n",
    "index=1:n\n",
    "index=findall( (s0.>(200-Δf)) .&& (s0.<(200+Δf)) .&& (abs.(s1).<1) .&& (index.> 1000))\n",
    "#index=findall( (s0.>(200-n)) .&& (s0.<(200+n)) .&& (index.>0000))\n",
    "#index=findall( (s0.>(200-n)) .&& (s0.<(200+n)))\n",
    "#index=findall( (index.>n-1000))\n",
    "annot=map(x->(x, :center, 3, \"courier\"), index)\n",
    "\n",
    "# plotting\n",
    "scatter(x[index], y[index], marker_z=c[index] ,xlabel=xname, ylabel=yname, colorbar_title=cname, marker=:circle,\n",
    "    markersize=5, markerstrokewidth=0, label=\"\", clim=clim, alpha=0.5,\n",
    "#    series_annotations=annot,\n",
    "    xlim=(0,Inf), ylim=(0,Inf))\n",
    "#    xlim=(3,15), ylim=(1,3.5))\n",
    "#    xlim=(0,10), ylim=(0,3))\n",
    "\n",
    "#plot!(x[index], 0.67.*outputs[:,\"βpol\"])\n",
    "#plot!(x[index], 0.75.*outputs[:,\"βpol\"])"
   ]
  },
  {
   "cell_type": "code",
   "execution_count": null,
   "id": "a1466135-2ab9-4b33-807e-525fb8fe0f15",
   "metadata": {},
   "outputs": [],
   "source": [
    "n=length(dirs)\n",
    "#n=7864\n",
    "println(dirs[n])\n",
    "dd,ini,act=FUSE.load(dirs[n])\n",
    "FUSE.digest(dd)\n",
    "#ini.core_profiles"
   ]
  },
  {
   "cell_type": "code",
   "execution_count": null,
   "id": "2f91f823-1ca9-4f2e-99ad-2e456495bec5",
   "metadata": {},
   "outputs": [],
   "source": [
    "for cname in names(outputs)\n",
    "    if all(isnan.(outputs[:,cname]))\n",
    "        continue\n",
    "    end\n",
    "    # color\n",
    "    c=outputs[:,cname]\n",
    "    clim=(-Inf,Inf)\n",
    "\n",
    "    # plotting\n",
    "    println(cname)\n",
    "    display(scatter(x[index], y[index], marker_z=c[index] ,xlabel=xname, ylabel=yname, colorbar_title=cname, marker=:circle,\n",
    "        markersize=5, markerstrokewidth=0, label=\"\", clim=clim, alpha=0.5))\n",
    "end"
   ]
  }
 ],
 "metadata": {
  "@webio": {
   "lastCommId": "fa0d930b-902c-4679-8394-14c63116ee2c",
   "lastKernelId": "7a6aab96-3689-4d4c-b084-36bdb7055423"
  },
  "kernelspec": {
   "display_name": "Julia (20 threads) 1.8.5",
   "language": "julia",
   "name": "julia-_20-threads_-1.8"
  },
  "language_info": {
   "file_extension": ".jl",
   "mimetype": "application/julia",
   "name": "julia",
   "version": "1.8.5"
  }
 },
 "nbformat": 4,
 "nbformat_minor": 5
}
