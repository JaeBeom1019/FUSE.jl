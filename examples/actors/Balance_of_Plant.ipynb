{
 "cells": [
  {
   "cell_type": "markdown",
   "id": "c8eec54b-2533-4791-bd01-5745effb72bf",
   "metadata": {},
   "source": [
    "# Balance of plant"
   ]
  },
  {
   "cell_type": "code",
   "execution_count": 1,
   "id": "cc559b9e-0829-473f-bdc1-08bfb84dacca",
   "metadata": {},
   "outputs": [],
   "source": [
    "using Revise\n",
    "using FUSE\n",
    "using Plots; gr();\n",
    "global_logger(FUSE.logger);"
   ]
  },
  {
   "cell_type": "markdown",
   "id": "09535cb8-9230-43b5-a113-e2cd63664a6a",
   "metadata": {},
   "source": [
    "### Initialize FPP v1_demount case\n",
    "[FPP v1 demount case documentation](https://fuse.help/cases.html#FPP)"
   ]
  },
  {
   "cell_type": "code",
   "execution_count": 2,
   "id": "9efc3773-e08b-4229-a8c7-2dd70c729143",
   "metadata": {},
   "outputs": [
    {
     "name": "stderr",
     "output_type": "stream",
     "text": [
      "WARNING: both ImageMetadata and ImageAxes export \"data\"; uses of it in module Images must be qualified\n",
      "\u001b[33m\u001b[1m┌ \u001b[22m\u001b[39m\u001b[33m\u001b[1mWarning: \u001b[22m\u001b[39mdd.dataset_description was skipped in IMAS data dictionary\n",
      "\u001b[33m\u001b[1m└ \u001b[22m\u001b[39m\u001b[90m@ IMASDD ~/.julia/dev/IMASDD/src/data.jl:1067\u001b[39m\n"
     ]
    }
   ],
   "source": [
    "dd, ini, act = FUSE.init(:FPP, version=:v1_demount, init_from=:ods, do_plot=false);"
   ]
  },
  {
   "cell_type": "markdown",
   "id": "8b364030-898b-41ce-8776-7bf4c096b3af",
   "metadata": {},
   "source": [
    "### Run Actors that will be needed for balance of plant"
   ]
  },
  {
   "cell_type": "code",
   "execution_count": 3,
   "id": "3b4fab4a-9600-4ec8-8026-b52419464451",
   "metadata": {},
   "outputs": [],
   "source": [
    "FUSE.ActorEquilibriumTransport(dd, act)\n",
    "FUSE.ActorHFSsizing(dd, act)\n",
    "FUSE.ActorLFSsizing(dd, act)\n",
    "FUSE.ActorCXbuild(dd, act);"
   ]
  },
  {
   "cell_type": "markdown",
   "id": "da6ce578-1373-40fd-bf4b-1d7ef36baabe",
   "metadata": {},
   "source": [
    "### Running the simple blanket actor\n",
    "[ActorBlanket documentation](https://fuse.help/actors.html#Blanket)"
   ]
  },
  {
   "cell_type": "code",
   "execution_count": 4,
   "id": "ba341eb3-3681-4628-91e3-a0f4cebebc4f",
   "metadata": {},
   "outputs": [
    {
     "data": {
      "text/plain": [
       "\u001b[0m\u001b[1mblanket\u001b[22m\n",
       "├─ \u001b[0m\u001b[1mmodule\u001b[22m\n",
       "│  └─ \u001b[0m\u001b[1m1\u001b[22m\n",
       "│     ├─ \u001b[0mname\u001b[31m ➡ \u001b[39m\u001b[35m\"all\"\u001b[39m\n",
       "│     └─ \u001b[0m\u001b[1mtime_slice\u001b[22m\n",
       "│        └─ \u001b[0m\u001b[1m1\u001b[22m\n",
       "│           ├─ \u001b[0mpower_incident_neutrons\u001b[31m ➡ \u001b[39m\u001b[31m9.09321e+08\u001b[39m\n",
       "│           ├─ \u001b[0mpower_incident_radiated\u001b[31m ➡ \u001b[39m\u001b[31m0\u001b[39m\n",
       "│           ├─ \u001b[0mpower_thermal_extracted\u001b[31m ➡ \u001b[39m\u001b[31m1.09118e+09\u001b[39m\n",
       "│           ├─ \u001b[0mpower_thermal_neutrons\u001b[31m ➡ \u001b[39m\u001b[31m1.09118e+09\u001b[39m\n",
       "│           ├─ \u001b[0mpower_thermal_radiated\u001b[31m ➡ \u001b[39m\u001b[31m0\u001b[39m\n",
       "│           └─ \u001b[0mtritium_breeding_ratio\u001b[31m ➡ \u001b[39m\u001b[31m1\u001b[39m\n",
       "├─ \u001b[0mtime\u001b[31m ➡ \u001b[39m\u001b[32m[1]\u001b[39m\n",
       "└─ \u001b[0mtritium_breeding_ratio\u001b[31m ➡ \u001b[39m\u001b[32m[1]\u001b[39m\n"
      ]
     },
     "execution_count": 4,
     "metadata": {},
     "output_type": "execute_result"
    }
   ],
   "source": [
    "FUSE.ActorBlanket(dd,act);\n",
    "dd.blanket"
   ]
  },
  {
   "cell_type": "markdown",
   "id": "87aa53d7-6103-4e09-b50f-e62f422a97c9",
   "metadata": {},
   "source": [
    "### Running the divertors actor\n",
    "[ActorDivertors documentation](https://fuse.help/actors.html#Divertors)"
   ]
  },
  {
   "cell_type": "code",
   "execution_count": 5,
   "id": "43275371-4f84-4151-b406-728bb4c8e0db",
   "metadata": {},
   "outputs": [
    {
     "data": {
      "text/plain": [
       "\u001b[0m\u001b[1mdivertors\u001b[22m\n",
       "├─ \u001b[0m\u001b[1mdivertor\u001b[22m\n",
       "│  └─ \u001b[0m\u001b[1m1\u001b[22m\n",
       "│     ├─ \u001b[0mname\u001b[31m ➡ \u001b[39m\u001b[35m\"all\"\u001b[39m\n",
       "│     ├─ \u001b[0m\u001b[1mpower_incident\u001b[22m\n",
       "│     │  ├─ \u001b[0mdata\u001b[31m ➡ \u001b[39m\u001b[32m[2.95129e+08]\u001b[39m\n",
       "│     │  └─ \u001b[0mtime\u001b[31m ➡ \u001b[39m\u001b[32m[1]\u001b[39m\n",
       "│     ├─ \u001b[0m\u001b[1mpower_neutrals\u001b[22m\n",
       "│     │  ├─ \u001b[0mdata\u001b[31m ➡ \u001b[39m\u001b[32m[0]\u001b[39m\n",
       "│     │  └─ \u001b[0mtime\u001b[31m ➡ \u001b[39m\u001b[32m[1]\u001b[39m\n",
       "│     ├─ \u001b[0m\u001b[1mpower_radiated\u001b[22m\n",
       "│     │  ├─ \u001b[0mdata\u001b[31m ➡ \u001b[39m\u001b[32m[0]\u001b[39m\n",
       "│     │  └─ \u001b[0mtime\u001b[31m ➡ \u001b[39m\u001b[32m[1]\u001b[39m\n",
       "│     ├─ \u001b[0m\u001b[1mpower_recombination_neutrals\u001b[22m\n",
       "│     │  ├─ \u001b[0mdata\u001b[31m ➡ \u001b[39m\u001b[32m[0]\u001b[39m\n",
       "│     │  └─ \u001b[0mtime\u001b[31m ➡ \u001b[39m\u001b[32m[1]\u001b[39m\n",
       "│     └─ \u001b[0m\u001b[1mpower_thermal_extracted\u001b[22m\n",
       "│        ├─ \u001b[0mdata\u001b[31m ➡ \u001b[39m\u001b[32m[2.95129e+08]\u001b[39m\n",
       "│        └─ \u001b[0mtime\u001b[31m ➡ \u001b[39m\u001b[32m[1]\u001b[39m\n",
       "└─ \u001b[0mtime\u001b[31m ➡ \u001b[39m\u001b[32m[1]\u001b[39m\n"
      ]
     },
     "execution_count": 5,
     "metadata": {},
     "output_type": "execute_result"
    }
   ],
   "source": [
    "FUSE.ActorDivertors(dd,act)\n",
    "dd.divertors"
   ]
  },
  {
   "cell_type": "markdown",
   "id": "78e2fd6c-0f1e-4ece-a041-804a0ddaacef",
   "metadata": {},
   "source": [
    "### Running the balance of plant actor\n",
    "[ActorBalanceOfPlant documentation](https://fuse.help/actors.html#BalanceOfPlant)"
   ]
  },
  {
   "cell_type": "code",
   "execution_count": 6,
   "id": "f800e97a-dfc9-472f-a163-c28ab18abae1",
   "metadata": {},
   "outputs": [
    {
     "name": "stdout",
     "output_type": "stream",
     "text": [
      "The net electrical power to the grid is 304.5 [MWe] \n",
      "With Qplant = 2.22 \n",
      "\n"
     ]
    },
    {
     "data": {
      "text/plain": [
       "\u001b[0m\u001b[1mbalance_of_plant\u001b[22m\n",
       "├─ \u001b[0mQ_plant\u001b[31m ➡ \u001b[39m\u001b[34mFunction\u001b[39m\n",
       "├─ \u001b[0mpower_electric_net\u001b[31m ➡ \u001b[39m\u001b[34mFunction\u001b[39m\n",
       "├─ \u001b[0m\u001b[1mpower_electric_plant_operation\u001b[22m\n",
       "│  ├─ \u001b[0m\u001b[1msystem\u001b[22m\n",
       "│  │  ├─ \u001b[0m\u001b[1m1\u001b[22m\n",
       "│  │  │  ├─ \u001b[0mindex\u001b[31m ➡ \u001b[39m\u001b[33m1\u001b[39m\n",
       "│  │  │  ├─ \u001b[0mname\u001b[31m ➡ \u001b[39m\u001b[35m\"H&CD\"\u001b[39m\n",
       "│  │  │  ├─ \u001b[0mpower\u001b[31m ➡ \u001b[39m\u001b[32m100-element Vector{Float64}\u001b[39m\n",
       "│  │  │  └─ \u001b[0m\u001b[1msubsystem\u001b[22m\n",
       "│  │  │     └─ \u001b[0m\u001b[1m1\u001b[22m\n",
       "│  │  │        ├─ \u001b[0mindex\u001b[31m ➡ \u001b[39m\u001b[33m1\u001b[39m\n",
       "│  │  │        ├─ \u001b[0mname\u001b[31m ➡ \u001b[39m\u001b[35m\"ec_launchers\"\u001b[39m\n",
       "│  │  │        └─ \u001b[0mpower\u001b[31m ➡ \u001b[39m\u001b[32m100-element Vector{Float64}\u001b[39m\n",
       "│  │  ├─ \u001b[0m\u001b[1m2\u001b[22m\n",
       "│  │  │  ├─ \u001b[0mindex\u001b[31m ➡ \u001b[39m\u001b[33m2\u001b[39m\n",
       "│  │  │  ├─ \u001b[0mname\u001b[31m ➡ \u001b[39m\u001b[35m\"cryostat\"\u001b[39m\n",
       "│  │  │  └─ \u001b[0mpower\u001b[31m ➡ \u001b[39m\u001b[32m100-element Vector{Float64}\u001b[39m\n",
       "│  │  ├─ \u001b[0m\u001b[1m3\u001b[22m\n",
       "│  │  │  ├─ \u001b[0mindex\u001b[31m ➡ \u001b[39m\u001b[33m3\u001b[39m\n",
       "│  │  │  ├─ \u001b[0mname\u001b[31m ➡ \u001b[39m\u001b[35m\"tritium_handling\"\u001b[39m\n",
       "│  │  │  └─ \u001b[0mpower\u001b[31m ➡ \u001b[39m\u001b[32m100-element Vector{Float64}\u001b[39m\n",
       "│  │  ├─ \u001b[0m\u001b[1m4\u001b[22m\n",
       "│  │  │  ├─ \u001b[0mindex\u001b[31m ➡ \u001b[39m\u001b[33m4\u001b[39m\n",
       "│  │  │  ├─ \u001b[0mname\u001b[31m ➡ \u001b[39m\u001b[35m\"pumping\"\u001b[39m\n",
       "│  │  │  └─ \u001b[0mpower\u001b[31m ➡ \u001b[39m\u001b[32m100-element Vector{Float64}\u001b[39m\n",
       "│  │  └─ \u001b[0m\u001b[1m5\u001b[22m\n",
       "│  │     ├─ \u001b[0mindex\u001b[31m ➡ \u001b[39m\u001b[33m5\u001b[39m\n",
       "│  │     ├─ \u001b[0mname\u001b[31m ➡ \u001b[39m\u001b[35m\"pf_active\"\u001b[39m\n",
       "│  │     └─ \u001b[0mpower\u001b[31m ➡ \u001b[39m\u001b[32m100-element Vector{Float64}\u001b[39m\n",
       "│  └─ \u001b[0mtotal_power\u001b[31m ➡ \u001b[39m\u001b[34mFunction\u001b[39m\n",
       "├─ \u001b[0m\u001b[1mthermal_cycle\u001b[22m\n",
       "│  ├─ \u001b[0mpower_electric_generated\u001b[31m ➡ \u001b[39m\u001b[34mFunction\u001b[39m\n",
       "│  ├─ \u001b[0m\u001b[1msystem\u001b[22m\n",
       "│  │  ├─ \u001b[0m\u001b[1m1\u001b[22m\n",
       "│  │  │  ├─ \u001b[0mindex\u001b[31m ➡ \u001b[39m\u001b[33m1\u001b[39m\n",
       "│  │  │  ├─ \u001b[0mname\u001b[31m ➡ \u001b[39m\u001b[35m\"blanket\"\u001b[39m\n",
       "│  │  │  └─ \u001b[0mpower_in\u001b[31m ➡ \u001b[39m\u001b[32m100-element Vector{Float64}\u001b[39m\n",
       "│  │  └─ \u001b[0m\u001b[1m2\u001b[22m\n",
       "│  │     ├─ \u001b[0mindex\u001b[31m ➡ \u001b[39m\u001b[33m2\u001b[39m\n",
       "│  │     ├─ \u001b[0mname\u001b[31m ➡ \u001b[39m\u001b[35m\"divertors\"\u001b[39m\n",
       "│  │     └─ \u001b[0mpower_in\u001b[31m ➡ \u001b[39m\u001b[32m100-element Vector{Float64}\u001b[39m\n",
       "│  └─ \u001b[0mthermal_electric_conversion_efficiency\u001b[31m ➡ \u001b[39m\u001b[32m100-element Vector{Float64}\u001b[39m\n",
       "└─ \u001b[0mtime\u001b[31m ➡ \u001b[39m\u001b[32m100-element Vector{Float64}\u001b[39m\n"
      ]
     },
     "metadata": {},
     "output_type": "display_data"
    }
   ],
   "source": [
    "FUSE.ActorBalanceOfPlant(dd,act);\n",
    "\n",
    "println(\"The net electrical power to the grid is $(round(dd.balance_of_plant.power_electric_net[end]/1e6,digits=1)) [MWe] \\nWith Qplant = $(round(dd.balance_of_plant.Q_plant[end],digits=2)) \\n\")\n",
    "display(dd.balance_of_plant)\n"
   ]
  },
  {
   "cell_type": "code",
   "execution_count": null,
   "id": "739f2d0b-755b-4e5e-a904-0d2f66f0a526",
   "metadata": {},
   "outputs": [],
   "source": []
  }
 ],
 "metadata": {
  "kernelspec": {
   "display_name": "Julia 1.7.2",
   "language": "julia",
   "name": "julia-1.7"
  },
  "language_info": {
   "file_extension": ".jl",
   "mimetype": "application/julia",
   "name": "julia",
   "version": "1.7.2"
  }
 },
 "nbformat": 4,
 "nbformat_minor": 5
}
