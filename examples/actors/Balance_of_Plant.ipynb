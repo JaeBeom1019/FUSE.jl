{
 "cells": [
  {
   "cell_type": "markdown",
   "id": "c8eec54b-2533-4791-bd01-5745effb72bf",
   "metadata": {},
   "source": [
    "# Balance of plant"
   ]
  },
  {
   "cell_type": "code",
   "execution_count": null,
   "id": "cc559b9e-0829-473f-bdc1-08bfb84dacca",
   "metadata": {
    "execution": {
     "iopub.execute_input": "2023-02-24T10:59:42.745000-08:00",
     "iopub.status.busy": "2023-02-24T10:59:42.472000-08:00",
     "iopub.status.idle": "2023-02-24T11:04:05.596000-08:00"
    },
    "tags": []
   },
   "outputs": [
    {
     "name": "stderr",
     "output_type": "stream",
     "text": [
      "\u001b[36m\u001b[1m[ \u001b[22m\u001b[39m\u001b[36m\u001b[1mInfo: \u001b[22m\u001b[39mPrecompiling FUSE [e64856f0-3bb8-4376-b4b7-c03396503992]\n",
      "WARNING: Method definition (::Type{FUSE.ActorHeatTxSystem})(IMASDD.dd{T} where T, FUSE.ParametersActor) in module FUSE at /Users/meneghini/.julia/dev/FUSE/src/actors/BOP/heat_tx_system_actor.jl:7 overwritten at /Users/meneghini/.julia/dev/FUSE/src/actors/BOP/heat_tx_system_actor.jl:54.\n",
      "  ** incremental compilation may be fatally broken for this module **\n",
      "\n"
     ]
    },
    {
     "data": {
      "application/vnd.webio.node+json": {
       "children": [],
       "instanceArgs": {
        "namespace": "html",
        "tag": "div"
       },
       "nodeType": "DOM",
       "props": {},
       "type": "node"
      },
      "text/html": [
       "<div style=\"padding: 1em; background-color: #f8d6da; border: 1px solid #f5c6cb; font-weight: bold;\">\n",
       "<p>The WebIO Jupyter extension was not detected. See the\n",
       "<a href=\"https://juliagizmos.github.io/WebIO.jl/latest/providers/ijulia/\" target=\"_blank\">\n",
       "    WebIO Jupyter integration documentation\n",
       "</a>\n",
       "for more information.\n",
       "</div>\n"
      ],
      "text/plain": [
       "WebIO._IJuliaInit()"
      ]
     },
     "metadata": {
      "@webio": {
       "kernelId": "45e29256-e38f-4c87-b10f-0920e12fb3aa"
      }
     },
     "output_type": "display_data"
    }
   ],
   "source": [
    "using Revise\n",
    "using FUSE\n",
    "using Plots;\n",
    "\n",
    "Revise.retry()\n",
    "FUSE.logging(Logging.Info);"
   ]
  },
  {
   "cell_type": "markdown",
   "id": "09535cb8-9230-43b5-a113-e2cd63664a6a",
   "metadata": {},
   "source": [
    "### Initialize FPP v1_demount case\n",
    "[FPP v1 demount case documentation](https://fuse.help/cases.html#FPP)"
   ]
  },
  {
   "cell_type": "code",
   "execution_count": null,
   "id": "9efc3773-e08b-4229-a8c7-2dd70c729143",
   "metadata": {
    "execution": {
     "iopub.execute_input": "2023-02-24T11:04:05.862000-08:00",
     "iopub.status.busy": "2023-02-24T11:04:05.596000-08:00",
     "iopub.status.idle": "2023-02-24T11:04:09.677000-08:00"
    },
    "tags": []
   },
   "outputs": [
    {
     "ename": "LoadError",
     "evalue": "MethodError: no method matching FUSE.ParametersActors{Float64}(::WeakRef, ::Symbol, ::FUSE.FUSEparameters__ActorCXbuild{Float64}, ::FUSE.FUSEparameters__ActorFluxSwing{Float64}, ::FUSE.FUSEparameters__ActorLFSsizing{Float64}, ::FUSE.FUSEparameters__ActorHFSsizing{Float64}, ::FUSE.FUSEparameters__ActorStresses{Float64}, ::FUSE.FUSEparameters__ActorEquilibrium{Float64}, ::FUSE.FUSEparameters__ActorSolovev{Float64}, ::FUSE.FUSEparameters__ActorCHEASE{Float64}, ::FUSE.FUSEparameters__ActorPFcoilsOpt{Float64}, ::FUSE.FUSEparameters__ActorPassiveStructures{Float64}, ::FUSE.FUSEparameters__ActorBlanket{Float64}, ::FUSE.FUSEparameters__ActorBalanceOfPlant{Float64}, ::FUSE.FUSEparameters__ActorThermalCycle{Float64}, ::FUSE.FUSEparameters__ActorThermalCycle{Float64}, ::FUSE.FUSEparameters__ActorHeatTxSystem{Float64}, ::FUSE.FUSEparameters__ActorQEDcurrent{Float64}, ::FUSE.FUSEparameters__ActorSteadyStateCurrent{Float64}, ::FUSE.FUSEparameters__ActorDivertors{Float64}, ::FUSE.FUSEparameters__ActorNBIsimple{Float64}, ::FUSE.FUSEparameters__ActorECsimple{Float64}, ::FUSE.FUSEparameters__ActorICsimple{Float64}, ::FUSE.FUSEparameters__ActorLHsimple{Float64}, ::FUSE.FUSEparameters__ActorTauenn{Float64}, ::FUSE.FUSEparameters__ActorCosting{Float64}, ::FUSE.FUSEparameters__ActorNeutronics{Float64}, ::FUSE.FUSEparameters__ActorNeoclassical{Float64}, ::FUSE.FUSEparameters__ActorPedestal{Float64}, ::FUSE.FUSEparameters__ActorTGLF{Float64}, ::FUSE.FUSEparameters__ActorCoreTransport{Float64}, ::FUSE.FUSEparameters__ActorTransportSolver{Float64}, ::FUSE.FUSEparameters__ActorEquilibriumTransport{Float64}, ::FUSE.FUSEparameters__ActorWholeFacility{Float64}, ::FUSE.FUSEparameters__ActorPlasmaLimits{Float64})\n\u001b[0mClosest candidates are:\n\u001b[0m  FUSE.ParametersActors{T}(::Any, ::Any, ::Any, ::Any, ::Any, ::Any, ::Any, ::Any, ::Any, ::Any, ::Any, ::Any, ::Any, ::Any, ::Any, ::Any, ::Any, ::Any, ::Any, ::Any, ::Any, ::Any, ::Any, ::Any, ::Any, ::Any, ::Any, ::Any, ::Any, ::Any, ::Any, ::Any, ::Any, ::Any) where T at ~/.julia/dev/FUSE/src/parameters_actors.jl:2",
     "output_type": "error",
     "traceback": [
      "MethodError: no method matching FUSE.ParametersActors{Float64}(::WeakRef, ::Symbol, ::FUSE.FUSEparameters__ActorCXbuild{Float64}, ::FUSE.FUSEparameters__ActorFluxSwing{Float64}, ::FUSE.FUSEparameters__ActorLFSsizing{Float64}, ::FUSE.FUSEparameters__ActorHFSsizing{Float64}, ::FUSE.FUSEparameters__ActorStresses{Float64}, ::FUSE.FUSEparameters__ActorEquilibrium{Float64}, ::FUSE.FUSEparameters__ActorSolovev{Float64}, ::FUSE.FUSEparameters__ActorCHEASE{Float64}, ::FUSE.FUSEparameters__ActorPFcoilsOpt{Float64}, ::FUSE.FUSEparameters__ActorPassiveStructures{Float64}, ::FUSE.FUSEparameters__ActorBlanket{Float64}, ::FUSE.FUSEparameters__ActorBalanceOfPlant{Float64}, ::FUSE.FUSEparameters__ActorThermalCycle{Float64}, ::FUSE.FUSEparameters__ActorThermalCycle{Float64}, ::FUSE.FUSEparameters__ActorHeatTxSystem{Float64}, ::FUSE.FUSEparameters__ActorQEDcurrent{Float64}, ::FUSE.FUSEparameters__ActorSteadyStateCurrent{Float64}, ::FUSE.FUSEparameters__ActorDivertors{Float64}, ::FUSE.FUSEparameters__ActorNBIsimple{Float64}, ::FUSE.FUSEparameters__ActorECsimple{Float64}, ::FUSE.FUSEparameters__ActorICsimple{Float64}, ::FUSE.FUSEparameters__ActorLHsimple{Float64}, ::FUSE.FUSEparameters__ActorTauenn{Float64}, ::FUSE.FUSEparameters__ActorCosting{Float64}, ::FUSE.FUSEparameters__ActorNeutronics{Float64}, ::FUSE.FUSEparameters__ActorNeoclassical{Float64}, ::FUSE.FUSEparameters__ActorPedestal{Float64}, ::FUSE.FUSEparameters__ActorTGLF{Float64}, ::FUSE.FUSEparameters__ActorCoreTransport{Float64}, ::FUSE.FUSEparameters__ActorTransportSolver{Float64}, ::FUSE.FUSEparameters__ActorEquilibriumTransport{Float64}, ::FUSE.FUSEparameters__ActorWholeFacility{Float64}, ::FUSE.FUSEparameters__ActorPlasmaLimits{Float64})\n\u001b[0mClosest candidates are:\n\u001b[0m  FUSE.ParametersActors{T}(::Any, ::Any, ::Any, ::Any, ::Any, ::Any, ::Any, ::Any, ::Any, ::Any, ::Any, ::Any, ::Any, ::Any, ::Any, ::Any, ::Any, ::Any, ::Any, ::Any, ::Any, ::Any, ::Any, ::Any, ::Any, ::Any, ::Any, ::Any, ::Any, ::Any, ::Any, ::Any, ::Any, ::Any) where T at ~/.julia/dev/FUSE/src/parameters_actors.jl:2",
      "",
      "Stacktrace:",
      " [1] FUSE.ParametersActors{Float64}()",
      "   @ FUSE ~/.julia/dev/FUSE/src/parameters_actors.jl:39",
      " [2] FUSE.ParametersActors()",
      "   @ FUSE ~/.julia/dev/FUSE/src/parameters_actors.jl:81",
      " [3] case_parameters(gasc::FUSE.GASC)",
      "   @ FUSE ~/.julia/dev/FUSE/src/ddinit/gasc.jl:58",
      " [4] case_parameters(::Type{Val{:FPP}}; version::Symbol, init_from::Symbol)",
      "   @ FUSE ~/.julia/dev/FUSE/cases/FPP.jl:21",
      " [5] case_parameters(case::Symbol; kw::Base.Pairs{Symbol, Symbol, Tuple{Symbol, Symbol}, NamedTuple{(:version, :init_from), Tuple{Symbol, Symbol}}})",
      "   @ FUSE ~/.julia/dev/FUSE/src/parameters.jl:34",
      " [6] top-level scope",
      "   @ In[2]:1"
     ]
    }
   ],
   "source": [
    "ini, act = FUSE.case_parameters(:FPP; version=:v1_demount, init_from=:scalars);\n",
    "dd = FUSE.init(ini, act; do_plot=false);"
   ]
  },
  {
   "cell_type": "markdown",
   "id": "8b364030-898b-41ce-8776-7bf4c096b3af",
   "metadata": {},
   "source": [
    "### Run Actors that will be needed for balance of plant"
   ]
  },
  {
   "cell_type": "code",
   "execution_count": null,
   "id": "3b4fab4a-9600-4ec8-8026-b52419464451",
   "metadata": {
    "execution": {
     "iopub.execute_input": "2023-02-24T11:04:09.677000-08:00",
     "iopub.status.busy": "2023-02-24T11:04:09.677000-08:00",
     "iopub.status.idle": "2023-02-24T11:04:09.798000-08:00"
    },
    "tags": []
   },
   "outputs": [
    {
     "ename": "LoadError",
     "evalue": "UndefVarError: dd not defined",
     "output_type": "error",
     "traceback": [
      "UndefVarError: dd not defined",
      "",
      "Stacktrace:",
      " [1] top-level scope",
      "   @ In[3]:1"
     ]
    }
   ],
   "source": [
    "FUSE.ActorCXbuild(dd, act)\n",
    "FUSE.ActorNeutronics(dd, act; do_plot=false)\n",
    "FUSE.ActorDivertors(dd, act)\n",
    "FUSE.ActorBlanket(dd, act);"
   ]
  },
  {
   "cell_type": "markdown",
   "id": "da6ce578-1373-40fd-bf4b-1d7ef36baabe",
   "metadata": {},
   "source": [
    "### Running the simple brayton cycle\n",
    "Run the balance of plant actor, with for the simple case of \"brayton only\", this is a generalized power cycle which does not optimize itself depending on the configuration"
   ]
  },
  {
   "cell_type": "code",
   "execution_count": null,
   "id": "ba341eb3-3681-4628-91e3-a0f4cebebc4f",
   "metadata": {
    "execution": {
     "iopub.execute_input": "2023-02-24T11:04:09.798000-08:00",
     "iopub.status.busy": "2023-02-24T11:04:09.798000-08:00",
     "iopub.status.idle": "2023-02-24T11:04:09.811000-08:00"
    },
    "tags": []
   },
   "outputs": [
    {
     "ename": "LoadError",
     "evalue": "UndefVarError: dd not defined",
     "output_type": "error",
     "traceback": [
      "UndefVarError: dd not defined",
      "",
      "Stacktrace:",
      " [1] top-level scope",
      "   @ In[4]:1"
     ]
    }
   ],
   "source": [
    "FUSE.ActorBalanceOfPlant(dd, act)#; cycle_model=\"brayton_only\", do_plot = true);\n",
    "display(dd.balance_of_plant.heat_tx_system)\n",
    "display(dd.balance_of_plant.thermal_cycle)"
   ]
  },
  {
   "cell_type": "markdown",
   "id": "87aa53d7-6103-4e09-b50f-e62f422a97c9",
   "metadata": {},
   "source": [
    "### Running the complex_brayton file\n",
    "[ActorBalanceOfPlant documentation](https://fuse.help/actors.html#BalanceOfPlant)\n",
    "Run the balance of plant with the model \"complex_brayton\". This configuration modifies the component order and operating temperatures to minimize the heat waste. For this case, the complex_brayton model has a thermal effeciency of 45%. \n",
    "This model relies on high operating temperatures"
   ]
  },
  {
   "cell_type": "code",
   "execution_count": null,
   "id": "43275371-4f84-4151-b406-728bb4c8e0db",
   "metadata": {},
   "outputs": [],
   "source": [
    "empty!(dd.balance_of_plant)\n",
    "FUSE.ActorBalanceOfPlant(dd, act; cycle_model=\"complex_brayton\", do_plot = true);\n",
    "display(dd.balance_of_plant.heat_tx_system)\n",
    "display(dd.balance_of_plant.thermal_cycle)"
   ]
  }
 ],
 "metadata": {
  "@webio": {
   "lastCommId": "a0de7b32-fcef-45e2-a938-99ee1f3e6e8d",
   "lastKernelId": "45e29256-e38f-4c87-b10f-0920e12fb3aa"
  },
  "kernelspec": {
   "display_name": "Julia 1.8.5",
   "language": "julia",
   "name": "julia-1.8"
  },
  "language_info": {
   "file_extension": ".jl",
   "mimetype": "application/julia",
   "name": "julia",
   "version": "1.8.5"
  }
 },
 "nbformat": 4,
 "nbformat_minor": 5
}
