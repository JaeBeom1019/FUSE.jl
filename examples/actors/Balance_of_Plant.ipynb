{
 "cells": [
  {
   "cell_type": "markdown",
   "metadata": {},
   "source": [
    "# FUSE: Balance of Plant with ThermalSytems_Models.JL"
   ]
  },
  {
   "cell_type": "markdown",
   "metadata": {},
   "source": [
    "\n",
    "This notebook provides examples for using the GA FUSE Balance of Plant (**BOP**) Actor and the ThermalSystems_Models.jl (**TSM**) package. \n",
    "\n",
    "**TSM** is a thermodynamic component-based modeling package for simulating physical systems in which there is energy transfer between multiple energy domains. Currently there are component libraries for ideal gas, isothermal liquid, and multiphase fluid domains. In a given fluid circuit, all 'flow' connected components must be within the same domain. Energy can be coupled between circuits of which through shaft power or heat transfer elements.\n",
    "\n",
    "The actor which implements the TSM model is the **ActorThermalPlant** which can be controlled by an **ActorBalanceOfPlant** instance or by the user. \n",
    "\n",
    "\n",
    "---"
   ]
  },
  {
   "cell_type": "markdown",
   "metadata": {},
   "source": [
    "### Thermal Plant Actor (act.ActorThermalPlant) Structure"
   ]
  },
  {
   "cell_type": "markdown",
   "metadata": {},
   "source": [
    "**Parameters**\n",
    "\n",
    "``model::Symbol`` - The model to construct, acceptable options are :rankine, :brayton\n",
    "\n",
    "**Actor Data**\n",
    "\n",
    "Basic\n",
    "* ``dd::IMASDD.dd{Float64}``\n",
    "* ``par::FUSE.FUSEparameters__ActorThermalPlant{Float64}``\n",
    "* ``buildstatus::Bool`` - Boolean to track whether or not plant has been fully constructed (set true after first step)\n",
    "\n",
    "Component and subsystem Information\n",
    "* ``odedict::Dict{Symbol, ODESystem}``  - Dictionary where you can index the plant with the component names \n",
    "* ``components::Vector{ODESystem}`` - Vector of components represented by ODESystem objects\n",
    "* ``connections::Vector{Equation}`` - Vector of all equations which describe the ``fullbuild``\n",
    "* ``odeparams::Vector{Num}``        - Vector of **ALL** of the parameters for the `fullbuild`` system.\n",
    "\n",
    "Plant Construction Variables\n",
    "* ``fullbuild::ODESystem``          - The ODESystem object as constructed\n",
    "* ``plant::ODESystem`` - The simplified ODESystem version of fullbuild. The ``plant`` is a algebreicly simplified version of the  ``fullbuild`` which improves performance. this is the system that actually gets calculated.\n",
    "* ``prob::ODEProblem``    - The ODEProblem object\n",
    "\n",
    "Processing\n",
    "* ``G::MetaGraphs.MetaDiGraph`` - Full graph representation of the plant\n",
    "* ``gplot::MetaGraphs.MetaDiGraph`` - Simplified graph with additional aesthetic nodes for plotting\n",
    "* ``sym2var::Dict{Symbol, SymbolicUtils.BasicSymbolic{Real}}``  - Dictionary where a symbol key maps to the actual **variable object** with the same name.\n",
    "* ``var2val::Dict{SymbolicUtils.BasicSymbolic{Real}, Float64}`` - Dictionary wheere a ***variable object*** key maps to the default value of theat parameter or variable.\n",
    "* ``optpar::Vector{Symbol}`` - Vector the **Optimizable** parameters for the plant model\n",
    "* ``x::Vector{Float64}``     - Current values for the parameters in ``optpar``\n",
    "* ``u::Vector{Float64}``     - Current heat load vector (W) where u = [$\\dot{Q}_{breeder}$,$ \\dot{Q}_{divertor}$, $\\dot{Q}_{first wall}$]"
   ]
  },
  {
   "cell_type": "markdown",
   "metadata": {},
   "source": [
    "### TSM Conventions"
   ]
  },
  {
   "cell_type": "markdown",
   "metadata": {},
   "source": [
    "**Unit Convention**\n",
    "|    Variable          | Symbol  | Unit     |Notes|\n",
    "|----------------------|:------:|:-----------:|:-----------:|\n",
    "|Temperature|$T$|K|Converted to °C before added to dd|\n",
    "|Pressure|$P$|Bar|\n",
    "|Mass flow rate| $\\dot{m}$|kg/s|\n",
    "|Specific Enthalpy|$h$|J/kg|\n",
    "|Specific Entropy|$s$|J/kg/K|\n",
    "|Specific Volume|$v$|m^3/kg|\n",
    "|Specifc heat at constant pressure|$c_p$|kJ/kg/K|$c_p = (\\frac{dh}{dT})_{P=const} = T(\\frac{ds}{dT})_{P=const}$|\n",
    "|Specifc heat at constant volume|$c_v$|kJ/kg/K|$c_v = (\\frac{du}{dT})_{v=const} = T(\\frac{ds}{dT})_{v=const}$|\n",
    "|Vapour Fraction (multiphase)|$x$|-|\n",
    "|Mechanical Work and Power|$W, \\dot{W}$|J, W|\n",
    "|Thermal Work and Power|$Q, \\dot{Q}$|J, W|\n",
    "\n",
    "**Sign Convention** for all conserved quantites (mass, work, heat, energy) <br>\n",
    "|Sign|Transfer Direction|Examples|\n",
    "|----------------------|:------:|:-----------:|\n",
    "|(-)| Transfer out of the system|Turbine power, Heat Rejection, $\\dot{m}_{out}$|\n",
    "|(+)| Transfer into the system|Pumping power, Heat addition, $\\dot{m}_{in}$ |\n",
    "\n",
    "\n",
    "**Docs** [ThermalSystems_Models.jl docs](https://legendary-adventure-k6ye327.pages.github.io/UTILITIES.html) \n"
   ]
  },
  {
   "cell_type": "markdown",
   "metadata": {},
   "source": [
    "### Tutorial Outline"
   ]
  },
  {
   "cell_type": "markdown",
   "metadata": {},
   "source": [
    "* High level use of the FUSE Balance of Plant Actor\n",
    "* Using an individual ActorThermalPlant instance\n",
    "* Internals\n",
    "* Optimizing plant parameters\n",
    "* Constructing models using the TSM package"
   ]
  },
  {
   "cell_type": "markdown",
   "metadata": {},
   "source": [
    "### Dependencies "
   ]
  },
  {
   "cell_type": "code",
   "execution_count": 2,
   "metadata": {},
   "outputs": [],
   "source": [
    "# FUSE Initialization\n",
    "using Revise, FUSE, Plots, Logging, Printf\n",
    "gr(); FUSE.logging(Logging.Info);\n",
    "Logging.disable_logging(Logging.Warn)\n",
    "\n",
    "# TSM initialization\n",
    "using ThermalSystem_Models, ModelingToolkit, DifferentialEquations\n",
    "TSM     = ThermalSystem_Models;\n",
    "TSMD    = TSM.Dynamics;\n",
    "Steam   = TSMD.Steam;\n",
    "Gas     = TSMD.Gas;\n",
    "Liq     = TSMD.Liq;"
   ]
  },
  {
   "cell_type": "markdown",
   "metadata": {},
   "source": [
    "## Basic Use Case - Running with FUSE\n",
    "Initialize Fuse FPP Case & running Prerequisite Actors required for the Balance of Plant actor. \n",
    "Heat loads are taken directly form the Divertor, Blanket, and Neutronics actors. \n",
    "For basic use cases, you can simply run the FUSE.ActorBalanceOfPlant(dd,act) to run the bop simulation off of the current dd data."
   ]
  },
  {
   "cell_type": "markdown",
   "metadata": {},
   "source": [
    "#### Running from Balance of Plant Actor"
   ]
  },
  {
   "cell_type": "code",
   "execution_count": null,
   "metadata": {},
   "outputs": [],
   "source": [
    "# Initialization\n",
    "ini, act = FUSE.case_parameters(:FPP; version=:v1_demount, init_from=:scalars);\n",
    "dd       = FUSE.init(ini, act; do_plot = false);\n",
    "\n",
    "# Pre-Requisite Actors\n",
    "FUSE.ActorCXbuild(dd, act);\n",
    "FUSE.ActorNeutronics(dd, act; do_plot=false);\n",
    "act.ActorBlanket.minimum_first_wall_thickness = 0.02;\n",
    "FUSE.ActorBlanket(dd, act, verbose=false);\n",
    "FUSE.ActorDivertors(dd,act);"
   ]
  },
  {
   "cell_type": "code",
   "execution_count": null,
   "metadata": {},
   "outputs": [],
   "source": [
    "# Brayton\n",
    "act.ActorThermalPlant.model = :brayton\n",
    "FUSE.ActorBalanceOfPlant(dd,act; do_plot = false);\n",
    "@show dd.balance_of_plant.thermal_efficiency_plant\n",
    "@show dd.balance_of_plant.thermal_efficiency_cycle\n",
    "@show dd.balance_of_plant.power_plant.power_electric_generated\n",
    "display(IMAS.freeze(dd.balance_of_plant.power_plant.system[2]))"
   ]
  },
  {
   "cell_type": "code",
   "execution_count": null,
   "metadata": {},
   "outputs": [],
   "source": [
    "# Rankine (default)\n",
    "act.ActorThermalPlant.model = :rankine\n",
    "FUSE.ActorBalanceOfPlant(dd,act; do_plot = true);\n",
    "@show dd.balance_of_plant.thermal_efficiency_plant\n",
    "@show dd.balance_of_plant.thermal_efficiency_cycle\n",
    "@show dd.balance_of_plant.power_plant.power_electric_generated\n",
    "display(IMAS.freeze(dd.balance_of_plant.power_plant.system[2]))"
   ]
  },
  {
   "cell_type": "markdown",
   "metadata": {},
   "source": [
    "#### Running the ThermalPlantActor.jl independently"
   ]
  },
  {
   "cell_type": "markdown",
   "metadata": {},
   "source": [
    "Still modifies dd, only missing information is the power needs from the other actors."
   ]
  },
  {
   "cell_type": "code",
   "execution_count": null,
   "metadata": {},
   "outputs": [],
   "source": [
    "# Brayton, Actor only\n",
    "act.ActorThermalPlant.model  = :brayton                   \n",
    "plantActor = FUSE.ActorThermalPlant(dd, act; doplot = true, verbose = true);"
   ]
  },
  {
   "cell_type": "code",
   "execution_count": null,
   "metadata": {},
   "outputs": [],
   "source": [
    "# Rankine, Actor only\n",
    "act.ActorThermalPlant.model  = :rankine                      \n",
    "plantActor = FUSE.ActorThermalPlant(dd, act; doplot = true, verbose = true);   "
   ]
  },
  {
   "cell_type": "markdown",
   "metadata": {},
   "source": [
    "## TSM Internals\n"
   ]
  },
  {
   "cell_type": "markdown",
   "metadata": {},
   "source": [
    "#### Component Based Model Approach\n",
    "The plant object is represented by a MetaGraph object where the vertices represent components and the Edges represent, thermal, mechanical, or fluid power flow. Each vertex has an internal sys::ODESystem which describes the components functionality. Components have internal port elements which correspond to one of the domains thermal, mechanical, flow. Internal equations describe the relationship between each port. \n",
    "These ODESystems can be accessed directly from:\n",
    "\n",
    "<code> plantActor.odedict[component_name::Symbol] => ODESystem object </code> "
   ]
  },
  {
   "cell_type": "code",
   "execution_count": null,
   "metadata": {},
   "outputs": [],
   "source": [
    "# Example for the wall_circulator\n",
    "@show TSMD.showsys(plantActor.odedict[:wall_circulator])\n",
    "@show plantActor.odedict[:wall_circulator]"
   ]
  },
  {
   "cell_type": "markdown",
   "metadata": {},
   "source": [
    "Besides the obvious components, the Plant system also includes energy reservoirs to track cummulative performance. All individual components can be referenced in the dict: \"Actor.odedict\" (for ease in reference) where the symbol name corresponds to the system Energy reservoirs are used to supply and recieve energy from the BOP plant. \n",
    "\n",
    "There are 3 default reservoirs, Electric, HotUtility (Heat Supply), and ColdUtility (heat rejection). These can be initialized by calling ``TSMD.default_energy_sys()``, which returns: \n",
    "\n",
    "* <code>energy_sys::Vector{ODESystem}</code> a Vector with 3 ODE systems representing HotUtility, ColdUtility, and Electric Reservoirs. \n",
    "* <code>sts::Vector{Num}</code>  The states associated with these systems, η_cycle and η_bop are the thermal effeciencies \n",
    "* <code>edict::Dictionary{Symbol => ODESystem}</code>A dictionary with system_name => ODESystem object .\n",
    "\n",
    "\n",
    "To view all of the components in the system:"
   ]
  },
  {
   "cell_type": "code",
   "execution_count": null,
   "metadata": {},
   "outputs": [],
   "source": [
    "TSMD.showsys(plantActor.fullbuild);"
   ]
  },
  {
   "cell_type": "markdown",
   "metadata": {},
   "source": [
    "<h3> Port names</h3>\n",
    "\n",
    "Components with SISO flow (1 stream input, 1 stream output) have inlet and outlet flow nodes identified by \n",
    "<code>p</code> and <code>n</code><br>\n",
    "All thermal nodes are identified by <code>q</code><br>\n",
    "All shaft power nodes are identified by <code>w</code>"
   ]
  },
  {
   "cell_type": "code",
   "execution_count": null,
   "metadata": {},
   "outputs": [],
   "source": [
    "# Example for steam boiler, which has flow inlet and outlet, as well as aheat flow node\n",
    "TSMD.showsys(plantActor.odedict[:steam_boiler]);"
   ]
  },
  {
   "cell_type": "markdown",
   "metadata": {},
   "source": [
    "### Results\n",
    "The ODESolution (anonymous function) is stored and updated within the graph of the actor. To get the solution object, call:"
   ]
  },
  {
   "cell_type": "code",
   "execution_count": null,
   "metadata": {},
   "outputs": [],
   "source": [
    "sol = FUSE.getsol(plantActor);  # solution object"
   ]
  },
  {
   "cell_type": "markdown",
   "metadata": {},
   "source": [
    "#### Observing results for specific components\n",
    "The solution produced when the actor is run is stored inside of the Actor.G and the Actor.gplot. To find results for individual components, call: <code>sol(var::Variable) = solution for that variable </code>, var has to be the variable object, not just a symbol. However the <code>Actor.odedict</code> can return the parent system object and variables can be referenced from there.\n",
    "Example: <code> sol(Actor.odedict[:steam_boiler].n.T) = outlet temperature of the boiler </code>"
   ]
  },
  {
   "cell_type": "code",
   "execution_count": null,
   "metadata": {},
   "outputs": [],
   "source": [
    "@show sol(plantActor.odedict[:steam_boiler].n.T);       # Boiler Outlet Temperature\n",
    "@show sol(plantActor.odedict[:breeder_circulator].w.Ẇ); # Breeder ciruclater pumping power\n",
    "@show sol(plantActor.odedict[:wall_circulator].p.ṁ);    # First wall coolant flow rate"
   ]
  },
  {
   "cell_type": "markdown",
   "metadata": {},
   "source": [
    "#### High Level Variables"
   ]
  },
  {
   "cell_type": "markdown",
   "metadata": {},
   "source": [
    "\n",
    "The plant system object has high level variables which can be accessed directly rather than . Besides the obvious components, the Plant system also includes Utility reservoirs to track cummulative performance. Key variables will always be:\n",
    "\n",
    "Energy Balance (components)\n",
    ">Electric.$\\dot{W} $,  Net electrical power for the BOP system <br>\n",
    "HotUtility.$\\dot{Q}$, Total heat flow into the BOP system<br>\n",
    "ColdUtility.$\\dot{Q}$, Total heat flow out of the BOP<br>\n",
    "\n",
    "Thermal Effeciency (Auxillary variables, not tied to a component) \n",
    "\n",
    "$\\eta_{therm} = \\dot{W}_{net}/\\dot{Q}_{in} = 1 - \\dot{Q}_{out}/\\dot{Q}_{in}$\n",
    "\n",
    ">$\\eta_{bop}$, Thermal effeciency of the entire BOP Plant<br>\n",
    ">$\\eta_{cycle}$ Thermal effeciency of the cycle only <br>\n",
    "\n",
    "> NOTE: $ \\eta_{cycle} > \\eta_{bop} $ Always since the power generation occurs within the primary the cycle. "
   ]
  },
  {
   "cell_type": "code",
   "execution_count": null,
   "metadata": {},
   "outputs": [],
   "source": [
    "util = [plantActor.odedict[:Electric].Ẇ,\n",
    "        plantActor.odedict[:HotUtility].Q̇,\n",
    "        plantActor.odedict[:ColdUtility].Q̇];\n",
    "        \n",
    "println(\"Power (MW)\")\n",
    "true && [(@printf \"%-18s %+-8.2f\\n\" string(util[i]) sol(util[i])/1e6) for i =1:3]\n",
    "\n",
    "println(\"\\nEfficiency\")\n",
    "@printf \"η_cycle (%%) %8.5f \\n\" sol(:η_cycle)\n",
    "@printf \"η_plant (%%) %8.5f\\n\"  sol(:η_bop)\n",
    "\n",
    "println(\"\\nVerifying relationships for η_bop\")\n",
    "@printf \"Ẇnet/Q̇h = %8.5f \\n\" abs(sol(util[1])/sol(util[2]))\n",
    "@printf \"1-Ql/Qh = %8.5f \\n\" 1-abs(sol(util[3])/sol(util[2]))\n",
    "plantActor.G[:Electric,:name]"
   ]
  },
  {
   "cell_type": "markdown",
   "metadata": {},
   "source": [
    "#### Editing configuration and rerunning"
   ]
  },
  {
   "cell_type": "markdown",
   "metadata": {},
   "source": [
    "Get data from plantActor"
   ]
  },
  {
   "cell_type": "code",
   "execution_count": null,
   "metadata": {},
   "outputs": [],
   "source": [
    "opt_actor = deepcopy(plantActor);\n",
    "usym = [:Qbreeder,:Qdivertor,:Qwall]\n",
    "\n",
    "# Tunable parameters/states for the plant system\n",
    "opt_x   = Dict(opt_actor.optpar .=> opt_actor.x)\n",
    "\n",
    "# External input (heat loading)\n",
    "opt_u   = opt_actor.u # [Qbreeder, Qdivertor, Qwall]"
   ]
  },
  {
   "cell_type": "markdown",
   "metadata": {},
   "source": [
    "#### Updated data points"
   ]
  },
  {
   "cell_type": "code",
   "execution_count": null,
   "metadata": {},
   "outputs": [],
   "source": [
    "# change flow rates and temperatures\n",
    "opt_x[:steam_ṁ] = 240;\n",
    "opt_x[:breeder_heat₊Tout] = 1000;\n",
    "\n",
    "# change the heat loading\n",
    "@show opt_u = opt_u + rand(3) .* 100e6;\n",
    "\n",
    "xnew = [opt_x[p] for p in opt_actor.optpar]\n",
    "\n",
    "opt_actor.u = opt_u;\n",
    "opt_actor.x = xnew;\n",
    "\n",
    "newsol = FUSE.plant_wrapper(opt_actor)\n",
    "\n",
    "datapoints = [ opt_actor.odedict[:steam_turbine].hp.w.Ẇ,\n",
    "                opt_actor.odedict[:steam_turbine].lp.w.Ẇ,\n",
    "                opt_actor.odedict[:wall_circulator].w.Ẇ,\n",
    "                opt_actor.odedict[:divertor_circulator].w.Ẇ,\n",
    "                opt_actor.odedict[:breeder_circulator].w.Ẇ,\n",
    "                opt_actor.odedict[:inter_loop_circulator].w.Ẇ,\n",
    "                opt_actor.odedict[:steam_hp_pump].w.Ẇ,\n",
    "                opt_actor.odedict[:steam_lp_pump].w.Ẇ]\n",
    "\n",
    "oldsol =  sol.(datapoints)\n",
    "nsol   =  newsol.(datapoints)\n",
    "\n",
    "println(\"Original\")\n",
    "display(oldsol)\n",
    "@show sum(oldsol)\n",
    "@show sol(plantActor.odedict[:Electric].Ẇ)\n",
    "println(\"After modifications\");\n",
    "display(nsol);\n",
    "@show sum(nsol);\n",
    "@show newsol(opt_actor.odedict[:Electric].Ẇ);\n"
   ]
  },
  {
   "cell_type": "markdown",
   "metadata": {},
   "source": [
    "### Reuse for optimization"
   ]
  },
  {
   "cell_type": "code",
   "execution_count": null,
   "metadata": {},
   "outputs": [],
   "source": [
    "# restart, copy actor\n",
    "opt_actor = deepcopy(plantActor);\n",
    "opt_u = opt_actor.u;\n",
    "\n",
    "# Variables to be optimized (Tunable parameters/states for the plant system)\n",
    "# x0 = opt_actor.x (same as below, but copy and pasted for the reader)\n",
    "#       cycle ṁ, loop ṁ,   loop Tmin,   wTmin,    wTmax,  divTmin, divTmax, brdrTmin,   brdrTmax\n",
    "x0 =   [250.0,   205.0,    493.15,      523.15,  723.15,  573.15,  923.15,  773.15,     1073.15];\n",
    "lb   = [10.0,    10.0,     350.00,      350.00,  601.00,  350.00,  601.00,  600.00,     901.00];\n",
    "ub   = [300.0,   300.0,    600.00,      600.00,  950.00,  600.00,  1000.00, 900.00,     1300.00];\n",
    "#      [  flow rates  ]  [loop Temp]   [   wall temp    ] [ divertor temp  ][ breeder temp     ]\n",
    "\n",
    "# Relevant, System output variable required for the objective function, \n",
    "# this is a simple case where we will just optimize the total electric power produced\n",
    "yvars = [opt_actor.odedict[:Electric].Ẇ, opt_actor.plant.η_bop, opt_actor.plant.η_cycle];\n",
    "\n",
    "# anonymous object function which will act on the sol(yvars)\n",
    "yfunc(y) = -(y[1])/100e6\n",
    "\n",
    "# Constraint enforcing\n",
    "function xcons!(x,lb,ub)\n",
    "    # x = vector{T}\n",
    "    # lb is lowerbounds\n",
    "    # ub is upper bounds\n",
    "    # cons is vector of tuples \n",
    "    # (a,b) where a < b\n",
    "\n",
    "    @assert length(x) == length(lb) == length(ub) \"Uneven vector lengths in xcons\"\n",
    "    for (i,xi) in enumerate(x)\n",
    "        xi < lb[i] ? x[i] = lb[i] : nothing\n",
    "        xi > ub[i] ? x[i] = ub[i] : nothing\n",
    "    end\n",
    "end\n",
    "\n",
    "# general optimization funciton which can be adapted into an anonymous handle to optimize any set of vatriables in x0\n",
    "# x0_idx are the indices in x0 which should be optimized\n",
    "function gen_optfunc(x,x0_idx)\n",
    "    xrep = deepcopy(x0);\n",
    "    xrep[x0_idx] .= x\n",
    "    xcons!(xrep,lb,ub)\n",
    "    opt_actor.x = xrep;\n",
    "    return FUSE.plant_wrapper(opt_actor,yvars,yfunc)\n",
    "end\n",
    "\n",
    "function eval_optfunc(x,x0_idx)\n",
    "    xrep = deepcopy(x0);\n",
    "    xrep[x0_idx] .= x\n",
    "    xcons!(xrep,lb,ub)\n",
    "    opt_actor.x = xrep;\n",
    "    return FUSE.plant_wrapper(opt_actor,yvars)\n",
    "end"
   ]
  },
  {
   "cell_type": "code",
   "execution_count": null,
   "metadata": {},
   "outputs": [],
   "source": [
    "# restart, copy actor\n",
    "opt_actor = deepcopy(plantActor);\n",
    "opt_u = opt_actor.u;\n",
    "# Variables to be optimized (Tunable parameters/states for the plant system)\n",
    "# x0 = opt_actor.x (same as below, but copy and pasted for the reader)\n",
    "#       cycle ṁ, loop ṁ,   loop Tmin,   wTmin,    wTmax,  divTmin, divTmax, brdrTmin,   brdrTmax\n",
    "x0 =   [100.0,   205.0,    493.15,      523.15,  723.15,  573.15,  923.15,  773.15,     1073.15];\n",
    "lb   = [10.0,    10.0,     350.00,      350.00,  601.00,  350.00,  601.00,  600.00,     901.00];\n",
    "ub   = [300.0,   300.0,    600.00,      600.00,  950.00,  600.00,  1000.00, 900.00,     1300.00];\n",
    "#      [  flow rates  ]  [loop Temp]   [   wall temp    ] [ divertor temp  ][ breeder temp     ]\n",
    "\n",
    "# Relevant, System output variable required for the objective function, \n",
    "# this is a simple case where we will just optimize the total electric power produced\n",
    "yvars = [opt_actor.odedict[:Electric].Ẇ, opt_actor.plant.η_bop, opt_actor.plant.η_cycle];\n",
    "\n",
    "# anonymous object function which will act on the sol(yvars)\n",
    "yfunc(y) = -(y[1])/100e6\n",
    "\n",
    "# Constraint enforcing\n",
    "function xcons!(x,lb,ub)\n",
    "    # x = vector{T}\n",
    "    # lb is lowerbounds\n",
    "    # ub is upper bounds\n",
    "    # cons is vector of tuples \n",
    "    # (a,b) where a < b\n",
    "\n",
    "    @assert length(x) == length(lb) == length(ub) \"Uneven vector lengths in xcons\"\n",
    "    for (i,xi) in enumerate(x)\n",
    "        xi < lb[i] ? x[i] = lb[i] : nothing\n",
    "        xi > ub[i] ? x[i] = ub[i] : nothing\n",
    "    end\n",
    "end\n",
    "\n",
    "# general optimization funciton which can be adapted into an anonymous handle to optimize any set of vatriables in x0\n",
    "# x0_idx are the indices in x0 which should be optimized\n",
    "function gen_optfunc(x,x0_idx)\n",
    "    xrep = deepcopy(x0);\n",
    "    xrep[x0_idx] .= x\n",
    "    xcons!(xrep,lb,ub)\n",
    "    opt_actor.x = xrep;\n",
    "    return FUSE.plant_wrapper(opt_actor,yvars,yfunc)\n",
    "end\n",
    "\n",
    "function eval_optfunc(x,x0_idx)\n",
    "    xrep = deepcopy(x0);\n",
    "    xrep[x0_idx] .= x\n",
    "    xcons!(xrep,lb,ub)\n",
    "    opt_actor.x = xrep;\n",
    "    return FUSE.plant_wrapper(opt_actor,yvars)\n",
    "end"
   ]
  },
  {
   "cell_type": "markdown",
   "metadata": {},
   "source": [
    "### Optimzation Examples\n"
   ]
  },
  {
   "cell_type": "code",
   "execution_count": null,
   "metadata": {},
   "outputs": [],
   "source": [
    "using Optim"
   ]
  },
  {
   "cell_type": "markdown",
   "metadata": {},
   "source": [
    "Optimizing \n",
    ">$Electric.\\dot{W}$ (net power production) \n",
    "\n",
    "while only varying the:\n",
    "> intermediate loop $\\dot{m}$ <br>\n",
    "> cycle $\\dot{m}$"
   ]
  },
  {
   "cell_type": "code",
   "execution_count": null,
   "metadata": {},
   "outputs": [],
   "source": [
    "mflow_opt_idx   = [1,2];\n",
    "x0_opt          = x0[mflow_opt_idx];\n",
    "mflow_opt_func(x) = gen_optfunc(x,mflow_opt_idx);\n",
    "xr = Optim.optimize(mflow_opt_func,x0_opt,NelderMead());"
   ]
  },
  {
   "cell_type": "code",
   "execution_count": null,
   "metadata": {},
   "outputs": [],
   "source": [
    "xf = Optim.minimizer(xr);\n",
    "yf = eval_optfunc(xf,mflow_opt_idx);\n",
    "for i =1:length(yvars)\n",
    "    @printf \"%-16s = %+-8.4g\\n\" string(yvars[i]) yf[i]\n",
    "end"
   ]
  },
  {
   "cell_type": "markdown",
   "metadata": {},
   "source": [
    "Optimizing (this one can take a while)\n",
    "\n",
    ">$Electric.\\dot{W}$ (net power production) \n",
    "\n",
    "while varying all variables:\n",
    "> Cycle $\\dot{m}$ <br>\n",
    "> Intermediate loop $\\dot{m}$ <br>\n",
    "> Intermediate loop $T_{min}$ <br>\n",
    "> Wall $T_{min}$ and $T_{max}$ <br>\n",
    "> Divertor $T_{min}$ and $T_{max}$ <br>\n",
    "> Breeder $T_{min}$ and $T_{max}$ \n",
    "\n",
    "\n",
    "Results in\n",
    ">Electric₊Ẇ(t)    = +3.55e+08 <br>\n",
    ">η_bop(t)         = +0.3949  <br>\n",
    ">η_cycle(t)       = +0.4657 <br>"
   ]
  },
  {
   "cell_type": "code",
   "execution_count": null,
   "metadata": {},
   "outputs": [],
   "source": [
    "full_opt_idx   = 1:9;\n",
    "x0_opt          = x0[full_opt_idx]\n",
    "mflow_opt_func(x) = gen_optfunc(x,full_opt_idx);\n",
    "xr = Optim.optimize(mflow_opt_func,x0_opt,NelderMead());"
   ]
  },
  {
   "cell_type": "code",
   "execution_count": null,
   "metadata": {},
   "outputs": [],
   "source": [
    "xf = Optim.minimizer(xr);\n",
    "yf = eval_optfunc(xf,full_opt_idx);\n",
    "for i =1:length(yvars)\n",
    "    @printf \"%-16s = %+-8.4g\\n\" string(yvars[i]) yf[i]\n",
    "end\n",
    "opt_actor.x\n",
    "# Rankine\n",
    "# 286.7191787095004\n",
    "# 300.0\n",
    "# 350.0\n",
    "# 350.0\n",
    "# 950.0\n",
    "# 350.0\n",
    "# 1000.0\n",
    "# 674.6482463241312\n",
    "# 1136.1241752571002\n",
    "\n",
    "# Brayton\n",
    "# 300.0\n",
    "# 300.0\n",
    "# 350.0\n",
    "# 350.0\n",
    "# 950.0\n",
    "# 350.0\n",
    "# 1000.0\n",
    "# 900.0\n",
    "# 1300.0"
   ]
  },
  {
   "cell_type": "markdown",
   "metadata": {},
   "source": [
    "## Using Thermal System Models Package\n",
    "### Constructing the BOP System\n",
    "Symbolic time variable"
   ]
  },
  {
   "cell_type": "code",
   "execution_count": null,
   "metadata": {},
   "outputs": [],
   "source": [
    "ModelingToolkit.@variables t ;"
   ]
  },
  {
   "cell_type": "markdown",
   "metadata": {},
   "source": [
    "#### Initialize energy reservoirs"
   ]
  },
  {
   "cell_type": "markdown",
   "metadata": {},
   "source": [
    "<p>Energy reservoirs are used to supply and recieve energy from the BOP plant. <br>\n",
    "There are 3 default reservoirs, Electric, HotUtility (Heat Supply), and ColdUtility (heat rejection) <br>\n",
    "These can be initialized by calling TSMD.default_energy_sys(), which returns:</p>\n",
    "<ol>\n",
    "<li> energy_sys :: Vector{ODESystem} <ul><li>Vector with 3 ODE systems representing HotUtility, ColdUtility, and Electric Reservoirs </li></ul></li>\n",
    "<li> sts :: Vector{Num} <ul><li> The states associated with these systems, η_cycle and η_bop are the thermal effeciencies </li></ul></li>\n",
    "<li> edict :: Dictionary{Symbol => ODESystem} <ul><li>     A dictionary with system_name => ODESystem object </li> </li></ul></li>\n",
    "</ol>\n"
   ]
  },
  {
   "cell_type": "code",
   "execution_count": null,
   "metadata": {},
   "outputs": [],
   "source": [
    "energy_sys, sts, edict = TSMD.default_energy_sys();\n",
    "η_cycle, η_bop = sts;   # add them to current namespace "
   ]
  },
  {
   "cell_type": "markdown",
   "metadata": {},
   "source": [
    "### TSM Initializations"
   ]
  },
  {
   "cell_type": "markdown",
   "metadata": {},
   "source": [
    "#### Initialize the 3 cooling circuits for the first wall, blanket, and breeder"
   ]
  },
  {
   "cell_type": "markdown",
   "metadata": {},
   "source": [
    "The cooling circuits are initialized in the following format:\n",
    "\n",
    "Inputs: Max and Min fluid temperature and heat load\n",
    "\n",
    "\n",
    "> sys, connections, params, dict = TSMD.XXX_circuit(; load, Tmin, Tmax)\n",
    ">\n",
    "> - sys, Vector{ODESystem} ----------> Components\n",
    "> - connections::Vector{Equation} ---> The equations which connect the components (conservation laws)\n",
    "> - params::Vector{Num} -------------> Parameter names              \n",
    "> - dict:Dictionary --------------------> where name::Symbol -> ODESystem\n",
    ">"
   ]
  },
  {
   "cell_type": "code",
   "execution_count": null,
   "metadata": {},
   "outputs": [],
   "source": [
    "Tmax_wall   = 450 + 273.15; # Maximum cooling temperature for first wall\n",
    "Tmin_wall   = 250 + 273.15; # Minimum cooling temperature for first wall\n",
    "Tmax_div    = 650 + 273.15; # Maximum cooling temperature for Divertor\n",
    "Tmin_div    = 300 + 273.15; # Minimum cooling temperature for Divertor\n",
    "Tmax_breeder = 800 + 273.15; # Maximum cooling temperature for Breeder blanket\n",
    "Tmin_breeder = 500 + 273.15; # Minimum cooling temperature for Breeder blanket\n",
    "\n",
    "\n",
    "# Wall circuit, Helium\n",
    "wall_sys,     wall_connections,     wparams, wdict  = TSMD.wall_circuit(; load = wall_heat_load, Tmin = Tmin_wall, Tmax = Tmax_wall);\n",
    "\n",
    "# Divertor circuit, Helium\n",
    "divertor_sys, divertor_connections, dparams, ddict  = TSMD.divertor_circuit(; load = divertor_heat_load, Tmin = Tmin_div, Tmax = Tmax_div);\n",
    "\n",
    "# Breeder Circuit (PbLi\n",
    "breeder_sys,  breeder_connections,  bparams, bdict  = TSMD.breeder_circuit(; load = breeder_heat_load, Tmin = Tmin_breeder, Tmax = Tmax_breeder);\n",
    "\n",
    "# Initialize The intermediate loop with parameters:\n",
    "Nhx = 4;                        # Nhx = the number of heat exchangers to add to the loop, 4: 3 to connect to cooling loops, 1 to connect to primary power cycle\n",
    "flowrate  = 200;                # mass flow rate of the intermediate loop (kg/s)\n",
    "Tmin_interloop =  200 + 273.15; # minimum temperature for inter loop (Kelvin)\n",
    "inter_loop_sys, inter_loop_connections, iparams, idict = TSMD.intermediate_loop(; Nhx = Nhx, flowrate = flowrate, Tmin = Tmin_interloop);\n",
    "\n",
    "# Initialize Primary Cycle\n",
    "cycle_flowrate = 250;      # kg/s\n",
    "ηpump          = 0.7;      # isentropic effeciency of the pump\n",
    "ηturbine        = 0.95;    # Isentropic effeciency of the turbine\n",
    "steam_systems, steam_connections, sparams, sdict = TSMD.feedwater_rankine(; flowrate = cycle_flowrate, ηpump = ηpump, ηturbine = ηturbine);"
   ]
  },
  {
   "cell_type": "markdown",
   "metadata": {},
   "source": [
    "### Connecting the BOP Plant"
   ]
  },
  {
   "cell_type": "markdown",
   "metadata": {},
   "source": [
    "#### Create Heat Exchangers"
   ]
  },
  {
   "cell_type": "code",
   "execution_count": null,
   "metadata": {},
   "outputs": [],
   "source": [
    "# Create heat exchangers which will couple the indepentent loops\n",
    "@named hx1 = TSMD.Gen_HeatExchanger(\n",
    "    B = idict[:inter_loop_hx1],\n",
    "    A = wdict[:wall_hx],\n",
    "    returnmode = :eq,\n",
    ");\n",
    "\n",
    "@named hx2 = TSMD.Gen_HeatExchanger(\n",
    "    B = idict[:inter_loop_hx2],\n",
    "    A = ddict[:divertor_hx],\n",
    "    returnmode = :eq,\n",
    ");\n",
    "\n",
    "@named hx3 = TSMD.Gen_HeatExchanger(\n",
    "    B = idict[:inter_loop_hx3],\n",
    "    A = bdict[:breeder_hx],\n",
    "    returnmode = :eq,\n",
    ");\n",
    "\n",
    "@named boilhx = TSMD.S2G_HeatExchanger(\n",
    "    A = sdict[:steam_boiler],\n",
    "    B = idict[:inter_loop_hx4],\n",
    "    returnmode = :eq,\n",
    ");\n"
   ]
  },
  {
   "cell_type": "code",
   "execution_count": null,
   "metadata": {},
   "outputs": [],
   "source": [
    "# Connect all energy reservoirs to external interfacing components\n",
    "energy_connections = vcat(\n",
    "    TSMD.work_connect(\n",
    "        edict[:Electric],\n",
    "        wdict[:wall_circulator].w,\n",
    "        ddict[:divertor_circulator].w,\n",
    "        bdict[:breeder_circulator].w,\n",
    "        idict[:inter_loop_circulator].w,\n",
    "        sdict[:steam_hp_pump].w,\n",
    "        sdict[:steam_lp_pump].w,\n",
    "        sdict[:steam_turbine].hp.w,\n",
    "        sdict[:steam_turbine].lp.w,\n",
    "    ),\n",
    "    TSMD.heat_connect(\n",
    "        edict[:HotUtility],\n",
    "        wdict[:wall_heat].q,\n",
    "        ddict[:divertor_heat].q,\n",
    "        bdict[:breeder_heat].q,\n",
    "    ),\n",
    "    TSMD.heat_connect(\n",
    "        edict[:ColdUtility],\n",
    "        wdict[:wall_relief].q,\n",
    "        ddict[:divertor_relief].q,\n",
    "        bdict[:breeder_relief].q,\n",
    "        idict[:inter_loop_relief].q,\n",
    "        sdict[:steam_condensor].q,\n",
    "    ),\n",
    "    η_cycle ~ 1 - abs(sdict[:steam_condensor].q.Q̇ / sdict[:steam_boiler].q.Q̇),\n",
    "    η_bop ~ abs(edict[:Electric].Ẇ / edict[:HotUtility].Q̇),\n",
    ");\n",
    "\n",
    "# Create vector of all parameters\n",
    "plant_params = vcat(wparams, dparams, bparams, iparams, sparams);\n",
    "\n",
    "# Create total vector for all connecting equations for flow connected components and the energy_connections\n",
    "plant_connections = vcat(\n",
    "    steam_connections,\n",
    "    inter_loop_connections,\n",
    "    wall_connections,\n",
    "    divertor_connections,\n",
    "    breeder_connections,\n",
    "    energy_connections,\n",
    ");\n",
    "\n",
    "# Create total vector for all components\n",
    "plant_systems = vcat(steam_systems, inter_loop_sys, wall_sys, divertor_sys, breeder_sys, energy_sys);\n",
    "\n",
    "# add heat exchanger equations to plant_connections\n",
    "push!(plant_connections, hx1...);\n",
    "push!(plant_connections, hx2...);\n",
    "push!(plant_connections, hx3...);\n",
    "push!(plant_connections, boilhx...);"
   ]
  },
  {
   "cell_type": "markdown",
   "metadata": {},
   "source": [
    "### Creating and solving the system"
   ]
  },
  {
   "cell_type": "code",
   "execution_count": null,
   "metadata": {},
   "outputs": [],
   "source": [
    "# Create total ODESystem for the plant\n",
    "@named sys = ODESystem(plant_connections, t, sts, plant_params; systems = plant_systems);\n",
    "\n",
    "# Check DOF and problem size\n",
    "TSMD.system_details(sys);\n",
    "\n",
    "# Simplify using ModelingToolkit's model reduction methods\n",
    "simple_sys = structural_simplify(sys);\n"
   ]
  },
  {
   "cell_type": "code",
   "execution_count": null,
   "metadata": {},
   "outputs": [],
   "source": [
    "# Create ODEProblem\n",
    "tspan    = (0.0, 100)\n",
    "ode_prob = ODEProblem(simple_sys, [], tspan);\n",
    "ode_sol  = DifferentialEquations.solve(ode_prob, Rodas4());\n",
    "# DifferentialEquations.solve()\n",
    "# Anonymous function for ODE solution functions\n",
    "soln(v) = ode_sol[v][end]\n",
    "\n",
    "# Create graph\n",
    "utility_vector = [:HotUtility, :ColdUtility, :Electric];\n",
    "GG = TSMD.system2metagraph(sys, utility_vector; soln = soln, verbose = false);"
   ]
  },
  {
   "cell_type": "markdown",
   "metadata": {},
   "source": [
    "### Plotting\n"
   ]
  },
  {
   "cell_type": "code",
   "execution_count": null,
   "metadata": {},
   "outputs": [],
   "source": [
    "gcopy = TSMD.create_plot_graph(GG;toignore = [:steam_condensor]);\n",
    "xLayReqs, vSortReqs, xs, ys, paths, lay2node = TSMD.layers_to_force!(gcopy);\n",
    "TSMD.initialize_plot_props!(gcopy, lay2node,xs,ys,paths);\n",
    "TSMD.add_plot_elments!(gcopy);\n",
    "TSMD.set_default_node_prop!(gcopy, :height, 1.0);\n",
    "xLayReqs, vSortReqs, xs, ys, paths, lay2node = TSMD.layers_to_force!(gcopy);\n",
    "x, y = TSMD.setVerticalSpacing!(gcopy; vspan = 40.0);\n",
    "TSMD.setLayerWidth!(gcopy; pad = 2.5, verbose = false);\n",
    "xLayReqs, vSortReqs, xs, ys, paths, lay2node = TSMD.layers_to_force!(gcopy);\n",
    "TSMD.edgeroute_nodes(gcopy; voff = 0.1);\n",
    "TSMD.set_plot_props!(gcopy);\n",
    "syslabs = TSMD.get_prop(gcopy, :system_labels)\n",
    "sysnamedict = Dict([\n",
    "    \"cycle_\" => \"Brayton Helium\",\n",
    "    \"steam_\" => \"Feedwater Rankine\",\n",
    "    \"divertor_\" => \"Divertor Helium\",\n",
    "    \"breeder_\" => \"Breeder PbLi\",\n",
    "    \"inter_loop_\" => \"Inter. loop Helium\",\n",
    "    \"wall_\" => \"first wall helium\",\n",
    "    \"ColdUtility\" => \"Sink\",\n",
    "    \"HotUtility\" => \"Fusion Core\",\n",
    "])\n",
    "\n",
    "\n",
    "p = TSMD.plotplant(\n",
    "    gcopy;\n",
    "    numbering = false,\n",
    "    mode = :path,\n",
    "    nsize = 2.0,\n",
    "    compnamesubs = (\n",
    "        \"enfw\" => \"en\\nfw\",\n",
    "        \"_\" => \"\\n\",\n",
    "        \"circulator\" => \"pump\",\n",
    "        \"hotutility\" => \"Fusion\\nCore\",\n",
    "        \"coldutility\" => \"Sink\",\n",
    "        \"relief\" => \"Trim\\ncooler\",\n",
    "        \"condensor\" => \"Cool\\nHX\",\n",
    "    ),\n",
    "    compnameattr = (:right,  4),\n",
    "    compnamerot = 90,\n",
    "    sysnamedict = sysnamedict,\n",
    "    legpad = 0.5,\n",
    "    legwid = 13,\n",
    "    legheight = 1.5,\n",
    "    legoffset = 2.0,\n",
    "    pathattr = (\n",
    "        linewidth = 1,\n",
    "        marker = false,\n",
    "        markersize = 0.0,\n",
    "        markercolor = :red,\n",
    "        alpha = 0.7,\n",
    "        legend = false,\n",
    "    ),\n",
    "    figattr = (\n",
    "        grid = false,\n",
    "        aspect_ratio = :equal,\n",
    "        showaxis = false,\n",
    "        xlim = [-15, 75],\n",
    "        ylim = [-21, 21],\n",
    "        xticks = [0, 1, 2, 3, 4, 5, 6, 7],\n",
    "        plot_title = \"Feedwater Rankine\",\n",
    "        plot_titlefonthalign = :hcenter,\n",
    "        plot_titlefontvalign = :bottom,\n",
    "        dpi = 200,\n",
    "        plot_titlevspan = .0001,\n",
    "    ), #aspect_ratio = :equal\n",
    ");"
   ]
  },
  {
   "cell_type": "code",
   "execution_count": null,
   "metadata": {},
   "outputs": [],
   "source": [
    "para_ = parameters(simple_sys)\n",
    "para  = TSMD.variable2symbol(parameters(simple_sys))\n",
    "parav = ode_prob.p\n",
    "parad = Dict{Any,Any}()\n",
    "\n",
    "parad = Dict(para[i] => parav[i]  for i =1:length(para)); # Symbol to value\n",
    "paraa = Dict(para_[i] => parav[i] for i =1:length(para)); # Variable to value (for prob)\n",
    "parar = Dict(para[i] => para_[i]  for i=1:length(para));  # symbol to variable\n",
    "\n",
    "getval(x) = paraa[parar[x]]\n",
    "getvar(x) = parar[x]\n",
    "sys.breeder_supply\n",
    "\n",
    "@show typeof(parad)\n",
    "@show typeof(paraa) "
   ]
  },
  {
   "cell_type": "markdown",
   "metadata": {},
   "source": [
    "### Modifying existing system\n"
   ]
  },
  {
   "cell_type": "markdown",
   "metadata": {},
   "source": [
    "### Convert to graph for plotting and ease of access"
   ]
  },
  {
   "cell_type": "markdown",
   "metadata": {},
   "source": [
    "#### Plot"
   ]
  },
  {
   "cell_type": "markdown",
   "metadata": {},
   "source": [
    "## Individual Components"
   ]
  },
  {
   "cell_type": "markdown",
   "metadata": {},
   "source": [
    "### Compressor\n",
    "\n",
    "**For gas cooling circuits**\n",
    "\n",
    "$$\n",
    " ({T_1},{P_1}) \\to Compression \\to  (T_2, P_2)\\\\ \n",
    "$$\n",
    "\n",
    "$$\n",
    "(\\frac{T_2}{T_1}) = (\\frac{P_2}{P_1})^{(k-1)/k} = (\\frac{v_1}{v_2})^k \\\\\n",
    "h_2-h_1 = c_p \\cdot (T_2-T_1) \\\\\n",
    "Ẇ = ṁ \\Delta h =ṁ \\cdot c_p \\cdot (T_2 - T_1) \\\\\n",
    "ẇ =Ẇ / ṁ= c_p \\cdot (T_2 - T_1)\n",
    "$$\n",
    "\n"
   ]
  },
  {
   "cell_type": "markdown",
   "metadata": {},
   "source": [
    "### Computed Analytically:"
   ]
  },
  {
   "cell_type": "code",
   "execution_count": null,
   "metadata": {},
   "outputs": [],
   "source": [
    "## Helium props\n",
    "cp  = 5.1926e3\n",
    "cv  = 3.1156e3\n",
    "ṁ   = 10\n",
    "k   = cp/cv\n",
    "\n",
    "# inlet conditions\n",
    "T1  = 30 + 273.15;                       # 30 C in Kelvin\n",
    "P1  = 1; # pressure in bar, use TSMD.convert_pressure(xx,:pa) to convert\n",
    "rp  = 3.0;                               # compression ratio\n",
    "η   = 0.9;                               # compressor isentropic efficiency\n",
    "\n",
    "P2      = rp*P1;\n",
    "T2s     = T1 * rp^((k-1)/k)\n",
    "ws      = cp * (T2s-T1);\n",
    "wa      = ws/η\n",
    "dTact   = wa/cp;\n",
    "T2a     = T1+dTact;\n",
    "fspec   =  \"%-15s = %-4.2f\" \n",
    "\n",
    "fprint(n,v) = TSMD.@printf  \"%-25s = %-4.2f \\n\" n v\n",
    "fprintl(n,v) = TSMD.@printf  \"%-30s = %-4.2f \\n\" n v\n",
    "println(\"Inputs\")\n",
    "fprint(\"Inlet Temperture (C)\", T1-273.15)\n",
    "fprint(\"Inlet Pressure (bar)\", P1)\n",
    "fprint( \"Mass Flow Rate (kg/s)\",ṁ)\n",
    "fprint( \"Compressor Efficiency (%)\",η*100)\n",
    "fprint( \"Compression Ratio\", rp)\n",
    "println(\"\")\n",
    "println(\"Intermediate Calculations\")\n",
    "fprintl(\"Isen. T2 (C)\", T2s-273.15)\n",
    "fprintl(\"Isen. specific work (kJ/kg)\", ws/1e3)\n",
    "\n",
    "println(\"\")\n",
    "println(\"Results\")\n",
    "fprintl(\"Actual specific work (J/kg)\", wa/1e3)\n",
    "fprintl(\"Actual compressor power (kW)\", wa*ṁ/1e3)\n",
    "fprintl(\"Actual T2 (C)\",T2a-273.15)\n",
    "fprintl(\"Outlet Pressure (bar)\",P2)"
   ]
  },
  {
   "cell_type": "markdown",
   "metadata": {},
   "source": [
    "##### Compressor model ThermalSystem_models.j'\n",
    "##### Formulation 1: Explanatory"
   ]
  },
  {
   "cell_type": "code",
   "execution_count": null,
   "metadata": {},
   "outputs": [],
   "source": [
    "## Using the PassiveThermoCompressor model\n",
    "ModelingToolkit.@variables t\n",
    "\n",
    "# Initialize Gas Component\n",
    "@named compressor = Gas.PassiveThermoCompressor(η = η);\n",
    "\n",
    "## define BC\n",
    "bc = [compressor.p.ṁ ~ ṁ;       # inlet mass flow\n",
    "        compressor.p.Φ ~ 0;     # Stream energy - excursion variable\n",
    "        compressor.p.P ~ P1;    # inlet pressure\n",
    "        compressor.n.P ~ P2;    # outlet pressure\n",
    "        compressor.p.T ~ T1];   # inlet temperature\n",
    "\n",
    "@named sys = ODESystem(bc, t, [], []; systems = [compressor]);\n",
    "simp_sys = structural_simplify(sys);\n",
    "tspan = (0.0, 1.0);\n",
    "prob = ODEProblem(simp_sys, [], tspan);\n",
    "TSMD.showsol([compressor],prob);            # returns a dict with symbol keys that map to the actual ODE system objects"
   ]
  },
  {
   "cell_type": "markdown",
   "metadata": {},
   "source": [
    "### Using TSM Compressor models for automatic boundary conditions"
   ]
  },
  {
   "cell_type": "code",
   "execution_count": null,
   "metadata": {},
   "outputs": [],
   "source": [
    "ModelingToolkit.@variables t\n",
    "@named supply         = Gas.SinglePortReservoir(P = P1, T = T1);\n",
    "@named flowsource     = Gas.GasFlowSource(Ṁ = ṁ)\n",
    "@named compressor     = Gas.PassiveThermoCompressor(η = η);\n",
    "@named fixed_pressure = Gas.SetPressure(P = P2)\n",
    "\n",
    "connections =vcat(Gas.gas_connect(supply.n,flowsource.p),\n",
    "                Gas.gas_connect(flowsource.n,compressor.p),\n",
    "                Gas.gas_connect(compressor.n,fixed_pressure.p))\n",
    "\n",
    "systems = [supply,flowsource,compressor,fixed_pressure];\n",
    "\n",
    "@named sys = ODESystem(connections, t, [], []; systems = systems);\n",
    "TSMD.system_details(sys)\n",
    "simp_sys = structural_simplify(sys);\n",
    "tspan = (0.0, 1.0);\n",
    "prob = ODEProblem(simp_sys, [], tspan);\n",
    "TSMD.showsol(systems,prob);"
   ]
  },
  {
   "cell_type": "code",
   "execution_count": null,
   "metadata": {},
   "outputs": [],
   "source": [
    "sol = DifferentialEquations.solve(prob);\n",
    "soln(v) = sol[v][end];"
   ]
  },
  {
   "cell_type": "markdown",
   "metadata": {},
   "source": [
    "### Full workflow"
   ]
  },
  {
   "cell_type": "code",
   "execution_count": null,
   "metadata": {},
   "outputs": [],
   "source": [
    "## Create system\n",
    "ModelingToolkit.@variables t\n",
    "\n",
    "energy_sys, sts, edict = TSMD.default_energy_sys();\n",
    "wall_sys, wall_connections, wparams, wdict =\n",
    "    TSMD.wall_circuit(; load = 100e6, Tmin = 250 + 273.15, Tmax = 450 + 273.15);\n",
    "divertor_sys, divertor_connections, dparams, ddict =\n",
    "    TSMD.divertor_circuit(; load = 150e6, Tmin = 300 + 273.15, Tmax = 650 + 273.15);\n",
    "breeder_sys, breeder_connections, bparams, bdict =\n",
    "    TSMD.breeder_circuit(; load = 250e6, Tmin = 500 + 273.15, Tmax = 800 + 273.15)\n",
    "inter_loop_sys, inter_loop_connections, iparams, idict =\n",
    "    TSMD.intermediate_loop(; Nhx = 4, flowrate = 200, Tmin = 220 + 273.15);\n",
    "steam_systems, steam_connections, sparams, sdict = TSMD.feedwater_rankine(; flowrate = 550, ηpump = 0.7, ηturbine = 0.95);\n",
    "η_cycle, η_bop = sts;\n",
    "\n",
    "energy_con = vcat(\n",
    "    TSMD.work_connect(\n",
    "        edict[:Electric],\n",
    "        wdict[:wall_circulator].w,\n",
    "        ddict[:divertor_circulator].w,\n",
    "        bdict[:breeder_circulator].w,\n",
    "        idict[:inter_loop_circulator].w,\n",
    "        sdict[:steam_hp_pump].w,\n",
    "        sdict[:steam_lp_pump].w,\n",
    "        sdict[:steam_turbine].hp.w,\n",
    "        sdict[:steam_turbine].lp.w,\n",
    "    ),\n",
    "    TSMD.heat_connect(\n",
    "        edict[:HotUtility],\n",
    "        wdict[:wall_heat].q,\n",
    "        ddict[:divertor_heat].q,\n",
    "        bdict[:breeder_heat].q,\n",
    "    ),\n",
    "    TSMD.heat_connect(\n",
    "        edict[:ColdUtility],\n",
    "        wdict[:wall_relief].q,\n",
    "        ddict[:divertor_relief].q,\n",
    "        bdict[:breeder_relief].q,\n",
    "        idict[:inter_loop_relief].q,\n",
    "        sdict[:steam_condensor].q,\n",
    "    ),\n",
    "    η_cycle ~ 1 - abs(sdict[:steam_condensor].q.Q̇ / sdict[:steam_boiler].q.Q̇),\n",
    "    η_bop ~ 1 - abs(edict[:ColdUtility].Q̇ / edict[:HotUtility].Q̇),\n",
    ");\n",
    "\n",
    "params = vcat(wparams, dparams, bparams, iparams, sparams);\n",
    "connections = vcat(\n",
    "    steam_connections,\n",
    "    inter_loop_connections,\n",
    "    wall_connections,\n",
    "    divertor_connections,\n",
    "    breeder_connections,\n",
    "    energy_con,\n",
    ");\n",
    "plant_systems =\n",
    "    vcat(steam_systems, inter_loop_sys, wall_sys, divertor_sys, breeder_sys, energy_sys)\n",
    "\n",
    "@named hx1 = TSMD.Gen_HeatExchanger(\n",
    "    B = idict[:inter_loop_hx1],\n",
    "    A = wdict[:wall_hx],\n",
    "    returnmode = :eq,\n",
    ");\n",
    "\n",
    "@named hx2 = TSMD.Gen_HeatExchanger(\n",
    "    B = idict[:inter_loop_hx2],\n",
    "    A = ddict[:divertor_hx],\n",
    "    returnmode = :eq,\n",
    ");\n",
    "\n",
    "@named hx3 = TSMD.Gen_HeatExchanger(\n",
    "    B = idict[:inter_loop_hx3],\n",
    "    A = bdict[:breeder_hx],\n",
    "    returnmode = :eq,\n",
    ");\n",
    "\n",
    "@named boilhx = TSMD.Gen_HeatExchanger(\n",
    "    A = sdict[:steam_boiler],\n",
    "    B = idict[:inter_loop_hx4],\n",
    "    returnmode = :eq,\n",
    ");\n",
    "\n",
    "push!(connections, hx1...);\n",
    "push!(connections, hx2...);\n",
    "push!(connections, hx3...);\n",
    "push!(connections, boilhx...);\n",
    "\n",
    "@named sys = ODESystem(connections, t, sts, params; systems = plant_systems);\n",
    "utility_vector = [:HotUtility, :ColdUtility, :Electric];\n",
    "TSMD.system_details(sys);\n",
    "simple_sys = structural_simplify(sys);\n",
    "tspan = (0.0, 1.0)\n",
    "prob = ODEProblem(simple_sys, [], tspan)\n",
    "sol = DifferentialEquations.solve(prob);\n",
    "soln(v) = sol[v][end];\n",
    "GG = TSMD.system2metagraph(sys, utility_vector; soln = soln, verbose = false);"
   ]
  }
 ],
 "metadata": {
  "kernelspec": {
   "display_name": "Julia 1.10.0",
   "language": "julia",
   "name": "julia-1.10"
  },
  "language_info": {
   "file_extension": ".jl",
   "mimetype": "application/julia",
   "name": "julia",
   "version": "1.10.0"
  },
  "orig_nbformat": 4
 },
 "nbformat": 4,
 "nbformat_minor": 2
}
