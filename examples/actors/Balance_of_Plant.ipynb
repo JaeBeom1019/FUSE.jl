{
 "cells": [
  {
   "cell_type": "markdown",
   "id": "c8eec54b-2533-4791-bd01-5745effb72bf",
   "metadata": {},
   "source": [
    "# Balance of plant"
   ]
  },
  {
   "cell_type": "code",
   "execution_count": null,
   "id": "cc559b9e-0829-473f-bdc1-08bfb84dacca",
   "metadata": {
    "execution": {
     "iopub.execute_input": "2023-01-05T10:14:54.226000-08:00",
     "iopub.status.busy": "2023-01-05T10:14:53.883000-08:00",
     "iopub.status.idle": "2023-01-05T10:17:36.518000-08:00",
     "shell.execute_reply": "2023-01-05T10:17:36.508000-08:00"
    },
    "tags": []
   },
   "outputs": [],
   "source": [
    "using Revise\n",
    "using FUSE\n",
    "using Plots;\n",
    "FUSE.logging(Logging.Info);"
   ]
  },
  {
   "cell_type": "markdown",
   "id": "09535cb8-9230-43b5-a113-e2cd63664a6a",
   "metadata": {},
   "source": [
    "### Initialize FPP v1_demount case\n",
    "[FPP v1 demount case documentation](https://fuse.help/cases.html#FPP)"
   ]
  },
  {
   "cell_type": "code",
   "execution_count": null,
   "id": "9efc3773-e08b-4229-a8c7-2dd70c729143",
   "metadata": {
    "execution": {
     "iopub.execute_input": "2023-01-05T10:36:50.373000-08:00",
     "iopub.status.busy": "2023-01-05T10:36:50.372000-08:00",
     "iopub.status.idle": "2023-01-05T10:36:51.425000-08:00",
     "shell.execute_reply": "2023-01-05T10:36:51.424000-08:00"
    },
    "tags": []
   },
   "outputs": [],
   "source": [
    "dd, ini, act = FUSE.init(:FPP, version=:v1_demount, init_from=:ods, do_plot=false);\n",
    "@ddtime dd.core_profiles.global_quantities.ejima=0.4 ; # estimate of the ejima coefficient for FPP as this is not included in the STEP generated ods"
   ]
  },
  {
   "cell_type": "markdown",
   "id": "8b364030-898b-41ce-8776-7bf4c096b3af",
   "metadata": {},
   "source": [
    "### Run Actors that will be needed for balance of plant"
   ]
  },
  {
   "cell_type": "code",
   "execution_count": null,
   "id": "3b4fab4a-9600-4ec8-8026-b52419464451",
   "metadata": {
    "execution": {
     "iopub.execute_input": "2023-01-05T11:00:27.698000-08:00",
     "iopub.status.busy": "2023-01-05T11:00:27.698000-08:00",
     "iopub.status.idle": "2023-01-05T11:00:32.014000-08:00",
     "shell.execute_reply": "2023-01-05T11:00:32.014000-08:00"
    },
    "tags": []
   },
   "outputs": [],
   "source": [
    "act.ActorEquilibrium.model = :Solovev\n",
    "FUSE.ActorEquilibrium(dd,act)\n",
    "FUSE.ActorEquilibriumTransport(dd, act)\n",
    "FUSE.ActorCXbuild(dd, act)\n",
    "FUSE.ActorNeutronics(dd, act; do_plot=true);"
   ]
  },
  {
   "cell_type": "markdown",
   "id": "da6ce578-1373-40fd-bf4b-1d7ef36baabe",
   "metadata": {},
   "source": [
    "### Running the simple blanket actor\n",
    "[ActorBlanket documentation](https://fuse.help/actors.html#Blanket)"
   ]
  },
  {
   "cell_type": "code",
   "execution_count": null,
   "id": "ba341eb3-3681-4628-91e3-a0f4cebebc4f",
   "metadata": {
    "execution": {
     "iopub.execute_input": "2023-01-05T11:00:35.164000-08:00",
     "iopub.status.busy": "2023-01-05T11:00:35.163000-08:00",
     "iopub.status.idle": "2023-01-05T11:00:48.513000-08:00",
     "shell.execute_reply": "2023-01-05T11:00:48.513000-08:00"
    },
    "tags": []
   },
   "outputs": [],
   "source": [
    "FUSE.ActorBlanket(dd, act);\n",
    "dd.blanket"
   ]
  },
  {
   "cell_type": "markdown",
   "id": "87aa53d7-6103-4e09-b50f-e62f422a97c9",
   "metadata": {},
   "source": [
    "### Running the divertors actor\n",
    "[ActorDivertors documentation](https://fuse.help/actors.html#Divertors)"
   ]
  },
  {
   "cell_type": "code",
   "execution_count": null,
   "id": "43275371-4f84-4151-b406-728bb4c8e0db",
   "metadata": {
    "execution": {
     "iopub.execute_input": "2023-01-05T11:00:48.513000-08:00",
     "iopub.status.busy": "2023-01-05T11:00:48.513000-08:00",
     "iopub.status.idle": "2023-01-05T11:00:48.695000-08:00",
     "shell.execute_reply": "2023-01-05T11:00:48.695000-08:00"
    },
    "tags": []
   },
   "outputs": [],
   "source": [
    "FUSE.ActorDivertors(dd, act);\n",
    "dd.divertors\n",
    "act.ActorDivertors\n",
    "plot(dd.build)\n",
    "plot!(dd.equilibrium;cx=true)"
   ]
  },
  {
   "cell_type": "markdown",
   "id": "78e2fd6c-0f1e-4ece-a041-804a0ddaacef",
   "metadata": {},
   "source": [
    "### Running the balance of plant actor\n",
    "[ActorBalanceOfPlant documentation](https://fuse.help/actors.html#BalanceOfPlant)"
   ]
  },
  {
   "cell_type": "code",
   "execution_count": null,
   "id": "f800e97a-dfc9-472f-a163-c28ab18abae1",
   "metadata": {
    "execution": {
     "iopub.execute_input": "2023-01-05T11:01:04.915000-08:00",
     "iopub.status.busy": "2023-01-05T11:01:04.915000-08:00",
     "iopub.status.idle": "2023-01-05T11:01:05.690000-08:00",
     "shell.execute_reply": "2023-01-05T11:01:05.690000-08:00"
    },
    "tags": []
   },
   "outputs": [],
   "source": [
    "FUSE.ActorBalanceOfPlant(dd, act);\n",
    "println(\"The net electrical power to the grid is $(round(dd.balance_of_plant.power_electric_net[end]/1e6,digits=1)) [MWe] \\nWith Qplant = $(round(dd.balance_of_plant.Q_plant[end],digits=2)) \\n\")\n",
    "display(dd.balance_of_plant)"
   ]
  }
 ],
 "metadata": {
  "@webio": {
   "lastCommId": "d886f5d8-571d-44e5-9576-71f9a506cee2",
   "lastKernelId": "20c0dc7c-1f10-419a-bdd4-8317c598ece4"
  },
  "kernelspec": {
   "display_name": "Julia 1.8.1",
   "language": "julia",
   "name": "julia-1.8"
  },
  "language_info": {
   "file_extension": ".jl",
   "mimetype": "application/julia",
   "name": "julia",
   "version": "1.8.1"
  }
 },
 "nbformat": 4,
 "nbformat_minor": 5
}
