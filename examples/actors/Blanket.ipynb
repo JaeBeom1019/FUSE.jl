{
 "cells": [
  {
   "cell_type": "markdown",
   "id": "c8eec54b-2533-4791-bd01-5745effb72bf",
   "metadata": {},
   "source": [
    "# Blanket example"
   ]
  },
  {
   "cell_type": "code",
   "execution_count": null,
   "id": "cc559b9e-0829-473f-bdc1-08bfb84dacca",
   "metadata": {},
   "outputs": [],
   "source": [
    "using Revise\n",
    "using FUSE\n",
    "using Plots; gr();\n",
    "global_logger(FUSE.logger);"
   ]
  },
  {
   "cell_type": "markdown",
   "id": "09535cb8-9230-43b5-a113-e2cd63664a6a",
   "metadata": {},
   "source": [
    "### Initialize the ITER case case\n",
    "[ITER case documentation](https://fuse.help/cases.html#ITER)"
   ]
  },
  {
   "cell_type": "code",
   "execution_count": null,
   "id": "ee3ef8e6-dec8-4b7d-a594-efd8e06327d2",
   "metadata": {},
   "outputs": [],
   "source": [
    "dd, ini, act = FUSE.init(:ITER, init_from=:ods,do_plot=true);"
   ]
  },
  {
   "cell_type": "markdown",
   "id": "8b364030-898b-41ce-8776-7bf4c096b3af",
   "metadata": {},
   "source": [
    "### Run Actors that will be needed for the blanket actor"
   ]
  },
  {
   "cell_type": "code",
   "execution_count": null,
   "id": "3b4fab4a-9600-4ec8-8026-b52419464451",
   "metadata": {},
   "outputs": [],
   "source": [
    "FUSE.ActorEquilibriumTransport(dd, act)\n",
    "FUSE.ActorCXbuild(dd, act)\n",
    "FUSE.ActorNeutronics(dd, act; do_plot=true);"
   ]
  },
  {
   "cell_type": "markdown",
   "id": "da6ce578-1373-40fd-bf4b-1d7ef36baabe",
   "metadata": {},
   "source": [
    "### Running the simple blanket actor\n",
    "[ActorBlanket documentation](https://fuse.help/actors.html#Blanket)"
   ]
  },
  {
   "cell_type": "code",
   "execution_count": null,
   "id": "ba341eb3-3681-4628-91e3-a0f4cebebc4f",
   "metadata": {},
   "outputs": [],
   "source": [
    "dd.build.structure\n",
    "FUSE.ActorBlanket(dd,act);\n",
    "dd.blanket"
   ]
  },
  {
   "cell_type": "markdown",
   "id": "87aa53d7-6103-4e09-b50f-e62f422a97c9",
   "metadata": {},
   "source": [
    "### Running the blanket actor\n",
    "[ActorBlanket documentation](https://fuse.help/actors.html#Blanket)"
   ]
  },
  {
   "cell_type": "code",
   "execution_count": null,
   "id": "43275371-4f84-4151-b406-728bb4c8e0db",
   "metadata": {},
   "outputs": [],
   "source": [
    "FUSE.ActorBlanket(dd, act)\n",
    "dd.blanket"
   ]
  },
  {
   "cell_type": "code",
   "execution_count": null,
   "id": "2f71fe81-5e79-4213-b6ad-3d9488833c17",
   "metadata": {},
   "outputs": [],
   "source": [
    "act"
   ]
  }
 ],
 "metadata": {
  "@webio": {
   "lastCommId": "8a43df2d-d9a4-4c30-bef2-c9ca923942c4",
   "lastKernelId": "22b29f25-b990-4196-bcee-b661f550e3a2"
  },
  "kernelspec": {
   "display_name": "Julia 1.7.3",
   "language": "julia",
   "name": "julia-1.7"
  },
  "language_info": {
   "file_extension": ".jl",
   "mimetype": "application/julia",
   "name": "julia",
   "version": "1.7.3"
  }
 },
 "nbformat": 4,
 "nbformat_minor": 5
}
