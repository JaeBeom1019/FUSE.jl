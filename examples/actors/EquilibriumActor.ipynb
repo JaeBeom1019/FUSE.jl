{
 "cells": [
  {
   "cell_type": "markdown",
   "id": "4deaa32e-7305-4f56-b406-41659192f109",
   "metadata": {},
   "source": [
    "# EquilibriumActor example"
   ]
  },
  {
   "cell_type": "code",
   "execution_count": null,
   "id": "135a182b-acd4-429a-9c81-988e8eff77b5",
   "metadata": {},
   "outputs": [],
   "source": [
    "using Revise\n",
    "using FUSE\n",
    "using Plots; gr();\n",
    "global_logger(FUSE.logger);"
   ]
  },
  {
   "cell_type": "markdown",
   "id": "adb39907-abbd-462e-9739-adecfedf6fda",
   "metadata": {
    "tags": []
   },
   "source": [
    "### Initialize ITER case\n",
    "[ITER case documentation](https://fuse.help/cases.html#ITER)"
   ]
  },
  {
   "cell_type": "code",
   "execution_count": null,
   "id": "e509e91b-cd8b-441c-92e1-e31444e5651b",
   "metadata": {},
   "outputs": [],
   "source": [
    "dd, ini, act = FUSE.init(:ITER, init_from=:ods);\n",
    "eq_plot = plot(dd.equilibrium, label=\"ITER ods equilibrium\")"
   ]
  },
  {
   "cell_type": "markdown",
   "id": "e5ff3f13-eb83-4354-a322-2b28d86f7d1a",
   "metadata": {},
   "source": [
    "### Setting up the equlibrium actor\n",
    "The equilibrium actor selects which equilibrium model is used, right now the option are :CHEASE & Solovev"
   ]
  },
  {
   "cell_type": "code",
   "execution_count": null,
   "id": "a5cb4b74-9391-45b9-9960-c5e307317bcc",
   "metadata": {},
   "outputs": [],
   "source": [
    "act.ActorEquilibrium.model = :CHEASE"
   ]
  },
  {
   "cell_type": "markdown",
   "id": "2b75be7a-0277-4b08-9a89-7816217eb3af",
   "metadata": {},
   "source": [
    "### Comparing Solovev with CHEASE equilibrium to the original ITER ods equilibrium"
   ]
  },
  {
   "cell_type": "code",
   "execution_count": null,
   "id": "82bf838a-31c5-43ac-939b-887fd28406da",
   "metadata": {},
   "outputs": [],
   "source": [
    "### CHEASE\n",
    "FUSE.ActorEquilibrium(dd,act)\n",
    "display(plot!(eq_plot,dd.equilibrium, label=\"CHEASE equilibrium\"))\n",
    "\n",
    "### Solovev\n",
    "dd, ini, act = FUSE.init(:ITER, init_from=:ods);\n",
    "eq_plot = plot(dd.equilibrium, label=\"ITER ods equilibrium\")\n"
   ]
  },
  {
   "cell_type": "markdown",
   "id": "4cdf9815-220f-4d18-b796-1fda6fa6b2d6",
   "metadata": {},
   "source": [
    "### Starting from scalars and running CHEASE"
   ]
  },
  {
   "cell_type": "code",
   "execution_count": null,
   "id": "56fec1fb-f7cb-42bb-9430-357bb773edf8",
   "metadata": {},
   "outputs": [],
   "source": [
    "dd, ini, act = FUSE.init(:FPP,version=:v1_demount, init_from=:ods);\n",
    "eq_plot = plot(dd.equilibrium, label=\"FPP ODS eq\")\n",
    "\n",
    "# CHEASE deadstart\n",
    "dd = IMAS.dd()\n",
    "ini, act = FUSE.case_parameters(:FPP,version=:v1_demount, init_from=:scalars);\n",
    "act.ActorEquilibrium.model = :CHEASE\n",
    "dd = FUSE.init(dd,ini,act)\n",
    "plot!(eq_plot, dd.equilibrium,label=\"CHEASE deadstart\",color=:red)\n",
    "\n",
    "# Solvev from scalars\n",
    "ini, act = FUSE.case_parameters(:FPP,version=:v1_demount, init_from=:scalars);\n",
    "act.ActorEquilibrium.model = :Solovev\n",
    "dd= FUSE.init(dd,ini,act)\n",
    "display(plot!(eq_plot, dd.equilibrium,label=\"Solvev deadstart\"))"
   ]
  },
  {
   "cell_type": "markdown",
   "id": "c6d5b760-ca72-4250-8dd7-ff0e1f7463f7",
   "metadata": {},
   "source": [
    "### Finding a MXH parameterization of the boundary for ITER"
   ]
  },
  {
   "cell_type": "code",
   "execution_count": null,
   "id": "ca39b1bf-b53c-427f-a381-8e8cf2bd1236",
   "metadata": {},
   "outputs": [],
   "source": [
    "import MillerExtendedHarmonic:flat_coeffs\n",
    "dd, ini, act = FUSE.init(:ITER,init_from=:ods);\n",
    "eqt = dd.equilibrium.time_slice[]\n",
    "eqt_bound= eqt.boundary.outline\n",
    "psi_close = (eqt.profiles_1d.psi[end-1] + 5 * eqt.profiles_1d.psi[end]) / 6 \n",
    "r_bound,z_bound = IMAS.flux_surface(eqt,  psi_close)\n",
    "\n",
    "eq_plot = plot(r_bound,z_bound,label=\"0.99 of original boundary shape\")\n",
    "for order in [6]\n",
    "    mxh = IMAS.MXH(r_bound,z_bound,order)\n",
    "    @show round.(flat_coeffs(mxh),digits=5)\n",
    "    plot!(mxh,label=\"MXH $order\",lw=0.3)\n",
    "end\n",
    "display(plot!(eqt_bound.r,eqt_bound.z,label=\"original boundary shape\",color=\"black\",marker=\"x\",lw=0,markersize=1))"
   ]
  },
  {
   "cell_type": "markdown",
   "id": "4c99bdd0-a87c-4daa-bfaa-23af7f247feb",
   "metadata": {},
   "source": [
    "## Comparing CHEASE deadstart from MXH parameterization vs Miller parameterization"
   ]
  },
  {
   "cell_type": "code",
   "execution_count": null,
   "id": "456d231d-dbb6-4b5a-9d71-0688f11563a8",
   "metadata": {},
   "outputs": [],
   "source": [
    "dd, ini, act = FUSE.init(:ITER, init_from=:ods);\n",
    "eq_plot = plot(dd.equilibrium, label=\"ITER ODS eq\")\n",
    "display(eq_plot)\n",
    "\n",
    "# CHEASE deadstart MXH\n",
    "dd = IMAS.dd()\n",
    "ini, act = FUSE.case_parameters(:ITER, init_from=:scalars);\n",
    "ini.equilibrium.boundary_from = :MXH_params\n",
    "act.ActorEquilibrium.model = :CHEASE\n",
    "dd = FUSE.init(dd,ini,act)\n",
    "plot!(eq_plot, dd.equilibrium,label=\"CHEASE deadstart MXH\")\n",
    "\n",
    "# CHEASE deadstart MILLER\n",
    "dd = IMAS.dd()\n",
    "ini, act = FUSE.case_parameters(:ITER, init_from=:scalars);\n",
    "ini.equilibrium.boundary_from = :miller\n",
    "act.ActorEquilibrium.model = :CHEASE\n",
    "act.ActorCHEASE.free_boundary=false\n",
    "dd = FUSE.init(dd,ini,act)\n",
    "display(plot!(eq_plot, dd.equilibrium,label=\"CHEASE deadstart Miller\"))\n",
    "\n"
   ]
  }
 ],
 "metadata": {
  "@webio": {
   "lastCommId": "e2270207-4369-45ed-950a-0aa6b136640f",
   "lastKernelId": "2ccf45b5-d176-4631-a052-8c9246ad153e"
  },
  "kernelspec": {
   "display_name": "Julia 1.7.3",
   "language": "julia",
   "name": "julia-1.7"
  },
  "language_info": {
   "file_extension": ".jl",
   "mimetype": "application/julia",
   "name": "julia",
   "version": "1.7.3"
  }
 },
 "nbformat": 4,
 "nbformat_minor": 5
}
