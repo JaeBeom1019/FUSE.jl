{
 "cells": [
  {
   "cell_type": "code",
   "execution_count": null,
   "id": "fef8e021-5db1-4a0b-9f4b-259ea0e3131c",
   "metadata": {
    "tags": []
   },
   "outputs": [],
   "source": [
    "using Revise\n",
    "using FUSE\n",
    "FUSE.logging(Logging.Info; actors=Logging.Info);\n",
    "FUSE.ProgressMeter.ijulia_behavior(:clear);"
   ]
  },
  {
   "cell_type": "code",
   "execution_count": null,
   "id": "eed2d2c8-d5ea-46ed-a897-b4097974565c",
   "metadata": {
    "tags": []
   },
   "outputs": [],
   "source": [
    "chk = FUSE.Checkpoint();\n",
    "ini, act = FUSE.case_parameters(:D3D; scenario=:H_mode)\n",
    "act.ActorHCD.nb_model = :RABBIT\n",
    "dd = IMAS.dd();\n",
    "FUSE.init(dd, ini, act);\n",
    "chk[:init] = dd, ini, act;"
   ]
  },
  {
   "cell_type": "code",
   "execution_count": null,
   "id": "f6ac6dc4-25c8-4bd3-9c9f-ca2f2c193313",
   "metadata": {
    "execution": {
     "iopub.execute_input": "2024-07-17T15:11:18.288000-07:00",
     "iopub.status.busy": "2024-07-17T15:11:18.288000-07:00",
     "iopub.status.idle": "2024-07-17T15:11:18.450000-07:00",
     "shell.execute_reply": "2024-07-17T15:11:18.449000-07:00"
    },
    "tags": []
   },
   "outputs": [],
   "source": [
    "dd, ini, act = chk[:init];\n",
    "plot(dd.core_sources)"
   ]
  },
  {
   "cell_type": "code",
   "execution_count": null,
   "id": "2d174cf9-f9be-42cc-87aa-c574f9eafc05",
   "metadata": {
    "tags": []
   },
   "outputs": [],
   "source": [
    "dd, ini, act = chk[:init];\n",
    "act.ActorCoreTransport.model = :FluxMatcher\n",
    "FUSE.ActorStationaryPlasma(dd, act; verbose=true)\n",
    "chk[:stationary] = dd, ini, act;"
   ]
  },
  {
   "cell_type": "code",
   "execution_count": null,
   "id": "349846ae-b079-482d-8f95-c0426dbca02d",
   "metadata": {
    "tags": []
   },
   "outputs": [],
   "source": [
    "dd, ini, act = chk[:stationary];\n",
    "FUSE.plot_plasma_overview(dd, dd.global_time; min_power=0.1E6, aggregate_radiation=true)"
   ]
  },
  {
   "cell_type": "code",
   "execution_count": null,
   "id": "619678a0-f5ae-483e-9ea6-eba3c7232f6b",
   "metadata": {
    "tags": []
   },
   "outputs": [],
   "source": [
    "dd, ini, act = chk[:stationary];\n",
    "act.ActorDynamicPlasma.Δt = 1.0\n",
    "act.ActorDynamicPlasma.Nt = 15\n",
    "FUSE.ActorDynamicPlasma(dd, act; verbose=true)\n",
    "chk[:dynamic] = dd, ini, act;"
   ]
  },
  {
   "cell_type": "code",
   "execution_count": null,
   "id": "77b44733-4bff-4d68-abd4-0e266fd345de",
   "metadata": {
    "tags": []
   },
   "outputs": [],
   "source": [
    "dd, ini, act = chk[:dynamic];\n",
    "using Interact\n",
    "@manipulate for time0 in dd.core_profiles.time[2:end]\n",
    "    #plot(dd2.core_sources; time0)\n",
    "    FUSE.plot_plasma_overview(dd, time0; min_power=0.1E6, aggregate_radiation=true)\n",
    "end"
   ]
  }
 ],
 "metadata": {
  "@webio": {
   "lastCommId": "f77e2a19-a472-4bfd-9da6-df160c8b1f16",
   "lastKernelId": "fc53ddbb-74b2-4223-aba9-b9ff3f32f84e"
  },
  "kernelspec": {
   "display_name": "Julia 1.10.4",
   "language": "julia",
   "name": "julia-1.10"
  },
  "language_info": {
   "file_extension": ".jl",
   "mimetype": "application/julia",
   "name": "julia",
   "version": "1.10.4"
  }
 },
 "nbformat": 4,
 "nbformat_minor": 5
}
