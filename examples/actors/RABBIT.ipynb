{
 "cells": [
  {
   "cell_type": "code",
   "execution_count": null,
   "id": "fef8e021-5db1-4a0b-9f4b-259ea0e3131c",
   "metadata": {},
   "outputs": [],
   "source": [
    "using Revise\n",
    "using FUSE\n",
    "using RABBIT"
   ]
  },
  {
   "cell_type": "code",
   "execution_count": null,
   "id": "ecf3d87f-a6c7-47f9-b0ba-4301e9fa9e23",
   "metadata": {},
   "outputs": [],
   "source": [
    "ini, act = FUSE.case_parameters(:D3D)"
   ]
  },
  {
   "cell_type": "code",
   "execution_count": null,
   "id": "f98b7c87-c906-4242-a2cd-c2aa76961191",
   "metadata": {},
   "outputs": [],
   "source": [
    "dd = FUSE.init(ini, act);"
   ]
  },
  {
   "cell_type": "code",
   "execution_count": null,
   "id": "6c3fb57f-b1b3-4297-ad72-e505c885193a",
   "metadata": {},
   "outputs": [],
   "source": [
    "FUSE.ActorRABBIT(dd, act);"
   ]
  },
  {
   "cell_type": "code",
   "execution_count": null,
   "id": "c5460d5d-9dc2-4d3f-9061-796d266d6260",
   "metadata": {},
   "outputs": [],
   "source": [
    "using Plots\n",
    "plot(dd.core_sources)"
   ]
  },
  {
   "cell_type": "code",
   "execution_count": null,
   "id": "cccdebf8-4f50-4037-bbeb-11b4494e66c5",
   "metadata": {},
   "outputs": [],
   "source": [
    "idx = findfirst(:nbi, dd.core_sources.source)\n",
    "idx.profiles_1d[1].electrons.energy"
   ]
  },
  {
   "cell_type": "code",
   "execution_count": null,
   "id": "7da29b48-4910-4eed-a342-d90b841650c7",
   "metadata": {},
   "outputs": [],
   "source": [
    "ini2, act2 = FUSE.case_parameters(:D3D)\n",
    "dd2 = FUSE.init(ini2, act2);"
   ]
  },
  {
   "cell_type": "code",
   "execution_count": null,
   "id": "bc1dd299-405e-4e17-841e-75f768cb8672",
   "metadata": {},
   "outputs": [],
   "source": [
    "act2.ActorEquilibrium.ip_from = :equilibrium\n",
    "FUSE.ActorEquilibrium(dd2,act2)\n",
    "act2.ActorDynamicPlasma.Δt = 100.0\n",
    "act2.ActorDynamicPlasma.Nt = 5\n",
    "act2.ActorCoreTransport.model = :FluxMatcher # uncomment to evolve the profiles \n",
    "FUSE.ActorDynamicPlasma(dd2,act2; verbose = true)"
   ]
  },
  {
   "cell_type": "code",
   "execution_count": null,
   "id": "1b44c868-d60d-41ff-b051-c397a2b2d896",
   "metadata": {},
   "outputs": [],
   "source": [
    "FUSE.ActorRABBIT(dd2, act2)"
   ]
  },
  {
   "cell_type": "code",
   "execution_count": null,
   "id": "da659483-d60d-431a-84f0-548c62993632",
   "metadata": {},
   "outputs": [],
   "source": [
    "idx2 = findfirst(:nbi, dd2.core_sources.source)"
   ]
  },
  {
   "cell_type": "code",
   "execution_count": null,
   "id": "b6112245-63df-4705-af43-437845f6a1d4",
   "metadata": {},
   "outputs": [],
   "source": [
    "plot(idx2.profiles_1d[1].electrons.energy)\n",
    "plot!(idx2.profiles_1d[11].electrons.energy)"
   ]
  }
 ],
 "metadata": {
  "kernelspec": {
   "display_name": "Julia 1.10.0",
   "language": "julia",
   "name": "julia-1.10"
  },
  "language_info": {
   "file_extension": ".jl",
   "mimetype": "application/julia",
   "name": "julia",
   "version": "1.10.0"
  }
 },
 "nbformat": 4,
 "nbformat_minor": 5
}
