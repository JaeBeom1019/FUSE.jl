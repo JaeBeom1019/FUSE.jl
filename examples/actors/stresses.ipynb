{
 "cells": [
  {
   "cell_type": "markdown",
   "id": "4deaa32e-7305-4f56-b406-41659192f109",
   "metadata": {},
   "source": [
    "# Stresses"
   ]
  },
  {
   "cell_type": "code",
   "execution_count": null,
   "id": "135a182b-acd4-429a-9c81-988e8eff77b5",
   "metadata": {},
   "outputs": [],
   "source": [
    "using Revise\n",
    "using FUSE\n",
    "using Plots; gr();\n",
    "global_logger(FUSE.logger);"
   ]
  },
  {
   "cell_type": "markdown",
   "id": "adb39907-abbd-462e-9739-adecfedf6fda",
   "metadata": {},
   "source": [
    "### Initialize FPP v1_demount case\n",
    "[FPP v1 demount case documentation](https://fuse.help/cases.html#FPP)"
   ]
  },
  {
   "cell_type": "code",
   "execution_count": null,
   "id": "e509e91b-cd8b-441c-92e1-e31444e5651b",
   "metadata": {},
   "outputs": [],
   "source": [
    "dd, ini, act = FUSE.init(:FPP, version=:v1_demount, init_from=:scalars, do_plot=false);"
   ]
  },
  {
   "cell_type": "markdown",
   "id": "e5ff3f13-eb83-4354-a322-2b28d86f7d1a",
   "metadata": {},
   "source": [
    "### Run the Stresses actor\n",
    "[ActorStresses documentation](https://fuse.help/actors.html#Stresses)"
   ]
  },
  {
   "cell_type": "code",
   "execution_count": null,
   "id": "73180772-39f7-4f47-a5c2-147b33615485",
   "metadata": {},
   "outputs": [],
   "source": [
    "FUSE.ActorEquilibriumTransport(dd, act)\n",
    "FUSE.ActorFluxSwing(dd, act)\n",
    "FUSE.ActorStresses(dd, act; do_plot=true);"
   ]
  }
 ],
 "metadata": {
  "kernelspec": {
   "display_name": "Julia 1.7.2 (4 threads) 1.7.2",
   "language": "julia",
   "name": "julia-1.7.2-(4-threads)-1.7"
  },
  "language_info": {
   "file_extension": ".jl",
   "mimetype": "application/julia",
   "name": "julia",
   "version": "1.7.2"
  }
 },
 "nbformat": 4,
 "nbformat_minor": 5
}
