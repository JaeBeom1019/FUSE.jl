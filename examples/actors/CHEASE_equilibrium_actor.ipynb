{
 "cells": [
  {
   "cell_type": "markdown",
   "id": "4deaa32e-7305-4f56-b406-41659192f109",
   "metadata": {},
   "source": [
    "# Running CHEASE actor"
   ]
  },
  {
   "cell_type": "code",
   "execution_count": null,
   "id": "135a182b-acd4-429a-9c81-988e8eff77b5",
   "metadata": {},
   "outputs": [],
   "source": [
    "import Pkg\n",
    "#println(joinpath(dirname(abspath(__@file__)),\"..\",\"..\"))\n",
    "Pkg.activate(\"../..\")\n",
    "using Revise\n",
    "using FUSE\n",
    "using Plots; gr();\n",
    "global_logger(FUSE.logger);"
   ]
  },
  {
   "cell_type": "code",
   "execution_count": null,
   "id": "0b1dc239-9c86-416f-96fc-924a6d7b989a",
   "metadata": {},
   "outputs": [],
   "source": [
    "dd, ini, act = FUSE.init(:ITER,init_from=:ods);"
   ]
  },
  {
   "cell_type": "markdown",
   "id": "576db5a4-bed9-41ed-8114-b50cc1f53fed",
   "metadata": {},
   "source": [
    "### Initialize the ITER case from ODS\n",
    "[ITER case documentation](https://fuse.help/cases.html#ITER)\n",
    "#### Let's run the ActorCHEASE on the ITER equilibrium from the ods and compare \n",
    "\n",
    "[chease actor](https://fuse.help/actors.html#CHEASE)"
   ]
  },
  {
   "cell_type": "code",
   "execution_count": null,
   "id": "d099d12f-baa9-4b18-895c-602559319182",
   "metadata": {},
   "outputs": [],
   "source": [
    "function smooth_rz_bound_MXH(eqt::IMAS.equilibrium__time_slice,order)\n",
    "    eqt_bound = eqt.boundary.outline\n",
    "    mxh = IMAS.MXH(eqt_bound.r,eqt_bound.z,order)\n",
    "\n",
    "    rz_array = mxh()\n",
    "    eqt_bound.r = rz_array[1]\n",
    "    eqt_bound.z = rz_array[2]\n",
    "end\n",
    "\n",
    "dd, ini, act = FUSE.init(:ITER,init_from=:ods);\n",
    "eq_plot = plot(dd.equilibrium, label=\"original ITER eq\")\n",
    "\n",
    "#order = 3\n",
    "\n",
    "#smooth_rz_bound_MXH(dd.equilibrium.time_slice[],order)\n",
    "#display(plot!(eq_plot,dd.equilibrium.time_slice[].boundary.outline.r,dd.equilibrium.time_slice[].boundary.outline.z,label=\"MXH boundary given\", lw=4,ls=:dash))\n",
    "actor = FUSE.ActorCHEASE(dd,act);\n",
    "\n",
    "display(plot!(eq_plot,dd.equilibrium, label=\"CHEASE's ITER eq order = $order\", psi_levels_inside=[-1]))\n",
    "\n"
   ]
  },
  {
   "cell_type": "code",
   "execution_count": null,
   "id": "4cc00d0d-9440-468a-88b2-88295f106a9f",
   "metadata": {},
   "outputs": [],
   "source": [
    "eq_plot = plot(dd_org.equilibrium, label=\"original ITER eq\")\n",
    "plot!(eq_plot,dd.equilibrium, psi_levels_in=[0],lw=2,label=\"CHEASE output\",lcfs=false)\n",
    "display(plot!(eq_plot,dd.equilibrium.time_slice[].boundary.outline.r,dd.equilibrium.time_slice[].boundary.outline.z,label=\"MXH boundary given\", lw=4,ls=:dash))\n",
    "wall_outline = dd.wall.description_2d[1].limiter.unit[1].outline\n",
    "\n",
    "plot!(wall_outline.r, wall_outline.z,lw=3,label=\"wall\")"
   ]
  },
  {
   "cell_type": "code",
   "execution_count": null,
   "id": "d9911a13-efcf-4ae6-b2b7-0cc115d6edde",
   "metadata": {},
   "outputs": [],
   "source": []
  },
  {
   "cell_type": "markdown",
   "id": "54b688c9-d1b9-426b-a375-19d3eb4f196e",
   "metadata": {},
   "source": [
    "### Running CHEASE on kinetic profiles and steady state current\n",
    "To do this we need to do a transport step followed by the calculation of the steady-state current\n",
    "\n",
    "#### Transport"
   ]
  },
  {
   "cell_type": "code",
   "execution_count": null,
   "id": "f0302026-f323-48b2-bfe7-05ff533e7f7b",
   "metadata": {},
   "outputs": [],
   "source": [
    "dd, ini, act = FUSE.init(:ITER,init_from=:ods);\n",
    "\n",
    "core_profiles_plot = plot(dd.core_profiles)\n",
    "FUSE.ActorSteadyStateCurrent(dd,act)\n",
    "FUSE.ActorTauenn(dd,act)\n",
    "plot!(core_profiles_plot,dd.core_profiles)\n",
    "\n"
   ]
  },
  {
   "cell_type": "markdown",
   "id": "dafe135f-1253-419a-b887-1551d6f6ff87",
   "metadata": {},
   "source": [
    "#### Steady-state current & running CHEASE using kinetic profiles and ss current"
   ]
  },
  {
   "cell_type": "code",
   "execution_count": null,
   "id": "ed965100-3472-4c13-85ff-9a96c4bf719c",
   "metadata": {},
   "outputs": [],
   "source": [
    "FUSE.ActorSteadyStateCurrent(dd,act);\n",
    "\n",
    "act.ActorCHEASE.j_tor_from = :core_profiles \n",
    "act.ActorCHEASE.pressure_from = :core_profiles\n",
    "\n",
    "order=3\n",
    "eq_plot = plot(dd.equilibrium, label=\"original ITER eq\")\n",
    "q_plot = plot(dd.equilibrium.time_slice[].profiles_1d.rho_tor_norm,dd.equilibrium.time_slice[].profiles_1d.q,label=\"original q-profile\")\n",
    "\n",
    "smooth_rz_bound_MXH(dd.equilibrium.time_slice[],order)\n",
    "\n",
    "actor = FUSE.ActorCHEASE(dd,act);\n",
    "display(plot!(eq_plot,dd.equilibrium, label=\"CHEASE's ITER eq with transport and SS current\"))\n",
    "#display(plot!(q_plot,dd.equilibrium.time_slice[].profiles_1d.rho_tor_norm, -1.* dd.equilibrium.time_slice[].profiles_1d.q,label=\"CHEASE q-profile\"))\n"
   ]
  },
  {
   "cell_type": "code",
   "execution_count": null,
   "id": "6bb74b24-12a3-4ad7-af8d-f8ceb7a98ae9",
   "metadata": {},
   "outputs": [],
   "source": []
  },
  {
   "cell_type": "code",
   "execution_count": null,
   "id": "bcf57c45-5da4-4a83-b0b1-b731162778e9",
   "metadata": {},
   "outputs": [],
   "source": []
  },
  {
   "cell_type": "markdown",
   "id": "5a57e773-7c7b-45ca-b553-871145df6df7",
   "metadata": {},
   "source": [
    "### Similar analysis for a D3D shot"
   ]
  },
  {
   "cell_type": "code",
   "execution_count": null,
   "id": "fc7ad33f-62ad-4c4b-9d4c-8448c42af0d0",
   "metadata": {},
   "outputs": [],
   "source": [
    "for order in [1,3,6,9]\n",
    "\n",
    "    dd, ini, act = FUSE.init(:D3D)\n",
    "\n",
    "    eq_plot = plot(dd.equilibrium, label=\"original D3D eq\")\n",
    "\n",
    "    smooth_rz_bound_MXH(dd.equilibrium.time_slice[],order)\n",
    "\n",
    "\n",
    "    actor = FUSE.ActorCHEASE(dd,act);\n",
    "    display(plot!(dd.equilibrium.time_slice[].boundary.outline.r,dd.equilibrium.time_slice[].boundary.outline.z,label=\"MXH boundary given\", lw=4,ls=:dash))\n",
    "\n",
    "    display(plot!(eq_plot,dd.equilibrium, label=\"CHEASE's D3D eq order = $order\",lw=2))\n",
    "#    display(plot!(q_plot,dd.equilibrium.time_slice[].profiles_1d.rho_tor_norm,dd.equilibrium.time_slice[].profiles_1d.q,label=\"CHEASE q-profile\"))\n",
    "end"
   ]
  },
  {
   "cell_type": "markdown",
   "id": "1bd0430b-e38a-4230-b13f-9c8d74f17cc4",
   "metadata": {},
   "source": [
    "### D3D transport & steady-state current"
   ]
  },
  {
   "cell_type": "code",
   "execution_count": null,
   "id": "724956a4-8c71-4640-bcb2-6be29153b1f0",
   "metadata": {},
   "outputs": [],
   "source": [
    "dd, ini, act = FUSE.init(:D3D);\n",
    "\n",
    "core_profiles_plot = plot(dd.core_profiles)\n",
    "FUSE.ActorSteadyStateCurrent(dd,act)\n",
    "FUSE.ActorTauenn(dd,act)\n",
    "display(plot!(core_profiles_plot,dd.core_profiles))\n",
    "\n",
    "FUSE.ActorSteadyStateCurrent(dd,act);\n",
    "\n",
    "act.ActorCHEASE.j_tor_from = :core_profiles \n",
    "act.ActorCHEASE.pressure_from = :core_profiles\n",
    "\n",
    "eq_plot = plot(dd.equilibrium, label=\"original ITER eq\")\n",
    "q_plot = plot(dd.equilibrium.time_slice[].profiles_1d.rho_tor_norm,dd.equilibrium.time_slice[].profiles_1d.q,label=\"original q-profile\")\n",
    "\n",
    "actor = FUSE.ActorCHEASE(dd,act);\n",
    "display(plot!(eq_plot,dd.equilibrium, label=\"CHEASE's ITER eq with transport and SS current\"))\n",
    "display(plot!(q_plot,dd.equilibrium.time_slice[].profiles_1d.rho_tor_norm,dd.equilibrium.time_slice[].profiles_1d.q,label=\"CHEASE q-profile\"))\n",
    "\n"
   ]
  },
  {
   "cell_type": "code",
   "execution_count": null,
   "id": "105b5947-0057-4d4d-98fa-47f8c95e01c1",
   "metadata": {},
   "outputs": [],
   "source": [
    "dd, ini, act = FUSE.init(:D3D);\n",
    "eqtbd= dd.equilibrium.time_slice[].boundary.outline\n",
    "\n",
    "display(plot(dd.equilibrium))\n",
    "for order in [1,3,6,9]\n",
    "\n",
    "    mxh = IMAS.MXH(eqtbd.r,eqtbd.z,3)\n",
    "\n",
    "    rz_array = mxh()\n",
    "    r_new = []\n",
    "    z_new = []\n",
    "    for (i,j) in rz_array\n",
    "        println(\"$i , $j\")\n",
    "        r_new = vcat(r_new,i)\n",
    "        z_new = vcat(z_new,j)\n",
    "    end\n",
    "    @show typeof(r_new)\n",
    "    #curvature = IMAS.curvature(r_new,z_new)\n",
    "    #@show r_new, z_new\n",
    "    #IMAS.curvature(\n",
    "    plot(dd.equilibrium,label=\"orig eq, $(round(maximum(IMAS.curvature(eqtbd.r,eqtbd.z)),digits=2))\")\n",
    "#    display(plot!(r_new, z_new,label=\"$(order)\",lw=5))\n",
    "    \n",
    "    r_newx = [float(i) for i in r_new]\n",
    "    z_newx = [float(i) for i in z_new]\n",
    "    push!(r_newx,r_newx[1])\n",
    "    push!(z_newx,z_newx[1])\n",
    "\n",
    "    max_curv = maximum(IMAS.curvature(r_newx,z_newx))\n",
    "    @show max_curv\n",
    "    display(plot!(r_new, z_new,label=\"$(order) max curvature = $(round(max_curv,digits=2))\",lw=5))\n",
    "end\n",
    "\n",
    "\n"
   ]
  },
  {
   "cell_type": "code",
   "execution_count": null,
   "id": "cba9202f-64a4-44fd-a6f8-622686ec7983",
   "metadata": {},
   "outputs": [],
   "source": [
    "dd, ini, act = FUSE.init(:D3D);\n",
    "\n",
    "eqt = dd.equilibrium.time_slice[]\n",
    "function smooth_rz_bound_MXH(eqt::IMAS.equilibrium__time_slice,order)\n",
    "    eqt_bound = eqt.boundary.outline\n",
    "    mxh = IMAS.MXH(eqt_bound.r,eqt_bound.z,order)\n",
    "\n",
    "    rz_array = mxh()\n",
    "    eqt_bound.r = rz_array[1]\n",
    "    eqt_bound.z = rz_array[2]\n",
    "end\n",
    "\n",
    "smooth_rz_bound_MXH(eqt,3)\n",
    "\n"
   ]
  },
  {
   "cell_type": "code",
   "execution_count": null,
   "id": "f0ea6004-80c5-45fe-a932-e250d15956a5",
   "metadata": {},
   "outputs": [],
   "source": [
    "dd, ini, act = FUSE.init(:FPP, version=:v1_demount,init_from=:ods);\n",
    "eq_plot = plot(dd.equilibrium, label=\"original ITER eq\")\n",
    "#q_plot = plot(dd.equilibrium.time_slice[].profiles_1d.rho_tor_norm,dd.equilibrium.time_slice[].profiles_1d.q,label=\"original q-profile\")\n",
    "\n",
    "smooth_rz_bound_MXH(dd.equilibrium.time_slice[],1)\n",
    "\n",
    "display(plot!(dd.equilibrium.time_slice[].boundary.outline.r,dd.equilibrium.time_slice[].boundary.outline.z))\n",
    "actor = FUSE.ActorCHEASE(dd,act);\n",
    "display(plot!(eq_plot,dd.equilibrium, label=\"CHEASE's ITER eq\"))\n",
    "#display(plot!(q_plot,dd.equilibrium.time_slice[].profiles_1d.rho_tor_norm, -1 .* dd.equilibrium.time_slice[].profiles_1d.q,label=\"CHEASE q-profile\"))\n"
   ]
  }
 ],
 "metadata": {
  "kernelspec": {
   "display_name": "Julia tracecompile 1.7.3",
   "language": "julia",
   "name": "julia-tracecompile-1.7"
  },
  "language_info": {
   "file_extension": ".jl",
   "mimetype": "application/julia",
   "name": "julia",
   "version": "1.7.3"
  }
 },
 "nbformat": 4,
 "nbformat_minor": 5
}
