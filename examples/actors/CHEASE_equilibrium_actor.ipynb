{
 "cells": [
  {
   "cell_type": "markdown",
   "id": "4deaa32e-7305-4f56-b406-41659192f109",
   "metadata": {},
   "source": [
    "# Running CHEASE actor"
   ]
  },
  {
   "cell_type": "code",
   "execution_count": null,
   "id": "135a182b-acd4-429a-9c81-988e8eff77b5",
   "metadata": {},
   "outputs": [],
   "source": [
    "using Revise\n",
    "using FUSE\n",
    "using Plots; gr();\n",
    "global_logger(FUSE.logger);"
   ]
  },
  {
   "cell_type": "markdown",
   "id": "e35e9394-d44d-4e1e-b970-08675f362833",
   "metadata": {},
   "source": [
    "### Initialize the ITER case from ODS\n",
    "[ITER case documentation](https://fuse.help/cases.html#ITER)"
   ]
  },
  {
   "cell_type": "code",
   "execution_count": null,
   "id": "0b1dc239-9c86-416f-96fc-924a6d7b989a",
   "metadata": {},
   "outputs": [],
   "source": [
    "dd, ini, act = FUSE.init(:ITER, init_from=:ods);"
   ]
  },
  {
   "cell_type": "markdown",
   "id": "576db5a4-bed9-41ed-8114-b50cc1f53fed",
   "metadata": {
    "tags": []
   },
   "source": [
    "#### Let's run the ActorCHEASE and compare with original equlibrium\n",
    "\n",
    "[CHEASE actor](https://fuse.help/actors.html#CHEASE) documentation\n",
    "\n",
    "NOTE: CHEASE is a fixed boundary equilibrium solver. Extension of the magnetic field calculation in the vacuum region (including X-points) can be triggered by setting `act.ActorCHEASE.free_boundary = true`. This is the default behavior in FUSE, since diverted plasma information is needed to proceed with build and divertor actors."
   ]
  },
  {
   "cell_type": "code",
   "execution_count": null,
   "id": "41c66b03-f315-4786-b14e-fa8ba9eaa2d7",
   "metadata": {},
   "outputs": [],
   "source": [
    "dd, ini, act = FUSE.init(:ITER, init_from=:ods);\n",
    "eq_plot = plot(dd.equilibrium, label=\"original eq\")\n",
    "act.ActorCHEASE.free_boundary = true\n",
    "actor = FUSE.ActorCHEASE(dd, act);\n",
    "display(plot!(eq_plot, dd.equilibrium, label=\"CHEASE w/ vacuum fields\"))"
   ]
  },
  {
   "cell_type": "code",
   "execution_count": null,
   "id": "27993f1e-7dca-42ad-a7d3-9d279da973ce",
   "metadata": {},
   "outputs": [],
   "source": [
    "ini, act = FUSE.case_parameters(:FPP; version=:v1_demount, init_from=:ods);\n",
    "dd = IMAS.dd()\n",
    "FUSE.init(dd, ini, act; do_plot=true);\n"
   ]
  },
  {
   "cell_type": "markdown",
   "id": "54b688c9-d1b9-426b-a375-19d3eb4f196e",
   "metadata": {},
   "source": [
    "### Update equilibrium after transport run\n",
    "\n",
    "Run transport calculation followed by the calculation of the steady-state current"
   ]
  },
  {
   "cell_type": "code",
   "execution_count": null,
   "id": "f0302026-f323-48b2-bfe7-05ff533e7f7b",
   "metadata": {},
   "outputs": [],
   "source": [
    "dd, ini, act = FUSE.init(:ITER,init_from=:ods);\n",
    "\n",
    "core_profiles_plot = plot(dd.core_profiles)\n",
    "FUSE.ActorSteadyStateCurrent(dd,act)\n",
    "FUSE.ActorTauenn(dd,act)\n",
    "plot!(core_profiles_plot,dd.core_profiles)"
   ]
  },
  {
   "cell_type": "markdown",
   "id": "dafe135f-1253-419a-b887-1551d6f6ff87",
   "metadata": {},
   "source": [
    "Then we update equilibrium:"
   ]
  }
 ],
 "metadata": {
  "@webio": {
   "lastCommId": "b945f3d6-1730-4850-83c4-cfd8dfe12fb4",
   "lastKernelId": "ae3a5424-b3c3-493e-823e-77eb864f9e9d"
  },
  "kernelspec": {
   "display_name": "Julia 1.7.3",
   "language": "julia",
   "name": "julia-1.7"
  },
  "language_info": {
   "file_extension": ".jl",
   "mimetype": "application/julia",
   "name": "julia",
   "version": "1.7.3"
  }
 },
 "nbformat": 4,
 "nbformat_minor": 5
}
