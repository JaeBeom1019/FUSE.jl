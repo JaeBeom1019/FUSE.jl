{
 "cells": [
  {
   "cell_type": "markdown",
   "id": "4deaa32e-7305-4f56-b406-41659192f109",
   "metadata": {},
   "source": [
    "# Running CHEASE actor"
   ]
  },
  {
   "cell_type": "code",
   "execution_count": null,
   "id": "135a182b-acd4-429a-9c81-988e8eff77b5",
   "metadata": {},
   "outputs": [],
   "source": [
    "import Pkg\n",
    "Pkg.activate(\"../..\")\n",
    "using Revise\n",
    "using FUSE\n",
    "using Plots; gr();\n",
    "global_logger(FUSE.logger);"
   ]
  },
  {
   "cell_type": "markdown",
   "id": "adb39907-abbd-462e-9739-adecfedf6fda",
   "metadata": {},
   "source": [
    "### Initialize the ITER case from ODS\n",
    "[ITER case documentation](https://fuse.help/cases.html#ITER)"
   ]
  },
  {
   "cell_type": "code",
   "execution_count": null,
   "id": "0b1dc239-9c86-416f-96fc-924a6d7b989a",
   "metadata": {},
   "outputs": [],
   "source": [
    "dd, ini, act = FUSE.init(:ITER,init_from=:ods);"
   ]
  },
  {
   "cell_type": "markdown",
   "id": "576db5a4-bed9-41ed-8114-b50cc1f53fed",
   "metadata": {},
   "source": [
    "### Let's run the ActorCHEASE on the ITER equilibrium from the ods and compare "
   ]
  },
  {
   "cell_type": "code",
   "execution_count": null,
   "id": "d099d12f-baa9-4b18-895c-602559319182",
   "metadata": {},
   "outputs": [],
   "source": [
    "eq_plot = plot(dd.equilibrium, label=\"original ITER eq\")\n",
    "q_plot = plot(dd.equilibrium.time_slice[].profiles_1d.rho_tor_norm,dd.equilibrium.time_slice[].profiles_1d.q,label=\"original q-profile\")\n",
    "\n",
    "actor = FUSE.ActorCHEASE(dd,act);\n",
    "display(plot!(eq_plot,dd.equilibrium, label=\"CHEASE's ITER eq\"))\n",
    "display(plot!(q_plot,dd.equilibrium.time_slice[].profiles_1d.rho_tor_norm,dd.equilibrium.time_slice[].profiles_1d.q,label=\"CHEASE q-profile\"))\n"
   ]
  },
  {
   "cell_type": "markdown",
   "id": "54b688c9-d1b9-426b-a375-19d3eb4f196e",
   "metadata": {},
   "source": [
    "### Running CHEASE on kinetic profiles and steady state current\n",
    "To do this we need to do a transport step followed by the calculation of the steady-state current\n",
    "\n",
    "#### Transport"
   ]
  },
  {
   "cell_type": "code",
   "execution_count": null,
   "id": "f0302026-f323-48b2-bfe7-05ff533e7f7b",
   "metadata": {},
   "outputs": [],
   "source": [
    "dd, ini, act = FUSE.init(:ITER,init_from=:ods);\n",
    "\n",
    "core_profiles_plot = plot(dd.core_profiles)\n",
    "FUSE.ActorSteadyStateCurrent(dd,act)\n",
    "FUSE.ActorTauenn(dd,act)\n",
    "plot!(core_profiles_plot,dd.core_profiles)\n",
    "\n"
   ]
  },
  {
   "cell_type": "markdown",
   "id": "dafe135f-1253-419a-b887-1551d6f6ff87",
   "metadata": {},
   "source": [
    "#### Steady-state current & running CHEASE using kinetic profiles and ss current"
   ]
  },
  {
   "cell_type": "code",
   "execution_count": null,
   "id": "ed965100-3472-4c13-85ff-9a96c4bf719c",
   "metadata": {},
   "outputs": [],
   "source": [
    "FUSE.ActorSteadyStateCurrent(dd,act);\n",
    "\n",
    "act.ActorCHEASE.j_tor_from = :core_profiles \n",
    "act.ActorCHEASE.pressure_from = :core_profiles\n",
    "\n",
    "eq_plot = plot(dd.equilibrium, label=\"original ITER eq\")\n",
    "q_plot = plot(dd.equilibrium.time_slice[].profiles_1d.rho_tor_norm,dd.equilibrium.time_slice[].profiles_1d.q,label=\"original q-profile\")\n",
    "\n",
    "actor = FUSE.ActorCHEASE(dd,act);\n",
    "display(plot!(eq_plot,dd.equilibrium, label=\"CHEASE's ITER eq with transport and SS current\"))\n",
    "display(plot!(q_plot,dd.equilibrium.time_slice[].profiles_1d.rho_tor_norm,dd.equilibrium.time_slice[].profiles_1d.q,label=\"CHEASE q-profile\"))\n"
   ]
  },
  {
   "cell_type": "markdown",
   "id": "5a57e773-7c7b-45ca-b553-871145df6df7",
   "metadata": {},
   "source": [
    "### Similar analysis for a D3D shot"
   ]
  },
  {
   "cell_type": "code",
   "execution_count": null,
   "id": "fc7ad33f-62ad-4c4b-9d4c-8448c42af0d0",
   "metadata": {},
   "outputs": [],
   "source": [
    "dd, ini, act = FUSE.init(:D3D)\n",
    "\n",
    "eq_plot = plot(dd.equilibrium, label=\"original D3D eq\")\n",
    "q_plot = plot(dd.equilibrium.time_slice[].profiles_1d.rho_tor_norm,dd.equilibrium.time_slice[].profiles_1d.q,label=\"original q-profile\")\n",
    "\n",
    "actor = FUSE.ActorCHEASE(dd,act);\n",
    "display(plot!(eq_plot,dd.equilibrium, label=\"CHEASE's D3D eq\"))\n",
    "display(plot!(q_plot,dd.equilibrium.time_slice[].profiles_1d.rho_tor_norm,dd.equilibrium.time_slice[].profiles_1d.q,label=\"CHEASE q-profile\"))\n"
   ]
  },
  {
   "cell_type": "markdown",
   "id": "1bd0430b-e38a-4230-b13f-9c8d74f17cc4",
   "metadata": {},
   "source": [
    "### D3D transport & steady-state current"
   ]
  },
  {
   "cell_type": "code",
   "execution_count": null,
   "id": "724956a4-8c71-4640-bcb2-6be29153b1f0",
   "metadata": {},
   "outputs": [],
   "source": [
    "dd, ini, act = FUSE.init(:ITER,init_from=:ods);\n",
    "\n",
    "core_profiles_plot = plot(dd.core_profiles)\n",
    "FUSE.ActorSteadyStateCurrent(dd,act)\n",
    "FUSE.ActorTauenn(dd,act)\n",
    "plot!(core_profiles_plot,dd.core_profiles)\n"
   ]
  }
 ],
 "metadata": {
  "kernelspec": {
   "display_name": "Julia tracecompile 1.7.3",
   "language": "julia",
   "name": "julia-tracecompile-1.7"
  },
  "language_info": {
   "file_extension": ".jl",
   "mimetype": "application/julia",
   "name": "julia",
   "version": "1.7.3"
  }
 },
 "nbformat": 4,
 "nbformat_minor": 5
}
