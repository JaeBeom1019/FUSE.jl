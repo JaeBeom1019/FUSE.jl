{
 "cells": [
  {
   "cell_type": "markdown",
   "id": "0faddccf",
   "metadata": {},
   "source": [
    "# Time dependent ITER simulation"
   ]
  },
  {
   "cell_type": "code",
   "execution_count": null,
   "id": "c0af3993",
   "metadata": {
    "tags": []
   },
   "outputs": [],
   "source": [
    "using Plots;\n",
    "using FUSE\n",
    "FUSE.ProgressMeter.ijulia_behavior(:clear);"
   ]
  },
  {
   "cell_type": "code",
   "execution_count": null,
   "id": "3dbf490b-2b71-4b2d-a3fa-6d5286568368",
   "metadata": {
    "tags": []
   },
   "outputs": [],
   "source": [
    "ini, act = FUSE.case_parameters(:ITER; init_from=:ods);"
   ]
  },
  {
   "cell_type": "code",
   "execution_count": null,
   "id": "d389c197-ed55-4ff4-afd0-3df0b1c9e7b6",
   "metadata": {
    "tags": []
   },
   "outputs": [],
   "source": [
    "using Interact\n",
    "@manipulate for time0 in ini.time.pulse_shedule_time_basis\n",
    "    ini0 = deepcopy(ini)\n",
    "    ini0.time.simulation_start = time0\n",
    "    plot(ini, color=:red)\n",
    "    plot!(ini0, color=:blue)\n",
    "end"
   ]
  },
  {
   "cell_type": "code",
   "execution_count": null,
   "id": "d4ab0860-5e3c-4ed2-8d58-6a25ea3a79d0",
   "metadata": {
    "tags": []
   },
   "outputs": [],
   "source": [
    "chk = FUSE.Checkpoint();\n",
    "\n",
    "dd = IMAS.dd()\n",
    "@time dd = FUSE.init(dd, ini, act);\n",
    "chk[:init] = dd, ini, act;"
   ]
  },
  {
   "cell_type": "code",
   "execution_count": null,
   "id": "8fcec729-9b0e-4621-abc5-107e2c141a10",
   "metadata": {
    "tags": []
   },
   "outputs": [],
   "source": [
    "FUSE.digest(dd)"
   ]
  },
  {
   "cell_type": "code",
   "execution_count": null,
   "id": "8bae15f5-715b-40ce-a2bf-cea9e37ab565",
   "metadata": {
    "tags": []
   },
   "outputs": [],
   "source": [
    "using Interact\n",
    "@manipulate for time0 in dd.pulse_schedule.flux_control.time\n",
    "    plot(dd.pulse_schedule; time0)\n",
    "end"
   ]
  },
  {
   "cell_type": "code",
   "execution_count": null,
   "id": "8b8520a8-776b-46ff-bf98-f40c30cebdfd",
   "metadata": {
    "tags": []
   },
   "outputs": [],
   "source": [
    "dd = chk[:init].dd\n",
    "\n",
    "ini, _ = FUSE.case_parameters(:ITER; init_from=:scalars);\n",
    "ini.time.simulation_start = 100.0\n",
    "\n",
    "FUSE.init(dd, ini, act; initialize_hardware=false);\n",
    "\n",
    "chk[:tinit] = (dd, ini, act);"
   ]
  },
  {
   "cell_type": "code",
   "execution_count": null,
   "id": "d369fe0b-cb26-4c89-9227-a6ae6845709c",
   "metadata": {
    "tags": []
   },
   "outputs": [],
   "source": [
    "FUSE.digest(dd)"
   ]
  },
  {
   "cell_type": "code",
   "execution_count": null,
   "id": "1c3ed46a-7f5e-474d-b847-0962a7d98875",
   "metadata": {
    "tags": []
   },
   "outputs": [],
   "source": [
    "dd, ini, act = chk[:tinit]\n",
    "\n",
    "act.ActorStationaryPlasma.convergence_error = 2E-2\n",
    "act.ActorStationaryPlasma.max_iter = 5\n",
    "\n",
    "act.ActorCoreTransport.model = :FluxMatcher\n",
    "\n",
    "act.ActorFluxMatcher.step_size = 0.1\n",
    "act.ActorFluxMatcher.optimizer_algorithm = :simple\n",
    "act.ActorFluxMatcher.max_iterations = 1000\n",
    "act.ActorFluxMatcher.verbose = true\n",
    "\n",
    "FUSE.ActorStationaryPlasma(dd, act; do_plot=false, verbose=true)\n",
    "chk[:stationary] = (dd, ini, act);"
   ]
  },
  {
   "cell_type": "code",
   "execution_count": null,
   "id": "b361d350-abde-4719-ab88-6ebd37fd24b6",
   "metadata": {
    "tags": []
   },
   "outputs": [],
   "source": [
    "(dd, ini, act) = chk[:stationary];\n",
    "FUSE.plot_plasma_overview(dd, dd.global_time; min_power=1E6, aggregate_radiation=true)"
   ]
  },
  {
   "cell_type": "code",
   "execution_count": null,
   "id": "f0569360-7b20-44b8-86cf-cfd6400f5990",
   "metadata": {
    "tags": []
   },
   "outputs": [],
   "source": [
    "FUSE.ProgressMeter.ijulia_behavior(:clear)\n",
    "\n",
    "dd, ini, act = chk[:stationary]\n",
    "\n",
    "act.ActorDynamicPlasma.Nt = 60\n",
    "act.ActorDynamicPlasma.Δt = 300.0\n",
    "\n",
    "act.ActorDynamicPlasma.evolve_current = true\n",
    "act.ActorDynamicPlasma.evolve_equilibrium = true\n",
    "act.ActorDynamicPlasma.evolve_transport = true\n",
    "act.ActorDynamicPlasma.evolve_hcd = true\n",
    "act.ActorDynamicPlasma.evolve_pf_active = true\n",
    "act.ActorDynamicPlasma.evolve_pedestal = true\n",
    "\n",
    "act.ActorDynamicPlasma.ip_controller = false\n",
    "\n",
    "FUSE.ActorDynamicPlasma(dd, act; verbose=true);\n",
    "\n",
    "chk[:time_dep] = dd, ini, act;"
   ]
  },
  {
   "cell_type": "code",
   "execution_count": null,
   "id": "a4107523-508d-4f0f-bd2a-d9985a342ae4",
   "metadata": {
    "tags": []
   },
   "outputs": [],
   "source": [
    "using Interact\n",
    "\n",
    "#a = @animate for (k, time0) in collect(enumerate(dd.core_sources.time))[3:end]\n",
    "#    @show (k,time0)\n",
    "    @manipulate for k in eachindex(dd.core_sources.time)\n",
    "    time0 = dd.core_sources.time[k]\n",
    "    FUSE.plot_plasma_overview(dd, time0; min_power=1E6, aggregate_radiation=true)\n",
    "    #    savefig(joinpath(\"/Users/meneghini/Library/CloudStorage/Dropbox/tex/figures/FUSE/gif\", \"frame_$(lpad(k-1, 4, '0')).png\"));\n",
    "end"
   ]
  },
  {
   "cell_type": "code",
   "execution_count": null,
   "id": "f36f2042-ed8c-4a36-8709-8119d2980300",
   "metadata": {
    "tags": []
   },
   "outputs": [],
   "source": [
    "#g = gif(a, \"ITER_time_dep_v5.gif\", fps=12)\n",
    "g = gif(a; fps=12)\n",
    "display(g)"
   ]
  }
 ],
 "metadata": {
  "@webio": {
   "lastCommId": "2da169ba-50ec-416a-b2f4-cfef5869ca1d",
   "lastKernelId": "7ccc8c1f-db65-4966-b168-36dabde24c01"
  },
  "kernelspec": {
   "display_name": "Julia (8 threads) 1.10.4",
   "language": "julia",
   "name": "julia-_8-threads_-1.10"
  },
  "language_info": {
   "file_extension": ".jl",
   "mimetype": "application/julia",
   "name": "julia",
   "version": "1.10.4"
  }
 },
 "nbformat": 4,
 "nbformat_minor": 5
}
