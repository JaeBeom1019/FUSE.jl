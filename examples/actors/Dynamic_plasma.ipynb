{
 "cells": [
  {
   "cell_type": "markdown",
   "id": "0faddccf",
   "metadata": {},
   "source": [
    "# Time dependent ITER simulation"
   ]
  },
  {
   "cell_type": "code",
   "execution_count": null,
   "id": "7750f97b-446e-459a-bdc4-6da47b2c2edf",
   "metadata": {
    "tags": []
   },
   "outputs": [],
   "source": [
    "using Plots;\n",
    "using FUSE\n",
    "FUSE.ProgressMeter.ijulia_behavior(:clear);"
   ]
  },
  {
   "cell_type": "markdown",
   "id": "1e3eaebe-732d-4525-a60f-207fc1b0f90a",
   "metadata": {
    "tags": []
   },
   "source": [
    "## Machine configuration\n",
    "\n",
    "First we want to define the machine we'll working with..\n",
    "\n",
    "One may design a machine directly within FUSE or (like in this case) take an experimental configurations from a ODS."
   ]
  },
  {
   "cell_type": "code",
   "execution_count": null,
   "id": "9ebb328f-c016-4aa1-bfd1-08b124b32866",
   "metadata": {
    "tags": []
   },
   "outputs": [],
   "source": [
    "ini, act = FUSE.case_parameters(:ITER; init_from=:ods);"
   ]
  },
  {
   "cell_type": "code",
   "execution_count": null,
   "id": "333b0950-47f8-4c21-9091-7cda89305c9c",
   "metadata": {
    "tags": []
   },
   "outputs": [],
   "source": [
    "chk = FUSE.Checkpoint(); # checkpointing allows us to run mutliple times the same JupyterNotebook cell without everytime having to restart from scratch\n",
    "\n",
    "dd = IMAS.dd()\n",
    "@time dd = FUSE.init(dd, ini, act);\n",
    "\n",
    "# FUSE.ActorWholeFacility(dd, act); # if we were to design a machine\n",
    "\n",
    "chk[:hw_init] = dd, ini, act;"
   ]
  },
  {
   "cell_type": "markdown",
   "id": "5334967d-e93b-45c5-a1fe-f93ecb0d9d21",
   "metadata": {
    "tags": []
   },
   "source": [
    "## Time-dependent modeling\n",
    "\n",
    "Once the machine is designed/configured we can think about what plasma will we want to simulate."
   ]
  },
  {
   "cell_type": "code",
   "execution_count": null,
   "id": "8b8520a8-776b-46ff-bf98-f40c30cebdfd",
   "metadata": {
    "tags": []
   },
   "outputs": [],
   "source": [
    "dd = chk[:hw_init].dd\n",
    "\n",
    "ini, _ = FUSE.case_parameters(:ITER; init_from=:scalars, time_dependent=true);\n",
    "\n",
    "ini.time.simulation_start = 50.0;\n",
    "ini.equilibrium.ip = t -> ramp(t / 10.0) * 13E6 + ramp((t - 100) / 100) * 2E6;"
   ]
  },
  {
   "cell_type": "code",
   "execution_count": null,
   "id": "d389c197-ed55-4ff4-afd0-3df0b1c9e7b6",
   "metadata": {
    "tags": []
   },
   "outputs": [],
   "source": [
    "plot(ini)"
   ]
  },
  {
   "cell_type": "code",
   "execution_count": null,
   "id": "58fabac9-a2dd-45ce-a34c-baa36e416948",
   "metadata": {
    "tags": []
   },
   "outputs": [],
   "source": [
    "FUSE.init(dd, ini, act; initialize_hardware=false); # this will populate dd.pulse_schedule while keeping the machine hardware the same\n",
    "\n",
    "chk[:tinit] = (dd, ini, act);"
   ]
  },
  {
   "cell_type": "code",
   "execution_count": null,
   "id": "38c2016a-3178-4f42-92c7-13daa0ee7e29",
   "metadata": {
    "tags": []
   },
   "outputs": [],
   "source": [
    "using Interact\n",
    "@manipulate for time0 in ini.time.pulse_shedule_time_basis\n",
    "    plot(dd.pulse_schedule; time0, ini.time.simulation_start)\n",
    "end"
   ]
  },
  {
   "cell_type": "code",
   "execution_count": null,
   "id": "8e18f710-df84-4826-8c57-eae68793c71c",
   "metadata": {
    "tags": []
   },
   "outputs": [],
   "source": [
    "FUSE.plot_plasma_overview(dd, dd.global_time; min_power=1E6, aggregate_radiation=true)"
   ]
  },
  {
   "cell_type": "code",
   "execution_count": null,
   "id": "1c3ed46a-7f5e-474d-b847-0962a7d98875",
   "metadata": {
    "tags": []
   },
   "outputs": [],
   "source": [
    "dd, ini, act = chk[:tinit]\n",
    "\n",
    "act.ActorStationaryPlasma.convergence_error = 2E-2\n",
    "act.ActorStationaryPlasma.max_iter = 5\n",
    "\n",
    "act.ActorCoreTransport.model = :FluxMatcher\n",
    "\n",
    "act.ActorFluxMatcher.verbose = true\n",
    "\n",
    "FUSE.ActorStationaryPlasma(dd, act; do_plot=false, verbose=true)\n",
    "chk[:stationary] = (dd, ini, act);"
   ]
  },
  {
   "cell_type": "code",
   "execution_count": null,
   "id": "b361d350-abde-4719-ab88-6ebd37fd24b6",
   "metadata": {
    "tags": []
   },
   "outputs": [],
   "source": [
    "FUSE.plot_plasma_overview(dd, dd.global_time; min_power=1E6, aggregate_radiation=true)"
   ]
  },
  {
   "cell_type": "code",
   "execution_count": null,
   "id": "f0569360-7b20-44b8-86cf-cfd6400f5990",
   "metadata": {
    "tags": []
   },
   "outputs": [],
   "source": [
    "FUSE.ProgressMeter.ijulia_behavior(:clear)\n",
    "\n",
    "dd, ini, act = chk[:stationary]\n",
    "\n",
    "IMAS.fxp_connect(dd)\n",
    "\n",
    "act.ActorDynamicPlasma.Nt = 60\n",
    "act.ActorDynamicPlasma.Δt = 300.0\n",
    "\n",
    "act.ActorDynamicPlasma.evolve_current = true\n",
    "act.ActorDynamicPlasma.evolve_equilibrium = false\n",
    "act.ActorDynamicPlasma.evolve_transport = false\n",
    "act.ActorDynamicPlasma.evolve_hcd = false\n",
    "act.ActorDynamicPlasma.evolve_pf_active = false\n",
    "act.ActorDynamicPlasma.evolve_pedestal = false\n",
    "\n",
    "act.ActorDynamicPlasma.ip_controller = true\n",
    "act.ActorDynamicPlasma.time_derivatives_sources = false\n",
    "\n",
    "FUSE.ActorDynamicPlasma(dd, act; verbose=false);\n",
    "\n",
    "chk[:time_dep_dt] = dd, ini, act;"
   ]
  },
  {
   "cell_type": "code",
   "execution_count": null,
   "id": "a4107523-508d-4f0f-bd2a-d9985a342ae4",
   "metadata": {
    "tags": []
   },
   "outputs": [],
   "source": [
    "using Interact\n",
    "\n",
    "time = dd.core_sources.time\n",
    "\n",
    "prog = FUSE.ProgressMeter.Progress(length(time))\n",
    "a = @animate for (k, time0) in enumerate(dd.core_sources.time)\n",
    "    FUSE.ProgressMeter.next!(prog; showvalues=((\"k\",k), (\"time\",time0)))\n",
    "\n",
    "# @manipulate for time0 in time\n",
    "\n",
    "    FUSE.plot_plasma_overview(dd, time0; min_power=1E6, aggregate_radiation=true)\n",
    "end"
   ]
  },
  {
   "cell_type": "code",
   "execution_count": null,
   "id": "f36f2042-ed8c-4a36-8709-8119d2980300",
   "metadata": {
    "tags": []
   },
   "outputs": [],
   "source": [
    "#g = gif(a, \"ITER_time_dep.gif\", fps=12)\n",
    "g = gif(a; fps=12)\n",
    "display(g)"
   ]
  },
  {
   "cell_type": "code",
   "execution_count": null,
   "id": "95a7320d-ba2c-4f58-8c96-55b984d616c8",
   "metadata": {},
   "outputs": [],
   "source": []
  }
 ],
 "metadata": {
  "@webio": {
   "lastCommId": "2da169ba-50ec-416a-b2f4-cfef5869ca1d",
   "lastKernelId": "7ccc8c1f-db65-4966-b168-36dabde24c01"
  },
  "kernelspec": {
   "display_name": "Julia (8 threads) 1.10.4",
   "language": "julia",
   "name": "julia-_8-threads_-1.10"
  },
  "language_info": {
   "file_extension": ".jl",
   "mimetype": "application/julia",
   "name": "julia",
   "version": "1.10.4"
  }
 },
 "nbformat": 4,
 "nbformat_minor": 5
}
