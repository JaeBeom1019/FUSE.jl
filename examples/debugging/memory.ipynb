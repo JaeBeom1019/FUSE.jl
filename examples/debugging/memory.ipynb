{
 "cells": [
  {
   "cell_type": "code",
   "execution_count": 1,
   "id": "d4f05cb0-7e0b-4b11-8ea8-5b2d05961146",
   "metadata": {
    "execution": {
     "iopub.execute_input": "2023-10-24T13:49:38.984000-07:00",
     "iopub.status.busy": "2023-10-24T13:49:38.686000-07:00",
     "iopub.status.idle": "2023-10-24T13:50:16.994000-07:00",
     "shell.execute_reply": "2023-10-24T13:50:16.955000-07:00"
    },
    "tags": []
   },
   "outputs": [
    {
     "name": "stderr",
     "output_type": "stream",
     "text": [
      "\u001b[36m\u001b[1m[ \u001b[22m\u001b[39m\u001b[36m\u001b[1mInfo: \u001b[22m\u001b[39mPrecompiling Revise [295af30f-e4ad-537b-8983-00126c2a3abe]\n",
      "\u001b[33m\u001b[1m┌ \u001b[22m\u001b[39m\u001b[33m\u001b[1mWarning: \u001b[22m\u001b[39mThe call to compilecache failed to create a usable precompiled cache file for Revise [295af30f-e4ad-537b-8983-00126c2a3abe]\n",
      "\u001b[33m\u001b[1m│ \u001b[22m\u001b[39m  exception = Required dependency JuliaInterpreter [aa1ae85d-cabe-5617-a682-6adf51b2e16a] failed to load from a cache file.\n",
      "\u001b[33m\u001b[1m└ \u001b[22m\u001b[39m\u001b[90m@ Base loading.jl:1818\u001b[39m\n",
      "\u001b[36m\u001b[1m[ \u001b[22m\u001b[39m\u001b[36m\u001b[1mInfo: \u001b[22m\u001b[39mPrecompiling JuliaInterpreter [aa1ae85d-cabe-5617-a682-6adf51b2e16a]\n",
      "\u001b[36m\u001b[1m[ \u001b[22m\u001b[39m\u001b[36m\u001b[1mInfo: \u001b[22m\u001b[39mPrecompiling LoweredCodeUtils [6f1432cf-f94c-5a45-995e-cdbf5db27b0b]\n"
     ]
    },
    {
     "name": "stdout",
     "output_type": "stream",
     "text": [
      " 20.905548 seconds (36.99 M allocations: 2.459 GiB, 4.66% gc time, 5.56% compilation time: 18% of which was recompilation)\n"
     ]
    }
   ],
   "source": [
    "using Revise\n",
    "@time using FUSE\n",
    "using Plots;\n",
    "FUSE.logging(Logging.Info; actors=Logging.Info);"
   ]
  },
  {
   "cell_type": "code",
   "execution_count": 2,
   "id": "7d0983db-e888-4601-87f6-3765955ae593",
   "metadata": {
    "execution": {
     "iopub.execute_input": "2023-10-24T13:50:17.178000-07:00",
     "iopub.status.busy": "2023-10-24T13:50:16.994000-07:00",
     "iopub.status.idle": "2023-10-24T13:50:18.366000-07:00",
     "shell.execute_reply": "2023-10-24T13:50:18.365000-07:00"
    },
    "tags": []
   },
   "outputs": [],
   "source": [
    "save_folder = \"/Users/slendebroek/FUSE_memory\" # change to your save_folder\n",
    "\n",
    "if !isdir(save_folder)\n",
    "    mkdir(save_folder)\n",
    "end"
   ]
  },
  {
   "cell_type": "code",
   "execution_count": 20,
   "id": "4afe4a8f-247d-4abf-b48f-01703dbb84b2",
   "metadata": {
    "execution": {
     "iopub.execute_input": "2023-10-24T14:06:10.030000-07:00",
     "iopub.status.busy": "2023-10-24T14:06:10.029000-07:00",
     "iopub.status.idle": "2023-10-24T14:06:12.734000-07:00",
     "shell.execute_reply": "2023-10-24T14:06:12.734000-07:00"
    },
    "tags": []
   },
   "outputs": [
    {
     "name": "stdout",
     "output_type": "stream",
     "text": [
      "Working with 4 processes on F-F9Q72P69Y\n"
     ]
    },
    {
     "data": {
      "text/plain": [
       "\"/Users/slendebroek/.julia/dev/FUSE/examples/actors\""
      ]
     },
     "metadata": {},
     "output_type": "display_data"
    }
   ],
   "source": [
    "old_dir = pwd()\n",
    "mkpath(save_folder)\n",
    "try\n",
    "    cd(save_folder) # this is to save temporary distributed files in working folder\n",
    "    FUSE.parallel_environment(\"localhost\",5)\n",
    "finally\n",
    "    cd(old_dir)\n",
    "end\n",
    "display(pwd())\n"
   ]
  },
  {
   "cell_type": "code",
   "execution_count": 21,
   "id": "fa759725-02ed-47db-bce6-44988ff169e4",
   "metadata": {
    "execution": {
     "iopub.execute_input": "2023-10-24T14:06:13.623000-07:00",
     "iopub.status.busy": "2023-10-24T14:06:13.623000-07:00",
     "iopub.status.idle": "2023-10-24T14:06:32.864000-07:00",
     "shell.execute_reply": "2023-10-24T14:06:32.864000-07:00"
    },
    "tags": []
   },
   "outputs": [],
   "source": [
    "#minimal working example for loading and saving dd using pmap\n",
    "using Distributed\n",
    "@everywhere import IMAS\n",
    "@everywhere import FUSE\n",
    "\n",
    "@everywhere function load_case(input_folder)\n",
    "    IMAS.json2imas(joinpath(input_folder,\"dd.json\")),FUSE.json2act(joinpath(input_folder,\"act.json\")) \n",
    "end\n",
    "   \n",
    "\n",
    "@everywhere function run_case_try(folder,input_folder)\n",
    "    if !isdir(folder)\n",
    "        mkdir(folder)\n",
    "    end\n",
    "    \n",
    "    try\n",
    "        dd,act = load_case(input_folder)\n",
    "        \n",
    "        FUSE.ActorNoOperation(dd,act)\n",
    "    \n",
    "        FUSE.save(FUSE.memtrace, joinpath(folder, \"memtrace.txt\"))\n",
    "        IMAS.imas2json(dd,joinpath(folder,\"outputdd.json\"))\n",
    "    catch e\n",
    "        println(e)\n",
    "    end\n",
    "    return nothing\n",
    "end\n",
    "\n",
    "@everywhere function run_case_no_try(folder,input_folder)\n",
    "\n",
    "    if !isdir(folder)\n",
    "        mkdir(folder)\n",
    "    end\n",
    "    \n",
    "    dd,act = load_case(input_folder)\n",
    "\n",
    "    FUSE.ActorNoOperation(dd,act)\n",
    "\n",
    "    FUSE.save(FUSE.memtrace, joinpath(folder, \"memtrace.txt\"))\n",
    "    IMAS.imas2json(dd,joinpath(folder,\"outputdd.json\"))\n",
    "\n",
    "    return nothing\n",
    "end\n",
    "\n",
    "\n",
    "@everywhere function _run_case_no_try(folder,input_folder)\n",
    "    tmp = run_case_no_try(folder,input_folder)\n",
    "    tmp = nothing\n",
    "    Gc.gc()\n",
    "end\n"
   ]
  },
  {
   "cell_type": "code",
   "execution_count": 26,
   "id": "6c275aab-4b1f-4afb-b88f-ded6bf96a5ec",
   "metadata": {
    "execution": {
     "iopub.execute_input": "2023-10-24T14:21:48.699000-07:00",
     "iopub.status.busy": "2023-10-24T14:21:48.699000-07:00",
     "iopub.status.idle": "2023-10-24T14:21:50.326000-07:00",
     "shell.execute_reply": "2023-10-24T14:21:50.325000-07:00"
    },
    "tags": []
   },
   "outputs": [
    {
     "name": "stderr",
     "output_type": "stream",
     "text": [
      "\u001b[36m\u001b[1m[ \u001b[22m\u001b[39m\u001b[36m\u001b[1mInfo: \u001b[22m\u001b[39mNoOperation\n"
     ]
    }
   ],
   "source": [
    "N_runs = 5000\n",
    "to_run = [joinpath(save_folder,\"$i\") for i in 1000:1:1000 + N_runs]\n",
    "input_folder = save_folder\n",
    "\n",
    "run_case_no_try(to_run[1],input_folder); # test 1 case"
   ]
  },
  {
   "cell_type": "code",
   "execution_count": null,
   "id": "79f778a2-00ee-498d-8338-3decef9a2618",
   "metadata": {
    "execution": {
     "iopub.execute_input": "2023-10-24T14:23:05.774000-07:00",
     "iopub.status.busy": "2023-10-24T14:23:05.774000-07:00"
    },
    "tags": []
   },
   "outputs": [],
   "source": [
    "pmap(folder -> run_case_no_try(folder, input_folder), to_run)    # load & save without gc\n",
    "#pmap(folder -> _run_case_no_try(folder, input_folder), to_run)  # warpped function with gc"
   ]
  },
  {
   "cell_type": "code",
   "execution_count": null,
   "id": "63fc37a1-a49e-47a5-9c37-e38b27d4d07f",
   "metadata": {
    "tags": []
   },
   "outputs": [],
   "source": [
    "# to see memory output\n",
    "\n",
    "f1 = readdir(save_folder)[end-3]\n",
    "@show f1\n",
    "mem = FUSE.load(FUSE.MemTrace(),joinpath(save_folder,f1,\"memtrace.txt\"))\n",
    "\n",
    "plot(mem,0)"
   ]
  },
  {
   "cell_type": "code",
   "execution_count": null,
   "id": "26aa7f36-f5e5-4907-b032-aa484716c790",
   "metadata": {},
   "outputs": [],
   "source": [
    "# MWE using the optimizer (setup part)\n",
    "\n",
    "ini,act = FUSE.case_parameters(:KDEMO);\n",
    "\n",
    "\n",
    "### Ini settings\n",
    "\n",
    "ini.equilibrium.B0 = 6.5\n",
    "\n",
    "ini.nbi.beam_energy = 5e6# ↔ [1e5,1e7]\n",
    "ini.nbi.power_launched = 10e6\n",
    "ini.requirements.log10_flattop_duration = log10(7200.0)#log10(1800.0) # log10(7200.0)\n",
    "ini.requirements.power_electric_net = 250e6\n",
    "ini.equilibrium.κ = 0.95\n",
    "ini.equilibrium.ip = 15e6\n",
    "ini.equilibrium.pressure_core = 1e4\n",
    "\n",
    "ini.tf.technology = :HTS\n",
    "ini.oh.technology = :HTS\n",
    "\n",
    "\n",
    "### Act settings\n",
    "act.ActorEquilibrium.model = :TEQUILA\n",
    "act.ActorStabilityLimits.models = [:safety_factor_rho_08_lt_2]\n",
    "act.ActorCoreTransport.model = :FluxMatcher\n",
    "\n",
    "act.ActorWholeFacility.update_plasma = true\n",
    "\n",
    "act.ActorPFcoilsOpt.optimization_scheme = :none\n",
    "act.ActorPedestal.only_powerlaw = true\n",
    "\n",
    "act.ActorTGLF.user_specified_model = \"sat1_em_iter\"\n",
    "act.ActorFluxMatcher.rho_transport = 0.2:0.05:0.85\n",
    "act.ActorFluxMatcher.evolve_densities = :flux_match\n",
    "act.ActorFluxMatcher.max_iterations = 1000\n",
    "\n",
    "ini.ec_launchers.power_launched = ini.ec_launchers.power_launched[1] ↔ [1e6, 200e6];\n",
    "ini.core_profiles.zeff = ini.core_profiles.zeff ↔ [1.1, 2.8]\n",
    "ini.core_profiles.greenwald_fraction = ini.core_profiles.greenwald_fraction ↔ [0.8, 1.3]\n",
    "\n",
    "ini.nbi.beam_energy = 1e6 ↔ [1e5,1e7]\n",
    "ini.nbi.power_launched = 10e6 ↔ [1e5,40e6]\n",
    "\n",
    "ini.equilibrium.δ = ini.equilibrium.δ ↔ [0.3,0.7]\n",
    "#ini.equilibrium.ζ = ini.equilibrium.ζ ↔ [0,0.2]\n",
    "ini.equilibrium.κ = 0.95 # k set to be 95% of maximum controllable value\n",
    "ini.equilibrium.B0 = ini.equilibrium.B0 ↔ [3.0, 12.0]\n",
    "ini.equilibrium.ip = ini.equilibrium.ip ↔ [5.0e6, 22e6]\n",
    "ini.equilibrium.R0 = ini.equilibrium.R0 ↔ [5.0, 10.0];\n",
    "ini.requirements.log10_flattop_duration = log10(7200.0) ↔ [log10(3600.0), log10(1000.0 * 3600.0)];\n",
    "ini.requirements.power_electric_net = 250e6\n",
    "\n",
    "ini.tf.technology = :HTS ↔ (:HTS, :LTS);\n",
    "ini.oh.technology = :HTS ↔ (:HTS, :LTS);\n",
    "\n",
    "###\n",
    "\n",
    "dd_init = FUSE.init(ini,act);\n",
    "display(plot(dd_init.equilibrium))\n",
    "display(plot(dd_init.core_sources))\n",
    "display(plot(dd_init.core_profiles))\n",
    "\n",
    "# FUSE comes with a library of objective and constraints functions\n",
    "OFL = deepcopy(FUSE.ObjectiveFunctionsLibrary)\n",
    "CFL = deepcopy(FUSE.ConstraintFunctionsLibrary)\n",
    "println(\"== OBJECTIVE FUNCTIONS ==\")\n",
    "display(OFL)\n",
    "println()\n",
    "println(\"== CONSTRAINT FUNCTIONS ==\")\n",
    "display(CFL)\n",
    "\n",
    "\n",
    "objective_functions = [OFL[:min_βn], OFL[:min_capital_cost]]#, OFL[:max_log10_flattop]]\n",
    "constraint_functions = [CFL[:min_required_power_electric_net]]\n",
    "println(\"== OBJECTIVE FUNCTIONS ==\")\n",
    "display(objective_functions)\n",
    "println()\n",
    "println(\"== CONSTRAINT FUNCTIONS ==\")\n",
    "display(constraint_functions)\n"
   ]
  },
  {
   "cell_type": "code",
   "execution_count": null,
   "id": "02fdb57a-c655-4850-91b3-73482121d9ca",
   "metadata": {},
   "outputs": [],
   "source": [
    "# run the optimization\n",
    "\n",
    "save_folder_opt = joinpath(save_folder,\"opt\")\n",
    "if !isdir(save_folder_opt)\n",
    "    mkdir(save_folder_opt)\n",
    "end\n",
    "\n",
    "optimization_parameters = Dict(\n",
    "    :N => 4, # even number (population size)\n",
    "    :iterations => 5,   # number of genetic algo iterations\n",
    "    :continue_state => missing,\n",
    "    :save_folder => save_folder_opt)\n",
    "\n",
    "# run optimization\n",
    "\n",
    "# This one runs no real physics just initializes\n",
    "state = FUSE.workflow_multiobjective_optimization(ini, act, FUSE.ActorNoOperation, objective_functions, constraint_functions; optimization_parameters...);\n",
    "\n",
    "# This one runs with physics\n",
    "#state = FUSE.workflow_multiobjective_optimization(ini, act, FUSE.ActorWholeFacility, objective_functions, constraint_functions; optimization_parameters...);\n"
   ]
  },
  {
   "cell_type": "code",
   "execution_count": null,
   "id": "d8ddb27c-280b-4ec5-a650-636f5667dd72",
   "metadata": {},
   "outputs": [],
   "source": []
  }
 ],
 "metadata": {
  "kernelspec": {
   "display_name": "Julia 1.9.3",
   "language": "julia",
   "name": "julia-1.9"
  },
  "language_info": {
   "file_extension": ".jl",
   "mimetype": "application/julia",
   "name": "julia",
   "version": "1.9.3"
  }
 },
 "nbformat": 4,
 "nbformat_minor": 5
}
