{
 "cells": [
  {
   "cell_type": "markdown",
   "id": "74f43e27",
   "metadata": {},
   "source": [
    "# GA's FPP use case"
   ]
  },
  {
   "cell_type": "code",
   "execution_count": 1,
   "id": "038c65a1-369e-487b-a4ea-1d0fe33b3173",
   "metadata": {},
   "outputs": [
    {
     "name": "stderr",
     "output_type": "stream",
     "text": [
      "┌ Info: Precompiling FUSE [e64856f0-3bb8-4376-b4b7-c03396503992]\n",
      "└ @ Base loading.jl:1423\n"
     ]
    },
    {
     "data": {
      "application/vnd.webio.node+json": {
       "children": [],
       "instanceArgs": {
        "namespace": "html",
        "tag": "div"
       },
       "nodeType": "DOM",
       "props": {},
       "type": "node"
      },
      "text/html": [
       "<div style=\"padding: 1em; background-color: #f8d6da; border: 1px solid #f5c6cb; font-weight: bold;\">\n",
       "<p>The WebIO Jupyter extension was not detected. See the\n",
       "<a href=\"https://juliagizmos.github.io/WebIO.jl/latest/providers/ijulia/\" target=\"_blank\">\n",
       "    WebIO Jupyter integration documentation\n",
       "</a>\n",
       "for more information.\n",
       "</div>\n"
      ],
      "text/plain": [
       "WebIO._IJuliaInit()"
      ]
     },
     "metadata": {
      "@webio": {
       "kernelId": "02fd490c-0d00-4f1b-b1fa-b5e978e31b7f"
      }
     },
     "output_type": "display_data"
    }
   ],
   "source": [
    "using Revise\n",
    "using FUSE\n",
    "using Plots; gr();\n",
    "global_logger(FUSE.logger);"
   ]
  },
  {
   "cell_type": "markdown",
   "id": "da0f26c9-5b95-446c-ba11-e3044ed62f7b",
   "metadata": {
    "tags": []
   },
   "source": [
    "### Get `ini` and `act` for FPP use case\n",
    "* [ini documentation](https://fuse.help/ini.html)\n",
    "* [act documentation](https://fuse.help/act.html)"
   ]
  },
  {
   "cell_type": "code",
   "execution_count": null,
   "id": "e07fc683-3be0-4109-b81a-ed4346870fe6",
   "metadata": {},
   "outputs": [],
   "source": [
    "ini, act = FUSE.case_parameters(:FPP; version=:v1_demount, init_from=:scalars);"
   ]
  },
  {
   "cell_type": "markdown",
   "id": "4fa66465-5632-464e-bae7-1cb8a01ee88b",
   "metadata": {},
   "source": [
    "### Customize `ini` (or `act`) parameters\n",
    "* Changing Zeff from 1.1 to 2.0 will improve confinement significantly due to the pedestal increase!"
   ]
  },
  {
   "cell_type": "code",
   "execution_count": null,
   "id": "f49310e6-43d5-47a6-8829-f7e864b9e1a0",
   "metadata": {},
   "outputs": [],
   "source": [
    "ini.core_profiles.zeff = 2.0\n",
    "ini.core_profiles # see the content of ini.core_profiles"
   ]
  },
  {
   "cell_type": "markdown",
   "id": "8d3c3029-de8e-4541-b62b-20bd39f609e5",
   "metadata": {},
   "source": [
    "### Initialize `dd` based on the `ini` and `act` parameters\n",
    "\n",
    "* [Data structure (dd) documentation](https://fuse.help/dd.html)"
   ]
  },
  {
   "cell_type": "code",
   "execution_count": null,
   "id": "2ecf5fd7-755f-4b02-a511-8515d88c2c37",
   "metadata": {},
   "outputs": [],
   "source": [
    "dd = IMAS.dd()\n",
    "FUSE.init(dd, ini, act; do_plot=true);"
   ]
  },
  {
   "cell_type": "markdown",
   "id": "0b1009eb",
   "metadata": {},
   "source": [
    "### Run the coupled equilibrium-transport actor \n",
    "\n",
    "* [Equilibrium Transport actor documentation](https://fuse.help/actors.html#EquilibriumTransport)"
   ]
  },
  {
   "cell_type": "code",
   "execution_count": null,
   "id": "93501657-ddab-412b-8fc9-66bd009d10c6",
   "metadata": {},
   "outputs": [],
   "source": [
    "# look at what parameters for example ActorEquilibriumTransport and ActorTauenn use\n",
    "display(act.ActorEquilibriumTransport)\n",
    "display(act.ActorTauenn)\n",
    "\n",
    "# look at the details some of these parameters\n",
    "display(act.ActorTauenn[:temp_pedestal_ratio])\n",
    "\n",
    "# modify parameters\n",
    "act.ActorTauenn.temp_pedestal_ratio = 0.9;"
   ]
  },
  {
   "cell_type": "code",
   "execution_count": null,
   "id": "7793d4e1",
   "metadata": {},
   "outputs": [],
   "source": [
    "# run the actor\n",
    "FUSE.ActorEquilibriumTransport(dd, act; do_plot=true);"
   ]
  }
 ],
 "metadata": {
  "@webio": {
   "lastCommId": "50360ff0-ebaa-41c5-81cb-9ac8fc615b38",
   "lastKernelId": "02fd490c-0d00-4f1b-b1fa-b5e978e31b7f"
  },
  "kernelspec": {
   "display_name": "Julia 1.7.3",
   "language": "julia",
   "name": "julia-1.7"
  },
  "language_info": {
   "file_extension": ".jl",
   "mimetype": "application/julia",
   "name": "julia",
   "version": "1.7.3"
  }
 },
 "nbformat": 4,
 "nbformat_minor": 5
}
