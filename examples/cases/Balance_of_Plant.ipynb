{
 "cells": [
  {
   "cell_type": "code",
   "execution_count": null,
   "id": "cc559b9e-0829-473f-bdc1-08bfb84dacca",
   "metadata": {},
   "outputs": [],
   "source": [
    "using Revise\n",
    "@time using FUSE\n",
    "using Plots; gr();\n",
    "global_logger(FUSE.logger);"
   ]
  },
  {
   "cell_type": "markdown",
   "id": "09535cb8-9230-43b5-a113-e2cd63664a6a",
   "metadata": {},
   "source": [
    "### Initialize FPP v1_demount case to run balance of plant on\n",
    "[FPP v1_demount_case_documentation](https://fuse.help/cases.html#FPP)"
   ]
  },
  {
   "cell_type": "code",
   "execution_count": null,
   "id": "9efc3773-e08b-4229-a8c7-2dd70c729143",
   "metadata": {},
   "outputs": [],
   "source": [
    "dd, ini, act = FUSE.init(:FPP,version=:v1_demount, init_from=:ods,do_plot=false);"
   ]
  },
  {
   "cell_type": "markdown",
   "id": "8b364030-898b-41ce-8776-7bf4c096b3af",
   "metadata": {},
   "source": [
    "### Run Actors that will be needed for balance of plant"
   ]
  },
  {
   "cell_type": "code",
   "execution_count": null,
   "id": "3b4fab4a-9600-4ec8-8026-b52419464451",
   "metadata": {},
   "outputs": [],
   "source": [
    "FUSE.ActorEquilibriumTransport(dd, act)\n",
    "FUSE.ActorHFSsizing(dd, act)\n",
    "FUSE.ActorLFSsizing(dd, act)\n",
    "FUSE.ActorCXbuild(dd, act)\n",
    "FUSE.ActorPFcoilsOpt(dd, act);"
   ]
  },
  {
   "cell_type": "markdown",
   "id": "da6ce578-1373-40fd-bf4b-1d7ef36baabe",
   "metadata": {},
   "source": [
    "### Running the simple blanket actor\n",
    "[ActorBlanket_documentation](https://fuse.help/actors.html#Blanket)"
   ]
  },
  {
   "cell_type": "code",
   "execution_count": null,
   "id": "ba341eb3-3681-4628-91e3-a0f4cebebc4f",
   "metadata": {},
   "outputs": [],
   "source": [
    "FUSE.ActorBlanket(dd,act);\n",
    "dd.blanket"
   ]
  },
  {
   "cell_type": "markdown",
   "id": "87aa53d7-6103-4e09-b50f-e62f422a97c9",
   "metadata": {},
   "source": [
    "### Running the simple divertors actor\n",
    "[ActorDivertors_documentation](https://fuse.help/actors.html#Divertors)"
   ]
  },
  {
   "cell_type": "code",
   "execution_count": null,
   "id": "43275371-4f84-4151-b406-728bb4c8e0db",
   "metadata": {},
   "outputs": [],
   "source": [
    "FUSE.ActorDivertors(dd,act)\n",
    "dd.divertors"
   ]
  },
  {
   "cell_type": "code",
   "execution_count": null,
   "id": "f800e97a-dfc9-472f-a163-c28ab18abae1",
   "metadata": {},
   "outputs": [],
   "source": [
    "FUSE.ActorBalanceOfPlant(dd,act);\n",
    "FUSE.ActorCosting(dd, act);\n",
    "\n",
    "println(\"The net electrical power to the grid is $(round(dd.balance_of_plant.power_electric_net[end]/1e6,digits=1)) [MWe] \\nWith Qplant = $(round(dd.balance_of_plant.Q_plant[end],digits=2)) \\n\")\n",
    "display(dd.balance_of_plant)\n"
   ]
  }
 ],
 "metadata": {
  "kernelspec": {
   "display_name": "Julia tracecompile 1.7.3",
   "language": "julia",
   "name": "julia-tracecompile-1.7"
  },
  "language_info": {
   "file_extension": ".jl",
   "mimetype": "application/julia",
   "name": "julia",
   "version": "1.7.3"
  }
 },
 "nbformat": 4,
 "nbformat_minor": 5
}
