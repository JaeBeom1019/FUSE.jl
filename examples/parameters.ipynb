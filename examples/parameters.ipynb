{
 "cells": [
  {
   "cell_type": "code",
   "execution_count": 1,
   "id": "0eef2b1e-a3d4-4995-8e59-2b38e3deb80f",
   "metadata": {},
   "outputs": [
    {
     "name": "stderr",
     "output_type": "stream",
     "text": [
      "\u001b[32m\u001b[1m  Activating\u001b[22m\u001b[39m project at `~/Coding/julia/FUSE`\n",
      "┌ Info: Precompiling FUSE [e64856f0-3bb8-4376-b4b7-c03396503992]\n",
      "└ @ Base loading.jl:1423\n"
     ]
    }
   ],
   "source": [
    "using Pkg\n",
    "Pkg.activate(\"..\")\n",
    "using Revise\n",
    "using FUSE"
   ]
  },
  {
   "cell_type": "code",
   "execution_count": 46,
   "id": "4fa386b3-0ef6-4a11-85bf-ea90516eae9f",
   "metadata": {},
   "outputs": [
    {
     "data": {
      "text/plain": [
       "\u001b[0m\u001b[1mbuild\u001b[22m\n",
       "\u001b[0m  \u001b[30mis_nuclear_facility\u001b[39m\u001b[31m ➡ \u001b[39m\u001b[30mfalse\u001b[39m\n",
       "\u001b[0m  \u001b[30mn_oh_coils\u001b[39m\u001b[31m ➡ \u001b[39m\u001b[30m20\u001b[39m\n",
       "\u001b[0m  \u001b[30mn_pf_coils_inside\u001b[39m\u001b[31m ➡ \u001b[39m\u001b[30m18\u001b[39m\n",
       "\u001b[0m  \u001b[30mn_pf_coils_outside\u001b[39m\u001b[31m ➡ \u001b[39m\u001b[30m0\u001b[39m\n",
       "\u001b[0m\u001b[1mcoil\u001b[22m\n",
       "\u001b[0m  \u001b[34mgreen_model\u001b[39m\u001b[31m ➡ \u001b[39m\u001b[34msimple\u001b[39m\n",
       "\u001b[0m\u001b[1mequilibrium\u001b[22m\n",
       "\u001b[0m  \u001b[34mZ0\u001b[39m\u001b[31m ➡ \u001b[39m\u001b[34m0.0\u001b[39m\n",
       "\u001b[0m  \u001b[34mngrid\u001b[39m\u001b[31m ➡ \u001b[39m\u001b[34m129\u001b[39m\n",
       "\u001b[0m\u001b[1mgasc\u001b[22m\n",
       "\u001b[0m  \u001b[34mno_small_gaps\u001b[39m\u001b[31m ➡ \u001b[39m\u001b[34mtrue\u001b[39m\n",
       "\u001b[0m\u001b[1mgeneral\u001b[22m\n",
       "\u001b[0m  \u001b[30minit_from\u001b[39m\u001b[31m ➡ \u001b[39m\u001b[30mods\u001b[39m\n",
       "\u001b[0m\u001b[1mods\u001b[22m\n",
       "\u001b[0m  \u001b[30mfilename\u001b[39m\u001b[31m ➡ \u001b[39m\u001b[30m/Users/meneghini/Coding/julia/FUSE/src/../sample/D3D_eq_ods.json\u001b[39m\n"
      ]
     },
     "execution_count": 46,
     "metadata": {},
     "output_type": "execute_result"
    }
   ],
   "source": [
    "params=Parameters(:D3D)"
   ]
  },
  {
   "cell_type": "code",
   "execution_count": 45,
   "id": "5e67b864-ee12-4afe-93c8-91bfc8b8f4cf",
   "metadata": {},
   "outputs": [
    {
     "data": {
      "text/plain": [
       "\u001b[0m\u001b[1mbuild\u001b[22m\n",
       "\u001b[0m  \u001b[30mis_nuclear_facility\u001b[39m\u001b[31m ➡ \u001b[39m\u001b[30mtrue\u001b[39m\n",
       "\u001b[0m  \u001b[31mn_oh_coils\u001b[39m\u001b[31m ➡ \u001b[39m\u001b[31m8\u001b[39m\n",
       "\u001b[0m  \u001b[30mn_pf_coils_inside\u001b[39m\u001b[31m ➡ \u001b[39m\u001b[30m0\u001b[39m\n",
       "\u001b[0m  \u001b[30mn_pf_coils_outside\u001b[39m\u001b[31m ➡ \u001b[39m\u001b[30m6\u001b[39m\n",
       "\u001b[0m\u001b[1mcoil\u001b[22m\n",
       "\u001b[0m  \u001b[34mgreen_model\u001b[39m\u001b[31m ➡ \u001b[39m\u001b[34msimple\u001b[39m\n",
       "\u001b[0m\u001b[1mequilibrium\u001b[22m\n",
       "\u001b[0m  \u001b[30mB0\u001b[39m\u001b[31m ➡ \u001b[39m\u001b[30m5.3\u001b[39m\n",
       "\u001b[0m  \u001b[30mR0\u001b[39m\u001b[31m ➡ \u001b[39m\u001b[30m6.2\u001b[39m\n",
       "\u001b[0m  \u001b[30mZ0\u001b[39m\u001b[31m ➡ \u001b[39m\u001b[30m0.4\u001b[39m\n",
       "\u001b[0m  \u001b[30mip\u001b[39m\u001b[31m ➡ \u001b[39m\u001b[30m1.5e7\u001b[39m\n",
       "\u001b[0m  \u001b[34mngrid\u001b[39m\u001b[31m ➡ \u001b[39m\u001b[34m129\u001b[39m\n",
       "\u001b[0m  \u001b[30msymmetric\u001b[39m\u001b[31m ➡ \u001b[39m\u001b[30mfalse\u001b[39m\n",
       "\u001b[0m  \u001b[30mx_point\u001b[39m\u001b[31m ➡ \u001b[39m\u001b[30mtrue\u001b[39m\n",
       "\u001b[0m  \u001b[30mβn\u001b[39m\u001b[31m ➡ \u001b[39m\u001b[30m2.0\u001b[39m\n",
       "\u001b[0m  \u001b[30mδ\u001b[39m\u001b[31m ➡ \u001b[39m\u001b[30m0.485\u001b[39m\n",
       "\u001b[0m  \u001b[30mκ\u001b[39m\u001b[31m ➡ \u001b[39m\u001b[30m1.85\u001b[39m\n",
       "\u001b[0m  \u001b[30mϵ\u001b[39m\u001b[31m ➡ \u001b[39m\u001b[30m0.32\u001b[39m\n",
       "\u001b[0m\u001b[1mgasc\u001b[22m\n",
       "\u001b[0m  \u001b[34mno_small_gaps\u001b[39m\u001b[31m ➡ \u001b[39m\u001b[34mtrue\u001b[39m\n",
       "\u001b[0m\u001b[1mgeneral\u001b[22m\n",
       "\u001b[0m  \u001b[30minit_from\u001b[39m\u001b[31m ➡ \u001b[39m\u001b[30mscalars\u001b[39m\n",
       "\u001b[0m\u001b[1mods\u001b[22m\n"
      ]
     },
     "execution_count": 45,
     "metadata": {},
     "output_type": "execute_result"
    }
   ],
   "source": [
    "params=Parameters(:ITER, init_from=:scalars)\n",
    "params.build.n_oh_coils = 8\n",
    "params"
   ]
  },
  {
   "cell_type": "code",
   "execution_count": 47,
   "id": "68d95c51-8cff-4a3b-ab6d-040f2904c958",
   "metadata": {},
   "outputs": [
    {
     "data": {
      "text/plain": [
       "\u001b[0m\u001b[1mbuild\u001b[22m\n",
       "\u001b[0m  \u001b[30mis_nuclear_facility\u001b[39m\u001b[31m ➡ \u001b[39m\u001b[30mtrue\u001b[39m\n",
       "\u001b[0m  \u001b[30mn_oh_coils\u001b[39m\u001b[31m ➡ \u001b[39m\u001b[30m6\u001b[39m\n",
       "\u001b[0m  \u001b[30mn_pf_coils_inside\u001b[39m\u001b[31m ➡ \u001b[39m\u001b[30m0\u001b[39m\n",
       "\u001b[0m  \u001b[30mn_pf_coils_outside\u001b[39m\u001b[31m ➡ \u001b[39m\u001b[30m6\u001b[39m\n",
       "\u001b[0m\u001b[1mcoil\u001b[22m\n",
       "\u001b[0m  \u001b[34mgreen_model\u001b[39m\u001b[31m ➡ \u001b[39m\u001b[34msimple\u001b[39m\n",
       "\u001b[0m\u001b[1mequilibrium\u001b[22m\n",
       "\u001b[0m  \u001b[34mZ0\u001b[39m\u001b[31m ➡ \u001b[39m\u001b[34m0.0\u001b[39m\n",
       "\u001b[0m  \u001b[34mngrid\u001b[39m\u001b[31m ➡ \u001b[39m\u001b[34m129\u001b[39m\n",
       "\u001b[0m\u001b[1mgasc\u001b[22m\n",
       "\u001b[0m  \u001b[34mno_small_gaps\u001b[39m\u001b[31m ➡ \u001b[39m\u001b[34mtrue\u001b[39m\n",
       "\u001b[0m\u001b[1mgeneral\u001b[22m\n",
       "\u001b[0m  \u001b[30minit_from\u001b[39m\u001b[31m ➡ \u001b[39m\u001b[30mods\u001b[39m\n",
       "\u001b[0m\u001b[1mods\u001b[22m\n",
       "\u001b[0m  \u001b[30mfilename\u001b[39m\u001b[31m ➡ \u001b[39m\u001b[30m/Users/meneghini/Coding/julia/FUSE/src/../sample/ITER_eq_ods.json\u001b[39m\n"
      ]
     },
     "execution_count": 47,
     "metadata": {},
     "output_type": "execute_result"
    }
   ],
   "source": [
    "params=Parameters(:ITER, init_from=:ods)\n",
    "params"
   ]
  }
 ],
 "metadata": {
  "kernelspec": {
   "display_name": "Julia (4 threads) 1.7.1",
   "language": "julia",
   "name": "julia-(4-threads)-1.7"
  },
  "language_info": {
   "file_extension": ".jl",
   "mimetype": "application/julia",
   "name": "julia",
   "version": "1.7.1"
  }
 },
 "nbformat": 4,
 "nbformat_minor": 5
}
