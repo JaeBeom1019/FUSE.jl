{
 "cells": [
  {
   "cell_type": "code",
   "execution_count": null,
   "id": "d61dcfdb-a638-4a59-adf3-df98849c1bcd",
   "metadata": {
    "tags": []
   },
   "outputs": [],
   "source": [
    "using Revise\n",
    "using FUSE\n",
    "using Plots;\n",
    "FUSE.logging(Logging.Info; actors=Logging.Info);\n"
   ]
  },
  {
   "cell_type": "code",
   "execution_count": null,
   "id": "80329df2-2ece-4100-a31e-acde250e6988",
   "metadata": {
    "tags": []
   },
   "outputs": [],
   "source": [
    "# flw is the act equivalent for workflows, here workflow parameters are stored a very common one would be flw.server\n",
    "\n",
    "flw,act = FUSE.flow_parameters(:TGLFdb);\n",
    "flw"
   ]
  },
  {
   "cell_type": "code",
   "execution_count": null,
   "id": "d984ab89-239b-46c9-add5-8424aefc3753",
   "metadata": {
    "tags": []
   },
   "outputs": [],
   "source": [
    "# Interacting with flw\n",
    "flw.server = \"localhost\"\n",
    "flw.n_workers = 3\n",
    "\n",
    "flw.database_folder = \"/Users/slendebroek/tmp/sagae_notebooks/inputs\"\n",
    "flw.save_folder = \"/Users/slendebroek/tmp/sagae_notebooks/outputs3\"\n",
    "flw.sat_rules = [:sat1,:sat2] #workflow specific parameters"
   ]
  },
  {
   "cell_type": "code",
   "execution_count": null,
   "id": "3b903794-8aca-4bd1-9e7c-738acad84ad7",
   "metadata": {
    "tags": []
   },
   "outputs": [],
   "source": [
    "# wf is the actor equivalent of actors, here flw, act and outputs are kept of the workflow\n",
    "wf = FUSE.FlowTGLFdb(flw, act; n_workers=2); # it is possible to pass in keyword arguments to flw\n",
    "\n",
    "# instantiating the wf will also setup the wf i.e. FUSE.setup(wf);\n",
    "\n",
    "wf.act.ActorCoreTransport.do_plot=true\n"
   ]
  },
  {
   "cell_type": "code",
   "execution_count": null,
   "id": "4d3741c5-6fc6-4d33-ad74-680a8de95aab",
   "metadata": {
    "tags": []
   },
   "outputs": [],
   "source": [
    "# for now you will have to import FUSE everywhere in your distributed computing\n",
    "using Distributed\n",
    "@everywhere import FUSE"
   ]
  },
  {
   "cell_type": "code",
   "execution_count": null,
   "id": "7da3cffa-bceb-4db4-bdbc-eaa246d3866b",
   "metadata": {
    "tags": []
   },
   "outputs": [],
   "source": [
    "# Here are the cases for this specific workflow\n",
    "readdir(joinpath(wf.flw.database_folder,\"fuse_prepared_inputs\"))"
   ]
  },
  {
   "cell_type": "code",
   "execution_count": null,
   "id": "94ec7cfc-9324-47b8-b387-5b0b15800359",
   "metadata": {
    "tags": []
   },
   "outputs": [],
   "source": [
    "wf.act.ActorFluxMatcher.do_plot=true\n",
    "FUSE.run(wf);   # runs the workflow, do plot is turned on to see the output"
   ]
  },
  {
   "cell_type": "code",
   "execution_count": null,
   "id": "176195de-8c49-49ec-bdab-f30ff5e6bc2a",
   "metadata": {
    "tags": []
   },
   "outputs": [],
   "source": [
    "# data for this workflow is stored in a dictionary of dataframes wf.dataframes_dict\n",
    "wf.dataframes_dict[:sat1];"
   ]
  },
  {
   "cell_type": "code",
   "execution_count": null,
   "id": "5640d434-e3e6-4d0e-979f-238c3846280a",
   "metadata": {},
   "outputs": [],
   "source": [
    "# analyze the results \n",
    "FUSE.analyze(wf)\n",
    "\n"
   ]
  }
 ],
 "metadata": {
  "kernelspec": {
   "display_name": "Julia 1.10.0",
   "language": "julia",
   "name": "julia-1.10"
  },
  "language_info": {
   "file_extension": ".jl",
   "mimetype": "application/julia",
   "name": "julia",
   "version": "1.10.0"
  }
 },
 "nbformat": 4,
 "nbformat_minor": 5
}
