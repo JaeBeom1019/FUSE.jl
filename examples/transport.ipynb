{
 "cells": [
  {
   "cell_type": "code",
   "execution_count": 1,
   "id": "940d5698-6520-42b5-aacd-187f3f08d7df",
   "metadata": {},
   "outputs": [
    {
     "data": {
      "application/vnd.webio.node+json": {
       "children": [],
       "instanceArgs": {
        "namespace": "html",
        "tag": "div"
       },
       "nodeType": "DOM",
       "props": {},
       "type": "node"
      },
      "text/html": [
       "<div style=\"padding: 1em; background-color: #f8d6da; border: 1px solid #f5c6cb; font-weight: bold;\">\n",
       "<p>The WebIO Jupyter extension was not detected. See the\n",
       "<a href=\"https://juliagizmos.github.io/WebIO.jl/latest/providers/ijulia/\" target=\"_blank\">\n",
       "    WebIO Jupyter integration documentation\n",
       "</a>\n",
       "for more information.\n",
       "</div>\n"
      ],
      "text/plain": [
       "WebIO._IJuliaInit()"
      ]
     },
     "metadata": {
      "@webio": {
       "kernelId": "4685cef6-cbb7-4bdb-8580-ca1950f7b836"
      }
     },
     "output_type": "display_data"
    },
    {
     "name": "stdout",
     "output_type": "stream",
     "text": [
      "Working with 7 processes\n"
     ]
    },
    {
     "name": "stderr",
     "output_type": "stream",
     "text": [
      "\u001b[32m\u001b[1m  Activating\u001b[22m\u001b[39m project at `~/Coding/julia/FUSE`\n",
      "┌ Info: Precompiling FUSE [e64856f0-3bb8-4376-b4b7-c03396503992]\n",
      "└ @ Base loading.jl:1423\n"
     ]
    }
   ],
   "source": [
    "np=7\n",
    "using Pkg\n",
    "Pkg.activate(\"..\")\n",
    "using Distributed\n",
    "if nprocs() < np\n",
    "    addprocs(np-nprocs())\n",
    "end\n",
    "@everywhere using Revise, FUSE\n",
    "using Plots; plotlyjs();\n",
    "println(\"Working with $(nprocs()) processes\")"
   ]
  },
  {
   "cell_type": "code",
   "execution_count": 2,
   "id": "c7df35f2-4e63-44d4-b6ee-7faafaf509c2",
   "metadata": {
    "tags": []
   },
   "outputs": [],
   "source": [
    "# dd,ini,act = FUSE.init(:ITER; init_from=:ods, do_plot=true)\n",
    "# dd,ini,act = FUSE.init(:ITER; init_from=:scalars, do_plot=true)\n",
    "# dd,ini,act = FUSE.init(:D3D; do_plot=true)\n",
    "dd,ini,act = FUSE.init(:FPP; version=:v1_demount, do_plot=false)\n",
    "act.TauennActor.rho_fluxmatch=0.43\n",
    "# dd,ini,act = FUSE.init(:FPP; version=:v1, do_plot=true)\n",
    "# dd,ini,act = FUSE.init(:CAT; do_plot=true)\n",
    "# dd,ini,act = FUSE.init(:HDB5; tokamak=:JET, case=500, do_plot=true)"
   ]
  },
  {
   "cell_type": "code",
   "execution_count": 6,
   "id": "b394559a-4c18-47a0-a0eb-5e7427a135ad",
   "metadata": {},
   "outputs": [
    {
     "data": {
      "application/vnd.plotly.v1+json": {
       "data": [
        {
         "colorbar": {
          "title": {
           "text": ""
          }
         },
         "legendgroup": "Von Mises",
         "line": {
          "color": "rgba(0, 154, 250, 1.000)",
          "dash": "solid",
          "shape": "linear",
          "width": 3
         },
         "mode": "lines",
         "name": "Von Mises",
         "showlegend": true,
         "type": "scatter",
         "x": [
          1.547105485957498,
          1.5905549273480966,
          1.6340043687386956,
          1.6774538101292946,
          1.7209032515198932
         ],
         "xaxis": "x",
         "y": [
          657.824611635218,
          638.2328482136338,
          619.971714305695,
          603.1316283481365,
          587.9283483029591
         ],
         "yaxis": "y",
         "zmax": null,
         "zmin": null
        },
        {
         "colorbar": {
          "title": {
           "text": ""
          }
         },
         "legendgroup": "Von Mises",
         "line": {
          "color": "rgba(0, 154, 250, 1.000)",
          "dash": "solid",
          "shape": "linear",
          "width": 3
         },
         "mode": "lines",
         "name": "Von Mises",
         "showlegend": false,
         "type": "scatter",
         "x": [
          1.7898237129776322,
          1.8203898302966053,
          1.8509559476155788,
          1.8815220649345523,
          1.9120881822535254
         ],
         "xaxis": "x",
         "y": [
          439.0786446954767,
          434.52997856559074,
          429.66856426808096,
          424.41749005051486,
          418.7319897470118
         ],
         "yaxis": "y",
         "zmax": null,
         "zmin": null
        },
        {
         "colorbar": {
          "title": {
           "text": ""
          }
         },
         "legendgroup": "Hoop",
         "line": {
          "color": "rgba(227, 111, 71, 1.000)",
          "dash": "solid",
          "shape": "linear",
          "width": 2
         },
         "mode": "lines",
         "name": "Hoop",
         "showlegend": true,
         "type": "scatter",
         "x": [
          1.547105485957498,
          1.5905549273480966,
          1.6340043687386956,
          1.6774538101292946,
          1.7209032515198932
         ],
         "xaxis": "x",
         "y": [
          543.2450162841451,
          520.5193450832259,
          500.851178528237,
          484.2741597413583,
          470.81773906813316
         ],
         "yaxis": "y",
         "zmax": null,
         "zmin": null
        },
        {
         "colorbar": {
          "title": {
           "text": ""
          }
         },
         "legendgroup": "Hoop",
         "line": {
          "color": "rgba(227, 111, 71, 1.000)",
          "dash": "solid",
          "shape": "linear",
          "width": 2
         },
         "mode": "lines",
         "name": "Hoop",
         "showlegend": false,
         "type": "scatter",
         "x": [
          1.7898237129776322,
          1.8203898302966053,
          1.8509559476155788,
          1.8815220649345523,
          1.9120881822535254
         ],
         "xaxis": "x",
         "y": [
          -275.4514774262418,
          -270.4985550160656,
          -265.030020597718,
          -259.02116792899466,
          -252.4499694951418
         ],
         "yaxis": "y",
         "zmax": null,
         "zmin": null
        },
        {
         "colorbar": {
          "title": {
           "text": ""
          }
         },
         "legendgroup": "Radial",
         "line": {
          "color": "rgba(62, 164, 78, 1.000)",
          "dash": "solid",
          "shape": "linear",
          "width": 3
         },
         "mode": "lines",
         "name": "Radial",
         "showlegend": true,
         "type": "scatter",
         "x": [
          1.547105485957498,
          1.5905549273480966,
          1.6340043687386956,
          1.6774538101292946,
          1.7209032515198932
         ],
         "xaxis": "x",
         "y": [
          -3.1153758846450664e-14,
          -8.961262581087267,
          -11.926620156100658,
          -8.929715847224896,
          2.492300707716053e-13
         ],
         "yaxis": "y",
         "zmax": null,
         "zmin": null
        },
        {
         "colorbar": {
          "title": {
           "text": ""
          }
         },
         "legendgroup": "Radial",
         "line": {
          "color": "rgba(62, 164, 78, 1.000)",
          "dash": "solid",
          "shape": "linear",
          "width": 3
         },
         "mode": "lines",
         "name": "Radial",
         "showlegend": false,
         "type": "scatter",
         "x": [
          1.7898237129776322,
          1.8203898302966053,
          1.8509559476155788,
          1.8815220649345523,
          1.9120881822535254
         ],
         "xaxis": "x",
         "y": [
          5.873728342754273e-14,
          -3.4917535663590504,
          -4.608994870982019,
          -3.4229709591624067,
          -2.3494913371017094e-14
         ],
         "yaxis": "y",
         "zmax": null,
         "zmin": null
        },
        {
         "colorbar": {
          "title": {
           "text": ""
          }
         },
         "legendgroup": "",
         "line": {
          "color": "rgba(0, 0, 0, 1)",
          "dash": "dash",
          "shape": "linear",
          "width": 1
         },
         "mode": "lines",
         "name": "",
         "showlegend": false,
         "type": "scatter",
         "x": [
          1.547105485957498,
          1.547105485957498
         ],
         "xaxis": "x",
         "y": [
          -99230.71520061283,
          99613.0883348218
         ],
         "yaxis": "y",
         "zmax": null,
         "zmin": null
        },
        {
         "colorbar": {
          "title": {
           "text": ""
          }
         },
         "legendgroup": "",
         "line": {
          "color": "rgba(0, 0, 0, 1)",
          "dash": "dash",
          "shape": "linear",
          "width": 1
         },
         "mode": "lines",
         "name": "",
         "showlegend": false,
         "type": "scatter",
         "x": [
          1.7209032515198932,
          1.7209032515198932
         ],
         "xaxis": "x",
         "y": [
          -99230.71520061283,
          99613.0883348218
         ],
         "yaxis": "y",
         "zmax": null,
         "zmin": null
        },
        {
         "colorbar": {
          "title": {
           "text": ""
          }
         },
         "legendgroup": "",
         "line": {
          "color": "rgba(0, 0, 0, 1)",
          "dash": "dash",
          "shape": "linear",
          "width": 1
         },
         "mode": "lines",
         "name": "",
         "showlegend": false,
         "type": "scatter",
         "x": [
          1.7898237129776322,
          1.7898237129776322
         ],
         "xaxis": "x",
         "y": [
          -99230.71520061283,
          99613.0883348218
         ],
         "yaxis": "y",
         "zmax": null,
         "zmin": null
        },
        {
         "colorbar": {
          "title": {
           "text": ""
          }
         },
         "legendgroup": "",
         "line": {
          "color": "rgba(0, 0, 0, 1)",
          "dash": "dash",
          "shape": "linear",
          "width": 1
         },
         "mode": "lines",
         "name": "",
         "showlegend": false,
         "type": "scatter",
         "x": [
          1.9120881822535254,
          1.9120881822535254
         ],
         "xaxis": "x",
         "y": [
          -99230.71520061283,
          99613.0883348218
         ],
         "yaxis": "y",
         "zmax": null,
         "zmin": null
        }
       ],
       "layout": {
        "annotations": [],
        "height": 400,
        "legend_position": {
         "bgcolor": "rgba(255, 255, 255, 1.000)",
         "bordercolor": "rgba(0, 0, 0, 1)",
         "borderwidth": 1,
         "font": {
          "color": "rgba(0, 0, 0, 1)",
          "family": "sans-serif",
          "size": 11
         },
         "title": {
          "font": {
           "color": "rgba(0, 0, 0, 1)",
           "family": "sans-serif",
           "size": 15
          },
          "text": ""
         },
         "tracegroupgap": 0,
         "traceorder": "normal",
         "x": 1.05,
         "xanchor": "lower",
         "y": 0.07,
         "yanchor": "right"
        },
        "margin": {
         "b": 20,
         "l": 0,
         "r": 0,
         "t": 20
        },
        "paper_bgcolor": "rgba(255, 255, 255, 1.000)",
        "plot_bgcolor": "rgba(255, 255, 255, 1.000)",
        "showlegend": true,
        "width": 600,
        "xaxis": {
         "anchor": "y",
         "domain": [
          0.09128390201224845,
          0.9934383202099738
         ],
         "gridcolor": "rgba(0, 0, 0, 0.1)",
         "gridwidth": 0.5,
         "linecolor": "rgba(0, 0, 0, 1)",
         "mirror": false,
         "range": [
          1.5361560050686172,
          1.9230376631424062
         ],
         "showgrid": true,
         "showline": true,
         "showticklabels": true,
         "tickangle": 0,
         "tickcolor": "rgb(0, 0, 0)",
         "tickfont": {
          "color": "rgba(0, 0, 0, 1)",
          "family": "sans-serif",
          "size": 11
         },
         "tickmode": "array",
         "ticks": "inside",
         "ticktext": [
          "1.6",
          "1.7",
          "1.8",
          "1.9"
         ],
         "tickvals": [
          1.6,
          1.7000000000000002,
          1.8,
          1.9000000000000001
         ],
         "title": {
          "font": {
           "color": "rgba(0, 0, 0, 1)",
           "family": "sans-serif",
           "size": 15
          },
          "text": "Radius [m]"
         },
         "type": "linear",
         "visible": true,
         "zeroline": false,
         "zerolinecolor": "rgba(0, 0, 0, 1)"
        },
        "yaxis": {
         "anchor": "x",
         "domain": [
          0.07581474190726165,
          0.9901574803149606
         ],
         "gridcolor": "rgba(0, 0, 0, 0.1)",
         "gridwidth": 0.5,
         "linecolor": "rgba(0, 0, 0, 1)",
         "mirror": false,
         "range": [
          -303.4497600980856,
          685.8228943070618
         ],
         "showgrid": true,
         "showline": true,
         "showticklabels": true,
         "tickangle": 0,
         "tickcolor": "rgb(0, 0, 0)",
         "tickfont": {
          "color": "rgba(0, 0, 0, 1)",
          "family": "sans-serif",
          "size": 11
         },
         "tickmode": "array",
         "ticks": "inside",
         "ticktext": [
          "-200",
          "0",
          "200",
          "400",
          "600"
         ],
         "tickvals": [
          -200,
          0,
          200,
          400,
          600
         ],
         "title": {
          "font": {
           "color": "rgba(0, 0, 0, 1)",
           "family": "sans-serif",
           "size": 15
          },
          "text": "Stresses [MPa]"
         },
         "type": "linear",
         "visible": true,
         "zeroline": false,
         "zerolinecolor": "rgba(0, 0, 0, 1)"
        }
       }
      },
      "image/png": "[encoded data removed]",
      "text/html": [
       "    <div id=\"8e50114f-afc6-433e-a501-93f0a34c857b\" style=\"width:600px;height:400px;\"></div>\n",
       "    <script>\n",
       "        requirejs.config({\n",
       "        paths: {\n",
       "            Plotly: 'https://cdn.plot.ly/plotly-2.6.3.min'\n",
       "        }\n",
       "    });\n",
       "    require(['Plotly'], function (Plotly) {\n",
       "\n",
       "        Plotly.newPlot('8e50114f-afc6-433e-a501-93f0a34c857b', [\n",
       "    {\n",
       "        \"xaxis\": \"x\",\n",
       "        \"colorbar\": {\n",
       "            \"title\": \"\"\n",
       "        },\n",
       "        \"yaxis\": \"y\",\n",
       "        \"x\": [\n",
       "            1.547105485957498,\n",
       "            1.5905549273480966,\n",
       "            1.6340043687386956,\n",
       "            1.6774538101292946,\n",
       "            1.7209032515198932\n",
       "        ],\n",
       "        \"showlegend\": true,\n",
       "        \"mode\": \"lines\",\n",
       "        \"name\": \"Von Mises\",\n",
       "        \"zmin\": null,\n",
       "        \"legendgroup\": \"Von Mises\",\n",
       "        \"zmax\": null,\n",
       "        \"line\": {\n",
       "            \"color\": \"rgba(0, 154, 250, 1.000)\",\n",
       "            \"shape\": \"linear\",\n",
       "            \"dash\": \"solid\",\n",
       "            \"width\": 3\n",
       "        },\n",
       "        \"y\": [\n",
       "            657.824611635218,\n",
       "            638.2328482136338,\n",
       "            619.971714305695,\n",
       "            603.1316283481365,\n",
       "            587.9283483029591\n",
       "        ],\n",
       "        \"type\": \"scatter\"\n",
       "    },\n",
       "    {\n",
       "        \"xaxis\": \"x\",\n",
       "        \"colorbar\": {\n",
       "            \"title\": \"\"\n",
       "        },\n",
       "        \"yaxis\": \"y\",\n",
       "        \"x\": [\n",
       "            1.7898237129776322,\n",
       "            1.8203898302966053,\n",
       "            1.8509559476155788,\n",
       "            1.8815220649345523,\n",
       "            1.9120881822535254\n",
       "        ],\n",
       "        \"showlegend\": false,\n",
       "        \"mode\": \"lines\",\n",
       "        \"name\": \"Von Mises\",\n",
       "        \"zmin\": null,\n",
       "        \"legendgroup\": \"Von Mises\",\n",
       "        \"zmax\": null,\n",
       "        \"line\": {\n",
       "            \"color\": \"rgba(0, 154, 250, 1.000)\",\n",
       "            \"shape\": \"linear\",\n",
       "            \"dash\": \"solid\",\n",
       "            \"width\": 3\n",
       "        },\n",
       "        \"y\": [\n",
       "            439.0786446954767,\n",
       "            434.52997856559074,\n",
       "            429.66856426808096,\n",
       "            424.41749005051486,\n",
       "            418.7319897470118\n",
       "        ],\n",
       "        \"type\": \"scatter\"\n",
       "    },\n",
       "    {\n",
       "        \"xaxis\": \"x\",\n",
       "        \"colorbar\": {\n",
       "            \"title\": \"\"\n",
       "        },\n",
       "        \"yaxis\": \"y\",\n",
       "        \"x\": [\n",
       "            1.547105485957498,\n",
       "            1.5905549273480966,\n",
       "            1.6340043687386956,\n",
       "            1.6774538101292946,\n",
       "            1.7209032515198932\n",
       "        ],\n",
       "        \"showlegend\": true,\n",
       "        \"mode\": \"lines\",\n",
       "        \"name\": \"Hoop\",\n",
       "        \"zmin\": null,\n",
       "        \"legendgroup\": \"Hoop\",\n",
       "        \"zmax\": null,\n",
       "        \"line\": {\n",
       "            \"color\": \"rgba(227, 111, 71, 1.000)\",\n",
       "            \"shape\": \"linear\",\n",
       "            \"dash\": \"solid\",\n",
       "            \"width\": 2\n",
       "        },\n",
       "        \"y\": [\n",
       "            543.2450162841451,\n",
       "            520.5193450832259,\n",
       "            500.851178528237,\n",
       "            484.2741597413583,\n",
       "            470.81773906813316\n",
       "        ],\n",
       "        \"type\": \"scatter\"\n",
       "    },\n",
       "    {\n",
       "        \"xaxis\": \"x\",\n",
       "        \"colorbar\": {\n",
       "            \"title\": \"\"\n",
       "        },\n",
       "        \"yaxis\": \"y\",\n",
       "        \"x\": [\n",
       "            1.7898237129776322,\n",
       "            1.8203898302966053,\n",
       "            1.8509559476155788,\n",
       "            1.8815220649345523,\n",
       "            1.9120881822535254\n",
       "        ],\n",
       "        \"showlegend\": false,\n",
       "        \"mode\": \"lines\",\n",
       "        \"name\": \"Hoop\",\n",
       "        \"zmin\": null,\n",
       "        \"legendgroup\": \"Hoop\",\n",
       "        \"zmax\": null,\n",
       "        \"line\": {\n",
       "            \"color\": \"rgba(227, 111, 71, 1.000)\",\n",
       "            \"shape\": \"linear\",\n",
       "            \"dash\": \"solid\",\n",
       "            \"width\": 2\n",
       "        },\n",
       "        \"y\": [\n",
       "            -275.4514774262418,\n",
       "            -270.4985550160656,\n",
       "            -265.030020597718,\n",
       "            -259.02116792899466,\n",
       "            -252.4499694951418\n",
       "        ],\n",
       "        \"type\": \"scatter\"\n",
       "    },\n",
       "    {\n",
       "        \"xaxis\": \"x\",\n",
       "        \"colorbar\": {\n",
       "            \"title\": \"\"\n",
       "        },\n",
       "        \"yaxis\": \"y\",\n",
       "        \"x\": [\n",
       "            1.547105485957498,\n",
       "            1.5905549273480966,\n",
       "            1.6340043687386956,\n",
       "            1.6774538101292946,\n",
       "            1.7209032515198932\n",
       "        ],\n",
       "        \"showlegend\": true,\n",
       "        \"mode\": \"lines\",\n",
       "        \"name\": \"Radial\",\n",
       "        \"zmin\": null,\n",
       "        \"legendgroup\": \"Radial\",\n",
       "        \"zmax\": null,\n",
       "        \"line\": {\n",
       "            \"color\": \"rgba(62, 164, 78, 1.000)\",\n",
       "            \"shape\": \"linear\",\n",
       "            \"dash\": \"solid\",\n",
       "            \"width\": 3\n",
       "        },\n",
       "        \"y\": [\n",
       "            -3.1153758846450664e-14,\n",
       "            -8.961262581087267,\n",
       "            -11.926620156100658,\n",
       "            -8.929715847224896,\n",
       "            2.492300707716053e-13\n",
       "        ],\n",
       "        \"type\": \"scatter\"\n",
       "    },\n",
       "    {\n",
       "        \"xaxis\": \"x\",\n",
       "        \"colorbar\": {\n",
       "            \"title\": \"\"\n",
       "        },\n",
       "        \"yaxis\": \"y\",\n",
       "        \"x\": [\n",
       "            1.7898237129776322,\n",
       "            1.8203898302966053,\n",
       "            1.8509559476155788,\n",
       "            1.8815220649345523,\n",
       "            1.9120881822535254\n",
       "        ],\n",
       "        \"showlegend\": false,\n",
       "        \"mode\": \"lines\",\n",
       "        \"name\": \"Radial\",\n",
       "        \"zmin\": null,\n",
       "        \"legendgroup\": \"Radial\",\n",
       "        \"zmax\": null,\n",
       "        \"line\": {\n",
       "            \"color\": \"rgba(62, 164, 78, 1.000)\",\n",
       "            \"shape\": \"linear\",\n",
       "            \"dash\": \"solid\",\n",
       "            \"width\": 3\n",
       "        },\n",
       "        \"y\": [\n",
       "            5.873728342754273e-14,\n",
       "            -3.4917535663590504,\n",
       "            -4.608994870982019,\n",
       "            -3.4229709591624067,\n",
       "            -2.3494913371017094e-14\n",
       "        ],\n",
       "        \"type\": \"scatter\"\n",
       "    },\n",
       "    {\n",
       "        \"xaxis\": \"x\",\n",
       "        \"colorbar\": {\n",
       "            \"title\": \"\"\n",
       "        },\n",
       "        \"yaxis\": \"y\",\n",
       "        \"x\": [\n",
       "            1.547105485957498,\n",
       "            1.547105485957498\n",
       "        ],\n",
       "        \"showlegend\": false,\n",
       "        \"mode\": \"lines\",\n",
       "        \"name\": \"\",\n",
       "        \"zmin\": null,\n",
       "        \"legendgroup\": \"\",\n",
       "        \"zmax\": null,\n",
       "        \"line\": {\n",
       "            \"color\": \"rgba(0, 0, 0, 1.000)\",\n",
       "            \"shape\": \"linear\",\n",
       "            \"dash\": \"dash\",\n",
       "            \"width\": 1\n",
       "        },\n",
       "        \"y\": [\n",
       "            -99230.71520061283,\n",
       "            99613.0883348218\n",
       "        ],\n",
       "        \"type\": \"scatter\"\n",
       "    },\n",
       "    {\n",
       "        \"xaxis\": \"x\",\n",
       "        \"colorbar\": {\n",
       "            \"title\": \"\"\n",
       "        },\n",
       "        \"yaxis\": \"y\",\n",
       "        \"x\": [\n",
       "            1.7209032515198932,\n",
       "            1.7209032515198932\n",
       "        ],\n",
       "        \"showlegend\": false,\n",
       "        \"mode\": \"lines\",\n",
       "        \"name\": \"\",\n",
       "        \"zmin\": null,\n",
       "        \"legendgroup\": \"\",\n",
       "        \"zmax\": null,\n",
       "        \"line\": {\n",
       "            \"color\": \"rgba(0, 0, 0, 1.000)\",\n",
       "            \"shape\": \"linear\",\n",
       "            \"dash\": \"dash\",\n",
       "            \"width\": 1\n",
       "        },\n",
       "        \"y\": [\n",
       "            -99230.71520061283,\n",
       "            99613.0883348218\n",
       "        ],\n",
       "        \"type\": \"scatter\"\n",
       "    },\n",
       "    {\n",
       "        \"xaxis\": \"x\",\n",
       "        \"colorbar\": {\n",
       "            \"title\": \"\"\n",
       "        },\n",
       "        \"yaxis\": \"y\",\n",
       "        \"x\": [\n",
       "            1.7898237129776322,\n",
       "            1.7898237129776322\n",
       "        ],\n",
       "        \"showlegend\": false,\n",
       "        \"mode\": \"lines\",\n",
       "        \"name\": \"\",\n",
       "        \"zmin\": null,\n",
       "        \"legendgroup\": \"\",\n",
       "        \"zmax\": null,\n",
       "        \"line\": {\n",
       "            \"color\": \"rgba(0, 0, 0, 1.000)\",\n",
       "            \"shape\": \"linear\",\n",
       "            \"dash\": \"dash\",\n",
       "            \"width\": 1\n",
       "        },\n",
       "        \"y\": [\n",
       "            -99230.71520061283,\n",
       "            99613.0883348218\n",
       "        ],\n",
       "        \"type\": \"scatter\"\n",
       "    },\n",
       "    {\n",
       "        \"xaxis\": \"x\",\n",
       "        \"colorbar\": {\n",
       "            \"title\": \"\"\n",
       "        },\n",
       "        \"yaxis\": \"y\",\n",
       "        \"x\": [\n",
       "            1.9120881822535254,\n",
       "            1.9120881822535254\n",
       "        ],\n",
       "        \"showlegend\": false,\n",
       "        \"mode\": \"lines\",\n",
       "        \"name\": \"\",\n",
       "        \"zmin\": null,\n",
       "        \"legendgroup\": \"\",\n",
       "        \"zmax\": null,\n",
       "        \"line\": {\n",
       "            \"color\": \"rgba(0, 0, 0, 1.000)\",\n",
       "            \"shape\": \"linear\",\n",
       "            \"dash\": \"dash\",\n",
       "            \"width\": 1\n",
       "        },\n",
       "        \"y\": [\n",
       "            -99230.71520061283,\n",
       "            99613.0883348218\n",
       "        ],\n",
       "        \"type\": \"scatter\"\n",
       "    }\n",
       "]\n",
       ", {\n",
       "    \"showlegend\": true,\n",
       "    \"xaxis\": {\n",
       "        \"showticklabels\": true,\n",
       "        \"gridwidth\": 0.5,\n",
       "        \"tickvals\": [\n",
       "            1.6,\n",
       "            1.7000000000000002,\n",
       "            1.8,\n",
       "            1.9000000000000001\n",
       "        ],\n",
       "        \"range\": [\n",
       "            1.5361560050686172,\n",
       "            1.9230376631424062\n",
       "        ],\n",
       "        \"domain\": [\n",
       "            0.09128390201224845,\n",
       "            0.9934383202099738\n",
       "        ],\n",
       "        \"mirror\": false,\n",
       "        \"tickangle\": 0,\n",
       "        \"showline\": true,\n",
       "        \"ticktext\": [\n",
       "            \"1.6\",\n",
       "            \"1.7\",\n",
       "            \"1.8\",\n",
       "            \"1.9\"\n",
       "        ],\n",
       "        \"zeroline\": false,\n",
       "        \"tickfont\": {\n",
       "            \"color\": \"rgba(0, 0, 0, 1.000)\",\n",
       "            \"family\": \"sans-serif\",\n",
       "            \"size\": 11\n",
       "        },\n",
       "        \"zerolinecolor\": \"rgba(0, 0, 0, 1.000)\",\n",
       "        \"anchor\": \"y\",\n",
       "        \"visible\": true,\n",
       "        \"ticks\": \"inside\",\n",
       "        \"tickmode\": \"array\",\n",
       "        \"linecolor\": \"rgba(0, 0, 0, 1.000)\",\n",
       "        \"showgrid\": true,\n",
       "        \"title\": \"Radius [m]\",\n",
       "        \"gridcolor\": \"rgba(0, 0, 0, 0.100)\",\n",
       "        \"titlefont\": {\n",
       "            \"color\": \"rgba(0, 0, 0, 1.000)\",\n",
       "            \"family\": \"sans-serif\",\n",
       "            \"size\": 15\n",
       "        },\n",
       "        \"tickcolor\": \"rgb(0, 0, 0)\",\n",
       "        \"type\": \"-\"\n",
       "    },\n",
       "    \"paper_bgcolor\": \"rgba(255, 255, 255, 1.000)\",\n",
       "    \"annotations\": [],\n",
       "    \"height\": 400,\n",
       "    \"margin\": {\n",
       "        \"l\": 0,\n",
       "        \"b\": 20,\n",
       "        \"r\": 0,\n",
       "        \"t\": 20\n",
       "    },\n",
       "    \"plot_bgcolor\": \"rgba(255, 255, 255, 1.000)\",\n",
       "    \"yaxis\": {\n",
       "        \"showticklabels\": true,\n",
       "        \"gridwidth\": 0.5,\n",
       "        \"tickvals\": [\n",
       "            -200.0,\n",
       "            0.0,\n",
       "            200.0,\n",
       "            400.0,\n",
       "            600.0\n",
       "        ],\n",
       "        \"range\": [\n",
       "            -303.4497600980856,\n",
       "            685.8228943070618\n",
       "        ],\n",
       "        \"domain\": [\n",
       "            0.07581474190726165,\n",
       "            0.9901574803149606\n",
       "        ],\n",
       "        \"mirror\": false,\n",
       "        \"tickangle\": 0,\n",
       "        \"showline\": true,\n",
       "        \"ticktext\": [\n",
       "            \"-200\",\n",
       "            \"0\",\n",
       "            \"200\",\n",
       "            \"400\",\n",
       "            \"600\"\n",
       "        ],\n",
       "        \"zeroline\": false,\n",
       "        \"tickfont\": {\n",
       "            \"color\": \"rgba(0, 0, 0, 1.000)\",\n",
       "            \"family\": \"sans-serif\",\n",
       "            \"size\": 11\n",
       "        },\n",
       "        \"zerolinecolor\": \"rgba(0, 0, 0, 1.000)\",\n",
       "        \"anchor\": \"x\",\n",
       "        \"visible\": true,\n",
       "        \"ticks\": \"inside\",\n",
       "        \"tickmode\": \"array\",\n",
       "        \"linecolor\": \"rgba(0, 0, 0, 1.000)\",\n",
       "        \"showgrid\": true,\n",
       "        \"title\": \"Stresses [MPa]\",\n",
       "        \"gridcolor\": \"rgba(0, 0, 0, 0.100)\",\n",
       "        \"titlefont\": {\n",
       "            \"color\": \"rgba(0, 0, 0, 1.000)\",\n",
       "            \"family\": \"sans-serif\",\n",
       "            \"size\": 15\n",
       "        },\n",
       "        \"tickcolor\": \"rgb(0, 0, 0)\",\n",
       "        \"type\": \"-\"\n",
       "    },\n",
       "    \"legend_position\": {\n",
       "        \"yanchor\": \"right\",\n",
       "        \"xanchor\": \"lower\",\n",
       "        \"bordercolor\": \"rgba(0, 0, 0, 1.000)\",\n",
       "        \"bgcolor\": \"rgba(255, 255, 255, 1.000)\",\n",
       "        \"borderwidth\": 1,\n",
       "        \"tracegroupgap\": 0,\n",
       "        \"y\": 0.07,\n",
       "        \"font\": {\n",
       "            \"color\": \"rgba(0, 0, 0, 1.000)\",\n",
       "            \"family\": \"sans-serif\",\n",
       "            \"size\": 11\n",
       "        },\n",
       "        \"title\": {\n",
       "            \"font\": {\n",
       "                \"color\": \"rgba(0, 0, 0, 1.000)\",\n",
       "                \"family\": \"sans-serif\",\n",
       "                \"size\": 15\n",
       "            },\n",
       "            \"text\": \"\"\n",
       "        },\n",
       "        \"traceorder\": \"normal\",\n",
       "        \"x\": 1.05\n",
       "    },\n",
       "    \"width\": 600\n",
       "}\n",
       ");\n",
       "\n",
       "    });\n",
       "    </script>\n"
      ]
     },
     "execution_count": 6,
     "metadata": {},
     "output_type": "execute_result"
    }
   ],
   "source": [
    "@everywhere function custom_workflow(dd,ini,act)\n",
    "    FUSE.simple_equilibrium_transport_workflow(dd,ini,act)\n",
    "    FUSE.init_pf_active(dd,ini,act)\n",
    "    FUSE.HFSsizingActor(dd,act)\n",
    "    FUSE.LFSsizingActor(dd,act)\n",
    "    FUSE.CXbuildActor(dd,act)\n",
    "    FUSE.CostingActor(dd,act)\n",
    "end\n",
    "\n",
    "custom_workflow(dd,ini,act)\n",
    "plot(dd.build)"
   ]
  },
  {
   "cell_type": "code",
   "execution_count": 2,
   "id": "bab25100-7594-4d7c-977f-8999bed322e3",
   "metadata": {},
   "outputs": [
    {
     "ename": "LoadError",
     "evalue": "UndefVarError: FUSE not defined",
     "output_type": "error",
     "traceback": [
      "UndefVarError: FUSE not defined",
      "",
      "Stacktrace:",
      " [1] top-level scope",
      "   @ In[2]:1",
      " [2] eval",
      "   @ ./boot.jl:373 [inlined]",
      " [3] include_string(mapexpr::typeof(REPL.softscope), mod::Module, code::String, filename::String)",
      "   @ Base ./loading.jl:1196"
     ]
    }
   ],
   "source": [
    "OFL=FUSE.ObjectivesFunctionsLibrary\n",
    "objective_functions = [OFL[:max_fusion], OFL[:min_cost], OFL[:max_flattop]]\n",
    "results=FUSE.optimization_workflow(custom_workflow,dd,ini,act,objective_functions;N=10,iterations=10);"
   ]
  },
  {
   "cell_type": "code",
   "execution_count": 10,
   "id": "03afd491-5c7c-45de-8b83-54cda33c869d",
   "metadata": {},
   "outputs": [
    {
     "data": {
      "application/vnd.plotly.v1+json": {
       "data": [
        {
         "colorbar": {
          "title": {
           "text": ""
          }
         },
         "legendgroup": "y1",
         "marker": {
          "color": "rgba(0, 154, 250, 1.000)",
          "line": {
           "color": "rgba(0, 0, 0, 1)",
           "width": 1
          },
          "size": 8,
          "symbol": "circle"
         },
         "mode": "markers",
         "name": "y1",
         "scene": "scene",
         "showlegend": true,
         "type": "scatter3d",
         "x": [
          538934842.2915465,
          1128246754.9313393,
          540420920.4919068,
          697028054.8807127,
          652572453.891164,
          789802790.8423585,
          587961942.6751773,
          701842569.1221292,
          602636097.4734883,
          540420920.4919068
         ],
         "xaxis": "x",
         "y": [
          1677.0767677604144,
          1677.0767677604144,
          1677.0767677604144,
          1677.0767677604144,
          1677.0767677604144,
          1677.0767677604144,
          1677.0767677604144,
          1677.0767677604144,
          1677.0767677604144,
          1677.0767677604144
         ],
         "yaxis": "y",
         "z": [
          202119.2292568866,
          48113.603880359544,
          189265.97871645028,
          104630.45461084168,
          152905.87676100116,
          70168.9782135541,
          165353.33731421104,
          95896.05543725414,
          156758.68645726342,
          189265.97871645028
         ],
         "zaxis": "z",
         "zmax": null,
         "zmin": null
        }
       ],
       "layout": {
        "annotations": [],
        "height": 400,
        "legend_position": {
         "bgcolor": "rgba(255, 255, 255, 1.000)",
         "bordercolor": "rgba(0, 0, 0, 1)",
         "borderwidth": 1,
         "font": {
          "color": "rgba(0, 0, 0, 1)",
          "family": "sans-serif",
          "size": 11
         },
         "title": {
          "font": {
           "color": "rgba(0, 0, 0, 1)",
           "family": "sans-serif",
           "size": 15
          },
          "text": ""
         },
         "tracegroupgap": 0,
         "traceorder": "normal",
         "x": 1,
         "xanchor": "auto",
         "y": 1,
         "yanchor": "auto"
        },
        "margin": {
         "b": 20,
         "l": 0,
         "r": 0,
         "t": 20
        },
        "paper_bgcolor": "rgba(255, 255, 255, 1.000)",
        "plot_bgcolor": "rgba(255, 255, 255, 1.000)",
        "scene": {
         "aspectmode": "auto",
         "aspectratio": {
          "x": 1,
          "y": 1,
          "z": 1
         },
         "camera": {
          "center": {
           "x": 0,
           "y": 0,
           "z": 0
          },
          "eye": {
           "x": 1.4268728842576164,
           "y": -2.0621211182325037,
           "z": 0.6176958349877573
          },
          "projection": {
           "type": "perspective"
          },
          "up": {
           "x": 0,
           "y": 0,
           "z": 1
          }
         },
         "domain": {
          "x": [
           0.1209135316418781,
           0.9934383202099738
          ],
          "y": [
           0.07581474190726165,
           0.9901574803149606
          ]
         },
         "xaxis": {
          "gridcolor": "rgba(0, 0, 0, 0.1)",
          "gridwidth": 0.5,
          "linecolor": "rgba(0, 0, 0, 1)",
          "mirror": false,
          "range": [
           521255484.9123527,
           1145926112.310533
          ],
          "showgrid": true,
          "showline": true,
          "showticklabels": true,
          "tickangle": 0,
          "tickcolor": "rgb(0, 0, 0)",
          "tickfont": {
           "color": "rgba(0, 0, 0, 1)",
           "family": "sans-serif",
           "size": 11
          },
          "tickmode": "array",
          "ticks": "inside",
          "ticktext": [
           "6.00×10⁸",
           "7.00×10⁸",
           "8.00×10⁸",
           "9.00×10⁸",
           "1.00×10⁹",
           "1.10×10⁹"
          ],
          "tickvals": [
           600000000,
           700000000,
           800000000,
           900000000,
           1000000000,
           1100000000
          ],
          "title": {
           "font": {
            "color": "rgba(0, 0, 0, 1)",
            "family": "sans-serif",
            "size": 15
           },
           "text": "max_fusion"
          },
          "type": "linear",
          "visible": true,
          "zeroline": false,
          "zerolinecolor": "rgba(0, 0, 0, 1)"
         },
         "yaxis": {
          "gridcolor": "rgba(0, 0, 0, 0.1)",
          "gridwidth": 0.5,
          "linecolor": "rgba(0, 0, 0, 1)",
          "mirror": false,
          "range": [
           1677.0467677604145,
           1678.1067677604144
          ],
          "showgrid": true,
          "showline": true,
          "showticklabels": true,
          "tickangle": 0,
          "tickcolor": "rgb(0, 0, 0)",
          "tickfont": {
           "color": "rgba(0, 0, 0, 1)",
           "family": "sans-serif",
           "size": 11
          },
          "tickmode": "array",
          "ticks": "inside",
          "ticktext": [
           "1677.2",
           "1677.4",
           "1677.6",
           "1677.8",
           "1678.0"
          ],
          "tickvals": [
           1677.2,
           1677.4,
           1677.6000000000001,
           1677.8000000000002,
           1678
          ],
          "title": {
           "font": {
            "color": "rgba(0, 0, 0, 1)",
            "family": "sans-serif",
            "size": 15
           },
           "text": "min_cost"
          },
          "type": "linear",
          "visible": true,
          "zeroline": false,
          "zerolinecolor": "rgba(0, 0, 0, 1)"
         },
         "zaxis": {
          "gridcolor": "rgba(0, 0, 0, 0.1)",
          "gridwidth": 0.5,
          "linecolor": "rgba(0, 0, 0, 1)",
          "mirror": false,
          "range": [
           43493.43511906373,
           206739.39801818243
          ],
          "showgrid": true,
          "showline": true,
          "showticklabels": true,
          "tickangle": 0,
          "tickcolor": "rgb(0, 0, 0)",
          "tickfont": {
           "color": "rgba(0, 0, 0, 1)",
           "family": "sans-serif",
           "size": 11
          },
          "tickmode": "array",
          "ticks": "inside",
          "ticktext": [
           "6.00×10⁴",
           "9.00×10⁴",
           "1.20×10⁵",
           "1.50×10⁵",
           "1.80×10⁵"
          ],
          "tickvals": [
           60000,
           90000,
           120000,
           150000,
           180000
          ],
          "title": {
           "font": {
            "color": "rgba(0, 0, 0, 1)",
            "family": "sans-serif",
            "size": 15
           },
           "text": "max_flattop"
          },
          "type": "linear",
          "visible": true,
          "zeroline": false,
          "zerolinecolor": "rgba(0, 0, 0, 1)"
         }
        },
        "showlegend": true,
        "width": 600
       }
      },
      "image/png": "[encoded data removed]",
      "text/html": [
       "    <div id=\"609583a5-12a7-45db-ba98-b1015ddf8566\" style=\"width:600px;height:400px;\"></div>\n",
       "    <script>\n",
       "        requirejs.config({\n",
       "        paths: {\n",
       "            Plotly: 'https://cdn.plot.ly/plotly-2.6.3.min'\n",
       "        }\n",
       "    });\n",
       "    require(['Plotly'], function (Plotly) {\n",
       "\n",
       "        Plotly.newPlot('609583a5-12a7-45db-ba98-b1015ddf8566', [\n",
       "    {\n",
       "        \"xaxis\": \"x\",\n",
       "        \"colorbar\": {\n",
       "            \"title\": \"\"\n",
       "        },\n",
       "        \"yaxis\": \"y\",\n",
       "        \"zaxis\": \"z\",\n",
       "        \"x\": [\n",
       "            5.389348422915465e8,\n",
       "            1.1282467549313393e9,\n",
       "            5.404209204919068e8,\n",
       "            6.970280548807127e8,\n",
       "            6.52572453891164e8,\n",
       "            7.898027908423585e8,\n",
       "            5.879619426751773e8,\n",
       "            7.018425691221292e8,\n",
       "            6.026360974734883e8,\n",
       "            5.404209204919068e8\n",
       "        ],\n",
       "        \"showlegend\": true,\n",
       "        \"mode\": \"markers\",\n",
       "        \"name\": \"y1\",\n",
       "        \"zmin\": null,\n",
       "        \"legendgroup\": \"y1\",\n",
       "        \"z\": [\n",
       "            202119.2292568866,\n",
       "            48113.603880359544,\n",
       "            189265.97871645028,\n",
       "            104630.45461084168,\n",
       "            152905.87676100116,\n",
       "            70168.9782135541,\n",
       "            165353.33731421104,\n",
       "            95896.05543725414,\n",
       "            156758.68645726342,\n",
       "            189265.97871645028\n",
       "        ],\n",
       "        \"marker\": {\n",
       "            \"symbol\": \"circle\",\n",
       "            \"color\": \"rgba(0, 154, 250, 1.000)\",\n",
       "            \"line\": {\n",
       "                \"color\": \"rgba(0, 0, 0, 1.000)\",\n",
       "                \"width\": 1\n",
       "            },\n",
       "            \"size\": 8\n",
       "        },\n",
       "        \"zmax\": null,\n",
       "        \"y\": [\n",
       "            1677.0767677604144,\n",
       "            1677.0767677604144,\n",
       "            1677.0767677604144,\n",
       "            1677.0767677604144,\n",
       "            1677.0767677604144,\n",
       "            1677.0767677604144,\n",
       "            1677.0767677604144,\n",
       "            1677.0767677604144,\n",
       "            1677.0767677604144,\n",
       "            1677.0767677604144\n",
       "        ],\n",
       "        \"type\": \"scatter3d\",\n",
       "        \"scene\": \"scene\"\n",
       "    }\n",
       "]\n",
       ", {\n",
       "    \"showlegend\": true,\n",
       "    \"paper_bgcolor\": \"rgba(255, 255, 255, 1.000)\",\n",
       "    \"annotations\": [],\n",
       "    \"height\": 400,\n",
       "    \"margin\": {\n",
       "        \"l\": 0,\n",
       "        \"b\": 20,\n",
       "        \"r\": 0,\n",
       "        \"t\": 20\n",
       "    },\n",
       "    \"plot_bgcolor\": \"rgba(255, 255, 255, 1.000)\",\n",
       "    \"scene\": {\n",
       "        \"camera\": {\n",
       "            \"eye\": {\n",
       "                \"y\": -1.9499999999999997,\n",
       "                \"z\": 1.3,\n",
       "                \"x\": 1.12583302491977\n",
       "            }\n",
       "        },\n",
       "        \"xaxis\": {\n",
       "            \"tickangle\": 0,\n",
       "            \"showline\": true,\n",
       "            \"gridcolor\": \"rgba(0, 0, 0, 0.100)\",\n",
       "            \"showticklabels\": true,\n",
       "            \"gridwidth\": 0.5,\n",
       "            \"titlefont\": {\n",
       "                \"color\": \"rgba(0, 0, 0, 1.000)\",\n",
       "                \"family\": \"sans-serif\",\n",
       "                \"size\": 15\n",
       "            },\n",
       "            \"visible\": true,\n",
       "            \"ticks\": \"inside\",\n",
       "            \"range\": [\n",
       "                5.212554849123527e8,\n",
       "                1.145926112310533e9\n",
       "            ],\n",
       "            \"tickmode\": \"array\",\n",
       "            \"tickvals\": [\n",
       "                6.0e8,\n",
       "                7.0e8,\n",
       "                8.0e8,\n",
       "                9.0e8,\n",
       "                1.0e9,\n",
       "                1.1e9\n",
       "            ],\n",
       "            \"tickcolor\": \"rgb(0, 0, 0)\",\n",
       "            \"ticktext\": [\n",
       "                \"6.00×10⁸\",\n",
       "                \"7.00×10⁸\",\n",
       "                \"8.00×10⁸\",\n",
       "                \"9.00×10⁸\",\n",
       "                \"1.00×10⁹\",\n",
       "                \"1.10×10⁹\"\n",
       "            ],\n",
       "            \"linecolor\": \"rgba(0, 0, 0, 1.000)\",\n",
       "            \"showgrid\": true,\n",
       "            \"zeroline\": false,\n",
       "            \"type\": \"-\",\n",
       "            \"tickfont\": {\n",
       "                \"color\": \"rgba(0, 0, 0, 1.000)\",\n",
       "                \"family\": \"sans-serif\",\n",
       "                \"size\": 11\n",
       "            },\n",
       "            \"title\": \"max_fusion\",\n",
       "            \"zerolinecolor\": \"rgba(0, 0, 0, 1.000)\",\n",
       "            \"mirror\": false\n",
       "        },\n",
       "        \"domain\": {\n",
       "            \"y\": [\n",
       "                0.07581474190726165,\n",
       "                0.9901574803149606\n",
       "            ],\n",
       "            \"x\": [\n",
       "                0.1209135316418781,\n",
       "                0.9934383202099738\n",
       "            ]\n",
       "        },\n",
       "        \"yaxis\": {\n",
       "            \"tickangle\": 0,\n",
       "            \"showline\": true,\n",
       "            \"gridcolor\": \"rgba(0, 0, 0, 0.100)\",\n",
       "            \"showticklabels\": true,\n",
       "            \"gridwidth\": 0.5,\n",
       "            \"titlefont\": {\n",
       "                \"color\": \"rgba(0, 0, 0, 1.000)\",\n",
       "                \"family\": \"sans-serif\",\n",
       "                \"size\": 15\n",
       "            },\n",
       "            \"visible\": true,\n",
       "            \"ticks\": \"inside\",\n",
       "            \"range\": [\n",
       "                1677.0467677604145,\n",
       "                1678.1067677604144\n",
       "            ],\n",
       "            \"tickmode\": \"array\",\n",
       "            \"tickvals\": [\n",
       "                1677.2,\n",
       "                1677.4,\n",
       "                1677.6000000000001,\n",
       "                1677.8000000000002,\n",
       "                1678.0\n",
       "            ],\n",
       "            \"tickcolor\": \"rgb(0, 0, 0)\",\n",
       "            \"ticktext\": [\n",
       "                \"1677.2\",\n",
       "                \"1677.4\",\n",
       "                \"1677.6\",\n",
       "                \"1677.8\",\n",
       "                \"1678.0\"\n",
       "            ],\n",
       "            \"linecolor\": \"rgba(0, 0, 0, 1.000)\",\n",
       "            \"showgrid\": true,\n",
       "            \"zeroline\": false,\n",
       "            \"type\": \"-\",\n",
       "            \"tickfont\": {\n",
       "                \"color\": \"rgba(0, 0, 0, 1.000)\",\n",
       "                \"family\": \"sans-serif\",\n",
       "                \"size\": 11\n",
       "            },\n",
       "            \"title\": \"min_cost\",\n",
       "            \"zerolinecolor\": \"rgba(0, 0, 0, 1.000)\",\n",
       "            \"mirror\": false\n",
       "        },\n",
       "        \"zaxis\": {\n",
       "            \"tickangle\": 0,\n",
       "            \"showline\": true,\n",
       "            \"gridcolor\": \"rgba(0, 0, 0, 0.100)\",\n",
       "            \"showticklabels\": true,\n",
       "            \"gridwidth\": 0.5,\n",
       "            \"titlefont\": {\n",
       "                \"color\": \"rgba(0, 0, 0, 1.000)\",\n",
       "                \"family\": \"sans-serif\",\n",
       "                \"size\": 15\n",
       "            },\n",
       "            \"visible\": true,\n",
       "            \"ticks\": \"inside\",\n",
       "            \"range\": [\n",
       "                43493.43511906373,\n",
       "                206739.39801818243\n",
       "            ],\n",
       "            \"tickmode\": \"array\",\n",
       "            \"tickvals\": [\n",
       "                60000.0,\n",
       "                90000.0,\n",
       "                120000.0,\n",
       "                150000.0,\n",
       "                180000.0\n",
       "            ],\n",
       "            \"tickcolor\": \"rgb(0, 0, 0)\",\n",
       "            \"ticktext\": [\n",
       "                \"6.00×10⁴\",\n",
       "                \"9.00×10⁴\",\n",
       "                \"1.20×10⁵\",\n",
       "                \"1.50×10⁵\",\n",
       "                \"1.80×10⁵\"\n",
       "            ],\n",
       "            \"linecolor\": \"rgba(0, 0, 0, 1.000)\",\n",
       "            \"showgrid\": true,\n",
       "            \"zeroline\": false,\n",
       "            \"type\": \"-\",\n",
       "            \"tickfont\": {\n",
       "                \"color\": \"rgba(0, 0, 0, 1.000)\",\n",
       "                \"family\": \"sans-serif\",\n",
       "                \"size\": 11\n",
       "            },\n",
       "            \"title\": \"max_flattop\",\n",
       "            \"zerolinecolor\": \"rgba(0, 0, 0, 1.000)\",\n",
       "            \"mirror\": false\n",
       "        }\n",
       "    },\n",
       "    \"legend_position\": {\n",
       "        \"yanchor\": \"auto\",\n",
       "        \"xanchor\": \"auto\",\n",
       "        \"bordercolor\": \"rgba(0, 0, 0, 1.000)\",\n",
       "        \"bgcolor\": \"rgba(255, 255, 255, 1.000)\",\n",
       "        \"borderwidth\": 1,\n",
       "        \"tracegroupgap\": 0,\n",
       "        \"y\": 1.0,\n",
       "        \"font\": {\n",
       "            \"color\": \"rgba(0, 0, 0, 1.000)\",\n",
       "            \"family\": \"sans-serif\",\n",
       "            \"size\": 11\n",
       "        },\n",
       "        \"title\": {\n",
       "            \"font\": {\n",
       "                \"color\": \"rgba(0, 0, 0, 1.000)\",\n",
       "                \"family\": \"sans-serif\",\n",
       "                \"size\": 15\n",
       "            },\n",
       "            \"text\": \"\"\n",
       "        },\n",
       "        \"traceorder\": \"normal\",\n",
       "        \"x\": 1.0\n",
       "    },\n",
       "    \"width\": 600\n",
       "}\n",
       ");\n",
       "\n",
       "    });\n",
       "    </script>\n"
      ]
     },
     "metadata": {},
     "output_type": "display_data"
    }
   ],
   "source": [
    "A = FUSE.Metaheuristics.pareto_front(results)\n",
    "A=[objective_functions[k].(A[:,k]) for k in 1:size(A)[2]]\n",
    "#x=[results.population[k].x[2] for k in 1:length(results.population)]\n",
    "#scatter(x,A[:,1]./abs(A[1,1]))\n",
    "#display(scatter!(x,A[:,2]./abs(A[1,2])))\n",
    "#display(scatter(A[:, 1], -A[:,2], marker_z=x,label=\"\"))\n",
    "display(scatter(A[1],A[2],A[3],xlabel=objective_functions[1].name,ylabel=objective_functions[2].name,zlabel=objective_functions[3].name))"
   ]
  }
 ],
 "metadata": {
  "@webio": {
   "lastCommId": "c5ab2bd6-67b8-42a3-9ed6-7dad44c98e36",
   "lastKernelId": "4685cef6-cbb7-4bdb-8580-ca1950f7b836"
  },
  "kernelspec": {
   "display_name": "Julia (4 threads) 1.7.1",
   "language": "julia",
   "name": "julia-(4-threads)-1.7"
  },
  "language_info": {
   "file_extension": ".jl",
   "mimetype": "application/julia",
   "name": "julia",
   "version": "1.7.1"
  }
 },
 "nbformat": 4,
 "nbformat_minor": 5
}
