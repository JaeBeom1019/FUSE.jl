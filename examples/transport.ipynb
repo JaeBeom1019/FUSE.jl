{
 "cells": [
  {
   "cell_type": "code",
   "execution_count": 1,
   "id": "9c3a018d-807c-4ef0-8ac6-6f8547d9e5f8",
   "metadata": {},
   "outputs": [
    {
     "name": "stderr",
     "output_type": "stream",
     "text": [
      "\u001b[32m\u001b[1m  Activating\u001b[22m\u001b[39m environment at `~/.julia/dev/FUSE/Project.toml`\n"
     ]
    }
   ],
   "source": [
    "using Pkg\n",
    "Pkg.activate(\"..\")\n",
    "using Revise\n",
    "using Equilibrium\n",
    "using AD_TAUENN\n",
    "using AD_TAUENN\n",
    "using FUSE\n",
    "using FUSE.IMAS\n",
    "using Plots; gr();\n"
   ]
  },
  {
   "cell_type": "code",
   "execution_count": 2,
   "id": "cac4a10d-5fa5-4afd-8cc1-a9dd27530635",
   "metadata": {},
   "outputs": [
    {
     "name": "stdout",
     "output_type": "stream",
     "text": [
      " 52.680227 seconds (123.20 M allocations: 6.389 GiB, 4.22% gc time, 92.59% compilation time)\n"
     ]
    },
    {
     "data": {
      "text/plain": [
       "1.68"
      ]
     },
     "execution_count": 2,
     "metadata": {},
     "output_type": "execute_result"
    }
   ],
   "source": [
    "if true\n",
    "    ϵ = 0.48\n",
    "    κ = 1.68\n",
    "    δ = 0.21\n",
    "    R0 = 6.2\n",
    "    B0 = 5.3\n",
    "    ip = 15.E6\n",
    "    βn = 1.0\n",
    "    x_point = (5.0, -6.5)\n",
    "    symmetric=true\n",
    "\n",
    "    resolution = 129\n",
    "\n",
    "    dd = IMAS.dd()\n",
    "    resize!(dd.equilibrium.time_slice,1)\n",
    "    FUSE.init(dd.equilibrium.time_slice[1]; B0, R0, ϵ, δ, κ, beta_n=βn, ip, x_point=x_point)\n",
    "\n",
    "    eqactor = FUSE.SolovevEquilibriumActor(dd.equilibrium.time_slice[1], symmetric=symmetric)\n",
    "    @time FUSE.step(eqactor)\n",
    "    dd.equilibrium.time_slice[1] = FUSE.finalize(eqactor, resolution, (maximum([R0*(1-ϵ*2),0.0]), R0*(1+ϵ*2)), (-R0*ϵ*κ*2, R0*ϵ*κ*2))\n",
    "    dd.equilibrium.time_slice[1].global_quantities.li_3 = 1.0 # made up!\n",
    "    dd.equilibrium.time_slice[1].time = 0.0\n",
    "    dd.equilibrium.time = [0.0]\n",
    "    dd.equilibrium.vacuum_toroidal_field.r0 = R0\n",
    "    dd.equilibrium.vacuum_toroidal_field.b0 = [B0]\n",
    "    dd.equilibrium.time_slice[1].global_quantities.magnetic_axis.b_field_tor = B0\n",
    "    dd.equilibrium.time_slice[1].global_quantities.magnetic_axis.r = R0\n",
    "\n",
    "    plot(dd.equilibrium.time_slice[1], color=:green, psi_levels_out=[])\n",
    "    #dd.equilibrium.time_slice[1];\n",
    "elseif false\n",
    "    filename=joinpath(dirname(abspath(@__FILE__)), \"..\", \"sample\",\"CAT_eq_ods.json\")\n",
    "    dd = IMAS.json2imas(filename);\n",
    "    @time IMAS.flux_surfaces(dd.equilibrium);\n",
    "    nothing\n",
    "else\n",
    "    filename=joinpath(dirname(abspath(@__FILE__)), \"..\", \"sample\",\"ITER_eq_ods.json\")\n",
    "    dd = IMAS.json2imas(filename);\n",
    "    @time IMAS.flux_surfaces(dd.equilibrium);\n",
    "    nothing\n",
    "end\n",
    "dd.equilibrium.time_slice[1].boundary.elongation=1.68"
   ]
  },
  {
   "cell_type": "code",
   "execution_count": 15,
   "id": "1019535f-26c4-4907-949f-10bf7414ab96",
   "metadata": {},
   "outputs": [
    {
     "data": {
      "text/plain": [
       "\u001b[0m\u001b[1melectrons\u001b[22m\n",
       "\u001b[33m｜\u001b[39m\u001b[0mdensity\u001b[31m ➡ \u001b[39m\u001b[34m101-element Vector{Float64}\u001b[39m\n",
       "\u001b[33m｜\u001b[39m\u001b[0mpressure\u001b[31m ➡ \u001b[39m\u001b[32mFunction\u001b[39m\n",
       "\u001b[33m｜\u001b[39m\u001b[0mtemperature\u001b[31m ➡ \u001b[39m\u001b[34m101-element Vector{Float64}\u001b[39m\n",
       "\u001b[0m\u001b[1mgrid\u001b[22m\n",
       "\u001b[33m｜\u001b[39m\u001b[0mrho_tor_norm\u001b[31m ➡ \u001b[39m\u001b[34m101-element LinRange{Float64}\u001b[39m\n",
       "\u001b[0m\u001b[1mion\u001b[22m\n",
       "\u001b[33m｜\u001b[39m\u001b[32m\u001b[1m[1]\u001b[22m\u001b[39m\n",
       "\u001b[33m｜｜\u001b[39m\u001b[0mdensity\u001b[31m ➡ \u001b[39m\u001b[34m101-element Vector{Float64}\u001b[39m\n",
       "\u001b[33m｜｜\u001b[39m\u001b[0m\u001b[1melement\u001b[22m\n",
       "\u001b[33m｜｜｜\u001b[39m\u001b[32m\u001b[1m[1]\u001b[22m\u001b[39m\n",
       "\u001b[33m｜｜｜｜\u001b[39m\u001b[0ma\u001b[31m ➡ \u001b[39m\u001b[35m2\u001b[39m\n",
       "\u001b[33m｜｜｜｜\u001b[39m\u001b[0mz_n\u001b[31m ➡ \u001b[39m\u001b[35m1\u001b[39m\n",
       "\u001b[33m｜｜\u001b[39m\u001b[0mlabel\u001b[31m ➡ \u001b[39m\u001b[35m\"D\"\u001b[39m\n",
       "\u001b[33m｜｜\u001b[39m\u001b[0mtemperature\u001b[31m ➡ \u001b[39m\u001b[34m101-element Vector{Float64}\u001b[39m\n",
       "\u001b[33m｜\u001b[39m\u001b[32m\u001b[1m[2]\u001b[22m\u001b[39m\n",
       "\u001b[33m｜｜\u001b[39m\u001b[0mdensity\u001b[31m ➡ \u001b[39m\u001b[34m101-element Vector{Float64}\u001b[39m\n",
       "\u001b[33m｜｜\u001b[39m\u001b[0m\u001b[1melement\u001b[22m\n",
       "\u001b[33m｜｜｜\u001b[39m\u001b[32m\u001b[1m[1]\u001b[22m\u001b[39m\n",
       "\u001b[33m｜｜｜｜\u001b[39m\u001b[0ma\u001b[31m ➡ \u001b[39m\u001b[35m12\u001b[39m\n",
       "\u001b[33m｜｜｜｜\u001b[39m\u001b[0mz_n\u001b[31m ➡ \u001b[39m\u001b[35m6\u001b[39m\n",
       "\u001b[33m｜｜\u001b[39m\u001b[0mlabel\u001b[31m ➡ \u001b[39m\u001b[35m\"C\"\u001b[39m\n",
       "\u001b[33m｜｜\u001b[39m\u001b[0mtemperature\u001b[31m ➡ \u001b[39m\u001b[34m101-element Vector{Float64}\u001b[39m\n",
       "\u001b[0mpressure_thermal\u001b[31m ➡ \u001b[39m\u001b[34m101-element Vector{Float64}\u001b[39m\n",
       "\u001b[0mrotation_frequency_tor_sonic\u001b[31m ➡ \u001b[39m\u001b[34m101-element LinRange{Float64}\u001b[39m\n",
       "\u001b[0mzeff\u001b[31m ➡ \u001b[39m\u001b[34m101-element Vector{Float64}\u001b[39m\n"
      ]
     },
     "execution_count": 15,
     "metadata": {},
     "output_type": "execute_result"
    }
   ],
   "source": [
    "cp.profiles_1d[1]\n",
    "#@show eq.time_slice[1].boundary.geometric_axis.r, eq.time_slice[1].global_quantities.magnetic_axis.r"
   ]
  },
  {
   "cell_type": "code",
   "execution_count": 3,
   "id": "adb5e7db-bd54-49cd-aa51-3d1680a9b9a6",
   "metadata": {},
   "outputs": [
    {
     "data": {
      "text/plain": [
       "\u001b[0m\u001b[1mlocal\u001b[22m\n",
       "\u001b[33m｜\u001b[39m\u001b[0m\u001b[1mpedestal\u001b[22m\n",
       "\u001b[33m｜｜\u001b[39m\u001b[0m\u001b[1mn_e\u001b[22m\n",
       "\u001b[33m｜｜｜\u001b[39m\u001b[0mvalue\u001b[31m ➡ \u001b[39m\u001b[34m1-element Vector{Float64}\u001b[39m\n",
       "\u001b[33m｜｜\u001b[39m\u001b[0m\u001b[1mposition\u001b[22m\n",
       "\u001b[33m｜｜｜\u001b[39m\u001b[0mrho_tor_norm\u001b[31m ➡ \u001b[39m\u001b[34m1-element Vector{Float64}\u001b[39m\n",
       "\u001b[33m｜｜\u001b[39m\u001b[0m\u001b[1mzeff\u001b[22m\n",
       "\u001b[33m｜｜｜\u001b[39m\u001b[0mvalue\u001b[31m ➡ \u001b[39m\u001b[34m1-element Vector{Int64}\u001b[39m\n",
       "\u001b[0mtime\u001b[31m ➡ \u001b[39m\u001b[34m1-element Vector{Float64}\u001b[39m\n"
      ]
     },
     "execution_count": 3,
     "metadata": {},
     "output_type": "execute_result"
    }
   ],
   "source": [
    "cp = IMAS.core_profiles()\n",
    "cs = IMAS.core_sources()\n",
    "eq = dd.equilibrium\n",
    "summary = IMAS.summary()\n",
    "\n",
    "summary.time = [0.0]\n",
    "resize!(cp.profiles_1d,1)\n",
    "\n",
    "FUSE.init(cs,eq;Paux_e=1e6,Paux_i=1e6)\n",
    "FUSE.init(cp.profiles_1d[1], eq.time_slice[1],summary; ne_ped=1e20, ne_peaking=1.5, Te_ped=500, Te_peaking=3, w_ped=0.08, zeff=2, Paux=2e6, n_points=101)\n",
    "summary"
   ]
  },
  {
   "cell_type": "code",
   "execution_count": 24,
   "id": "2f0402b9-66f0-45d8-8dc1-1b5b40e4d61d",
   "metadata": {},
   "outputs": [
    {
     "data": {
      "text/plain": [
       "\u001b[32m\u001b[1m[1]\u001b[22m\u001b[39m\n",
       "\u001b[33m｜\u001b[39m\u001b[0m\u001b[1midentifier\u001b[22m\n",
       "\u001b[33m｜｜\u001b[39m\u001b[0mdescription\u001b[31m ➡ \u001b[39m\u001b[35m\"Arbitrary source from transport initialization\"\u001b[39m\n",
       "\u001b[33m｜｜\u001b[39m\u001b[0mindex\u001b[31m ➡ \u001b[39m\u001b[35m901\u001b[39m\n",
       "\u001b[33m｜｜\u001b[39m\u001b[0mname\u001b[31m ➡ \u001b[39m\u001b[35m\"arb\"\u001b[39m\n",
       "\u001b[33m｜\u001b[39m\u001b[0m\u001b[1mprofiles_1d\u001b[22m\n",
       "\u001b[33m｜｜\u001b[39m\u001b[32m\u001b[1m[1]\u001b[22m\u001b[39m\n",
       "\u001b[33m｜｜｜\u001b[39m\u001b[0m\u001b[1melectrons\u001b[22m\n",
       "\u001b[33m｜｜｜｜\u001b[39m\u001b[0mpower_inside\u001b[31m ➡ \u001b[39m\u001b[34m129-element Vector{Float64}\u001b[39m\n",
       "\u001b[33m｜｜｜\u001b[39m\u001b[0m\u001b[1mgrid\u001b[22m\n",
       "\u001b[33m｜｜｜｜\u001b[39m\u001b[0mrho_tor_norm\u001b[31m ➡ \u001b[39m\u001b[34m129-element Vector{Float64}\u001b[39m\n",
       "\u001b[33m｜｜｜｜\u001b[39m\u001b[0mvolume\u001b[31m ➡ \u001b[39m\u001b[34m129-element Vector{Float64}\u001b[39m\n",
       "\u001b[33m｜｜｜\u001b[39m\u001b[0mtotal_ion_power_inside\u001b[31m ➡ \u001b[39m\u001b[34m129-element Vector{Float64}\u001b[39m\n",
       "\u001b[32m\u001b[1m[2]\u001b[22m\u001b[39m\n",
       "\u001b[32m\u001b[1m[3]\u001b[22m\u001b[39m\n",
       "\u001b[32m\u001b[1m[4]\u001b[22m\u001b[39m\n",
       "\u001b[32m\u001b[1m[5]\u001b[22m\u001b[39m\n"
      ]
     },
     "execution_count": 24,
     "metadata": {},
     "output_type": "execute_result"
    }
   ],
   "source": [
    "resize!(cs.source,2)\n",
    "cs\n",
    "resize!(cs.source,5)"
   ]
  },
  {
   "cell_type": "code",
   "execution_count": 17,
   "id": "e8fa9ab0-dc70-4a64-a1cc-6a7dc46066ae",
   "metadata": {},
   "outputs": [
    {
     "name": "stdout",
     "output_type": "stream",
     "text": [
      "step of tauennactors(eqt.boundary.elongation, ods.summary.local.pedestal.n_e.value[1] / 1.0e19) = (1.68, 10.0)\n",
      "(wped, pped) = (0.33295206529691085, 0.19689356848960227)\n",
      "(eqt.boundary.elongation, ods.summary.local.pedestal.n_e.value[1] / 1.0e19) = (1.68, 10.0)\n",
      "(wped, pped) = (0.33295206529691085, 0.19689356848960227)\n",
      "(tval[1], tval[end]) = (9549.768315241377, 80.0)\n"
     ]
    },
    {
     "ename": "LoadError",
     "evalue": "DimensionMismatch(\"arrays could not be broadcast to a common size; got a dimension with lengths 101 and 129\")",
     "output_type": "error",
     "traceback": [
      "DimensionMismatch(\"arrays could not be broadcast to a common size; got a dimension with lengths 101 and 129\")",
      "",
      "Stacktrace:",
      "  [1] _bcs1",
      "    @ ./broadcast.jl:501 [inlined]",
      "  [2] _bcs",
      "    @ ./broadcast.jl:495 [inlined]",
      "  [3] broadcast_shape",
      "    @ ./broadcast.jl:489 [inlined]",
      "  [4] combine_axes",
      "    @ ./broadcast.jl:484 [inlined]",
      "  [5] _axes",
      "    @ ./broadcast.jl:209 [inlined]",
      "  [6] axes",
      "    @ ./broadcast.jl:207 [inlined]",
      "  [7] combine_axes",
      "    @ ./broadcast.jl:484 [inlined]",
      "  [8] _axes",
      "    @ ./broadcast.jl:209 [inlined]",
      "  [9] axes",
      "    @ ./broadcast.jl:207 [inlined]",
      " [10] combine_axes",
      "    @ ./broadcast.jl:484 [inlined]",
      " [11] instantiate",
      "    @ ./broadcast.jl:266 [inlined]",
      " [12] materialize(bc::Base.Broadcast.Broadcasted{Base.Broadcast.DefaultArrayStyle{1}, Nothing, typeof(*), Tuple{Base.Broadcast.Broadcasted{Base.Broadcast.DefaultArrayStyle{1}, Nothing, typeof(*), Tuple{Base.Broadcast.Broadcasted{Base.Broadcast.DefaultArrayStyle{1}, Nothing, typeof(*), Tuple{Base.Broadcast.Broadcasted{Base.Broadcast.DefaultArrayStyle{1}, Nothing, typeof(*), Tuple{Vector{Float64}, LinRange{Float64}}}, Vector{Float64}}}, Base.Broadcast.Broadcasted{Base.Broadcast.DefaultArrayStyle{0}, Nothing, typeof(*), Tuple{Base.Broadcast.Broadcasted{Base.Broadcast.DefaultArrayStyle{0}, Nothing, typeof(*), Tuple{Int64, Irrational{:π}}}, Float64}}}}, Float64}})",
      "    @ Base.Broadcast ./broadcast.jl:883",
      " [13] calc_inputprofile_powers(ods::IMAS.dd, inputs::AD_TAUENN.TauennParamters, outputs::TauennOutputs)",
      "    @ AD_TAUENN ~/.julia/dev/AD_TAUENN/src/AD_TAUENN.jl:545",
      " [14] get_flux_error(ods::IMAS.dd, inputs::AD_TAUENN.TauennParamters, outputs::TauennOutputs, T0::Float64)",
      "    @ AD_TAUENN ~/.julia/dev/AD_TAUENN/src/AD_TAUENN.jl:602",
      " [15] (::AD_TAUENN.var\"#cost#6\"{TauennOutputs, AD_TAUENN.TauennParamters, IMAS.dd})(T::Float64)",
      "    @ AD_TAUENN ~/.julia/dev/AD_TAUENN/src/AD_TAUENN.jl:160",
      " [16] optimize(f::AD_TAUENN.var\"#cost#6\"{TauennOutputs, AD_TAUENN.TauennParamters, IMAS.dd}, x_lower::Float64, x_upper::Float64, mo::Optim.GoldenSection; rel_tol::Float64, abs_tol::Float64, iterations::Int64, store_trace::Bool, show_trace::Bool, callback::Nothing, show_every::Int64, extended_trace::Bool, nargs::Base.Iterators.Pairs{Union{}, Union{}, Tuple{}, NamedTuple{(), Tuple{}}})",
      "    @ Optim ~/.julia/packages/Optim/rES57/src/univariate/solvers/golden_section.jl:44",
      " [17] tau_enn(cp::IMAS.core_profiles, eqt::IMAS.equilibrium__time_slice, cs::IMAS.core_sources, summary::IMAS.summary, rho_fluxmatch::Float64, eped_factor::Float64, temp_shape::Float64, temp_pedestal_ratio::Float64; rel_error::Float64, iterations::Int64, verbose::Bool)",
      "    @ AD_TAUENN ~/.julia/dev/AD_TAUENN/src/AD_TAUENN.jl:164",
      " [18] tau_enn(cp::IMAS.core_profiles, eqt::IMAS.equilibrium__time_slice, cs::IMAS.core_sources, summary::IMAS.summary, rho_fluxmatch::Float64, eped_factor::Float64, temp_shape::Float64, temp_pedestal_ratio::Float64)",
      "    @ AD_TAUENN ~/.julia/dev/AD_TAUENN/src/AD_TAUENN.jl:133",
      " [19] step(tauennactor::FUSE.TaueNNactor)",
      "    @ FUSE ~/.julia/dev/FUSE/src/actors/transport_actor.jl:113",
      " [20] top-level scope",
      "    @ In[17]:3",
      " [21] eval",
      "    @ ./boot.jl:360 [inlined]",
      " [22] include_string(mapexpr::typeof(REPL.softscope), mod::Module, code::String, filename::String)",
      "    @ Base ./loading.jl:1116"
     ]
    }
   ],
   "source": [
    "eqt = eq.time_slice[1]\n",
    "tauennactor = FUSE.TaueNNactor(cp,eq, cs, summary)\n",
    "FUSE.step(tauennactor)"
   ]
  },
  {
   "cell_type": "code",
   "execution_count": 6,
   "id": "236b2af8-365d-4e66-9646-65ff68972569",
   "metadata": {},
   "outputs": [
    {
     "data": {
      "text/plain": [
       "\u001b[0mbeta_normal\u001b[31m ➡ \u001b[39m\u001b[35m5.9027861254323\u001b[39m\n",
       "\u001b[0mbeta_pol\u001b[31m ➡ \u001b[39m\u001b[35m20.34807047299424\u001b[39m\n",
       "\u001b[0mbeta_tor\u001b[31m ➡ \u001b[39m\u001b[35m0.009264304952773462\u001b[39m\n",
       "\u001b[0menergy_mhd\u001b[31m ➡ \u001b[39m\u001b[32mFunction\u001b[39m\n",
       "\u001b[0mip\u001b[31m ➡ \u001b[39m\u001b[35m-2.4755106103230356e6\u001b[39m\n",
       "\u001b[0mlength_pol\u001b[31m ➡ \u001b[39m\u001b[35m27.5076792320081\u001b[39m\n",
       "\u001b[0mli_3\u001b[31m ➡ \u001b[39m\u001b[35m1.0\u001b[39m\n",
       "\u001b[0m\u001b[1mmagnetic_axis\u001b[22m\n",
       "\u001b[33m｜\u001b[39m\u001b[0mb_field_tor\u001b[31m ➡ \u001b[39m\u001b[35m5.3\u001b[39m\n",
       "\u001b[33m｜\u001b[39m\u001b[0mr\u001b[31m ➡ \u001b[39m\u001b[35m6.2\u001b[39m\n",
       "\u001b[33m｜\u001b[39m\u001b[0mz\u001b[31m ➡ \u001b[39m\u001b[35m0.060395007922700486\u001b[39m\n",
       "\u001b[0mpsi_axis\u001b[31m ➡ \u001b[39m\u001b[32mFunction\u001b[39m\n",
       "\u001b[0mpsi_boundary\u001b[31m ➡ \u001b[39m\u001b[32mFunction\u001b[39m\n",
       "\u001b[0mq_95\u001b[31m ➡ \u001b[39m\u001b[32mFunction\u001b[39m\n",
       "\u001b[0mq_axis\u001b[31m ➡ \u001b[39m\u001b[32mFunction\u001b[39m\n"
      ]
     },
     "execution_count": 6,
     "metadata": {},
     "output_type": "execute_result"
    }
   ],
   "source": [
    "eqt.global_quantities"
   ]
  },
  {
   "cell_type": "code",
   "execution_count": 7,
   "id": "afb75132-ed8f-4b07-b2b2-ba7656698ddc",
   "metadata": {},
   "outputs": [
    {
     "data": {
      "text/plain": [
       "\u001b[0m\u001b[1mboundary\u001b[22m\n",
       "\u001b[33m｜\u001b[39m\u001b[0melongation\u001b[31m ➡ \u001b[39m\u001b[35m1.68\u001b[39m\n",
       "\u001b[33m｜\u001b[39m\u001b[0melongation_lower\u001b[31m ➡ \u001b[39m\u001b[32mFunction\u001b[39m\n",
       "\u001b[33m｜\u001b[39m\u001b[0melongation_upper\u001b[31m ➡ \u001b[39m\u001b[32mFunction\u001b[39m\n",
       "\u001b[33m｜\u001b[39m\u001b[0m\u001b[1mgeometric_axis\u001b[22m\n",
       "\u001b[33m｜｜\u001b[39m\u001b[0mr\u001b[31m ➡ \u001b[39m\u001b[32mFunction\u001b[39m\n",
       "\u001b[33m｜｜\u001b[39m\u001b[0mz\u001b[31m ➡ \u001b[39m\u001b[32mFunction\u001b[39m\n",
       "\u001b[33m｜\u001b[39m\u001b[0mminor_radius\u001b[31m ➡ \u001b[39m\u001b[32mFunction\u001b[39m\n",
       "\u001b[33m｜\u001b[39m\u001b[0msquareness_lower_inner\u001b[31m ➡ \u001b[39m\u001b[32mFunction\u001b[39m\n",
       "\u001b[33m｜\u001b[39m\u001b[0msquareness_lower_outer\u001b[31m ➡ \u001b[39m\u001b[32mFunction\u001b[39m\n",
       "\u001b[33m｜\u001b[39m\u001b[0msquareness_upper_inner\u001b[31m ➡ \u001b[39m\u001b[32mFunction\u001b[39m\n",
       "\u001b[33m｜\u001b[39m\u001b[0msquareness_upper_outer\u001b[31m ➡ \u001b[39m\u001b[32mFunction\u001b[39m\n",
       "\u001b[33m｜\u001b[39m\u001b[0mtriangularity\u001b[31m ➡ \u001b[39m\u001b[32mFunction\u001b[39m\n",
       "\u001b[33m｜\u001b[39m\u001b[0mtriangularity_lower\u001b[31m ➡ \u001b[39m\u001b[32mFunction\u001b[39m\n",
       "\u001b[33m｜\u001b[39m\u001b[0mtriangularity_upper\u001b[31m ➡ \u001b[39m\u001b[32mFunction\u001b[39m\n",
       "\u001b[0m\u001b[1mglobal_quantities\u001b[22m\n",
       "\u001b[33m｜\u001b[39m\u001b[0mbeta_normal\u001b[31m ➡ \u001b[39m\u001b[35m5.9027861254323\u001b[39m\n",
       "\u001b[33m｜\u001b[39m\u001b[0mbeta_pol\u001b[31m ➡ \u001b[39m\u001b[35m20.34807047299424\u001b[39m\n",
       "\u001b[33m｜\u001b[39m\u001b[0mbeta_tor\u001b[31m ➡ \u001b[39m\u001b[35m0.009264304952773462\u001b[39m\n",
       "\u001b[33m｜\u001b[39m\u001b[0menergy_mhd\u001b[31m ➡ \u001b[39m\u001b[32mFunction\u001b[39m\n",
       "\u001b[33m｜\u001b[39m\u001b[0mip\u001b[31m ➡ \u001b[39m\u001b[35m-2.4755106103230356e6\u001b[39m\n",
       "\u001b[33m｜\u001b[39m\u001b[0mlength_pol\u001b[31m ➡ \u001b[39m\u001b[35m27.5076792320081\u001b[39m\n",
       "\u001b[33m｜\u001b[39m\u001b[0mli_3\u001b[31m ➡ \u001b[39m\u001b[35m1.0\u001b[39m\n",
       "\u001b[33m｜\u001b[39m\u001b[0m\u001b[1mmagnetic_axis\u001b[22m\n",
       "\u001b[33m｜｜\u001b[39m\u001b[0mb_field_tor\u001b[31m ➡ \u001b[39m\u001b[35m5.3\u001b[39m\n",
       "\u001b[33m｜｜\u001b[39m\u001b[0mr\u001b[31m ➡ \u001b[39m\u001b[35m6.2\u001b[39m\n",
       "\u001b[33m｜｜\u001b[39m\u001b[0mz\u001b[31m ➡ \u001b[39m\u001b[35m0.060395007922700486\u001b[39m\n",
       "\u001b[33m｜\u001b[39m\u001b[0mpsi_axis\u001b[31m ➡ \u001b[39m\u001b[32mFunction\u001b[39m\n",
       "\u001b[33m｜\u001b[39m\u001b[0mpsi_boundary\u001b[31m ➡ \u001b[39m\u001b[32mFunction\u001b[39m\n",
       "\u001b[33m｜\u001b[39m\u001b[0mq_95\u001b[31m ➡ \u001b[39m\u001b[32mFunction\u001b[39m\n",
       "\u001b[33m｜\u001b[39m\u001b[0mq_axis\u001b[31m ➡ \u001b[39m\u001b[32mFunction\u001b[39m\n",
       "\u001b[0m\u001b[1mprofiles_1d\u001b[22m\n",
       "\u001b[33m｜\u001b[39m\u001b[0mdpressure_dpsi\u001b[31m ➡ \u001b[39m\u001b[34m129-element Vector{Float64}\u001b[39m\n",
       "\u001b[33m｜\u001b[39m\u001b[0mdvolume_dpsi\u001b[31m ➡ \u001b[39m\u001b[34m129-element Vector{Float64}\u001b[39m\n",
       "\u001b[33m｜\u001b[39m\u001b[0melongation\u001b[31m ➡ \u001b[39m\u001b[34m129-element Vector{Float64}\u001b[39m\n",
       "\u001b[33m｜\u001b[39m\u001b[0mf\u001b[31m ➡ \u001b[39m\u001b[34m129-element Vector{Float64}\u001b[39m\n",
       "\u001b[33m｜\u001b[39m\u001b[0mf_df_dpsi\u001b[31m ➡ \u001b[39m\u001b[34m129-element Vector{Float64}\u001b[39m\n",
       "\u001b[33m｜\u001b[39m\u001b[0m\u001b[1mgeometric_axis\u001b[22m\n",
       "\u001b[33m｜｜\u001b[39m\u001b[0mr\u001b[31m ➡ \u001b[39m\u001b[32mFunction\u001b[39m\n",
       "\u001b[33m｜｜\u001b[39m\u001b[0mz\u001b[31m ➡ \u001b[39m\u001b[32mFunction\u001b[39m\n",
       "\u001b[33m｜\u001b[39m\u001b[0mgm1\u001b[31m ➡ \u001b[39m\u001b[34m129-element Vector{Float64}\u001b[39m\n",
       "\u001b[33m｜\u001b[39m\u001b[0mgm2\u001b[31m ➡ \u001b[39m\u001b[34m129-element Vector{Float64}\u001b[39m\n",
       "\u001b[33m｜\u001b[39m\u001b[0mgm9\u001b[31m ➡ \u001b[39m\u001b[34m129-element Vector{Float64}\u001b[39m\n",
       "\u001b[33m｜\u001b[39m\u001b[0mj_parallel\u001b[31m ➡ \u001b[39m\u001b[34m129-element Vector{Float64}\u001b[39m\n",
       "\u001b[33m｜\u001b[39m\u001b[0mj_tor\u001b[31m ➡ \u001b[39m\u001b[34m129-element Vector{Float64}\u001b[39m\n",
       "\u001b[33m｜\u001b[39m\u001b[0mphi\u001b[31m ➡ \u001b[39m\u001b[34m129-element Vector{Float64}\u001b[39m\n",
       "\u001b[33m｜\u001b[39m\u001b[0mpressure\u001b[31m ➡ \u001b[39m\u001b[34m129-element Vector{Float64}\u001b[39m\n",
       "\u001b[33m｜\u001b[39m\u001b[0mpsi\u001b[31m ➡ \u001b[39m\u001b[34m129-element Vector{Float64}\u001b[39m\n",
       "\u001b[33m｜\u001b[39m\u001b[0mq\u001b[31m ➡ \u001b[39m\u001b[34m129-element Vector{Float64}\u001b[39m\n",
       "\u001b[33m｜\u001b[39m\u001b[0mr_inboard\u001b[31m ➡ \u001b[39m\u001b[34m129-element Vector{Float64}\u001b[39m\n",
       "\u001b[33m｜\u001b[39m\u001b[0mr_outboard\u001b[31m ➡ \u001b[39m\u001b[34m129-element Vector{Float64}\u001b[39m\n",
       "\u001b[33m｜\u001b[39m\u001b[0mrho_tor_norm\u001b[31m ➡ \u001b[39m\u001b[34m129-element Vector{Float64}\u001b[39m\n",
       "\u001b[33m｜\u001b[39m\u001b[0mtriangularity_lower\u001b[31m ➡ \u001b[39m\u001b[34m129-element Vector{Float64}\u001b[39m\n",
       "\u001b[33m｜\u001b[39m\u001b[0mtriangularity_upper\u001b[31m ➡ \u001b[39m\u001b[34m129-element Vector{Float64}\u001b[39m\n",
       "\u001b[33m｜\u001b[39m\u001b[0mvolume\u001b[31m ➡ \u001b[39m\u001b[34m129-element Vector{Float64}\u001b[39m\n",
       "\u001b[0m\u001b[1mprofiles_2d\u001b[22m\n",
       "\u001b[33m｜\u001b[39m\u001b[32m\u001b[1m[1]\u001b[22m\u001b[39m\n",
       "\u001b[33m｜｜\u001b[39m\u001b[0mb_field_r\u001b[31m ➡ \u001b[39m\u001b[34m129×217 Matrix{Float64}\u001b[39m\n",
       "\u001b[33m｜｜\u001b[39m\u001b[0mb_field_tor\u001b[31m ➡ \u001b[39m\u001b[34m129×217 Matrix{Float64}\u001b[39m\n",
       "\u001b[33m｜｜\u001b[39m\u001b[0mb_field_z\u001b[31m ➡ \u001b[39m\u001b[34m129×217 Matrix{Float64}\u001b[39m\n",
       "\u001b[33m｜｜\u001b[39m\u001b[0m\u001b[1mgrid\u001b[22m\n",
       "\u001b[33m｜｜｜\u001b[39m\u001b[0mdim1\u001b[31m ➡ \u001b[39m\u001b[34m129-element Vector{Float64}\u001b[39m\n",
       "\u001b[33m｜｜｜\u001b[39m\u001b[0mdim2\u001b[31m ➡ \u001b[39m\u001b[34m217-element Vector{Float64}\u001b[39m\n",
       "\u001b[33m｜｜\u001b[39m\u001b[0m\u001b[1mgrid_type\u001b[22m\n",
       "\u001b[33m｜｜｜\u001b[39m\u001b[0mindex\u001b[31m ➡ \u001b[39m\u001b[35m1\u001b[39m\n",
       "\u001b[33m｜｜\u001b[39m\u001b[0mphi\u001b[31m ➡ \u001b[39m\u001b[34m129×217 Matrix{Float64}\u001b[39m\n",
       "\u001b[33m｜｜\u001b[39m\u001b[0mpsi\u001b[31m ➡ \u001b[39m\u001b[34m129×217 Matrix{Float64}\u001b[39m\n",
       "\u001b[0mtime\u001b[31m ➡ \u001b[39m\u001b[35m0.0\u001b[39m\n"
      ]
     },
     "execution_count": 7,
     "metadata": {},
     "output_type": "execute_result"
    }
   ],
   "source": [
    "dd2 = IMAS.dd()\n",
    "dd2.equilibrium = IMAS.equilibrium()\n",
    "resize!(dd2.equilibrium.time_slice,1)\n",
    "dd2.equilibrium.time_slice[1] = eqt\n",
    "\n"
   ]
  },
  {
   "cell_type": "code",
   "execution_count": 8,
   "id": "f3b3afac-eed4-47f7-a2ca-dc19df2f22fd",
   "metadata": {},
   "outputs": [
    {
     "ename": "LoadError",
     "evalue": "type TauennInputs has no field ne_ped",
     "output_type": "error",
     "traceback": [
      "type TauennInputs has no field ne_ped",
      "",
      "Stacktrace:",
      " [1] getproperty(x::TauennInputs, f::Symbol)",
      "   @ Base ./Base.jl:33",
      " [2] construct_ods(inputs::TauennInputs)",
      "   @ AD_TAUENN ~/.julia/dev/AD_TAUENN/src/AD_TAUENN.jl:337",
      " [3] tau_enn(inputs::TauennInputs; verbose::Bool)",
      "   @ AD_TAUENN ~/.julia/dev/AD_TAUENN/src/AD_TAUENN.jl:188",
      " [4] top-level scope",
      "   @ ./timing.jl:210 [inlined]",
      " [5] top-level scope",
      "   @ ./In[8]:0",
      " [6] eval",
      "   @ ./boot.jl:360 [inlined]",
      " [7] include_string(mapexpr::typeof(REPL.softscope), mod::Module, code::String, filename::String)",
      "   @ Base ./loading.jl:1116"
     ]
    }
   ],
   "source": [
    "using NNlib\n",
    "using Flux\n",
    "using Dates\n",
    "using AD_EPEDNN\n",
    "using AD_TGLFNN\n",
    "\n",
    "\n",
    "# run tauenn from standalone\n",
    "inputs = TauennInputs()\n",
    "inputs.q0= 1.2\n",
    "inputs.mixing = \"dc\"\n",
    "inputs.ngrid = 101\n",
    "inputs.delta = 0.45\n",
    "inputs.iterations=100\n",
    "inputs.rho_fluxmatch=0.6\n",
    "inputs.error=0.001\n",
    "#display(inputs)\n",
    "@time outputs = tau_enn(inputs; verbose=true);\n",
    "display(outputs)\n",
    "plot(outputs.ods.core_profiles.profiles_1d[1].electrons.temperature, label=\"$(inputs.Paux)MW\")"
   ]
  },
  {
   "cell_type": "code",
   "execution_count": null,
   "id": "b2c0c4a6-386a-46d9-9253-81d8b9b1cbd4",
   "metadata": {},
   "outputs": [],
   "source": []
  },
  {
   "cell_type": "code",
   "execution_count": null,
   "id": "5f2ad8f0-1e7f-42ad-b84d-f81fcfe0e626",
   "metadata": {},
   "outputs": [],
   "source": []
  },
  {
   "cell_type": "code",
   "execution_count": null,
   "id": "cc55d5eb-092a-4c20-ab41-47b3531c071b",
   "metadata": {},
   "outputs": [],
   "source": []
  },
  {
   "cell_type": "code",
   "execution_count": null,
   "id": "a3f50301-79b5-4026-9d3f-6223cb7df219",
   "metadata": {},
   "outputs": [],
   "source": []
  },
  {
   "cell_type": "code",
   "execution_count": null,
   "id": "de228273-592d-4ffa-8c25-b9bc0302a29c",
   "metadata": {},
   "outputs": [],
   "source": [
    "\n"
   ]
  }
 ],
 "metadata": {
  "kernelspec": {
   "display_name": "Julia 1.6.3",
   "language": "julia",
   "name": "julia-1.6"
  },
  "language_info": {
   "file_extension": ".jl",
   "mimetype": "application/julia",
   "name": "julia",
   "version": "1.6.3"
  }
 },
 "nbformat": 4,
 "nbformat_minor": 5
}
