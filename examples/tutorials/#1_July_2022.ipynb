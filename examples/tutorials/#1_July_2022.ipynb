{
 "cells": [
  {
   "cell_type": "markdown",
   "id": "74f43e27",
   "metadata": {},
   "source": [
    "# FUSE tutorial #1 July 7th\n",
    "\n",
    "### Outline\n",
    "+ The objectives and concepts of FUSE\n",
    "+ How to set-up a case (Fusion Power Plant v1_demount)\n",
    "+ How to interact with FUSE objects (dd, ini, act)\n",
    "+ How to run Actors and modify them\n",
    "+ Optimization\n",
    "\n",
    "#### Note: this is not a julia tutorial [link to julia basics](https://www.youtube.com/watch?v=FntEfT8R2fY)"
   ]
  },
  {
   "cell_type": "markdown",
   "id": "3ca56f56-9d80-4d1e-a526-be512a5ca98b",
   "metadata": {},
   "source": [
    "## The basics\n",
    "* [https://fuse.help](https://fuse.help/index.html)\n",
    "* objectives\n",
    "* concepts\n",
    "* base example\n",
    "* Julia is JIT compiled "
   ]
  },
  {
   "cell_type": "code",
   "execution_count": null,
   "id": "ca27ad67-90d1-48de-ab4d-cf9bf5589d06",
   "metadata": {},
   "outputs": [],
   "source": [
    "# using the Revise and FUSE packages (Revise for development)\n",
    "using Revise\n",
    "using FUSE\n",
    "# get `ini` and `act` for a given use-case\n",
    "ini, act = FUSE.case_parameters(:FPP; version=:v1_demount, init_from=:scalars)\n",
    "# initialize `dd` from 0D parameters\n",
    "dd = FUSE.init(ini, act; do_plot=true)\n",
    "# run an actor\n",
    "#FUSE.ActorEquilibriumTransport(dd, act; do_plot=true);"
   ]
  },
  {
   "cell_type": "markdown",
   "id": "84c8bf46-4a5c-4982-a43e-3b1011d93879",
   "metadata": {},
   "source": [
    "## Playing around with dd, ini, act\n",
    "1. [data structure documentation](https://fuse.help/dd.html)\n",
    "1. [ini documentation](https://fuse.help/ini.html)\n",
    "1. [act documentation](https://fuse.help/act.html)"
   ]
  },
  {
   "cell_type": "markdown",
   "id": "41dc8a7e-9ec4-438d-9a81-7314d6851652",
   "metadata": {},
   "source": [
    "### 1. dd\n",
    "\n",
    "* Show Structure\n",
    "* IMAS\n",
    "* plot\n",
    "* expressions\n",
    "  * What are they and how do they work\n",
    "  * IMAS.freeze\n",
    "* time\n",
    "* save/load to/from json"
   ]
  },
  {
   "cell_type": "code",
   "execution_count": null,
   "id": "3d5ca247-f749-4687-a169-1e48dc5bc633",
   "metadata": {},
   "outputs": [],
   "source": [
    "@show keys(dd)\n",
    "# dd # uncomment to see the whole data structure\n",
    "# dd.equilibrium\n",
    "\n",
    "eqt = dd.equilibrium.time_slice[1]\n",
    "keys(eqt)"
   ]
  },
  {
   "cell_type": "code",
   "execution_count": null,
   "id": "302de9d3-ebb7-4ff9-a4d6-efe14a3f7ec3",
   "metadata": {},
   "outputs": [],
   "source": [
    "using Plots\n",
    "\n",
    "display(plot(dd.equilibrium))\n",
    "\n",
    "display(plot(dd.core_profiles))\n",
    "\n",
    "display(plot(dd.core_sources))\n",
    "\n",
    "plot(dd.equilibrium, color=:gray)\n",
    "plot!(dd.build)\n",
    "display(plot!(dd.build, cx=false))\n"
   ]
  },
  {
   "cell_type": "markdown",
   "id": "0058a8f8-f998-4a63-bf32-b68633ae284d",
   "metadata": {},
   "source": [
    "The IMAS dataschema handles time in various places differently"
   ]
  },
  {
   "cell_type": "code",
   "execution_count": null,
   "id": "6a66978b-8bc8-458d-af85-ff512d17008e",
   "metadata": {},
   "outputs": [],
   "source": [
    "eqt = dd.equilibrium.time_slice[] # takes the time_slice of equilibrium @ dd.globaltime\n",
    "@show dd.global_time, eqt.time ;\n",
    "\n",
    "dd.equilibrium.vacuum_toroidal_field.b0 # This is an array b0(time)\n",
    "# to select the dd.globaltime\n"
   ]
  },
  {
   "cell_type": "code",
   "execution_count": null,
   "id": "ce474ff7-9873-4d6e-88bd-008137a06331",
   "metadata": {},
   "outputs": [],
   "source": [
    "tutorial_dir = mkpath(joinpath(pwd(),\"tutorial_directory\"))\n",
    "save_name = \"FPP_v1_starting_point.json\"\n",
    "\n",
    "# Saving dd to file\n",
    "fdd = IMAS.freeze(dd)\n",
    "IMAS.imas2json(fdd,joinpath(tutorial_dir,save_name))\n",
    "\n",
    "#display(fdd)\n",
    "# loading dd from file\n",
    "\n",
    "dd_new = IMAS.json2imas(joinpath(tutorial_dir,save_name))\n",
    "#typeof(fdd.equilibrium.time)\n"
   ]
  },
  {
   "cell_type": "code",
   "execution_count": null,
   "id": "f44c9566-7a95-4f5c-9045-26fd823e58be",
   "metadata": {},
   "outputs": [],
   "source": [
    "typeof(Inf)"
   ]
  },
  {
   "cell_type": "markdown",
   "id": "fadd0b24-605d-4121-997f-d54daba44a58",
   "metadata": {},
   "source": [
    "### 2. ini\n",
    "* Show organization\n",
    "* defaults\n",
    "* mostly missing"
   ]
  },
  {
   "cell_type": "code",
   "execution_count": null,
   "id": "7417e0b4-44b4-40e0-89c4-ef393eece2b7",
   "metadata": {},
   "outputs": [],
   "source": []
  },
  {
   "cell_type": "markdown",
   "id": "63baa01f-eb67-400c-b215-194d5edc2ae3",
   "metadata": {},
   "source": [
    "### 3. act\n",
    "* Organization by actor\n",
    "* Comparing Solovev to Chease"
   ]
  },
  {
   "cell_type": "code",
   "execution_count": null,
   "id": "df6bc14b-5885-4af5-bcd6-d9d4c62647a1",
   "metadata": {},
   "outputs": [],
   "source": []
  },
  {
   "cell_type": "markdown",
   "id": "a464ad29-1b78-422e-846c-db001d0d0da6",
   "metadata": {},
   "source": [
    "## Running whole device actors \n",
    "* [FUSE actor documentation](https://fuse.help/actors.html)\n",
    "\n",
    "## List of Actors to run"
   ]
  },
  {
   "cell_type": "markdown",
   "id": "ba11bd13-1743-49dd-8037-2b50d149666f",
   "metadata": {},
   "source": [
    "#### 1. Poloidal Field coil optimization [ActorPFcoilsOpt]"
   ]
  },
  {
   "cell_type": "code",
   "execution_count": null,
   "id": "2e88dd44-0ddc-4f53-baad-17e6dd4ceadb",
   "metadata": {},
   "outputs": [],
   "source": []
  },
  {
   "cell_type": "markdown",
   "id": "e83be24c-5015-46b1-967b-1c891e062982",
   "metadata": {},
   "source": [
    "#### 2. Neutronics [ActorNeutronics]"
   ]
  },
  {
   "cell_type": "code",
   "execution_count": null,
   "id": "06184d2d-cd75-4de1-a99c-2d963b3e6ddf",
   "metadata": {},
   "outputs": [],
   "source": []
  },
  {
   "cell_type": "markdown",
   "id": "ba580c09-e3fd-4d61-9d1e-382d1963bdff",
   "metadata": {},
   "source": [
    "#### 3. Stresses [ActorStresses]"
   ]
  },
  {
   "cell_type": "code",
   "execution_count": null,
   "id": "97ef1970-e1cc-4a65-9c10-0e1871335cfb",
   "metadata": {},
   "outputs": [],
   "source": []
  },
  {
   "cell_type": "markdown",
   "id": "256e7fac-78af-4698-ae6d-563a4b2f222e",
   "metadata": {},
   "source": [
    "#### 4. something"
   ]
  },
  {
   "cell_type": "code",
   "execution_count": null,
   "id": "2ba245a1-538a-4239-911e-4bb405cf7e3e",
   "metadata": {},
   "outputs": [],
   "source": []
  },
  {
   "cell_type": "markdown",
   "id": "5a43b04e-bc53-4108-9fdd-cb7120678c27",
   "metadata": {},
   "source": [
    "## FUSE instalation and development\n",
    "\n",
    "### 1. [Install]()"
   ]
  },
  {
   "cell_type": "code",
   "execution_count": null,
   "id": "f91f5ed3-81fa-43e3-bf4e-5e71ac4b3634",
   "metadata": {},
   "outputs": [],
   "source": []
  },
  {
   "cell_type": "markdown",
   "id": "3d6288d9-5f3f-4bee-bb21-42a1eafb3284",
   "metadata": {},
   "source": [
    "### 2. [List of PTP repositories]()"
   ]
  },
  {
   "cell_type": "code",
   "execution_count": null,
   "id": "e2bebdf7-2c5e-4858-9925-e47443fddda6",
   "metadata": {},
   "outputs": [],
   "source": []
  },
  {
   "cell_type": "markdown",
   "id": "f9f7ead0-a390-4669-b1f7-1182173a3484",
   "metadata": {},
   "source": [
    "### 3. [Development documentation]()"
   ]
  },
  {
   "cell_type": "code",
   "execution_count": null,
   "id": "fc292f9d-8cec-40fc-a6b7-3d3d9f878e5a",
   "metadata": {},
   "outputs": [],
   "source": []
  },
  {
   "cell_type": "markdown",
   "id": "13e0a1cb-c652-4289-9cd6-548a0ab0063a",
   "metadata": {},
   "source": [
    "### 4. Change something in VScode using Revise"
   ]
  },
  {
   "cell_type": "code",
   "execution_count": null,
   "id": "8fc092d0-3c17-4869-97fb-975b32a0290c",
   "metadata": {},
   "outputs": [],
   "source": []
  },
  {
   "cell_type": "markdown",
   "id": "bfde4489-88d6-4919-bc01-0f56421cf8f8",
   "metadata": {},
   "source": [
    "## Optimization Worfklow [link to notebook]()"
   ]
  }
 ],
 "metadata": {
  "kernelspec": {
   "display_name": "Julia 1.7.3",
   "language": "julia",
   "name": "julia-1.7"
  },
  "language_info": {
   "file_extension": ".jl",
   "mimetype": "application/julia",
   "name": "julia",
   "version": "1.7.3"
  }
 },
 "nbformat": 4,
 "nbformat_minor": 5
}
