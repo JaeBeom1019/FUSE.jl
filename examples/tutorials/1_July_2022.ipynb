{
 "cells": [
  {
   "cell_type": "markdown",
   "id": "0",
   "metadata": {},
   "source": [
    "# FUSE tutorial #1: July 7th 2022\n",
    "**NOTE:** Always referr to the [FUSE documentation](https://fuse.help/index.html) for most up-to-date information\n",
    "\n",
    "----------\n",
    "\n",
    "## Watch the [video recording of this tutorial](https://github.com/ProjectTorreyPines/FUSE_extra_files/raw/master/FUSE_tutorial_1_6Jul22.mp4)\n",
    "\n",
    "----------\n",
    "\n",
    "FUSE (**FU**sion **S**ynthesis **E**ngine) is GA's proprietary framework for Fusion Power Plant (FPP) integrated design.\n",
    "\n",
    "## FUSE objectives\n",
    "\n",
    "* Couple physics, engineering, control, costing, and balance of plant\n",
    "* Enable both stationary as well as time-dependent simulations\n",
    "* Be generic and modular, supporting hierarcy of models\n",
    "* Leverage parallelism and HPC systems for optimization studies\n",
    "* Support sensitivity and uncertainty quantification analyses\n",
    "\n",
    "## Basic concepts\n",
    "\n",
    "FUSE is written completely in Julia, and is structured as follows:\n",
    "1. Data is stored in the `dd` data structure, which is based on the ITER IMAS onthology\n",
    "1. Physics and engineering `actors` are the fundamental building blocks of FUSE simulations\n",
    "1. Actors functionality is controlled via `act` parameters\n",
    "1. The data structure can be initialized starting from 0D `ini` parameters\n",
    "1. FUSE comes with a series of template `use cases` for different machines (FPP, ITER, ARC, ...)\n",
    "1. `workflows` perform self-contained studies/optimizations (typically running many FUSE simulations)\n",
    "1. FUSE can interface with the existing GA ecosystem of modeling codes (GASC, OMFIT/OMAS) as well as IMAS\n",
    "\n",
    "These concepts are illustrated in the diagram below:\n",
    "\n",
    "![svg](../../docs/src/assets/FUSE.svg)\n",
    "\n",
    "## Tutorial outline\n",
    "+ The objectives and concepts of FUSE\n",
    "+ How to set-up a case (Fusion Power Plant v1_demount)\n",
    "+ How to interact with FUSE objects (dd, ini, act)\n",
    "+ How to run Actors and modify them\n",
    "+ Optimization\n",
    "\n",
    "#### NOTE:\n",
    "* This is not a [Julia tutorial](https://www.youtube.com/watch?v=FntEfT8R2fY)\n",
    "* This is not a [Jupyter Lab tutorial](https://jupyterlab.readthedocs.io/en/latest/user/notebook.html)"
   ]
  },
  {
   "cell_type": "markdown",
   "id": "1",
   "metadata": {},
   "source": [
    "## A simple example"
   ]
  },
  {
   "cell_type": "code",
   "execution_count": null,
   "id": "2",
   "metadata": {},
   "outputs": [],
   "source": [
    "@time begin # Julia is Just In Time compiled (JIT), which means the first execution takes a while (it needs to compile!), then it will be fast\n",
    "    \n",
    "    # Revise package for development (always import this first, will talk about this at the end)\n",
    "    using Revise\n",
    "\n",
    "    # FUSE package and logger\n",
    "    using FUSE\n",
    "    FUSE.logging(Logging.Info)\n",
    "\n",
    "    # Get `ini` and `act` for a given use-case\n",
    "    ini, act = FUSE.case_parameters(:FPP)\n",
    "\n",
    "    # Initialize `dd` from 0D parameters\n",
    "    dd = FUSE.init(ini, act; do_plot=false)\n",
    "\n",
    "    # Run an actor\n",
    "    FUSE.ActorEquilibrium(dd, act; ip_from =:equilibrium, do_plot=true);\n",
    "\n",
    "end;"
   ]
  },
  {
   "cell_type": "markdown",
   "id": "3",
   "metadata": {},
   "source": [
    "## Handling FUSE data: `dd`, `ini`, `act`"
   ]
  },
  {
   "cell_type": "markdown",
   "id": "4",
   "metadata": {},
   "source": [
    "### 1. Playing around with `dd`\n",
    "* FUSE stores data according to the IMAS data schema\n",
    "* The root of the data structure where FUSE stores data is generally referred to as `dd` (which stands for `Data Dictionary`)\n",
    "* See the [`IMAS.dd()` documentation](https://fuse.help/dd.html)\n",
    "\n",
    "#### Show `dd` content"
   ]
  },
  {
   "cell_type": "code",
   "execution_count": null,
   "id": "5",
   "metadata": {},
   "outputs": [],
   "source": [
    "dd; # remove `;` to see the whole data structure"
   ]
  },
  {
   "cell_type": "code",
   "execution_count": null,
   "id": "6",
   "metadata": {},
   "outputs": [],
   "source": [
    "# We take a look at only one portion of dd\n",
    "dd.equilibrium.time_slice[2].boundary"
   ]
  },
  {
   "cell_type": "markdown",
   "id": "7",
   "metadata": {},
   "source": [
    "#### Show IMAS stucture\n",
    "\n",
    "* `dd`, `dd.equilibrium`, ... are instances of Julia `strut`s that are defined in the `IMASDD.jl` package\n",
    "  * `dd = IMAS.dd()`\n",
    "  * `dd.equilibrium` is of type `IMAS.equilibrium`\n",
    "  * `dd.equilibrium.time_slice` is of type `IMAS.equilibrium__time_slice`\n",
    "  * `dd.equilibrium.time_slice[1].boundary` is of type `IMAS.equilibrium__time_slice___boundary`\n",
    "  \n",
    "* The curious reader can take a look at the [IMASDD/src/dd.jl](../../../IMASDD/src/dd.jl) file to see those definitions"
   ]
  },
  {
   "cell_type": "code",
   "execution_count": null,
   "id": "8",
   "metadata": {},
   "outputs": [],
   "source": [
    "# whenever things start with `IMAS.`, then this is a Julia type\n",
    "IMAS.equilibrium"
   ]
  },
  {
   "cell_type": "code",
   "execution_count": null,
   "id": "9",
   "metadata": {},
   "outputs": [],
   "source": [
    "# which is different from the instance filled with data\n",
    "dd.equilibrium"
   ]
  },
  {
   "cell_type": "markdown",
   "id": "10",
   "metadata": {},
   "source": [
    "#### Plot data in `dd`\n",
    "\n",
    "* There are [Plots.jl recipies](https://docs.juliaplots.org/latest/recipes/) defined for different IMASDD.jl types of structs\n",
    "* These recipies are defined in [IMAS/src/plot.jl](../../../IMAS/src/plot.jl)\n",
    "* Plots can be [customized](https://docs.juliaplots.org/latest/generated/attributes_series)\n",
    "* NOTE: use `display()` is used to force the plot to show when `plot` is not called at the end of the cell"
   ]
  },
  {
   "cell_type": "code",
   "execution_count": null,
   "id": "11",
   "metadata": {
    "tags": []
   },
   "outputs": [],
   "source": [
    "using Plots\n",
    "plot(dd.equilibrium)"
   ]
  },
  {
   "cell_type": "code",
   "execution_count": null,
   "id": "12",
   "metadata": {
    "tags": []
   },
   "outputs": [],
   "source": [
    "plot(dd.core_profiles)"
   ]
  },
  {
   "cell_type": "code",
   "execution_count": null,
   "id": "13",
   "metadata": {
    "tags": []
   },
   "outputs": [],
   "source": [
    "plot(dd.core_sources)"
   ]
  },
  {
   "cell_type": "code",
   "execution_count": null,
   "id": "14",
   "metadata": {
    "tags": []
   },
   "outputs": [],
   "source": [
    "# plots can be composed\n",
    "plot(dd.equilibrium, color=:gray)\n",
    "plot!(dd.build)\n",
    "plot!(dd.build, cx=false)"
   ]
  },
  {
   "cell_type": "code",
   "execution_count": null,
   "id": "15",
   "metadata": {},
   "outputs": [],
   "source": [
    "# plot of an array ...\n",
    "plot(dd.core_profiles.profiles_1d[1].pressure_thermal)"
   ]
  },
  {
   "cell_type": "code",
   "execution_count": null,
   "id": "16",
   "metadata": {},
   "outputs": [],
   "source": [
    "# ... is different than plotting of a field in an IDS\n",
    "plot(dd.core_profiles.profiles_1d[1], :pressure_thermal)"
   ]
  },
  {
   "cell_type": "code",
   "execution_count": null,
   "id": "17",
   "metadata": {},
   "outputs": [],
   "source": [
    "# plots can be customized: https://docs.juliaplots.org/latest/generated/attributes_series\n",
    "plot(dd.core_profiles.profiles_1d[1], :pressure_thermal, label=\"\", linewidth=2, color=:red, labelfontsize=25)"
   ]
  },
  {
   "cell_type": "markdown",
   "id": "18",
   "metadata": {
    "tags": []
   },
   "source": [
    "#### Working with time series\n",
    "\n",
    "* The IMAS data structure can accomodate time-dependent data\n",
    "  \n",
    "* Manually handling time in IMAS is tedius and error-prone\n",
    "  \n",
    "* IMAS.jl provides convenient ways to handle time\n",
    "  * `dd.global_time`® sets the \"current working time\" throughout all of the `dd`\n",
    "  * different IDSs can have time arrays of different lengths\n",
    "  * data returned based on nearest neighbour"
   ]
  },
  {
   "cell_type": "code",
   "execution_count": null,
   "id": "19",
   "metadata": {},
   "outputs": [],
   "source": [
    "@show dd.global_time\n",
    "@show dd.equilibrium.time;"
   ]
  },
  {
   "cell_type": "code",
   "execution_count": null,
   "id": "20",
   "metadata": {},
   "outputs": [],
   "source": [
    "# To access a time-dependent array of structures at time slice use **Integer** index\n",
    "eqt = dd.equilibrium.time_slice[2]\n",
    "@show eqt.time;"
   ]
  },
  {
   "cell_type": "code",
   "execution_count": null,
   "id": "21",
   "metadata": {},
   "outputs": [],
   "source": [
    "# To access a time-dependent array of structures at `dd.globaltime` use []\n",
    "eqt = dd.equilibrium.time_slice[]\n",
    "@show eqt.time;"
   ]
  },
  {
   "cell_type": "code",
   "execution_count": null,
   "id": "22",
   "metadata": {},
   "outputs": [],
   "source": [
    "# To access a time-dependent array of structures at a given time use **Float** time\n",
    "eqt = dd.equilibrium.time_slice[0.0]\n",
    "@show eqt.time;"
   ]
  },
  {
   "cell_type": "code",
   "execution_count": null,
   "id": "23",
   "metadata": {},
   "outputs": [],
   "source": [
    "# To access a time-dependent array we use @ddtime macro\n",
    "@show dd.equilibrium.vacuum_toroidal_field.b0; # this is a time dependent data array"
   ]
  },
  {
   "cell_type": "code",
   "execution_count": null,
   "id": "24",
   "metadata": {},
   "outputs": [],
   "source": [
    "# GET data of time-dependent array at `dd.globaltime` (use `IMAS.get_time_array()` to access at other times)\n",
    "my_b0 = @ddtime(dd.equilibrium.vacuum_toroidal_field.b0)"
   ]
  },
  {
   "cell_type": "code",
   "execution_count": null,
   "id": "25",
   "metadata": {},
   "outputs": [],
   "source": [
    "# SET data of time-dependent array at `dd.globaltime` (use `IMAS.set_time_array()` to access at other times)\n",
    "my_b0 = round(my_b0; digits=3)\n",
    "@ddtime(dd.equilibrium.vacuum_toroidal_field.b0 = my_b0)"
   ]
  },
  {
   "cell_type": "markdown",
   "id": "26",
   "metadata": {},
   "source": [
    "#### Expressions\n",
    "\n",
    "* Many fields in the IMAS data structure are related to one another. Given some fields others can be calculated. This leads to an issue of consistency, where if some field is updated, all the fields that relies on that data should be updated too.\n",
    "\n",
    "* IMAS.jl solves this problem by assigning expressions to certain fields. The value of these expressions are then evaluated on the fly, when the field is requested.\n",
    "\n",
    "* Expressions are defined in [IMAS/src/expressions/dynamic.jl](../../../IMAS/src/expressions/dynamic.jl) and [IMAS/scr/expressions/onetime.jl](../../../IMAS/src/expressions/onetime.jl) "
   ]
  },
  {
   "cell_type": "code",
   "execution_count": null,
   "id": "27",
   "metadata": {},
   "outputs": [],
   "source": [
    "dd.core_profiles.profiles_1d[1].electrons"
   ]
  },
  {
   "cell_type": "code",
   "execution_count": null,
   "id": "28",
   "metadata": {},
   "outputs": [],
   "source": [
    "# accessing the field evaluates the expression\n",
    "dd.core_profiles.profiles_1d[1].electrons.pressure"
   ]
  },
  {
   "cell_type": "code",
   "execution_count": null,
   "id": "29",
   "metadata": {},
   "outputs": [],
   "source": [
    "# IMAS.freeze evaluates all expressions\n",
    "e1d = IMAS.freeze(dd.core_profiles.profiles_1d[1].electrons)"
   ]
  },
  {
   "cell_type": "markdown",
   "id": "30",
   "metadata": {
    "tags": []
   },
   "source": [
    "#### Saving/loading data\n",
    "\n",
    "* IMAS.jl can dump data in JSON format, to pass data to other codes (OMFIT/OMAS, ...)"
   ]
  },
  {
   "cell_type": "code",
   "execution_count": null,
   "id": "31",
   "metadata": {},
   "outputs": [],
   "source": [
    "using Printf\n",
    "\n",
    "# Dump data to JSON\n",
    "tutorial_dir = tempdir()\n",
    "save_name = \"FPP_v1_starting_point.json\"\n",
    "filename=joinpath(tutorial_dir, save_name)\n",
    "@time IMAS.imas2json(dd, filename);\n",
    "@show filename\n",
    "@printf(\"%2.2f MB\\n\",filesize(filename)/1024/1024)"
   ]
  },
  {
   "cell_type": "markdown",
   "id": "32",
   "metadata": {
    "tags": []
   },
   "source": [
    "* IMAS.jl can save/load data in JLD2 (JuLia Data format v2), which allows it to store/reload `dd` with all richness (expressions, `Inf`, `NaN`, complex, ...) that is not possible to capture with JSON format."
   ]
  },
  {
   "cell_type": "code",
   "execution_count": null,
   "id": "33",
   "metadata": {},
   "outputs": [],
   "source": [
    "# Save and reload from JLD2\n",
    "save_name = \"FPP_v1_starting_point.jld2\"\n",
    "filename = joinpath(tutorial_dir, save_name)\n",
    "@time IMAS.save(dd, filename)\n",
    "@time dd1 = IMAS.load(filename)\n",
    "@show filename\n",
    "@printf(\"%2.2f MB\\n\", filesize(filename)/1024/1024)"
   ]
  },
  {
   "cell_type": "code",
   "execution_count": null,
   "id": "34",
   "metadata": {},
   "outputs": [],
   "source": [
    "# Check for differences\n",
    "dd1.equilibrium.time_slice[1].time = -100.0\n",
    "IMAS.diff(dd, dd1);"
   ]
  },
  {
   "cell_type": "markdown",
   "id": "35",
   "metadata": {},
   "source": [
    "### 2. Playing around with `ini`\n",
    "* See the [`ParametersInit()` documentation](https://fuse.help/ini.html)\n",
    "* Organized by topical areas\n",
    "* Can have multiple layers of nesting\n",
    "* Most field defaulted to `missing`"
   ]
  },
  {
   "cell_type": "code",
   "execution_count": null,
   "id": "36",
   "metadata": {},
   "outputs": [],
   "source": [
    "new_ini = FUSE.ParametersInits()"
   ]
  },
  {
   "cell_type": "code",
   "execution_count": null,
   "id": "37",
   "metadata": {},
   "outputs": [],
   "source": [
    "# access a sub-tree\n",
    "new_ini.equilibrium"
   ]
  },
  {
   "cell_type": "code",
   "execution_count": null,
   "id": "38",
   "metadata": {},
   "outputs": [],
   "source": [
    "# access a leaf\n",
    "new_ini.equilibrium.Z0"
   ]
  },
  {
   "cell_type": "markdown",
   "id": "39",
   "metadata": {},
   "source": [
    "#### Access detailed descriptions [online](https://fuse.help/ini_details.html#ini.equilibrium.Z0)\n",
    "* Notice **units**, **descriptons**\n",
    "* Some fields only allow a limited set of **options**\n",
    "* Each field stores three things:\n",
    "    * **default**: default value when `ini = ParametersInit()` is first called\n",
    "    * **base**: value when `FUSE.set_new_base!(ini)` is called\n",
    "    * **value**: current value"
   ]
  },
  {
   "cell_type": "code",
   "execution_count": null,
   "id": "40",
   "metadata": {},
   "outputs": [],
   "source": [
    "# Error if trying to access something not initialized\n",
    "try\n",
    "    new_ini.equilibrium.ip\n",
    "catch e\n",
    "    Base.showerror(stderr, e)\n",
    "end"
   ]
  },
  {
   "cell_type": "code",
   "execution_count": null,
   "id": "41",
   "metadata": {},
   "outputs": [],
   "source": [
    "# Some ini fields only allow a limited set of options\n",
    "try\n",
    "    new_ini.tf.technology.material = \"something\"\n",
    "catch e\n",
    "    Base.showerror(stderr, e)\n",
    "end"
   ]
  },
  {
   "cell_type": "code",
   "execution_count": null,
   "id": "42",
   "metadata": {},
   "outputs": [],
   "source": [
    "# Making changes highlight things in *red* \n",
    "new_ini.equilibrium.B0 = 6.12\n",
    "new_ini.equilibrium.R0 = 5.1\n",
    "new_ini.equilibrium"
   ]
  },
  {
   "cell_type": "code",
   "execution_count": null,
   "id": "43",
   "metadata": {},
   "outputs": [],
   "source": [
    "# setting a new `base`  (this is done at the end of use-cases definitions), highlights entries in *blue*\n",
    "FUSE.set_new_base!(new_ini)\n",
    "new_ini.equilibrium"
   ]
  },
  {
   "cell_type": "code",
   "execution_count": null,
   "id": "44",
   "metadata": {},
   "outputs": [],
   "source": [
    "# Making changes highlight things in *red* \n",
    "new_ini.equilibrium.B0 = 6.123\n",
    "new_ini.equilibrium"
   ]
  },
  {
   "cell_type": "markdown",
   "id": "45",
   "metadata": {},
   "source": [
    "#### Usecases return pre-filled `ini` and `act` parameters\n",
    "\n",
    "See for example:\n",
    "* [FUSE/cases/FPP.jl](../../../FUSE/cases/FPP.jl)\n",
    "* [FUSE/cases/ITER.jl](../../../FUSE/cases/ITER.jl)\n",
    "* [FUSE/cases/ARC.jl](../../../FUSE/cases/ARC.jl)"
   ]
  },
  {
   "cell_type": "code",
   "execution_count": null,
   "id": "46",
   "metadata": {},
   "outputs": [],
   "source": [
    "ini, act = FUSE.case_parameters(:FPP)\n",
    "ini.equilibrium"
   ]
  },
  {
   "cell_type": "markdown",
   "id": "47",
   "metadata": {},
   "source": [
    "### 3. Playing around with `act`\n",
    "* [`FUSE.ParametersActor()` documentation](https://fuse.help/act.html)"
   ]
  },
  {
   "cell_type": "markdown",
   "id": "48",
   "metadata": {},
   "source": [
    "#### Show overall organization\n",
    "* Organized by Actor\n",
    "* Works the same was as `ini` Parameters"
   ]
  },
  {
   "cell_type": "markdown",
   "id": "49",
   "metadata": {},
   "source": [
    "act"
   ]
  },
  {
   "cell_type": "markdown",
   "id": "50",
   "metadata": {},
   "source": [
    "## Running actors \n",
    "* [Actors documentation](https://fuse.help/actors.html)\n",
    "* We'll manually step through what some **Actor** do:\n",
    "  * **ActorEquilibrium**: equilibrium (Solovev,CHEASE or TEQUILA)\n",
    "  * **ActorHFSsizing**: Sizes the High Field Side of radial build (plug, OH, TF) superconductors and stresses\n",
    "  * **ActorLFSsizing**: Sizes the Low Field Side of radial build\n",
    "  * **ActorCXbuild**: Generate the 2D cross section of the build\n",
    "  * **ActorPFactive**: Find optimal PF coil locations and currents to match equilibrium boundary shape and a field-null region\n",
    "  * **ActorNeutronics**: Calculate neutron loading on the wall\n",
    "  * **ActorBlanket**: Blanket tritium breeding ration and heating\n",
    "  * **ActorDivertors**: Divertor heat flux\n",
    "  * **ActorBalanceOfPlant**: Calculate the net electrical power output\n",
    "  * **ActorCosting**: Calculate the cost of the fusion power plant"
   ]
  },
  {
   "cell_type": "code",
   "execution_count": null,
   "id": "51",
   "metadata": {},
   "outputs": [],
   "source": [
    "# Start from scratch\n",
    "ini, act = FUSE.case_parameters(:FPP)\n",
    "ini.pf_active.n_coils_outside = 6;\n",
    "ini.core_profiles.zeff = 2.0\n",
    "dd = FUSE.init(ini, act; do_plot=false);"
   ]
  },
  {
   "cell_type": "code",
   "execution_count": null,
   "id": "52",
   "metadata": {},
   "outputs": [],
   "source": [
    "@time FUSE.ActorEquilibrium(dd, act; ip_from = :equilibrium, do_plot=true);"
   ]
  },
  {
   "cell_type": "code",
   "execution_count": null,
   "id": "53",
   "metadata": {},
   "outputs": [],
   "source": [
    "@time FUSE.ActorHFSsizing(dd, act; do_plot=true);\n",
    "display(plot(dd.solid_mechanics.center_stack.stress))\n",
    "dd.build.oh"
   ]
  },
  {
   "cell_type": "code",
   "execution_count": null,
   "id": "54",
   "metadata": {},
   "outputs": [],
   "source": [
    "@time FUSE.ActorLFSsizing(dd, act; do_plot=true);\n",
    "display(dd.build.tf)"
   ]
  },
  {
   "cell_type": "code",
   "execution_count": null,
   "id": "55",
   "metadata": {},
   "outputs": [],
   "source": [
    "@time FUSE.ActorCXbuild(dd, act; do_plot=true);"
   ]
  },
  {
   "cell_type": "code",
   "execution_count": null,
   "id": "56",
   "metadata": {},
   "outputs": [],
   "source": [
    "# weight_currents: make smaller to force currents to fit in the limits\n",
    "# update_equilibrium: overwrite the target equilibrium with what the coils can actually generate\n",
    "@time FUSE.ActorPFactive(dd, act; do_plot=true, update_equilibrium=true);"
   ]
  },
  {
   "cell_type": "code",
   "execution_count": null,
   "id": "57",
   "metadata": {},
   "outputs": [],
   "source": [
    "# Let's run the ActorCXbuild to update the first wall shape based on the new equilibrium\n",
    "@time FUSE.ActorCXbuild(dd, act,rebuild_wall=true; do_plot=false);\n",
    "plot(dd.equilibrium; cx=true)\n",
    "plot!(dd.build; legend=false)"
   ]
  },
  {
   "cell_type": "code",
   "execution_count": null,
   "id": "58",
   "metadata": {},
   "outputs": [],
   "source": [
    "@time FUSE.ActorNeutronics(dd, act; do_plot=true);"
   ]
  },
  {
   "cell_type": "code",
   "execution_count": null,
   "id": "59",
   "metadata": {},
   "outputs": [],
   "source": [
    "@time FUSE.ActorBlanket(dd, act)#; do_plot=true);\n",
    "dd.blanket"
   ]
  },
  {
   "cell_type": "code",
   "execution_count": null,
   "id": "60",
   "metadata": {},
   "outputs": [],
   "source": [
    "@time FUSE.ActorDivertors(dd, act)#; do_plot=true);\n",
    "dd.divertors"
   ]
  },
  {
   "cell_type": "code",
   "execution_count": null,
   "id": "61",
   "metadata": {},
   "outputs": [],
   "source": [
    "@time FUSE.ActorBalanceOfPlant(dd,act)#; do_plot=true);\n",
    "IMAS.freeze(dd.balance_of_plant)"
   ]
  },
  {
   "cell_type": "code",
   "execution_count": null,
   "id": "62",
   "metadata": {},
   "outputs": [],
   "source": [
    "@time FUSE.ActorCosting(dd, act)#; do_plot=true);\n",
    "IMAS.freeze(dd.costing)"
   ]
  },
  {
   "cell_type": "code",
   "execution_count": null,
   "id": "63",
   "metadata": {},
   "outputs": [],
   "source": [
    "# Save `dd` to Json, so we can share our results with others\n",
    "IMAS.imas2json(dd,\"fpp_v1_FUSE.json\")\n",
    "\n",
    "# NOTE: can be loaded in OMFIT this way\n",
    "# OMFIT[\"FUSE\"] = ODS().load(\".../fpp_v1_FUSE.json\", consistency_check=False)"
   ]
  },
  {
   "cell_type": "markdown",
   "id": "64",
   "metadata": {},
   "source": [
    "## Worfklows (ie. studies)\n",
    "Perform self-contained studies/optimizations (typically running many FUSE simulations)\n",
    " \n",
    "* [HDB5 validation of ActorEquilibriumTransport](https://fuse.help/example_workflows__transport_equilibrium_validation.html)\n",
    "\n",
    "  [<img src=\"../../docs/src/assets/workflow_hdb5.png\" width=\"600\"/>](workflow_hdb5.png)\n",
    "\n",
    "* [Multi objective optimization](https://fuse.help/example_workflows__multi_objective_optimization.html)\n",
    "\n",
    "  [<img src=\"../../docs/src/assets/workflow_moopt.png\" width=\"600\"/>](workflow_moopt.png)"
   ]
  },
  {
   "cell_type": "markdown",
   "id": "65",
   "metadata": {},
   "source": [
    "## Install Julia and FUSE\n",
    "* Julia comes with its own [package manager](https://blog.devgenius.io/the-most-underrated-feature-of-the-julia-programming-language-the-package-manager-652065f45a3a)\n",
    "* Refer to online documentation https://fuse.help/install.html\n",
    "  * How to install Julia/FUSE\n",
    "  * How to update FUSE"
   ]
  },
  {
   "cell_type": "markdown",
   "id": "66",
   "metadata": {},
   "source": [
    "## Development\n",
    "* Refer to online documentation https://fuse.help/develop.html\n",
    "* Use of `Revise`\n",
    "* Illustrate example development workflow using VScode\n",
    "* Commit\n",
    "* Tracking [issues actross different repositories](https://github.com/orgs/ProjectTorreyPines/projects/2/views/1)"
   ]
  }
 ],
 "metadata": {
  "@webio": {
   "lastCommId": "a782a072-97f2-4a29-be57-b636bd4af2f9",
   "lastKernelId": "786df1b8-4648-4980-b093-ff9853c6ef8b"
  },
  "kernelspec": {
   "display_name": "Julia (8 threads) 1.10.2",
   "language": "julia",
   "name": "julia-_8-threads_-1.10"
  },
  "language_info": {
   "file_extension": ".jl",
   "mimetype": "application/julia",
   "name": "julia",
   "version": "1.10.2"
  }
 },
 "nbformat": 4,
 "nbformat_minor": 5
}
