{
 "cells": [
  {
   "cell_type": "markdown",
   "id": "b841be4f-688e-4d37-8da3-a5cbc487aee3",
   "metadata": {
    "tags": []
   },
   "source": [
    "# Notebook to interactively manipulate equilibrium boundary and getting corresponding MXH coefficients"
   ]
  },
  {
   "cell_type": "code",
   "execution_count": null,
   "id": "4e55da2a-99cf-485c-a867-446a48a7dcfb",
   "metadata": {
    "tags": []
   },
   "outputs": [],
   "source": [
    "using Plots; gr();\n",
    "using IMAS"
   ]
  },
  {
   "cell_type": "code",
   "execution_count": null,
   "id": "bc267a7d-ee8c-4593-b1bf-30bc3ce8573f",
   "metadata": {
    "tags": []
   },
   "outputs": [],
   "source": [
    "import Interact\n",
    "\n",
    "my_mxh = Dict()\n",
    "upnull = false\n",
    "lonull = false\n",
    "Interact.@manipulate for mhx_order in 0:10,\n",
    "    a in LinRange(0.1, 10, 101),\n",
    "    eps in LinRange(0.1, 1, 101),\n",
    "    kapu in LinRange(1.0, 3.0, 101),\n",
    "    kapl in LinRange(1.0, 3.0, 101),\n",
    "    delu in LinRange(-1.0, 1.0, 101),\n",
    "    dell in LinRange(-1.0, 1.0, 101),\n",
    "    zetaou in LinRange(-sqrt(2) / 2, 1.0, 101),\n",
    "    zetaiu in LinRange(-sqrt(2) / 2, 1.0, 101),\n",
    "    zetaol in LinRange(-sqrt(2) / 2, 1.0, 101),\n",
    "    zetail in LinRange(-sqrt(2) / 2, 1.0, 101)#,\n",
    "    #    upnull in [false,true],\n",
    "    #    lonull in [false,true],\n",
    "\n",
    "    r, z, zref = try\n",
    "        IMAS.boundary_shape(; a, eps, kapu, kapl, delu, dell, zetaou, zetaiu, zetail, zetaol, zoffset=0.0, upnull, lonull)\n",
    "    catch e\n",
    "        [NaN], [NaN], [NaN]\n",
    "    end\n",
    "    my_mxh[\"current\"] = mxh = IMAS.MXH(r, z, mhx_order)\n",
    "\n",
    "    plot(r, z; aspect_ratio=:equal, lw=2, label=\"numerical\")\n",
    "    plot!(mxh,label=\"MXH\")\n",
    "end"
   ]
  },
  {
   "cell_type": "code",
   "execution_count": null,
   "id": "6b5330f7-631a-40e5-98c7-6a243ff0477e",
   "metadata": {
    "tags": []
   },
   "outputs": [],
   "source": [
    "my_mxh[\"current\"]"
   ]
  },
  {
   "cell_type": "code",
   "execution_count": null,
   "id": "911aa4b3-b817-4986-97fd-f415f9b11369",
   "metadata": {
    "tags": []
   },
   "outputs": [],
   "source": [
    "IMAS.flat_coeffs(my_mxh[\"current\"])"
   ]
  }
 ],
 "metadata": {
  "@webio": {
   "lastCommId": "7210c17b-b36b-452d-afdc-116f2c279442",
   "lastKernelId": "285a5069-2b11-4a6a-afd1-a3e39799096d"
  },
  "kernelspec": {
   "display_name": "Julia 1.8.5",
   "language": "julia",
   "name": "julia-1.8"
  },
  "language_info": {
   "file_extension": ".jl",
   "mimetype": "application/julia",
   "name": "julia",
   "version": "1.8.5"
  }
 },
 "nbformat": 4,
 "nbformat_minor": 5
}
