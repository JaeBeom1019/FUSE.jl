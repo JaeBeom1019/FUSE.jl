{
 "cells": [
  {
   "cell_type": "code",
   "execution_count": 1,
   "id": "3963532c-8946-4003-a2e0-1eba2f2c7c68",
   "metadata": {},
   "outputs": [
    {
     "name": "stderr",
     "output_type": "stream",
     "text": [
      "\u001b[32m\u001b[1m  Activating\u001b[22m\u001b[39m environment at `~/.julia/dev/FUSE/Project.toml`\n",
      "┌ Info: Precompiling FUSE [e64856f0-3bb8-4376-b4b7-c03396503992]\n",
      "└ @ Base loading.jl:1317\n"
     ]
    }
   ],
   "source": [
    "using Pkg\n",
    "Pkg.activate(\"..\")\n",
    "#Pkg.develop([\"Equilibrium\", \"IMAS\"])\n",
    "using Revise\n",
    "using FUSE\n",
    "using FUSE.IMAS"
   ]
  },
  {
   "cell_type": "code",
   "execution_count": 2,
   "id": "31ca3dcf-c601-4b33-9db3-a42caaba1c81",
   "metadata": {},
   "outputs": [
    {
     "name": "stdout",
     "output_type": "stream",
     "text": [
      " 20.931949 seconds (98.62 M allocations: 5.243 GiB, 6.57% gc time, 98.12% compilation time)\n",
      "SolovevEquilibrium\n",
      "  B0 = 5.3 [T]\n",
      "  R0 = 6.2 [m]\n",
      "  ϵ  = 0.32\n",
      "  δ  = 0.33\n",
      "  κ  = 1.7\n",
      "  α  = 0.0027856704762293967\n",
      "  q⋆ = 1.5455268252174736\n",
      "  βp = 0.9981278686893219\n",
      "  βt = 0.04278908932692801\n",
      "  σ  = 1\n",
      "  diverted  = false\n",
      "  xpoint  = nothing\n",
      "  symmetric = true"
     ]
    }
   ],
   "source": [
    "ϵ = 0.32\n",
    "κ = 1.7\n",
    "δ = 0.33\n",
    "R0 = 6.2\n",
    "B0 = 5.3\n",
    "ip = 15.E6\n",
    "beta_n = 3.0\n",
    "\n",
    "resolution = 33\n",
    "\n",
    "eq0=IMAS.equilibrium()\n",
    "FUSE.init(eq0, 0.0; B0, R0, ϵ, δ, κ, beta_n, ip, x_point=false)\n",
    "\n",
    "eqactor = FUSE.SolovevEquilibriumActor(eq0, 0.0, alpha=1, qstar=1.5)\n",
    "@time FUSE.step(eqactor)\n",
    "print(eqactor.S)\n",
    "eq1 = FUSE.finalize(eqactor, resolution)\n",
    "\n",
    "eqt = eq1.time_slice[1];"
   ]
  },
  {
   "cell_type": "code",
   "execution_count": 6,
   "id": "f07d414e-dca1-46da-bde4-5c7a571909fa",
   "metadata": {},
   "outputs": [],
   "source": [
    "using PolygonOps\n",
    "using StaticArrays\n",
    "using DSP\n",
    "using Random\n",
    "using Interpolations\n",
    "using Optim\n",
    "\n",
    "pfactor=PFcoilsActor(eq1,12);\n"
   ]
  },
  {
   "cell_type": "code",
   "execution_count": 4,
   "id": "9fb25e20-85a3-4b2f-92e7-839f8a9daa2b",
   "metadata": {},
   "outputs": [],
   "source": [
    "using IMAS\n",
    "for expr in keys(IMAS.expressions)\n",
    "    getfield(u2f(p2i(i2p(expr)[1:end-1]))(),Symbol(i2p(expr)[end]))\n",
    "end"
   ]
  },
  {
   "cell_type": "code",
   "execution_count": null,
   "id": "3fe04def-1eef-4cce-abd3-97f35e6e3faf",
   "metadata": {},
   "outputs": [],
   "source": []
  }
 ],
 "metadata": {
  "kernelspec": {
   "display_name": "Julia 1.6.0",
   "language": "julia",
   "name": "julia-1.6"
  },
  "language_info": {
   "file_extension": ".jl",
   "mimetype": "application/julia",
   "name": "julia",
   "version": "1.6.0"
  }
 },
 "nbformat": 4,
 "nbformat_minor": 5
}
