{
 "cells": [
  {
   "cell_type": "markdown",
   "id": "0faddccf",
   "metadata": {},
   "source": [
    "# Trajectory optimization"
   ]
  },
  {
   "cell_type": "code",
   "execution_count": null,
   "id": "c0af3993",
   "metadata": {
    "tags": []
   },
   "outputs": [],
   "source": [
    "using Plots;\n",
    "gr();\n",
    "@time using FUSE\n",
    "FUSE.logging(Logging.Info; actors=Logging.Info);\n",
    "FUSE.ProgressMeter.ijulia_behavior(:clear);"
   ]
  },
  {
   "cell_type": "code",
   "execution_count": null,
   "id": "b9d8ef88-1ab5-4538-8fa7-5eec6c404f8a",
   "metadata": {
    "tags": []
   },
   "outputs": [],
   "source": [
    "# take the ITER hardware configuration from ods\n",
    "ini, act = FUSE.case_parameters(:ITER; init_from=:ods);\n",
    "plot(ini)"
   ]
  },
  {
   "cell_type": "code",
   "execution_count": null,
   "id": "5162624e-6074-4a06-b535-427931435cab",
   "metadata": {
    "tags": []
   },
   "outputs": [],
   "source": [
    "# # this is useful to see changes in the equilibrium\n",
    "# using Interact\n",
    "# @manipulate for time0 in ini.time.pulse_shedule_time_basis\n",
    "#     plot(ini; color=:red)\n",
    "#     plot!(ini; time0, color=:blue)\n",
    "# end"
   ]
  },
  {
   "cell_type": "code",
   "execution_count": null,
   "id": "282c3f8a-1ed4-4d53-ac3d-37d89cddb3b4",
   "metadata": {
    "tags": []
   },
   "outputs": [],
   "source": [
    "# initialize hardware\n",
    "chk = FUSE.Checkpoint();\n",
    "dd = IMAS.dd()\n",
    "@time dd = FUSE.init(dd, ini, act);\n",
    "chk[:init] = dd, ini, act;"
   ]
  },
  {
   "cell_type": "code",
   "execution_count": null,
   "id": "8b8520a8-776b-46ff-bf98-f40c30cebdfd",
   "metadata": {
    "tags": []
   },
   "outputs": [],
   "source": [
    "dd, ini, act = chk[:init]\n",
    "\n",
    "# switch to scalars and wind back simulation time\n",
    "ini, act = FUSE.case_parameters(:ITER; init_from=:scalars);\n",
    "ini.time.simulation_start = 100.0\n",
    "\n",
    "# FUSE.SimulationParameters.rand!(ini.equilibrium, :ip)\n",
    "# FUSE.SimulationParameters.rand!(ini.ec_launcher[1], :rho_0)\n",
    "\n",
    "FUSE.init(dd, ini, act; initialize_hardware=false);\n",
    "\n",
    "display(plot(ini))\n",
    "chk[:tinit] = (dd, ini, act);"
   ]
  },
  {
   "cell_type": "code",
   "execution_count": null,
   "id": "2cef0620-c68a-4dd7-8dc9-8c154f4d3b47",
   "metadata": {
    "tags": []
   },
   "outputs": [],
   "source": [
    "# make sure time dependence has been transferred from `ini` to `dd.pulse_schedule`\n",
    "using Interact\n",
    "@manipulate for time0 in dd.pulse_schedule.time\n",
    "    plot(dd.pulse_schedule; time0)\n",
    "end"
   ]
  },
  {
   "cell_type": "code",
   "execution_count": null,
   "id": "1c3ed46a-7f5e-474d-b847-0962a7d98875",
   "metadata": {
    "tags": []
   },
   "outputs": [],
   "source": [
    "# flux matcher\n",
    "dd, ini, act = chk[:tinit]\n",
    "\n",
    "act.ActorCoreTransport.model = :FluxMatcher\n",
    "\n",
    "# act.ActorStationaryPlasma.convergence_error=1E-3\n",
    "# act.ActorStationaryPlasma.max_iter=3\n",
    "# act.ActorFluxMatcher.max_iterations = 50\n",
    "# act.ActorFluxMatcher.rho_transport=0.25:0.1:0.85\n",
    "# act.ActorFluxMatcher.optimizer_algorithm=:trust_region\n",
    "\n",
    "act.ActorFluxMatcher.step_size = 1.0\n",
    "act.ActorFluxMatcher.optimizer_algorithm = :anderson\n",
    "act.ActorFluxMatcher.max_iterations = 300\n",
    "act.ActorStationaryPlasma.verbose = true;\n",
    "\n",
    "FUSE.ActorStationaryPlasma(dd, act; do_plot=false, verbose=true)\n",
    "\n",
    "chk[:stationary] = (dd, ini, act);"
   ]
  },
  {
   "cell_type": "code",
   "execution_count": null,
   "id": "f3ded7a8-1ee4-4938-b8c0-d11fbb5fee26",
   "metadata": {
    "tags": []
   },
   "outputs": [],
   "source": [
    "# estimate q profile assuming breakdown happened Δt seconds back\n",
    "dd, ini, act = chk[:stationary]\n",
    "\n",
    "act.ActorQED.Δt = -60.0\n",
    "actor = FUSE.ActorCurrent(dd, act; ip_from=:pulse_schedule, vloop_from=:pulse_schedule, model=:QED)\n",
    "\n",
    "chk[:stationary_rampup] = (dd, ini, act);"
   ]
  },
  {
   "cell_type": "code",
   "execution_count": null,
   "id": "1743c8d8-b95b-4ed4-8e6a-1388665fd974",
   "metadata": {
    "tags": []
   },
   "outputs": [],
   "source": [
    "FUSE.plot_plasma_overview(dd, dd.global_time; min_power=1E6, aggregate_radiation=true)"
   ]
  },
  {
   "cell_type": "code",
   "execution_count": null,
   "id": "0c8e91ba-13db-4c23-8299-e8dd9e23ab58",
   "metadata": {
    "tags": []
   },
   "outputs": [],
   "source": [
    "# run time evolution\n",
    "FUSE.ProgressMeter.ijulia_behavior(:clear)\n",
    "\n",
    "dd, ini, act = chk[:stationary_rampup]\n",
    "\n",
    "act.ActorFluxMatcher.max_iterations = 50\n",
    "act.ActorFluxMatcher.rho_transport = 0.25:0.1:0.85\n",
    "act.ActorFluxMatcher.optimizer_algorithm = :trust_region\n",
    "\n",
    "act.ActorDynamicPlasma.Nt = 30\n",
    "act.ActorDynamicPlasma.Δt = 200.0\n",
    "act.ActorDynamicPlasma.evolve_current = true\n",
    "act.ActorDynamicPlasma.evolve_equilibrium = false\n",
    "act.ActorDynamicPlasma.evolve_transport = false\n",
    "act.ActorDynamicPlasma.evolve_hcd = true\n",
    "act.ActorDynamicPlasma.evolve_pf_active = false\n",
    "act.ActorDynamicPlasma.evolve_pedestal = false\n",
    "act.ActorDynamicPlasma.verbose=true\n",
    "\n",
    "chk[:stationary_rampup_w_act] = dd, ini, act\n",
    "\n",
    "FUSE.ActorDynamicPlasma(dd, act);\n",
    "\n",
    "chk[:time_dep] = dd, ini, act;"
   ]
  },
  {
   "cell_type": "code",
   "execution_count": null,
   "id": "683f16c9-2c56-463a-b71d-0edee6692103",
   "metadata": {
    "tags": []
   },
   "outputs": [],
   "source": [
    "dd.global_time = 200.0\n",
    "lw = 2\n",
    "using Interact\n",
    "\n",
    "a = @animate for (k, time0) in enumerate(dd.core_sources.time)\n",
    "    #@manipulate for k in eachindex(dd.core_sources.time)\n",
    "    time0 = dd.core_sources.time[k]\n",
    "    FUSE.plot_plasma_overview(dd, time0; min_power=1E6, aggregate_radiation=true)\n",
    "    #    savefig(joinpath(\"/Users/meneghini/Library/CloudStorage/Dropbox/tex/figures/FUSE/gif\", \"frame_$(lpad(k-1, 4, '0')).png\"));\n",
    "end"
   ]
  },
  {
   "cell_type": "code",
   "execution_count": null,
   "id": "f36f2042-ed8c-4a36-8709-8119d2980300",
   "metadata": {
    "tags": []
   },
   "outputs": [],
   "source": [
    "g = gif(a, \"ITER_time_dep_v5.gif\", fps=12)\n",
    "display(g)"
   ]
  },
  {
   "cell_type": "code",
   "execution_count": null,
   "id": "91a7b7e3-3a45-4735-af3a-432faaec9883",
   "metadata": {
    "tags": []
   },
   "outputs": [],
   "source": [
    "dd0, ini, act = chk[:stationary_rampup_w_act]\n",
    "\n",
    "function my_workflow(dd, ini, act)\n",
    "    FUSE.init_pulse_schedule!(dd, ini, act);    \n",
    "    FUSE.ActorDynamicPlasma(dd, act)\n",
    "    return dd\n",
    "end\n",
    "\n",
    "objective_functions = FUSE.ObjectiveFunction[]\n",
    "push!(objective_functions,\n",
    "    FUSE.ObjectiveFunction(:flat_q, \"-\", \n",
    "    dd -> begin\n",
    "            eqt1d = dd.equilibrium.time_slice[].profiles_1d\n",
    "            index = eqt1d.rho_tor_norm .< 0.8\n",
    "            m = sum(eqt1d.q[index]) / length(index)\n",
    "             return sum(((eqt1d.q[index].-m) / m).^2)\n",
    "        end,\n",
    "    -Inf))\n",
    "\n",
    "FUSE.workflow_multiobjective_optimization(\n",
    "    ini,\n",
    "    act,\n",
    "    (ini, act) -> my_workflow(deepcopy(dd0), ini, act),\n",
    "    objective_functions,\n",
    "    FUSE.ConstraintFunction[];\n",
    "    exploitation_vs_exploration=0.0,\n",
    "    N=2,\n",
    "    iterations=2,\n",
    "    continue_state=nothing,\n",
    "    save_folder=\"optimization_runs\",\n",
    "    save_dd=true)"
   ]
  },
  {
   "cell_type": "code",
   "execution_count": null,
   "id": "24d44b23-bdd3-4bad-9c4e-d4760fc8c17a",
   "metadata": {
    "tags": []
   },
   "outputs": [],
   "source": [
    "pwd()"
   ]
  },
  {
   "cell_type": "code",
   "execution_count": null,
   "id": "73278faa-1e35-4c02-add5-08758ee08607",
   "metadata": {
    "tags": []
   },
   "outputs": [],
   "source": []
  },
  {
   "cell_type": "code",
   "execution_count": null,
   "id": "6de97908-61d1-427a-b1c7-7596539a4e3e",
   "metadata": {
    "tags": []
   },
   "outputs": [],
   "source": []
  },
  {
   "cell_type": "code",
   "execution_count": null,
   "id": "deb263a7-d15a-455e-a401-608a9b74eb41",
   "metadata": {
    "tags": []
   },
   "outputs": [],
   "source": []
  },
  {
   "cell_type": "code",
   "execution_count": null,
   "id": "e36fead3-c3f3-497b-b22b-323e1e437067",
   "metadata": {
    "tags": []
   },
   "outputs": [],
   "source": []
  },
  {
   "cell_type": "code",
   "execution_count": null,
   "id": "4b9d2b8e-0c71-4f22-b870-fd31bcca1d40",
   "metadata": {
    "tags": []
   },
   "outputs": [],
   "source": []
  },
  {
   "cell_type": "code",
   "execution_count": null,
   "id": "e0b4efd9-bddd-4e10-be11-43d1dd0fb775",
   "metadata": {
    "tags": []
   },
   "outputs": [],
   "source": []
  },
  {
   "cell_type": "code",
   "execution_count": null,
   "id": "d913ef77-6c64-47d4-9c9f-f56f08aa0154",
   "metadata": {
    "tags": []
   },
   "outputs": [],
   "source": []
  },
  {
   "cell_type": "code",
   "execution_count": null,
   "id": "649c6426-1a9e-44b4-8ff0-559fe17ecf1e",
   "metadata": {
    "tags": []
   },
   "outputs": [],
   "source": []
  },
  {
   "cell_type": "code",
   "execution_count": null,
   "id": "de987027-fd64-45dc-9a0d-ffc3a61f2656",
   "metadata": {
    "tags": []
   },
   "outputs": [],
   "source": []
  },
  {
   "cell_type": "code",
   "execution_count": null,
   "id": "d0d2ad1e-cca8-4a97-a020-746d7af42736",
   "metadata": {
    "tags": []
   },
   "outputs": [],
   "source": []
  },
  {
   "cell_type": "code",
   "execution_count": null,
   "id": "f34a033c-5245-46a0-a264-fa56c68f1f8d",
   "metadata": {
    "tags": []
   },
   "outputs": [],
   "source": []
  },
  {
   "cell_type": "code",
   "execution_count": null,
   "id": "6f1f2c4c-9a0d-4677-aa4f-f896da9626a3",
   "metadata": {
    "tags": []
   },
   "outputs": [],
   "source": [
    "# issue with expressions and refs\n",
    "\n",
    "dd, ini, act = chk[:stationary]\n",
    "\n",
    "tt = dd.global_time + 1.0\n",
    "IMAS.new_timeslice!(dd.core_profiles, tt)\n",
    "IMAS.new_timeslice!(dd.equilibrium, tt)\n",
    "dd.global_time = tt\n",
    "\n",
    "act.ActorQED.Δt=100.0\n",
    "display(act.ActorQED)\n",
    "\n",
    "actor=FUSE.ActorCurrent(dd,act;ip_from=:pulse_schedule, vloop_from=:pulse_schedule, model=:QED)\n",
    "\n",
    "#[IMAS.integrate(dd.core_profiles.profiles_1d[tt].grid.area, dd.core_profiles.profiles_1d[tt].j_non_inductive) for tt in dd.core_profiles.time]\n",
    "plot([dd.core_profiles.profiles_1d[tt].j_total for tt in dd.core_profiles.time])\n",
    "empty!(dd.core_profiles.profiles_1d[tt], :j_tor)\n",
    "#empty!(dd.core_profiles.profiles_1d[1], :j_tor)\n",
    "dd.core_profiles.profiles_1d[tt]\n",
    "@show dd.core_profiles.global_quantities.ip"
   ]
  }
 ],
 "metadata": {
  "@webio": {
   "lastCommId": "366458d1-e79a-45c7-81fc-f226fdf81d20",
   "lastKernelId": "8dff00cb-5a45-4b08-807f-4e736fd5dea2"
  },
  "kernelspec": {
   "display_name": "Julia (8 threads) 1.9.3",
   "language": "julia",
   "name": "julia-_8-threads_-1.9"
  },
  "language_info": {
   "file_extension": ".jl",
   "mimetype": "application/julia",
   "name": "julia",
   "version": "1.9.3"
  }
 },
 "nbformat": 4,
 "nbformat_minor": 5
}
