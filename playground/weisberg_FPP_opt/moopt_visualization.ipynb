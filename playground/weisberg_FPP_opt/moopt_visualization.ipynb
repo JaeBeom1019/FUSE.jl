{
 "cells": [
  {
   "cell_type": "markdown",
   "id": "c8eb3e92-2476-439b-a771-6dd9a7003472",
   "metadata": {},
   "source": [
    "# Multi objective optimization post-processing analysis"
   ]
  },
  {
   "cell_type": "code",
   "execution_count": null,
   "id": "b0776002",
   "metadata": {
    "tags": []
   },
   "outputs": [],
   "source": [
    "using Revise\n",
    "using FUSE\n",
    "using JLD2\n",
    "using Plots;\n",
    "gr();"
   ]
  },
  {
   "cell_type": "markdown",
   "id": "193bb86f",
   "metadata": {},
   "source": [
    "## Process data"
   ]
  },
  {
   "cell_type": "markdown",
   "id": "176e5198-61a1-4520-bbee-15850d184fa7",
   "metadata": {},
   "source": [
    "### Choose run directory"
   ]
  },
  {
   "cell_type": "code",
   "execution_count": null,
   "id": "eea1e6d5-493a-4549-9194-4fd210f9100f",
   "metadata": {
    "tags": []
   },
   "outputs": [],
   "source": [
    "result_path = \"nominal/opt_betaN_cost__Solovev_Kr_flattop24_HTS0.1_qpol2.75_A3.5_Zeff2.0/\""
   ]
  },
  {
   "cell_type": "markdown",
   "id": "6fc700f3-83b7-4166-887b-e6632b7c4078",
   "metadata": {},
   "source": [
    "### Read and/or write cache"
   ]
  },
  {
   "cell_type": "code",
   "execution_count": null,
   "id": "bb4403a3-9e14-414d-880b-accc5b95e0e3",
   "metadata": {
    "tags": []
   },
   "outputs": [],
   "source": [
    "if false\n",
    "    \n",
    "    write_cache = false\n",
    "    \n",
    "    cache_path = joinpath(result_path, \"gen180/\")\n",
    "\n",
    "    all_dirs = filter(isdir, sort(readdir(cache_path; join=true)))\n",
    "    println(length(all_dirs))\n",
    "\n",
    "    dirs = sort(filter(x -> !isfile(joinpath(x, \"error.txt\")) && isfile(joinpath(x, \"dd.json\")), all_dirs))\n",
    "    println(length(dirs))\n",
    "    \n",
    "    if write_cache == false\n",
    "        loc = nothing\n",
    "    else\n",
    "        loc = dirs\n",
    "    end\n",
    "\n",
    "    IMAS.update_ExtractFunctionsLibrary!(); # to pick up any ongoing development to extract function library\n",
    "    outputs = FUSE.extract(loc; filter_invalid=:cols, cache=joinpath(cache_path, \"extract.csv\"), read_cache=true, write_cache=write_cache);\n",
    "end"
   ]
  },
  {
   "cell_type": "markdown",
   "id": "9b6f5e5c",
   "metadata": {},
   "source": [
    "### Error analysis"
   ]
  },
  {
   "cell_type": "code",
   "execution_count": null,
   "id": "47d09c53-aaae-4251-af49-14cfe4c5e6e5",
   "metadata": {
    "tags": []
   },
   "outputs": [],
   "source": [
    "using StatsPlots\n",
    "\n",
    "cache_path = joinpath(result_path, \"opt_runs/\")\n",
    "all_dirs = filter(isdir, sort(readdir(cache_path; join=true)))\n",
    "println(length(all_dirs))\n",
    "\n",
    "dirs = sort(filter(x -> !isfile(joinpath(x, \"error.txt\")) && isfile(joinpath(x, \"dd.json\")), all_dirs))\n",
    "println(length(dirs))\n",
    "\n",
    "errors = FUSE.categorize_errors(all_dirs; do_plot=true, show_first_line=false)\n",
    "err = errors[:other][end]\n",
    "#println(read(err * \"/error.txt\",String))\n",
    "\n",
    "x = Dict()\n",
    "h = Dict()\n",
    "ngen = (length(all_dirs)+5*256) / 256 / 2\n",
    "ngen = 5\n",
    "nbins = Int(ngen)\n",
    "bins = StepRange(1,floor(length(all_dirs) ÷ nbins),length(all_dirs))\n",
    "\n",
    "for key in keys(errors)\n",
    "    x[key] = indexin(errors[key],sort(all_dirs))\n",
    "    h[key] = []\n",
    "    for (b0,b1) in zip(bins[1:end-1],bins[2:end])\n",
    "        n = length(findall((x[key] .< b1) .* (x[key] .> b0)))\n",
    "        h[key] = [h[key]; n]\n",
    "    end\n",
    "end\n",
    "\n",
    "data = [h[key] for key in keys(errors)]\n",
    "nticks = nbins\n",
    "xticks = (0:1:nbins, [string(x) for x in LinRange(0,ngen,nticks)])\n",
    "xtixks = 0:5\n",
    "\n",
    "g = groupedbar(convert(Matrix{Int},reduce(hcat, data)) ./ (length(all_dirs)/nbins) * 100, \n",
    "    bar_position=:stack,\n",
    "    label=String.(reduce(hcat,keys(errors))),\n",
    "    xlabel=\"Generation\",\n",
    "    ylabel=\"Percentage of FUSE runs (%)\",\n",
    "    title =\"Error codes\",\n",
    "    legend=:outerright,\n",
    "    #xticks=xticks,\n",
    "    left_margin = 5Plots.mm,\n",
    "    bottom_margin = 8Plots.mm,\n",
    "    )\n",
    "\n",
    "display(plot(g,size=(800,450)))\n"
   ]
  },
  {
   "cell_type": "markdown",
   "id": "be5fae77-af70-4be1-a0ab-ae78b3923db8",
   "metadata": {},
   "source": [
    "## Visualize Optimzation results"
   ]
  },
  {
   "cell_type": "markdown",
   "id": "f65935b2-0908-46a8-abb5-37156a730025",
   "metadata": {},
   "source": [
    "### Load optimization results file"
   ]
  },
  {
   "cell_type": "code",
   "execution_count": null,
   "id": "7b11364f-2388-4708-8afc-53e990f96fd1",
   "metadata": {},
   "outputs": [],
   "source": [
    "con = []\n",
    "\n",
    "try\n",
    "    @load joinpath(result_path, \"result.jld2\") result\n",
    "    for c in result.convergence\n",
    "        con = [con; c]\n",
    "    end\n",
    "catch\n",
    "    display(\"Could not find result.jld2\")\n",
    "end\n",
    "\n",
    "try\n",
    "    @load joinpath(result_path, \"result2.jld2\") result2\n",
    "    for c in result2.convergence\n",
    "        con = [con; c]\n",
    "    end\n",
    "catch\n",
    "    display(\"Could not find result2.jld2\")\n",
    "end\n",
    "\n",
    "try\n",
    "    @load joinpath(result_path, \"result3.jld2\") result3\n",
    "    for c in result3.convergence\n",
    "        con = [con; c]\n",
    "    end\n",
    "catch\n",
    "    display(\"Could not find result3.jld2\")\n",
    "end"
   ]
  },
  {
   "cell_type": "markdown",
   "id": "1212fdff-af34-4331-9cfe-dc3235d07b43",
   "metadata": {},
   "source": [
    "### Plot f, x, g evolution"
   ]
  },
  {
   "cell_type": "code",
   "execution_count": null,
   "id": "b9ae5e80-6515-4d1d-ae63-748d8bf08515",
   "metadata": {
    "tags": []
   },
   "outputs": [],
   "source": [
    "import Metaheuristics: optimize, ECA, SMS_EMOA, SPEA2, TestProblems, pareto_front, Options, convergence\n",
    "using Plots.PlotMeasures\n",
    "# generate plots\n",
    "\n",
    "fnames = [ \"cost\", \"βn\"]\n",
    "xnames = [\"B0 (T)\", \"R0 (m)\", \"P0 (MPa)\", \"Ip (MA)\", \"fGW\", \"fGWped\", \"Paux (MW)\"]\n",
    "xfac = [1, 1, 1e6, 1e6, 1, 1, 1e6]\n",
    "gnames = [\"Pnet (%)\", \"Sn (%)\", \"accessEC (%)\", \"fLH (%)\", \"qpol (%)\", \"ds03 (%)\", \"TF_j_margin (%)\", \"OH_j_margin (%)\", \"TF_stress_margin (%)\", \"OH_stress_margin (%)\"]\n",
    "\n",
    "pf = plot(layout=(length(fnames),1), size=(650,650),left_margin=15mm)\n",
    "px = plot(layout=(length(xnames),1), size=(650,1500),left_margin=15mm)\n",
    "pg = plot(layout=(length(gnames),1), size=(650,2000),left_margin=15mm)\n",
    "\n",
    "for i in 1:1:length(con)\n",
    "    A = pareto_front(con[i])\n",
    "    B = con[i].population\n",
    "    \n",
    "    pop_x = reduce(hcat, [j.x for j in B])'\n",
    "    pop_f = reduce(hcat, [j.f for j in B])'\n",
    "    pop_g = reduce(hcat, [j.g for j in B])'\n",
    "    \n",
    "    for j in 1:length(fnames)\n",
    "        scatter!(pf[j], repeat([i],length(pop_f[:,j])), pop_f[:,j], marker_z=pop_f[:,1], clim=(0,5), colorbar=:none, legend=:none, ylabel=fnames[j], yrange=(0,20))\n",
    "    end\n",
    "    \n",
    "    for j in 1:length(xnames)\n",
    "        scatter!(px[j], repeat([i],length(pop_x[:,j])), pop_x[:,j]/xfac[j], marker_z=pop_f[:,1], clim=(0,5), colorbar=:none, legend=:none, ylabel=xnames[j])\n",
    "    end\n",
    "    \n",
    "    for j in 1:length(gnames)\n",
    "        scatter!(pg[j], repeat([i],length(pop_g[:,j])), pop_g[:,j], marker_z=pop_f[:,1], clim=(0,5), colorbar=:none, legend=:none, ylabel=gnames[j], yrange=(-5,5))\n",
    "    end\n",
    "\n",
    "end\n",
    "\n",
    "if true\n",
    "    display(pf)\n",
    "    display(px)\n",
    "    display(pg)\n",
    "end"
   ]
  },
  {
   "cell_type": "markdown",
   "id": "c9327024-7f85-41b4-9cec-bb172a917c38",
   "metadata": {},
   "source": [
    "### Define function for scatter plot of ith generation"
   ]
  },
  {
   "cell_type": "code",
   "execution_count": null,
   "id": "5043d400-d607-443f-a237-59c9507b0f24",
   "metadata": {
    "tags": []
   },
   "outputs": [],
   "source": [
    "function scatter_gen(\n",
    "        con,igen,xlabel,ylabel,\n",
    "        xrange,yrange,\n",
    "        fnames,xnames,gnames)\n",
    "    \n",
    "    pop = Dict()\n",
    "    pf = Dict()\n",
    "    pfi = []\n",
    "\n",
    "    # assemble function values\n",
    "    for (i,fname) in enumerate(fnames)\n",
    "        str = split(fname, \" \")\n",
    "        pop[str[1]] = [x.f[i] for x in con[igen].population]\n",
    "        pf[str[1]] = pareto_front(con[igen])[:,i]\n",
    "    end\n",
    "\n",
    "    # assemble input values\n",
    "    for (i,xname) in enumerate(xnames)\n",
    "        str = split(xname, \" \")\n",
    "        pop[str[1]] = [x.x[i] for x in con[igen].population]\n",
    "    end\n",
    "\n",
    "    # assemble constraint values\n",
    "    for (i,gname) in enumerate(gnames)\n",
    "        str = split(gname, \" \")\n",
    "        pop[str[1]] =  [x.g[i] for x in con[igen].population]\n",
    "    end\n",
    "\n",
    "    # re-scale constraint values\n",
    "    @. pop[\"Pnet\"] = min_Pelectric*(1-pop[\"Pnet\"])\n",
    "    @. pop[\"fLH\"] = min_fLH*(1-pop[\"fLH\"])\n",
    "    @. pop[\"accessEC\"] = max_accessEC*(1+pop[\"accessEC\"])\n",
    "    @. pop[\"Sn\"] = max_Sn*(1+pop[\"Sn\"])\n",
    "    @. pop[\"qpol\"] = max_qpol*(1+pop[\"qpol\"])\n",
    "    @. pop[\"ds03\"] = max_ds03*(1+pop[\"ds03\"])\n",
    "    @. pop[\"TF_j_margin\"] = min_TF_j_margin + pop[\"TF_j_margin\"]\n",
    "    @. pop[\"OH_j_margin\"] = min_OH_j_margin + pop[\"OH_j_margin\"]\n",
    "    @. pop[\"TF_stress_margin\"] = min_TF_stress_margin + pop[\"TF_stress_margin\"]\n",
    "    @. pop[\"OH_stress_margin\"] = min_OH_stress_margin + pop[\"OH_stress_margin\"]\n",
    "\n",
    "    # make array of pareto-optimal indices\n",
    "    for pf in pf[fnames[1]]\n",
    "        index = findfirst(isequal(pf), pop[fnames[1]])\n",
    "        pfi = [pfi;[index]]\n",
    "    end\n",
    "\n",
    "    # assemble pareto-optimal input values\n",
    "    for (i,xname) in enumerate(xnames)\n",
    "        str = split(xname, \" \")\n",
    "        pf[str[1]] = pop[str[1]][pfi]\n",
    "    end\n",
    "\n",
    "    # assemble pareto-optimal constraint values\n",
    "    for (i,gname) in enumerate(gnames)\n",
    "        str = split(gname, \" \")\n",
    "        pf[str[1]] = pop[str[1]][pfi]\n",
    "    end\n",
    "\n",
    "    ## PLOT\n",
    "\n",
    "    s1 = scatter(pop[xlabel], pop[ylabel], color=:grey, label=\"Population\", alpha=0.7)\n",
    "    s2 = scatter!(s1, pf[xlabel], pf[ylabel], color=:red, label=\"Pareto-optimal\")\n",
    "    s = plot(s2, size=(450, 450), title=\"Generation: \"*string(igen), xlabel=xlabel, ylabel=ylabel, xrange=xrange, yrange=yrange) \n",
    "    \n",
    "    return s\n",
    "    \n",
    "end"
   ]
  },
  {
   "cell_type": "markdown",
   "id": "e0ba471d-d8d0-41d5-af3e-265b400684c5",
   "metadata": {},
   "source": [
    "### Make gif of population evolution"
   ]
  },
  {
   "cell_type": "code",
   "execution_count": null,
   "id": "048a8ee0-0ca1-4385-be9b-02292323dd0d",
   "metadata": {
    "tags": []
   },
   "outputs": [],
   "source": [
    "min_Pelectric = 200.0 # MW\n",
    "min_fLH = 1.0\n",
    "max_Sn = 1.5\n",
    "max_qpol = 2.75e3 # MW/m^2\n",
    "max_ds03 = 1.0\n",
    "max_accessEC = 1.0\n",
    "min_TF_j_margin = 1.5\n",
    "min_OH_j_margin = 1.5\n",
    "min_TF_stress_margin = 1.0\n",
    "min_OH_stress_margin = 1.0\n",
    "\n",
    "\n",
    "xlabel = \"βn\"\n",
    "xrange = (0,6)\n",
    "\n",
    "ylabel = \"cost\"\n",
    "yrange = (0.0,10)\n",
    "\n",
    "gen_list = 1:1:length(con)\n",
    "gen_list = vcat(gen_list,repeat([length(con)],20))\n",
    "\n",
    "a = @animate for igen in gen_list\n",
    "\n",
    "    s = scatter_gen(con,igen,xlabel,ylabel,xrange,yrange,fnames,xnames,gnames)\n",
    "    \n",
    "end\n",
    "\n",
    "g = gif(a, joinpath(result_path, xlabel*\"_\"*ylabel*\".gif\"), fps=10)\n",
    "display(g)"
   ]
  },
  {
   "cell_type": "markdown",
   "id": "4bdbb09a-05a2-4449-a3ef-81b4e0adc04d",
   "metadata": {
    "tags": []
   },
   "source": [
    "### Static plots"
   ]
  },
  {
   "cell_type": "code",
   "execution_count": null,
   "id": "5c233adc-25c4-4c9e-9d1c-bc22baebcfc4",
   "metadata": {
    "tags": []
   },
   "outputs": [],
   "source": [
    "xlabel = \"βn\"\n",
    "ylabel = \"qpol\"\n",
    "\n",
    "xrange = :missing\n",
    "yrange = :missing\n",
    "\n",
    "s = scatter_gen(con,gen_list[end],xlabel,ylabel,xrange,yrange,fnames,xnames,gnames)\n",
    "\n",
    "scatter!(s,outputs[:,\"βn_MHD\"],outputs[:,\"qpol\"],markershape=:+,color=:black)\n",
    "\n"
   ]
  },
  {
   "cell_type": "code",
   "execution_count": null,
   "id": "c5faaebf-cc7b-44d8-92fb-05003754626b",
   "metadata": {},
   "outputs": [],
   "source": []
  }
 ],
 "metadata": {
  "@webio": {
   "lastCommId": "d4d34e5e-0270-46e8-9d35-93a0e739c646",
   "lastKernelId": "64769fa5-282f-4571-9a2a-0277615989f0"
  },
  "kernelspec": {
   "display_name": "Julia 1.9.2",
   "language": "julia",
   "name": "julia-1.9"
  },
  "language_info": {
   "file_extension": ".jl",
   "mimetype": "application/julia",
   "name": "julia",
   "version": "1.9.2"
  },
  "toc-autonumbering": false
 },
 "nbformat": 4,
 "nbformat_minor": 5
}
